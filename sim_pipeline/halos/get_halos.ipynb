{
 "cells": [
  {
   "cell_type": "markdown",
   "source": [
    "## Importing the Halo Pipeline\n",
    "The first line of code is an import statement, it brings in the `HalosSkyPyPipeline` class from the `sim_pipeline.Pipelines.halos_pipeline` module.\n",
    "\n",
    "For this jupyter notebook, the pipeline is generated from the YAML file, halo.yml. The default setting can be checked in readme.md in the data/Skypy folder."
   ],
   "metadata": {
    "collapsed": false
   }
  },
  {
   "cell_type": "code",
   "execution_count": 8,
   "metadata": {
    "collapsed": true
   },
   "outputs": [
    {
     "name": "stdout",
     "output_type": "stream",
     "text": [
      "<sim_pipeline.Pipelines.halos_pipeline.HalosSkyPyPipeline object at 0x000001D9533A92A0>\n"
     ]
    }
   ],
   "source": [
    "from sim_pipeline.Pipelines.halos_pipeline import HalosSkyPyPipeline\n",
    "\n",
    "pipeline = HalosSkyPyPipeline()\n",
    "\n",
    "print(pipeline)"
   ]
  },
  {
   "cell_type": "markdown",
   "source": [
    "Finally, we print the `halos` data. The specific output include properties of the halos in certain sky area (here is 0.0001 deg^2 or 1296 acrsec^2)'s light cone such as their redshift, masses."
   ],
   "metadata": {
    "collapsed": false
   }
  },
  {
   "cell_type": "code",
   "execution_count": 9,
   "outputs": [
    {
     "name": "stdout",
     "output_type": "stream",
     "text": [
      "        z                 mass       \n",
      "------------------ ------------------\n",
      " 3.218683505776246  22947456187.89177\n",
      "1.7520308107886402  27466686103.75274\n",
      "2.1002763649377956  34481144362.40582\n",
      "2.7063439517859234  10776686998.73579\n",
      "1.1836300154666723 13393071534.005371\n",
      "1.9332952569434547 19872636531.716324\n",
      " 1.627862219034769 10828469601.135202\n",
      "3.4792853613270265  17380026675.92426\n",
      "0.9267284814734909 20070370267.245827\n",
      "2.4472587908197054  46446351296.03808\n",
      "               ...                ...\n",
      " 1.784550853701132 12107947468.725277\n",
      "2.9823947371228643 44046939364.123535\n",
      "3.8101531833305935  84684728243.91183\n",
      "3.9041223357024273 23023312481.406567\n",
      " 1.318668436881498 15162301460.290531\n",
      " 3.643536490363318  31726160338.38136\n",
      "4.2731466163851675 22972952813.444847\n",
      " 4.674272834135354 10131728896.588305\n",
      "1.6289291206988403 17040052349.658945\n",
      " 4.350223074892689 16778499337.392885\n",
      " 1.458003825027012  12849429766.40341\n",
      "Length = 1487 rows\n"
     ]
    }
   ],
   "source": [
    "halos= pipeline.halos\n",
    "print(halos)"
   ],
   "metadata": {
    "collapsed": false
   }
  },
  {
   "cell_type": "code",
   "execution_count": 9,
   "outputs": [],
   "source": [],
   "metadata": {
    "collapsed": false
   }
  }
 ],
 "metadata": {
  "kernelspec": {
   "display_name": "Python 3",
   "language": "python",
   "name": "python3"
  },
  "language_info": {
   "codemirror_mode": {
    "name": "ipython",
    "version": 2
   },
   "file_extension": ".py",
   "mimetype": "text/x-python",
   "name": "python",
   "nbconvert_exporter": "python",
   "pygments_lexer": "ipython2",
   "version": "2.7.6"
  }
 },
 "nbformat": 4,
 "nbformat_minor": 0
}
