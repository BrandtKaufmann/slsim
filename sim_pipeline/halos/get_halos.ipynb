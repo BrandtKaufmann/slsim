{
 "cells": [
  {
   "cell_type": "markdown",
   "source": [
    "## Importing the Halo Pipeline\n",
    "The first line of code is an import statement, it brings in the `HalosSkyPyPipeline` class from the `sim_pipeline.Pipelines.halos_pipeline` module.\n",
    "\n",
    "For this jupyter notebook, the pipeline is generated from the YAML file, halo.yml. The default setting can be checked in readme.md in the data/Skypy folder."
   ],
   "metadata": {
    "collapsed": false
   }
  },
  {
   "cell_type": "code",
   "execution_count": 4,
   "metadata": {
    "collapsed": true
   },
   "outputs": [
    {
     "name": "stdout",
     "output_type": "stream",
     "text": [
      "<sim_pipeline.Pipelines.halos_pipeline.HalosSkyPyPipeline object at 0x000001AE89417C40>\n"
     ]
    }
   ],
   "source": [
    "from sim_pipeline.Pipelines.halos_pipeline import HalosSkyPyPipeline\n",
    "\n",
    "pipeline = HalosSkyPyPipeline()\n",
    "\n",
    "print(pipeline)"
   ]
  },
  {
   "cell_type": "markdown",
   "source": [
    "Finally, we print the `halos` data. The specific output include properties of the halos in certain sky area (here is $ 0.0001\\ deg^2$ or $1296\\ acrsec^2$) 's light cone such as their redshift, masses."
   ],
   "metadata": {
    "collapsed": false
   }
  },
  {
   "cell_type": "code",
   "execution_count": 5,
   "outputs": [
    {
     "name": "stdout",
     "output_type": "stream",
     "text": [
      "        z                 mass       \n",
      "------------------ ------------------\n",
      "2.9915820007071154  952511451426.0889\n",
      " 2.911791786171469 158804664211.09744\n",
      " 4.781102315337107 133098200185.95288\n",
      "2.7671170362034303  298494213314.8014\n",
      " 4.183430101440512 320283714318.20593\n",
      " 3.402136650106857  288413713785.3921\n",
      " 4.076981255437903  482342142939.1702\n",
      "1.2843202379861953  7269514925460.799\n",
      " 4.799321043264428  180037616861.4674\n",
      " 4.559846129441087  131916549015.6699\n",
      "2.0018747526476868 121106556204.00484\n",
      " 3.601094597168999 204865711176.01178\n",
      " 4.686114633665518 170058092470.79285\n",
      " 4.415393265354026  693385920527.4808\n",
      " 1.450946085369815 496327479196.30334\n",
      "0.6583185571637092  659839816856.7241\n",
      "2.7442085264904756 126984399293.66351\n",
      "1.6466544384822124 243503477878.04068\n",
      "3.3047121170926363  349670778052.0653\n"
     ]
    }
   ],
   "source": [
    "halos= pipeline.halos\n",
    "print(halos)"
   ],
   "metadata": {
    "collapsed": false
   }
  },
  {
   "cell_type": "markdown",
   "source": [
    "## Calculating the convergence and shear\n",
    "The code imports the `HalosLens` class and creates an instance with the given halos and sky area. It then calls the `get_convergence_shear` method to calculate the convergence and shear at the origin due to all the halos. The results are printed out."
   ],
   "metadata": {
    "collapsed": false
   }
  },
  {
   "cell_type": "code",
   "execution_count": 6,
   "outputs": [
    {
     "name": "stdout",
     "output_type": "stream",
     "text": [
      "kappa at center is:  0.8468180772898013\n",
      "gamma1 at center is:  -0.04863270853503615\n",
      "gamma2 at center is:  -0.1037048555169573\n"
     ]
    },
    {
     "name": "stderr",
     "output_type": "stream",
     "text": [
      "C:\\Users\\TXZ27\\OneDrive\\Documents\\GitHub\\sim-pipeline\\sim_pipeline\\halos\\halos_lens.py:98: UserWarning: No cosmology provided, instead uses astropy.cosmology import default_cosmology\n",
      "  warnings.warn(\"No cosmology provided, instead uses astropy.cosmology import default_cosmology\")\n"
     ]
    }
   ],
   "source": [
    "# Import HalosLens class from the sim_pipeline.halos module\n",
    "from sim_pipeline.halos.halos_lens import HalosLens\n",
    "\n",
    "# Instantiate the HalosLens class with the halo list computed above and a defined sky area\n",
    "halos_lens = HalosLens(halos_list=halos, sky_area=0.00001)\n",
    "# Get the convergence and shear values by calling the get_convergence_shear method\n",
    "kappa,gamma1,gamma2 = halos_lens.get_convergence_shear()\n",
    "print('kappa at center is: ',kappa)\n",
    "print('gamma1 at center is: ',gamma1)\n",
    "print('gamma2 at center is: ',gamma2)"
   ],
   "metadata": {
    "collapsed": false
   }
  },
  {
   "cell_type": "code",
   "execution_count": 6,
   "outputs": [],
   "source": [],
   "metadata": {
    "collapsed": false
   }
  }
 ],
 "metadata": {
  "kernelspec": {
   "display_name": "Python 3",
   "language": "python",
   "name": "python3"
  },
  "language_info": {
   "codemirror_mode": {
    "name": "ipython",
    "version": 2
   },
   "file_extension": ".py",
   "mimetype": "text/x-python",
   "name": "python",
   "nbconvert_exporter": "python",
   "pygments_lexer": "ipython2",
   "version": "2.7.6"
  }
 },
 "nbformat": 4,
 "nbformat_minor": 0
}
