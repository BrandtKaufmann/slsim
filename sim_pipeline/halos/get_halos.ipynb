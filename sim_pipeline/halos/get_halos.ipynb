{
 "cells": [
  {
   "cell_type": "code",
   "execution_count": 1,
   "metadata": {
    "collapsed": true
   },
   "outputs": [
    {
     "name": "stdout",
     "output_type": "stream",
     "text": [
      "<sim_pipeline.Pipelines.halos_pipeline.HalosSkyPyPipeline object at 0x0000024C358F37C0>\n"
     ]
    }
   ],
   "source": [
    "from sim_pipeline.Pipelines.halos_pipeline import HalosSkyPyPipeline\n",
    "\n",
    "pipeline = HalosSkyPyPipeline()\n",
    "\n",
    "print(pipeline)"
   ]
  },
  {
   "cell_type": "code",
   "execution_count": 2,
   "outputs": [
    {
     "name": "stdout",
     "output_type": "stream",
     "text": [
      "        z           press-schechter \n",
      "------------------ -----------------\n",
      " 4.614559514681593 47666114180692.08\n",
      "3.5435782913072034 47666114180692.08\n",
      "3.3020438431978807 47666114180692.08\n",
      "2.3749807634357447 47666114180692.08\n",
      " 3.481598137636067 47666114180692.08\n",
      "2.0631772138777635 47666114180692.08\n",
      "4.8121435892809385 47666114180692.08\n",
      "2.7652489307334767 47666114180692.08\n",
      "1.6991141107018028 47666114180692.08\n",
      "1.7641402539523572 47666114180692.08\n",
      "               ...               ...\n",
      "3.2219560210379306 47666114180692.08\n",
      "  3.91883518053521 47666114180692.08\n",
      "2.8728543443279957 47666114180692.08\n",
      "  4.57847541715817 47666114180692.08\n",
      "0.6775749271948501 47666114180692.08\n",
      "3.0489908978962426 47666114180692.08\n",
      " 3.731666453248057 47666114180692.08\n",
      " 4.860926061639004 47666114180692.08\n",
      " 1.830736478547243 47666114180692.08\n",
      " 2.087346926472461 47666114180692.08\n",
      "0.8306520145626871 47666114180692.08\n",
      "Length = 2909 rows\n"
     ]
    }
   ],
   "source": [
    "halos= pipeline.halos\n",
    "print(halos)"
   ],
   "metadata": {
    "collapsed": false
   }
  },
  {
   "cell_type": "code",
   "execution_count": null,
   "outputs": [],
   "source": [],
   "metadata": {
    "collapsed": false
   }
  }
 ],
 "metadata": {
  "kernelspec": {
   "display_name": "Python 3",
   "language": "python",
   "name": "python3"
  },
  "language_info": {
   "codemirror_mode": {
    "name": "ipython",
    "version": 2
   },
   "file_extension": ".py",
   "mimetype": "text/x-python",
   "name": "python",
   "nbconvert_exporter": "python",
   "pygments_lexer": "ipython2",
   "version": "2.7.6"
  }
 },
 "nbformat": 4,
 "nbformat_minor": 0
}
