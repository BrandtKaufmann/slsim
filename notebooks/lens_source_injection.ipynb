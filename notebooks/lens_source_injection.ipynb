{
 "cells": [
  {
   "cell_type": "code",
   "execution_count": null,
   "id": "64d66921",
   "metadata": {},
   "outputs": [],
   "source": [
    "import matplotlib.pyplot as plt\n",
    "import numpy as np\n",
    "import sys\n",
    "from astropy.cosmology import FlatLambdaCDM\n",
    "from astropy.units import Quantity\n",
    "from sim_pipeline.gg_lens_pop import GGLensPop\n",
    "from sim_pipeline.image_simulation import sharp_image, sharp_rgb_image, rgb_image_from_image_list\n",
    "from sim_pipeline.image_simulation import galsimobj_true_flux\n",
    "import mpl_toolkits.axisartist.floating_axes as floating_axes\n",
    "from mpl_toolkits.axisartist.grid_finder import (MaxNLocator,\n",
    "                                                 DictFormatter)\n",
    "from matplotlib.transforms import Affine2D\n",
    "import lsst.daf.butler as dafButler\n",
    "import lsst.geom as geom\n",
    "import lsst.afw.display as afwDisplay\n",
    "from lsst.pipe.tasks.insertFakes import _add_fake_sources"
   ]
  },
  {
   "cell_type": "markdown",
   "id": "f3c701c3",
   "metadata": {},
   "source": [
    "## Lensed source injection in DC2 data"
   ]
  },
  {
   "cell_type": "markdown",
   "id": "ab92b75c-4ce7-4d54-b8bb-68d3db80eb7b",
   "metadata": {},
   "source": [
    "This notebook uses sim-pipeline to generate lens-deflector population. Then, we select a random lens-deflector\n",
    "\n",
    "and inject it to a patch of the DC2 data."
   ]
  },
  {
   "cell_type": "markdown",
   "id": "60e07f48-9aeb-45e0-9454-eacebcfc4921",
   "metadata": {},
   "source": [
    "## Generate population of sources and deflectors"
   ]
  },
  {
   "cell_type": "markdown",
   "id": "d79f6fa6-296a-447c-8cfa-f133a4c0d7bd",
   "metadata": {
    "execution": {
     "iopub.execute_input": "2023-07-21T18:51:20.484913Z",
     "iopub.status.busy": "2023-07-21T18:51:20.484398Z",
     "iopub.status.idle": "2023-07-21T18:51:20.490580Z",
     "shell.execute_reply": "2023-07-21T18:51:20.489623Z",
     "shell.execute_reply.started": "2023-07-21T18:51:20.484880Z"
    },
    "tags": []
   },
   "source": [
    "Using sim-pipeline one can generate galaxy-galaxy lenses."
   ]
  },
  {
   "cell_type": "code",
   "execution_count": null,
   "id": "d0d48388-dee5-4488-81f4-b3d636b3a698",
   "metadata": {
    "execution": {
     "iopub.execute_input": "2023-08-01T17:40:32.774126Z",
     "iopub.status.busy": "2023-08-01T17:40:32.773259Z",
     "iopub.status.idle": "2023-08-01T17:40:32.777155Z",
     "shell.execute_reply": "2023-08-01T17:40:32.776542Z",
     "shell.execute_reply.started": "2023-08-01T17:40:32.774095Z"
    },
    "tags": []
   },
   "outputs": [],
   "source": [
    "sys.path.insert(0, '/home/nkhadka/notebooks/mytutorials/sim-pipeline/')"
   ]
  },
  {
   "cell_type": "code",
   "execution_count": null,
   "id": "834ce91e-1958-4c80-b35a-107720c4ff72",
   "metadata": {
    "execution": {
     "iopub.execute_input": "2023-08-01T17:40:34.169928Z",
     "iopub.status.busy": "2023-08-01T17:40:34.169592Z",
     "iopub.status.idle": "2023-08-01T17:41:07.392187Z",
     "shell.execute_reply": "2023-08-01T17:41:07.391196Z",
     "shell.execute_reply.started": "2023-08-01T17:40:34.169903Z"
    },
    "tags": []
   },
   "outputs": [],
   "source": [
    "# define a cosmology\n",
    "cosmo = FlatLambdaCDM(H0=70, Om0=0.3)\n",
    "\n",
    "# define a sky area\n",
    "sky_area = Quantity(value=0.1, unit='deg2')\n",
    "\n",
    "\n",
    "# define limits in the intrinsic deflector and source population (in addition to the skypy config \n",
    "# file)\n",
    "kwargs_deflector_cut = {'band': 'g', 'band_max':28, 'z_min': 0.01, 'z_max': 2.5}\n",
    "kwargs_source_cut = {'band': 'g', 'band_max':28, 'z_min': 0.1, 'z_max': 5.}\n",
    "\n",
    "# run skypy pipeline and make galaxy-galaxy population class using GGLensPop\n",
    "gg_lens_pop = GGLensPop(lens_type='all-galaxies', source_type='galaxies', \n",
    "                        kwargs_deflector_cut=kwargs_deflector_cut, kwargs_source_cut =\n",
    "                        kwargs_source_cut,\n",
    "                        kwargs_mass2light=None, skypy_config=None, sky_area=sky_area, cosmo=cosmo)"
   ]
  },
  {
   "cell_type": "markdown",
   "id": "568932d9-f62a-4a5e-945f-f5b82647039e",
   "metadata": {},
   "source": [
    "## Select a lens at random and generate a high resolution image"
   ]
  },
  {
   "cell_type": "code",
   "execution_count": null,
   "id": "efa81c8a-8404-40f2-a0b3-70e13ff1611e",
   "metadata": {
    "execution": {
     "iopub.execute_input": "2023-08-01T01:23:56.942150Z",
     "iopub.status.busy": "2023-08-01T01:23:56.941228Z",
     "iopub.status.idle": "2023-08-01T01:23:58.603969Z",
     "shell.execute_reply": "2023-08-01T01:23:58.603213Z",
     "shell.execute_reply.started": "2023-08-01T01:23:56.942119Z"
    },
    "tags": []
   },
   "outputs": [],
   "source": [
    "kwargs_lens_cut={'min_image_separation': 0.8, 'max_image_separation': 10, 'mag_arc_limit': \n",
    "{'g': 23, 'r': 23, 'i': 23}}\n",
    "rgb_band_list=['i', 'r', 'g']\n",
    "lens_class = gg_lens_pop.select_lens_at_random(**kwargs_lens_cut)"
   ]
  },
  {
   "cell_type": "code",
   "execution_count": null,
   "id": "dd9b2db9-5969-4725-bfc5-cb1dd66b41a9",
   "metadata": {
    "execution": {
     "iopub.execute_input": "2023-07-21T18:47:26.658971Z",
     "iopub.status.busy": "2023-07-21T18:47:26.658121Z",
     "iopub.status.idle": "2023-07-21T18:47:26.662545Z",
     "shell.execute_reply": "2023-07-21T18:47:26.661803Z",
     "shell.execute_reply.started": "2023-07-21T18:47:26.658932Z"
    },
    "tags": []
   },
   "outputs": [],
   "source": [
    "#print(lens_class.einstein_radius)\n",
    "#print(lens_class.deflector_velocity_dispersion())\n",
    "#print(lens_class.deflector_stellar_mass())\n",
    "#print(lens_class.einstein_radius)\n",
    "#print(lens_class.lens_redshift)\n",
    "#print(lens_class.source_redshift)\n",
    "#print(lens_class.source_magnitude(band='g', lensed=True))\n",
    "#print(lens_class.deflector_magnitude(band='g'))"
   ]
  },
  {
   "cell_type": "code",
   "execution_count": null,
   "id": "9dce1a91-2c90-4f6e-b3cb-b18547c33c87",
   "metadata": {
    "execution": {
     "iopub.execute_input": "2023-07-21T18:47:43.123558Z",
     "iopub.status.busy": "2023-07-21T18:47:43.122754Z",
     "iopub.status.idle": "2023-07-21T18:47:43.297079Z",
     "shell.execute_reply": "2023-07-21T18:47:43.296243Z",
     "shell.execute_reply.started": "2023-07-21T18:47:43.123523Z"
    },
    "tags": []
   },
   "outputs": [],
   "source": [
    "image_i_1 = sharp_image(lens_class=lens_class, band=rgb_band_list[0], mag_zero_point=27, \n",
    "delta_pix=0.2, num_pix=200)\n",
    "image_r_1 = sharp_image(lens_class=lens_class, band=rgb_band_list[1], mag_zero_point=27, \n",
    "delta_pix=0.2, num_pix=200)\n",
    "image_g_1 = sharp_image(lens_class=lens_class, band=rgb_band_list[2], mag_zero_point=27, \n",
    "delta_pix=0.2, num_pix=200)"
   ]
  },
  {
   "cell_type": "code",
   "execution_count": null,
   "id": "9f44dc9c-1999-481b-87d9-bbaa6782395d",
   "metadata": {
    "execution": {
     "iopub.execute_input": "2023-08-01T19:54:07.500487Z",
     "iopub.status.busy": "2023-08-01T19:54:07.499662Z",
     "iopub.status.idle": "2023-08-01T19:54:07.503029Z",
     "shell.execute_reply": "2023-08-01T19:54:07.502466Z",
     "shell.execute_reply.started": "2023-08-01T19:54:07.500459Z"
    },
    "tags": []
   },
   "outputs": [],
   "source": [
    "#image_g.shape\n",
    "plt.imshow(image_r_1, origin='lower')"
   ]
  },
  {
   "cell_type": "code",
   "execution_count": null,
   "id": "ad707603-1867-4014-96b7-234d60fd03fb",
   "metadata": {
    "execution": {
     "iopub.execute_input": "2023-07-21T18:48:11.924529Z",
     "iopub.status.busy": "2023-07-21T18:48:11.923414Z",
     "iopub.status.idle": "2023-07-21T18:48:12.102182Z",
     "shell.execute_reply": "2023-07-21T18:48:12.101351Z",
     "shell.execute_reply.started": "2023-07-21T18:48:11.924461Z"
    },
    "tags": []
   },
   "outputs": [],
   "source": [
    "high_reso_rgb=sharp_rgb_image(lens_class=lens_class, rgb_band_list=rgb_band_list, mag_zero_point=27,\n",
    " delta_pix=0.2, num_pix=200)"
   ]
  },
  {
   "cell_type": "code",
   "execution_count": null,
   "id": "6a716382-6c12-4e0a-ab6d-d623aacda2e1",
   "metadata": {
    "execution": {
     "iopub.execute_input": "2023-08-01T19:54:23.491206Z",
     "iopub.status.busy": "2023-08-01T19:54:23.490830Z",
     "iopub.status.idle": "2023-08-01T19:54:23.494457Z",
     "shell.execute_reply": "2023-08-01T19:54:23.493833Z",
     "shell.execute_reply.started": "2023-08-01T19:54:23.491179Z"
    },
    "tags": []
   },
   "outputs": [],
   "source": [
    "plt.imshow(high_reso_rgb, origin='lower')"
   ]
  },
  {
   "cell_type": "markdown",
   "id": "cd1980b0-0d48-4526-823f-f4e5ce2be136",
   "metadata": {},
   "source": [
    "## Initiation of Butler"
   ]
  },
  {
   "cell_type": "markdown",
   "id": "fa934c1c-78ba-4984-9529-264577731ba1",
   "metadata": {},
   "source": [
    "Here we initiate butler and take a cutout of the DC2 data where we inject randomly selected lens."
   ]
  },
  {
   "cell_type": "code",
   "execution_count": null,
   "id": "b2e3280e-a268-44b0-a930-9cec37c34a7f",
   "metadata": {
    "execution": {
     "iopub.execute_input": "2023-07-21T18:49:02.572056Z",
     "iopub.status.busy": "2023-07-21T18:49:02.571042Z",
     "iopub.status.idle": "2023-07-21T18:49:02.612045Z",
     "shell.execute_reply": "2023-07-21T18:49:02.611051Z",
     "shell.execute_reply.started": "2023-07-21T18:49:02.572016Z"
    },
    "tags": []
   },
   "outputs": [],
   "source": [
    "gsobj_r=galsimobj_true_flux(image_r_1, pix_scale=0.2)\n",
    "gsobj_g=galsimobj_true_flux(image_g_1, pix_scale=0.2)\n",
    "gsobj_i=galsimobj_true_flux(image_i_1, pix_scale=0.2)"
   ]
  },
  {
   "cell_type": "code",
   "execution_count": null,
   "id": "219d0a65-5f33-4de8-95db-326cb088d9f7",
   "metadata": {
    "execution": {
     "iopub.execute_input": "2023-08-01T17:41:10.905086Z",
     "iopub.status.busy": "2023-08-01T17:41:10.904171Z",
     "iopub.status.idle": "2023-08-01T17:41:14.186660Z",
     "shell.execute_reply": "2023-08-01T17:41:14.185911Z",
     "shell.execute_reply.started": "2023-08-01T17:41:10.905054Z"
    },
    "tags": []
   },
   "outputs": [],
   "source": [
    "config = \"dp02\"\n",
    "collection ='2.2i/runs/DP0.2'\n",
    "butler = dafButler.Butler(config, collections=collection)\n",
    "skymap = butler.get(\"skyMap\")\n",
    "\n",
    "# Near the center of DC2\n",
    "ra = 62.541629   # degrees\n",
    "dec = -37.852021 # degrees\n",
    "point = geom.SpherePoint(ra, dec, geom.degrees)\n",
    "cutoutSize = geom.ExtentI(201, 201)\n",
    "#print(cutoutSize)\n",
    "\n",
    "\n",
    "#Read this from the table we have at hand... \n",
    "tractInfo = skymap.findTract(point)\n",
    "patchInfo = tractInfo.findPatch(point)\n",
    "my_tract = tractInfo.tract_id\n",
    "my_patch = patchInfo.getSequentialIndex()\n",
    "\n",
    "xy = geom.PointI(tractInfo.getWcs().skyToPixel(point))\n",
    "\n",
    "bbox = geom.BoxI(xy + cutoutSize//2, cutoutSize)\n",
    "\n",
    "coaddId_r = {\n",
    "    'tract':my_tract, \n",
    "    'patch':my_patch,\n",
    "    'band':'i'\n",
    "}\n",
    "coadd = butler.get(\"deepCoadd\", dataId=coaddId_r)\n",
    "coadd_cut_r = butler.get(\"deepCoadd\",parameters={'bbox':bbox}, dataId=coaddId_r)"
   ]
  },
  {
   "cell_type": "code",
   "execution_count": null,
   "id": "fe1404ea-20fd-4db7-8917-a6100c4acd5d",
   "metadata": {
    "execution": {
     "iopub.execute_input": "2023-07-21T18:56:41.538395Z",
     "iopub.status.busy": "2023-07-21T18:56:41.537371Z",
     "iopub.status.idle": "2023-07-21T18:56:43.314068Z",
     "shell.execute_reply": "2023-07-21T18:56:43.307808Z",
     "shell.execute_reply.started": "2023-07-21T18:56:41.538356Z"
    },
    "tags": []
   },
   "outputs": [],
   "source": [
    "coaddId_g = {\n",
    "    'tract':3638, \n",
    "    'patch':27,\n",
    "    'band':'g'\n",
    "}\n",
    "coaddId_i = {\n",
    "    'tract':3638, \n",
    "    'patch':27,\n",
    "    'band':'i'\n",
    "}\n",
    "coadd_cut_g = butler.get(\"deepCoadd\",parameters={'bbox':bbox}, dataId=coaddId_g)\n",
    "coadd_cut_i = butler.get(\"deepCoadd\",parameters={'bbox':bbox}, dataId=coaddId_i)"
   ]
  },
  {
   "cell_type": "code",
   "execution_count": null,
   "id": "1cf16f95-9b1a-499d-8fb3-35c135db4174",
   "metadata": {
    "execution": {
     "iopub.execute_input": "2023-07-21T18:52:38.680241Z",
     "iopub.status.busy": "2023-07-21T18:52:38.679276Z",
     "iopub.status.idle": "2023-07-21T18:52:38.715860Z",
     "shell.execute_reply": "2023-07-21T18:52:38.715059Z",
     "shell.execute_reply.started": "2023-07-21T18:52:38.680205Z"
    },
    "tags": []
   },
   "outputs": [],
   "source": [
    "afwDisplay.setDefaultBackend('matplotlib')"
   ]
  },
  {
   "cell_type": "code",
   "execution_count": null,
   "id": "33c721ab-4e08-4a69-aea3-c03218bddb1c",
   "metadata": {
    "execution": {
     "iopub.execute_input": "2023-08-01T19:54:51.015458Z",
     "iopub.status.busy": "2023-08-01T19:54:51.014628Z",
     "iopub.status.idle": "2023-08-01T19:54:51.018193Z",
     "shell.execute_reply": "2023-08-01T19:54:51.017602Z",
     "shell.execute_reply.started": "2023-08-01T19:54:51.015428Z"
    },
    "tags": []
   },
   "outputs": [],
   "source": [
    "fig = plt.figure(figsize=(10, 8))\n",
    "afw_display = afwDisplay.Display(1)\n",
    "afw_display.scale('asinh', 'zscale')\n",
    "afw_display.mtv(coadd.image)\n",
    "plt.gca().axis('on')"
   ]
  },
  {
   "cell_type": "markdown",
   "id": "f69b578f-5d39-4e67-a436-b7b760e7106c",
   "metadata": {},
   "source": [
    "## Cutout from the DC2 data"
   ]
  },
  {
   "cell_type": "code",
   "execution_count": null,
   "id": "71b509c9-d9e0-4cf8-a72f-33ec59e964da",
   "metadata": {
    "execution": {
     "iopub.execute_input": "2023-08-01T19:55:08.475063Z",
     "iopub.status.busy": "2023-08-01T19:55:08.474425Z",
     "iopub.status.idle": "2023-08-01T19:55:08.477803Z",
     "shell.execute_reply": "2023-08-01T19:55:08.477270Z",
     "shell.execute_reply.started": "2023-08-01T19:55:08.475030Z"
    },
    "tags": []
   },
   "outputs": [],
   "source": [
    "fig = plt.figure(figsize=(10, 8))\n",
    "afw_display = afwDisplay.Display(1)\n",
    "afw_display.scale('asinh', 'zscale')\n",
    "afw_display.mtv(coadd_cut_r.image)\n",
    "plt.gca().axis('on')"
   ]
  },
  {
   "cell_type": "markdown",
   "id": "b7fdb441-5312-4615-a388-de5d4e2c2e7a",
   "metadata": {},
   "source": [
    "## Inject the randomly selected lens (we have already selected \n",
    "## a lens above)."
   ]
  },
  {
   "cell_type": "markdown",
   "id": "e9a276ad-8013-4389-b763-e83fdaac2429",
   "metadata": {},
   "source": [
    "## 1. r band"
   ]
  },
  {
   "cell_type": "code",
   "execution_count": null,
   "id": "d20b7b8c-0c0a-4ec0-8451-e97cff62532f",
   "metadata": {
    "execution": {
     "iopub.execute_input": "2023-08-01T19:58:30.509523Z",
     "iopub.status.busy": "2023-08-01T19:58:30.508740Z",
     "iopub.status.idle": "2023-08-01T19:58:30.514398Z",
     "shell.execute_reply": "2023-08-01T19:58:30.513884Z",
     "shell.execute_reply.started": "2023-08-01T19:58:30.509487Z"
    },
    "tags": []
   },
   "outputs": [],
   "source": [
    "wcs_r= coadd_cut_r.getWcs()\n",
    "bbox_r= coadd_cut_r.getBBox()\n",
    "x_min_r = bbox_r.getMinX()\n",
    "y_min_r = bbox_r.getMinY()\n",
    "x_max_r = bbox_r.getMaxX()\n",
    "y_max_r = bbox_r.getMaxY()\n",
    "\n",
    "# Calculate the center coordinates\n",
    "x_center_r = (x_min_r + x_max_r) / 2\n",
    "y_center_r = (y_min_r + y_max_r) / 2\n",
    "\n",
    "center_r = geom.Point2D(x_center_r, y_center_r)\n",
    "#geom.Point2D(26679, 15614)\n",
    "point_r=wcs_r.pixelToSky(center_r)\n",
    "print(point_r)\n",
    "\n",
    "image_r = butler.get(\"deepCoadd\", parameters={'bbox':bbox_r}, dataId=coaddId_r)\n",
    "mat = np.eye(3)\n",
    "mat[:2,:2] = wcs_r.getCdMatrix()\n",
    "\n",
    "transform = Affine2D(mat)\n",
    "fig = plt.figure(figsize=(20, 18))\n",
    "arr_r = np.copy(image_r.image.array)\n",
    "plot_extents = 0, bbox.width, 0, bbox.height\n",
    "helper = floating_axes.GridHelperCurveLinear(\n",
    "    transform, plot_extents, \n",
    "    tick_formatter1=DictFormatter({}),\n",
    "    tick_formatter2=DictFormatter({}),\n",
    "    grid_locator1=MaxNLocator(nbins=1),\n",
    "    grid_locator2=MaxNLocator(nbins=1),\n",
    "\n",
    ")\n",
    "ax = floating_axes.FloatingSubplot(fig, 132, grid_helper=helper)\n",
    "ax.imshow((arr_r), vmin=0, transform=transform+ax.transData, origin='lower')\n",
    "\n",
    "fig.add_subplot(ax)\n",
    "print(point)\n",
    "_add_fake_sources(image_r, [(point_r, gsobj_r)])\n",
    "inj_arr_r = image_r.image.array\n",
    "plot_extents = 0, bbox.width, 0, bbox.height\n",
    "helper = floating_axes.GridHelperCurveLinear(\n",
    "    transform, plot_extents, \n",
    "    tick_formatter1=DictFormatter({}),\n",
    "    tick_formatter2=DictFormatter({}),\n",
    "    grid_locator1=MaxNLocator(nbins=1),\n",
    "    grid_locator2=MaxNLocator(nbins=1),\n",
    ")\n",
    "ax = floating_axes.FloatingSubplot(fig, 133, grid_helper=helper)\n",
    "ax.imshow((inj_arr_r), vmin=0, transform=transform+ax.transData, origin='lower')\n",
    "\n",
    "fig.add_subplot(ax)\n",
    "\n",
    "ax = floating_axes.FloatingSubplot(fig, 131, grid_helper=helper)\n",
    "ax.imshow((inj_arr_r-arr_r), vmin=0, transform=transform+ax.transData, origin='lower')\n",
    "\n",
    "fig.add_subplot(ax)\n",
    "#fig.suptitle(repr(coaddId))\n",
    "fig.show()"
   ]
  },
  {
   "cell_type": "markdown",
   "id": "3a9b1596-e47e-4086-a662-3814445dbaca",
   "metadata": {
    "execution": {
     "iopub.execute_input": "2023-07-21T18:55:21.772661Z",
     "iopub.status.busy": "2023-07-21T18:55:21.771600Z",
     "iopub.status.idle": "2023-07-21T18:55:21.776010Z",
     "shell.execute_reply": "2023-07-21T18:55:21.775339Z",
     "shell.execute_reply.started": "2023-07-21T18:55:21.772623Z"
    },
    "tags": []
   },
   "source": [
    "## 2. g band"
   ]
  },
  {
   "cell_type": "code",
   "execution_count": null,
   "id": "1c0b45cb-9f3c-4b5e-86b9-e75bbfb8afff",
   "metadata": {
    "execution": {
     "iopub.execute_input": "2023-08-01T19:55:58.857756Z",
     "iopub.status.busy": "2023-08-01T19:55:58.856880Z",
     "iopub.status.idle": "2023-08-01T19:55:58.863174Z",
     "shell.execute_reply": "2023-08-01T19:55:58.862621Z",
     "shell.execute_reply.started": "2023-08-01T19:55:58.857722Z"
    },
    "tags": []
   },
   "outputs": [],
   "source": [
    "wcs_g= coadd_cut_g.getWcs()\n",
    "bbox_g= coadd_cut_g.getBBox()\n",
    "image_g = butler.get(\"deepCoadd\", parameters={'bbox':bbox_g}, dataId=coaddId_g)\n",
    "mat = np.eye(3)\n",
    "mat[:2,:2] = wcs_g.getCdMatrix()\n",
    "transform = Affine2D(mat)\n",
    "fig = plt.figure(figsize=(20, 18))\n",
    "arr_g = np.copy(image_g.image.array)\n",
    "plot_extents = 0, bbox.width, 0, bbox.height\n",
    "helper = floating_axes.GridHelperCurveLinear(\n",
    "    transform, plot_extents, \n",
    "    tick_formatter1=DictFormatter({}),\n",
    "    tick_formatter2=DictFormatter({}),\n",
    "    grid_locator1=MaxNLocator(nbins=1),\n",
    "    grid_locator2=MaxNLocator(nbins=1),\n",
    "\n",
    ")\n",
    "ax = floating_axes.FloatingSubplot(fig, 132, grid_helper=helper)\n",
    "ax.imshow((arr_g), vmin=0, transform=transform+ax.transData)\n",
    "\"\"\"ax.scatter(\n",
    "    xy.x - bbox.minX, \n",
    "    xy.y - bbox.minY, \n",
    "    c='r', marker='+', transform=transform+ax.transData\n",
    ")\"\"\"\n",
    "fig.add_subplot(ax)\n",
    "_add_fake_sources(image_g, [(point_r, gsobj_g)])\n",
    "inj_arr_g = image_g.image.array\n",
    "plot_extents = 0, bbox.width, 0, bbox.height\n",
    "helper = floating_axes.GridHelperCurveLinear(\n",
    "    transform, plot_extents, \n",
    "    tick_formatter1=DictFormatter({}),\n",
    "    tick_formatter2=DictFormatter({}),\n",
    "    grid_locator1=MaxNLocator(nbins=1),\n",
    "    grid_locator2=MaxNLocator(nbins=1),\n",
    ")\n",
    "ax = floating_axes.FloatingSubplot(fig, 133, grid_helper=helper)\n",
    "ax.imshow((inj_arr_g), vmin=0, transform=transform+ax.transData)\n",
    "\"\"\"ax.scatter(\n",
    "    xy.x - bbox.minX, \n",
    "    xy.y - bbox.minY, \n",
    "    c='r', marker='+', transform=transform+ax.transData\n",
    ")\"\"\"\n",
    "fig.add_subplot(ax)\n",
    "\n",
    "ax = floating_axes.FloatingSubplot(fig, 131, grid_helper=helper)\n",
    "ax.imshow((inj_arr_g-arr_g), vmin=0, transform=transform+ax.transData)\n",
    "\"\"\"ax.scatter(\n",
    "    xy.x - bbox.minX, \n",
    "    xy.y - bbox.minY, \n",
    "    c='r', marker='+', transform=transform+ax.transData\n",
    ")\"\"\"\n",
    "fig.add_subplot(ax)\n",
    "#fig.suptitle(repr(coaddId))\n",
    "fig.show()"
   ]
  },
  {
   "cell_type": "markdown",
   "id": "f7295c2f-ed6a-4239-971e-5e06a31c1fa2",
   "metadata": {},
   "source": [
    "## 3. i band"
   ]
  },
  {
   "cell_type": "code",
   "execution_count": null,
   "id": "72ed22d2-e28a-456f-ac03-c803b76128d5",
   "metadata": {
    "execution": {
     "iopub.execute_input": "2023-08-01T19:57:57.360800Z",
     "iopub.status.busy": "2023-08-01T19:57:57.360122Z",
     "iopub.status.idle": "2023-08-01T19:57:57.366025Z",
     "shell.execute_reply": "2023-08-01T19:57:57.365468Z",
     "shell.execute_reply.started": "2023-08-01T19:57:57.360770Z"
    },
    "tags": []
   },
   "outputs": [],
   "source": [
    "wcs_i= coadd_cut_i.getWcs()\n",
    "bbox_i= coadd_cut_i.getBBox()\n",
    "image_i = butler.get(\"deepCoadd\", parameters={'bbox':bbox_i}, dataId=coaddId_i)\n",
    "mat = np.eye(3)\n",
    "mat[:2,:2] = wcs_i.getCdMatrix()\n",
    "transform = Affine2D(mat)\n",
    "fig = plt.figure(figsize=(20, 18))\n",
    "arr_i = np.copy(image_i.image.array)\n",
    "plot_extents = 0, bbox.width, 0, bbox.height\n",
    "helper = floating_axes.GridHelperCurveLinear(\n",
    "    transform, plot_extents, \n",
    "    tick_formatter1=DictFormatter({}),\n",
    "    tick_formatter2=DictFormatter({}),\n",
    "    grid_locator1=MaxNLocator(nbins=1),\n",
    "    grid_locator2=MaxNLocator(nbins=1),\n",
    "\n",
    ")\n",
    "ax = floating_axes.FloatingSubplot(fig, 132, grid_helper=helper)\n",
    "ax.imshow((arr_i), vmin=0, transform=transform+ax.transData)\n",
    "\"\"\"ax.scatter(\n",
    "    xy.x - bbox.minX, \n",
    "    xy.y - bbox.minY, \n",
    "    c='r', marker='+', transform=transform+ax.transData\n",
    ")\"\"\"\n",
    "fig.add_subplot(ax)\n",
    "_add_fake_sources(image_i, [(point_r, gsobj_i)])\n",
    "inj_arr_i = image_i.image.array\n",
    "plot_extents = 0, bbox_i.width, 0, bbox_i.height\n",
    "helper = floating_axes.GridHelperCurveLinear(\n",
    "    transform, plot_extents, \n",
    "    tick_formatter1=DictFormatter({}),\n",
    "    tick_formatter2=DictFormatter({}),\n",
    "    grid_locator1=MaxNLocator(nbins=1),\n",
    "    grid_locator2=MaxNLocator(nbins=1),\n",
    ")\n",
    "ax = floating_axes.FloatingSubplot(fig, 133, grid_helper=helper)\n",
    "ax.imshow((inj_arr_i), vmin=0, transform=transform+ax.transData)\n",
    "\"\"\"ax.scatter(\n",
    "    xy.x - bbox.minX, \n",
    "    xy.y - bbox.minY, \n",
    "    c='r', marker='+', transform=transform+ax.transData\n",
    ")\"\"\"\n",
    "fig.add_subplot(ax)\n",
    "\n",
    "ax = floating_axes.FloatingSubplot(fig, 131, grid_helper=helper)\n",
    "ax.imshow((inj_arr_i-arr_i), vmin=0, transform=transform+ax.transData)\n",
    "\"\"\"ax.scatter(\n",
    "    xy.x - bbox.minX, \n",
    "    xy.y - bbox.minY, \n",
    "    c='r', marker='+', transform=transform+ax.transData\n",
    ")\"\"\"\n",
    "fig.add_subplot(ax)\n",
    "#fig.suptitle(repr(coaddId))\n",
    "fig.show()"
   ]
  },
  {
   "cell_type": "markdown",
   "id": "0e989a47-f6b0-44d8-8288-d17edcbeb200",
   "metadata": {
    "tags": []
   },
   "source": [
    "## Create rgb images"
   ]
  },
  {
   "cell_type": "code",
   "execution_count": null,
   "id": "e34b4471-3ad9-4881-98b3-4c71cd7d9ad6",
   "metadata": {
    "execution": {
     "iopub.execute_input": "2023-07-21T18:57:41.830947Z",
     "iopub.status.busy": "2023-07-21T18:57:41.830091Z",
     "iopub.status.idle": "2023-07-21T18:57:41.845482Z",
     "shell.execute_reply": "2023-07-21T18:57:41.844543Z",
     "shell.execute_reply.started": "2023-07-21T18:57:41.830912Z"
    },
    "tags": []
   },
   "outputs": [],
   "source": [
    "image_list=[inj_arr_i, inj_arr_r, inj_arr_g]\n",
    "image_list_1=[arr_i, arr_r, arr_g]\n",
    "final_injected_image=rgb_image_from_image_list(image_list=image_list, stretch=2)\n",
    "final_uninjected_image=rgb_image_from_image_list(image_list=image_list_1, stretch=2)"
   ]
  },
  {
   "cell_type": "code",
   "execution_count": null,
   "id": "9fecef55-4c47-48a2-abac-72ff88134cd8",
   "metadata": {
    "execution": {
     "iopub.execute_input": "2023-08-01T19:58:51.402149Z",
     "iopub.status.busy": "2023-08-01T19:58:51.401791Z",
     "iopub.status.idle": "2023-08-01T19:58:51.405214Z",
     "shell.execute_reply": "2023-08-01T19:58:51.404653Z",
     "shell.execute_reply.started": "2023-08-01T19:58:51.402123Z"
    },
    "tags": []
   },
   "outputs": [],
   "source": [
    "plt.imshow(final_uninjected_image, extent = [0, bbox.width, 0, bbox.height])"
   ]
  },
  {
   "cell_type": "code",
   "execution_count": null,
   "id": "705e9657-d9b0-46c0-9cd1-a1c034db5cb8",
   "metadata": {
    "execution": {
     "iopub.execute_input": "2023-08-01T19:58:58.606391Z",
     "iopub.status.busy": "2023-08-01T19:58:58.605506Z",
     "iopub.status.idle": "2023-08-01T19:58:58.609072Z",
     "shell.execute_reply": "2023-08-01T19:58:58.608495Z",
     "shell.execute_reply.started": "2023-08-01T19:58:58.606359Z"
    },
    "tags": []
   },
   "outputs": [],
   "source": [
    "plt.imshow(final_injected_image,extent = [0, bbox.width, 0, bbox.height])"
   ]
  },
  {
   "cell_type": "code",
   "execution_count": null,
   "id": "385046fb-4b04-4705-aae0-59acaa8f1050",
   "metadata": {
    "execution": {
     "iopub.execute_input": "2023-08-01T19:59:05.358151Z",
     "iopub.status.busy": "2023-08-01T19:59:05.357316Z",
     "iopub.status.idle": "2023-08-01T19:59:05.360837Z",
     "shell.execute_reply": "2023-08-01T19:59:05.360241Z",
     "shell.execute_reply.started": "2023-08-01T19:59:05.358121Z"
    },
    "tags": []
   },
   "outputs": [],
   "source": [
    "plt.imshow(final_injected_image-final_uninjected_image, extent = [0, bbox.width, 0, bbox.height])"
   ]
  },
  {
   "cell_type": "markdown",
   "id": "41002517-587c-4d5e-ac97-d6dafee3e345",
   "metadata": {},
   "source": [
    "## Instead all above process, one can simply call RSP module \n",
    "## from sim-pipeline and do all aove process"
   ]
  },
  {
   "cell_type": "code",
   "execution_count": null,
   "id": "762e2de0-de46-4ba9-8713-b06e525e5e35",
   "metadata": {
    "execution": {
     "iopub.execute_input": "2023-08-01T17:41:32.054943Z",
     "iopub.status.busy": "2023-08-01T17:41:32.054061Z",
     "iopub.status.idle": "2023-08-01T17:41:32.148020Z",
     "shell.execute_reply": "2023-08-01T17:41:32.147302Z",
     "shell.execute_reply.started": "2023-08-01T17:41:32.054913Z"
    },
    "tags": []
   },
   "outputs": [],
   "source": [
    "from sim_pipeline import rsp"
   ]
  },
  {
   "cell_type": "code",
   "execution_count": null,
   "id": "c3583a71-357a-4a32-8ffc-3093d58cffe6",
   "metadata": {
    "execution": {
     "iopub.execute_input": "2023-07-31T21:23:45.432354Z",
     "iopub.status.busy": "2023-07-31T21:23:45.431497Z",
     "iopub.status.idle": "2023-07-31T21:23:45.435397Z",
     "shell.execute_reply": "2023-07-31T21:23:45.434770Z",
     "shell.execute_reply.started": "2023-07-31T21:23:45.432323Z"
    },
    "tags": []
   },
   "outputs": [],
   "source": [
    "ra = 62.541629   # degrees\n",
    "dec = -37.852021 # degrees"
   ]
  },
  {
   "cell_type": "code",
   "execution_count": null,
   "id": "42db18da-5d0a-4dfc-86e6-7314936b4005",
   "metadata": {
    "execution": {
     "iopub.execute_input": "2023-07-31T21:23:47.574166Z",
     "iopub.status.busy": "2023-07-31T21:23:47.573355Z",
     "iopub.status.idle": "2023-07-31T21:23:58.136282Z",
     "shell.execute_reply": "2023-07-31T21:23:58.135425Z",
     "shell.execute_reply.started": "2023-07-31T21:23:47.574135Z"
    },
    "tags": []
   },
   "outputs": [],
   "source": [
    "y=rsp.lens_inejection(gg_lens_pop, 201, 0.2, butler, ra, dec, flux=None)"
   ]
  },
  {
   "cell_type": "code",
   "execution_count": null,
   "id": "870ff6da-17d5-459a-90c5-8c0b0fb1b3f0",
   "metadata": {
    "execution": {
     "iopub.execute_input": "2023-07-31T21:25:26.587461Z",
     "iopub.status.busy": "2023-07-31T21:25:26.586546Z",
     "iopub.status.idle": "2023-07-31T21:25:26.593078Z",
     "shell.execute_reply": "2023-07-31T21:25:26.592444Z",
     "shell.execute_reply.started": "2023-07-31T21:25:26.587426Z"
    },
    "tags": []
   },
   "outputs": [],
   "source": [
    "y"
   ]
  }
 ],
 "metadata": {
  "kernelspec": {
   "display_name": "LSST",
   "language": "python",
   "name": "lsst"
  },
  "language_info": {
   "codemirror_mode": {
    "name": "ipython",
    "version": 3
   },
   "file_extension": ".py",
   "mimetype": "text/x-python",
   "name": "python",
   "nbconvert_exporter": "python",
   "pygments_lexer": "ipython3",
   "version": "3.10.10"
  }
 },
 "nbformat": 4,
 "nbformat_minor": 5
}
