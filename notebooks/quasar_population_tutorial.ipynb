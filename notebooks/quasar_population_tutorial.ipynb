{
 "cells": [
  {
   "cell_type": "code",
   "execution_count": null,
   "metadata": {},
   "outputs": [],
   "source": [
    "from astropy.cosmology import FlatLambdaCDM\n",
    "from astropy.units import Quantity\n",
    "from slsim.lens_pop import LensPop\n",
    "import numpy as np\n",
    "from astropy.table import Table\n",
    "from astropy.units import Quantity\n",
    "import corner\n",
    "import matplotlib.pyplot as plt\n",
    "from scipy.stats import gaussian_kde"
   ]
  },
  {
   "cell_type": "markdown",
   "metadata": {},
   "source": [
    "## Lensed quasar population\n",
    "\n",
    "This notebook shows how to simulate lensed quasar population."
   ]
  },
  {
   "cell_type": "code",
   "execution_count": null,
   "metadata": {},
   "outputs": [],
   "source": [
    "# define a cosmology\n",
    "cosmo = FlatLambdaCDM(H0=70, Om0=0.3)\n",
    "\n",
    "\n",
    "# define a sky area\n",
    "source_sky_area = Quantity(value=5, unit=\"deg2\")\n",
    "deflector_sky_area = Quantity(value=5, unit=\"deg2\")\n",
    "full_sky_area = Quantity(value=500, unit=\"deg2\")\n",
    "\n",
    "\n",
    "# define limits in the intrinsic deflector and source population (in addition\n",
    "# to the skypy config\n",
    "# file)\n",
    "kwargs_deflector_cut = {\"band\": \"i\", \"band_max\": 27, \"z_min\": 0.01, \"z_max\": 5}\n",
    "kwargs_source_cut = {\"z_min\": 0.1, \"z_max\": 5.0}\n",
    "\n",
    "#make galaxy-galaxy population class using LensPop\n",
    "quasar_lens_pop = LensPop(\n",
    "    deflector_type=\"all-galaxies\",\n",
    "    source_type=\"quasars\",\n",
    "    kwargs_deflector_cut=kwargs_deflector_cut,\n",
    "    kwargs_source_cut=kwargs_source_cut,\n",
    "    kwargs_mass2light=None,\n",
    "    skypy_config=None,\n",
    "    source_sky_area=source_sky_area,\n",
    "    deflector_sky_area=deflector_sky_area,\n",
    "    sky_area=full_sky_area,\n",
    "    cosmo=cosmo,\n",
    ")"
   ]
  },
  {
   "cell_type": "code",
   "execution_count": null,
   "metadata": {},
   "outputs": [],
   "source": [
    "sample_source=quasar_lens_pop._sources._point_source_select"
   ]
  },
  {
   "cell_type": "code",
   "execution_count": null,
   "metadata": {},
   "outputs": [],
   "source": [
    "quasar_lens_pop.deflector_number, quasar_lens_pop.source_number"
   ]
  },
  {
   "cell_type": "markdown",
   "metadata": {},
   "source": [
    "## Create a source population for full sky area (this is just for plotting purpose)"
   ]
  },
  {
   "cell_type": "code",
   "execution_count": null,
   "metadata": {},
   "outputs": [],
   "source": [
    "index=np.random.randint(0, len(sample_source), size=quasar_lens_pop.source_number,\n",
    "                         dtype=int)"
   ]
  },
  {
   "cell_type": "code",
   "execution_count": null,
   "metadata": {},
   "outputs": [],
   "source": [
    "total_source=Table({\n",
    "    'z': [], 'M': [], 'ps_mag_i': []\n",
    "})\n",
    "for i in index:\n",
    "    total_source.add_row(sample_source[i])"
   ]
  },
  {
   "cell_type": "markdown",
   "metadata": {},
   "source": [
    "## Draw lenses"
   ]
  },
  {
   "cell_type": "code",
   "execution_count": null,
   "metadata": {},
   "outputs": [],
   "source": [
    "kwargs_lens_cuts = {}\n",
    "# drawing population\n",
    "quasar_lens_population = quasar_lens_pop.draw_population(speed_factor=1000,\n",
    "    kwargs_lens_cuts=kwargs_lens_cuts)"
   ]
  },
  {
   "cell_type": "markdown",
   "metadata": {},
   "source": [
    "## Extract necessary quantities of each lens"
   ]
  },
  {
   "cell_type": "code",
   "execution_count": null,
   "metadata": {},
   "outputs": [],
   "source": [
    "print(\"Number of lenses:\", len(quasar_lens_population))\n",
    "\n",
    "lens_samples2 = []\n",
    "labels = [\n",
    "    r\"$\\sigma_v$\",\n",
    "    r\"$\\log(M_{*})$\",\n",
    "    r\"$\\theta_E$\",\n",
    "    r\"$z_{\\rm l}$\",\n",
    "    r\"$z_{\\rm s}$\",\n",
    "    r\"$m_{\\rm source}$\",\n",
    "    r\"$m_{\\rm lens}$\",\n",
    "]\n",
    "source_z=[]\n",
    "deflector_z=[]\n",
    "sigma_v=[]\n",
    "m_s=[]\n",
    "for ps_lens in quasar_lens_population:\n",
    "    source_mag = min(ps_lens.point_source_magnitude(band=\"i\", lensed=True))\n",
    "    vel_disp = ps_lens.deflector_velocity_dispersion()\n",
    "    m_star = ps_lens.deflector_stellar_mass()\n",
    "    theta_e = ps_lens.einstein_radius\n",
    "    zl = ps_lens.deflector_redshift\n",
    "    zs = ps_lens.source_redshift\n",
    "    deflector_mag = ps_lens.deflector_magnitude(band=\"i\")\n",
    "    source_z.append(zs)\n",
    "    deflector_z.append(zl)\n",
    "    sigma_v.append(vel_disp)\n",
    "    m_s.append(source_mag)\n",
    "    lens_samples2.append(\n",
    "        [vel_disp, np.log10(m_star), theta_e, zl, zs, source_mag, deflector_mag]\n",
    "    )"
   ]
  },
  {
   "cell_type": "markdown",
   "metadata": {},
   "source": [
    "## Plot lens quantities"
   ]
  },
  {
   "cell_type": "code",
   "execution_count": null,
   "metadata": {},
   "outputs": [],
   "source": [
    "hist2dkwargs = {\n",
    "    \"plot_density\": False,\n",
    "    \"plot_contours\": False,\n",
    "    \"plot_datapoints\": True,\n",
    "    \"color\": \"b\",\n",
    "    \"data_kwargs\": {\"ms\": 5},\n",
    "}\n",
    "corner.corner(np.array(lens_samples2), labels=labels, **hist2dkwargs)\n",
    "plt.show()"
   ]
  },
  {
   "cell_type": "markdown",
   "metadata": {},
   "source": [
    "## Apply some cuts"
   ]
  },
  {
   "cell_type": "code",
   "execution_count": null,
   "metadata": {},
   "outputs": [],
   "source": [
    "source_cut=[]\n",
    "deflector_cut=[]\n",
    "for i in range(len(source_z)):\n",
    "    if m_s[i] <=24.9:\n",
    "        source_cut.append(source_z[i])\n",
    "        deflector_cut.append(deflector_z[i])"
   ]
  },
  {
   "cell_type": "code",
   "execution_count": null,
   "metadata": {},
   "outputs": [],
   "source": [
    "len(source_cut)"
   ]
  },
  {
   "cell_type": "code",
   "execution_count": null,
   "metadata": {},
   "outputs": [],
   "source": [
    "unlensed_source_cut=[]\n",
    "for i in range(len(total_source)):\n",
    "    if total_source[\"ps_mag_i\"][i] <=24.9:\n",
    "        unlensed_source_cut.append(total_source[\"z\"][i])"
   ]
  },
  {
   "cell_type": "markdown",
   "metadata": {},
   "source": [
    "## Plot lensed source, unlensed source, and deflector distribution."
   ]
  },
  {
   "cell_type": "code",
   "execution_count": null,
   "metadata": {},
   "outputs": [],
   "source": [
    "# Compute the KDE\n",
    "kde_source = gaussian_kde(source_cut)\n",
    "x_vals_source = np.linspace(0, 5, 1000)\n",
    "kde_vals_source = kde_source(x_vals_source)\n",
    "kde_deflector = gaussian_kde(deflector_cut)\n",
    "x_vals_deflector = np.linspace(0, 5, 1000)\n",
    "kde_vals_deflector = kde_deflector(x_vals_deflector)\n",
    "\n",
    "kde_unlensed_supernovae = gaussian_kde(unlensed_source_cut, bw_method=0.3)\n",
    "x_vals_unlensed_supernovae = np.linspace(0, 5, 1000)\n",
    "kde_vals_unlensed_supernovae = kde_unlensed_supernovae(x_vals_unlensed_supernovae)\n",
    "\n",
    "# Plot the KDE\n",
    "plt.figure(figsize=(10, 6))\n",
    "plt.plot(x_vals_source, kde_vals_source, color='blue', lw=2, zorder=2, label=r\"Lensed quasars\")\n",
    "plt.fill_between(x_vals_source, kde_vals_source, alpha=0.5, zorder=2)\n",
    "plt.plot(x_vals_deflector, kde_vals_deflector, color='red', lw=2, zorder=1, label=r\"Deflector galaxies\")\n",
    "plt.fill_between(x_vals_deflector, kde_vals_deflector,color=\"red\", alpha=0.5, zorder=1)\n",
    "plt.plot(x_vals_unlensed_supernovae, kde_vals_unlensed_supernovae, ls=\"--\", color='black', \n",
    "         lw=2, zorder=1, label=r\"Unlensed quasars\")\n",
    "#plt.title('Probability Distribution of Redshift')\n",
    "plt.xlabel('Redshift', fontsize=15)\n",
    "plt.ylabel('Probability density', fontsize=15)\n",
    "plt.xlim(0, 5)\n",
    "plt.ylim(0,1.25)\n",
    "plt.xticks(fontsize=15)\n",
    "plt.yticks(fontsize=15)\n",
    "plt.legend(fontsize=15)\n",
    "plt.show()"
   ]
  },
  {
   "cell_type": "code",
   "execution_count": null,
   "metadata": {},
   "outputs": [],
   "source": []
  }
 ],
 "metadata": {
  "kernelspec": {
   "display_name": "base",
   "language": "python",
   "name": "python3"
  },
  "language_info": {
   "codemirror_mode": {
    "name": "ipython",
    "version": 3
   },
   "file_extension": ".py",
   "mimetype": "text/x-python",
   "name": "python",
   "nbconvert_exporter": "python",
   "pygments_lexer": "ipython3",
   "version": "3.9.7"
  }
 },
 "nbformat": 4,
 "nbformat_minor": 2
}
