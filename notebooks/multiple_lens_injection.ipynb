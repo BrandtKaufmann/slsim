{
 "cells": [
  {
   "cell_type": "code",
   "execution_count": 102,
   "id": "189d8ff5",
   "metadata": {
    "execution": {
     "iopub.execute_input": "2023-09-11T20:16:30.947422Z",
     "iopub.status.busy": "2023-09-11T20:16:30.946492Z",
     "iopub.status.idle": "2023-09-11T20:16:30.951261Z",
     "shell.execute_reply": "2023-09-11T20:16:30.950602Z",
     "shell.execute_reply.started": "2023-09-11T20:16:30.947393Z"
    },
    "tags": []
   },
   "outputs": [],
   "source": [
    "import sys\n",
    "from astropy.cosmology import FlatLambdaCDM\n",
    "from astropy.units import Quantity\n",
    "from sim_pipeline.galaxy_galaxy_lens_pop import GalaxyGalaxyLensPop\n",
    "import lsst.daf.butler as dafButler\n",
    "from sim_pipeline import lsst_science_pipeline\n",
    "from sim_pipeline.image_simulation import rgb_image_from_image_list\n",
    "from sim_pipeline.Util import param_util"
   ]
  },
  {
   "cell_type": "markdown",
   "id": "2f164b6d",
   "metadata": {},
   "source": [
    "## Lens injection in multiple DC2 cutout images"
   ]
  },
  {
   "cell_type": "markdown",
   "id": "027203f9-6553-4367-a2ed-f0941b77d2a1",
   "metadata": {},
   "source": [
    "In this notebook, we will show how one can inject simulated lenses to multiple DC2 cutout images and\n",
    "\n",
    "create a catalog of strong lense. and create a catalog of strong lense."
   ]
  },
  {
   "cell_type": "markdown",
   "id": "a0a7eae2-ba50-40e1-bdd4-d2e7b5d3e6fd",
   "metadata": {},
   "source": [
    "For this, we should follow following steps:\n",
    "1. Create a lens population using sim-pipeline\n",
    "2. Generate random ra and dec using random_ra_dec function in RSP module\n",
    "3. Then, finally one can should call multiple_lens_injection function in RSP module"
   ]
  },
  {
   "cell_type": "markdown",
   "id": "771e867f-f9d7-4c76-aa91-ddd8f632e11c",
   "metadata": {},
   "source": [
    "## Generate Galaxy-Galaxy Lens Population"
   ]
  },
  {
   "cell_type": "code",
   "execution_count": 360,
   "id": "fa56bba0-3c25-4f89-baf9-2cf589a6a9ae",
   "metadata": {
    "execution": {
     "iopub.execute_input": "2023-09-11T21:41:33.297845Z",
     "iopub.status.busy": "2023-09-11T21:41:33.296693Z",
     "iopub.status.idle": "2023-09-11T21:42:05.047841Z",
     "shell.execute_reply": "2023-09-11T21:42:05.046920Z",
     "shell.execute_reply.started": "2023-09-11T21:41:33.297805Z"
    },
    "tags": []
   },
   "outputs": [],
   "source": [
    "# define a cosmology\n",
    "cosmo = FlatLambdaCDM(H0=70, Om0=0.3)\n",
    "\n",
    "# define a sky area\n",
    "sky_area = Quantity(value=0.1, unit=\"deg2\")\n",
    "\n",
    "# define limits in the intrinsic deflector and source population (in addition to the skypy config\n",
    "# file)\n",
    "kwargs_deflector_cut = {\"band\": \"g\", \"band_max\": 22, \"z_min\": 0.01, \"z_max\": 2.5}\n",
    "kwargs_source_cut = {\"band\": \"g\", \"band_max\": 22, \"z_min\": 0.1, \"z_max\": 5.0}\n",
    "\n",
    "# run skypy pipeline and make galaxy-galaxy population class using GalaxyGalaxyLensPop\n",
    "gg_lens_pop = GalaxyGalaxyLensPop(\n",
    "    deflector_type=\"all-galaxies\",\n",
    "    source_type=\"galaxies\",\n",
    "    kwargs_deflector_cut=kwargs_deflector_cut,\n",
    "    kwargs_source_cut=kwargs_source_cut,\n",
    "    kwargs_mass2light=None,\n",
    "    skypy_config=None,\n",
    "    sky_area=sky_area,\n",
    "    cosmo=cosmo,\n",
    ")"
   ]
  },
  {
   "cell_type": "markdown",
   "id": "0c2cd6cf-3065-4f0a-bb5b-8aa0bb0dac0e",
   "metadata": {
    "execution": {
     "iopub.execute_input": "2023-08-01T17:59:04.135584Z",
     "iopub.status.busy": "2023-08-01T17:59:04.134551Z",
     "iopub.status.idle": "2023-08-01T17:59:04.138486Z",
     "shell.execute_reply": "2023-08-01T17:59:04.137842Z",
     "shell.execute_reply.started": "2023-08-01T17:59:04.135552Z"
    },
    "tags": []
   },
   "source": [
    "## Initiate Butler\n",
    "Butler is necessary to access and process DC2 data. So, one needs to initiate it. To initiate butler,\n",
    "\n",
    "one needs to specify data configuration and data collection. Here we configure Rubin Observatory’s \n",
    "\n",
    "Data Preview 0.2 (dp02) . Data Preview 0 (dp0) is the first of three data previews during the period\n",
    "\n",
    "leading up to the start of Rubin Observatory Operations. With the new release of dp0 data, one can \n",
    "\n",
    "use the new version in the future.Butler is necessary to access and process DC2 data. So, one needs \n",
    "\n",
    "to initiate it. To initiate butler, one needs to specify data configuration and data collection. \n",
    "\n",
    "Here we configure Rubin Observatory’s Data Preview 0.2 (dp02) . Data Preview 0 (dp0) is the first of \n",
    "\n",
    "three data previews during the period leading up to the start of Rubin Observatory Operations. With \n",
    "\n",
    "the new release of dp0 data, one can use the new version in the future."
   ]
  },
  {
   "cell_type": "code",
   "execution_count": 338,
   "id": "e3949b8c-f611-4c47-8a64-f9c14150b8b5",
   "metadata": {
    "execution": {
     "iopub.execute_input": "2023-09-11T21:32:28.853045Z",
     "iopub.status.busy": "2023-09-11T21:32:28.852628Z",
     "iopub.status.idle": "2023-09-11T21:32:31.180871Z",
     "shell.execute_reply": "2023-09-11T21:32:31.180166Z",
     "shell.execute_reply.started": "2023-09-11T21:32:28.853018Z"
    },
    "tags": []
   },
   "outputs": [],
   "source": [
    "config = \"dp02\"\n",
    "collection = \"2.2i/runs/DP0.2\"\n",
    "butler = dafButler.Butler(config, collections=collection)\n",
    "skymap = butler.get(\"skyMap\")"
   ]
  },
  {
   "cell_type": "markdown",
   "id": "82086a3a-0b45-4d3a-b399-d230d6faefb3",
   "metadata": {},
   "source": [
    "## Import lsst_science_pipeline module\n",
    "This module can be used to do all the operation necessary for the lens injection in DC2 data.\n",
    "We will choose \n",
    "\n",
    "100 random ra, dec pair in the DC2 data and we inject random gg lenses in these ra, dec position. \n",
    "\n",
    "Injected_lens_catalog contains following images and information,\n"
   ]
  },
  {
   "cell_type": "markdown",
   "id": "c4011827",
   "metadata": {},
   "source": [
    "1. Lens to be injected in r-band.\n",
    "2. Corresponding DC2 cutout image in r-band.\n",
    "3. r, g, and i band DC2 cutout images with corresponding injected lenes.\n",
    "4. Center of the DC2 cutout images where lenses have been injected."
   ]
  },
  {
   "cell_type": "markdown",
   "id": "bf784f0a",
   "metadata": {},
   "source": [
    "lsst_science_pipeline module is imported at the top"
   ]
  },
  {
   "cell_type": "code",
   "execution_count": null,
   "id": "139df30e-bae2-48da-8da7-ee335a2891b1",
   "metadata": {
    "execution": {
     "iopub.execute_input": "2023-08-02T01:53:32.423724Z",
     "iopub.status.busy": "2023-08-02T01:53:32.422874Z",
     "iopub.status.idle": "2023-08-02T01:53:32.427068Z",
     "shell.execute_reply": "2023-08-02T01:53:32.426468Z",
     "shell.execute_reply.started": "2023-08-02T01:53:32.423685Z"
    },
    "tags": []
   },
   "outputs": [],
   "source": [
    "##provide minimum and maximum limits for ra and dec. Also, specify how many ra, dec pair you want.\n",
    "ra, dec = param_util.random_ra_dec(55, 70, -43, -30, 100)"
   ]
  },
  {
   "cell_type": "code",
   "execution_count": null,
   "id": "05e0e3e4-19d4-40e3-850a-67db60d08440",
   "metadata": {
    "execution": {
     "iopub.execute_input": "2023-08-02T01:53:37.938505Z",
     "iopub.status.busy": "2023-08-02T01:53:37.937684Z",
     "iopub.status.idle": "2023-08-02T02:07:23.471648Z",
     "shell.execute_reply": "2023-08-02T02:07:23.470845Z",
     "shell.execute_reply.started": "2023-08-02T01:53:37.938471Z"
    },
    "tags": []
   },
   "outputs": [],
   "source": [
    "## specify pixel number and pixel scale of the images. Here we have chosen 64 and 0.2 respectively.\n",
    "## We should choose pixel scale = 0.2 to match the pixel scale scale of DC2 data.\n",
    "## For this function one lens_cut. If not provided, default option is None.\n",
    "lens_cut = {\n",
    "    \"min_image_separation\": 0.8,\n",
    "    \"max_image_separation\": 10,\n",
    "    \"mag_arc_limit\": {\"g\": 23, \"r\": 23, \"i\": 23},\n",
    "}\n",
    "injected_lens_catalog = lsst_science_pipeline.multiple_lens_injection(\n",
    "    gg_lens_pop, 64, 0.2, ra, dec, butler, lens_cut=lens_cut, flux=None\n",
    ")"
   ]
  },
  {
   "cell_type": "code",
   "execution_count": null,
   "id": "8e5d2fa1-5109-4a9f-9b1e-122fe45cfc23",
   "metadata": {
    "execution": {
     "iopub.execute_input": "2023-08-02T02:07:30.691443Z",
     "iopub.status.busy": "2023-08-02T02:07:30.690645Z",
     "iopub.status.idle": "2023-08-02T02:07:30.698773Z",
     "shell.execute_reply": "2023-08-02T02:07:30.698044Z",
     "shell.execute_reply.started": "2023-08-02T02:07:30.691410Z"
    },
    "tags": []
   },
   "outputs": [],
   "source": [
    "## This line should display an astropy table containg lens image,dp0 cutout_image, injected_lens\n",
    "## in r, g, and i band and  center of the dp0 cutout images.\n",
    "injected_lens_catalog"
   ]
  },
  {
   "cell_type": "markdown",
   "id": "418d4f44-3085-47e1-8aa1-4dbe980cd7da",
   "metadata": {},
   "source": [
    "## Fast injection\n",
    "The function multiple_lens_injection() is capable of injecting multiple lenses to the multiple dp0 cutout images. \n",
    "\n",
    "This function injects one lens per tract/patch ID. So, for each lens, it needs to query dp0 data. The time taken\n",
    "\n",
    "by the lens injection process is mostly contributed by the dp0 data query. Therefore, it takes significantly \n",
    "\n",
    "large time to inject a given number of lenses to the dp0 cutouts. So, one can reduce the lens injection time by \n",
    "\n",
    "drawing multiple cutout images from the same tract/patch ID. This can be done by using the function \n",
    "\n",
    "multiple_lens_injection_fast() (see documentation for more detailed explanation)."
   ]
  },
  {
   "cell_type": "code",
   "execution_count": 398,
   "id": "e71a8977-9496-444a-80bb-e255be0739c7",
   "metadata": {
    "execution": {
     "iopub.execute_input": "2023-09-11T21:52:49.068466Z",
     "iopub.status.busy": "2023-09-11T21:52:49.068075Z",
     "iopub.status.idle": "2023-09-11T21:55:24.522842Z",
     "shell.execute_reply": "2023-09-11T21:55:24.521993Z",
     "shell.execute_reply.started": "2023-09-11T21:52:49.068439Z"
    },
    "tags": []
   },
   "outputs": [
    {
     "data": {
      "text/html": [
       "<div><i>Table length=100</i>\n",
       "<table id=\"table139630664205360\" class=\"table-striped table-bordered table-condensed\">\n",
       "<thead><tr><th>lens</th><th>cutout_image</th><th>injected_lens_r</th><th>injected_lens_g</th><th>injected_lens_i</th><th>cutout_center</th></tr></thead>\n",
       "<thead><tr><th>float64[64,64]</th><th>float32[64,64]</th><th>float64[64,64]</th><th>float64[64,64]</th><th>float64[64,64]</th><th>float64[2]</th></tr></thead>\n",
       "<tr><td>0.0008408614133014747 .. 0.0008329829571302478</td><td>0.038425904 .. -0.006250401</td><td>0.03926676518064881 .. -0.005417418070370382</td><td>0.002136620950730072 .. -0.004986935890550969</td><td>0.08871009795571243 .. 0.011381089581732982</td><td>66.78009171924977 .. -31.487782482169262</td></tr>\n",
       "<tr><td>1.5373266702353727e-07 .. 1.0798089602461966e-07</td><td>0.015752502 .. 0.0019242468</td><td>0.01575265551842218 .. 0.0019243547633329915</td><td>-0.05643208403675516 .. -0.035874947688820345</td><td>-0.07009957596755666 .. -0.020158580499916236</td><td>66.97548699657962 .. -31.634342894823696</td></tr>\n",
       "<tr><td>0.00014509201456941456 .. 0.00015416431336303694</td><td>-0.007368723 .. 0.0056893905</td><td>-0.007223630915981161 .. 0.005843554782705507</td><td>-0.004633541585210807 .. 0.008588253324029444</td><td>-0.042074711882695334 .. -0.015601672479091949</td><td>66.91119104734425 .. -31.586887423780006</td></tr>\n",
       "<tr><td>0.0008258220173074666 .. 0.009317494034665835</td><td>0.013019378 .. 0.06584503</td><td>0.013845200314338392 .. 0.07516252160062195</td><td>0.042244134850374 .. -0.029827240165332253</td><td>0.06109153762549939 .. 0.14015457204530896</td><td>66.89457365922823 .. -31.506279075428807</td></tr>\n",
       "<tr><td>0.00011665589441962887 .. 0.00015686122403702277</td><td>0.030289287 .. -0.02834657</td><td>0.030405942641994435 .. -0.028189708984631686</td><td>0.012568021895392386 .. -0.0013710034470890949</td><td>-0.0031880864418154142 .. 0.0034368882197653673</td><td>66.93181854790558 .. -31.567921880457792</td></tr>\n",
       "<tr><td>8.008062182509462e-06 .. 2.535112805616968e-07</td><td>0.0031720449 .. 0.020464003</td><td>0.0031800529372827645 .. 0.02046425659737065</td><td>-0.006283596143732369 .. 0.024285029778619068</td><td>-0.007093498811447564 .. -0.04392432109946021</td><td>66.94706664357426 .. -31.469332139635384</td></tr>\n",
       "<tr><td>6.052561545601132e-06 .. 5.531970156680277e-07</td><td>0.03598408 .. -0.037568115</td><td>0.03599013284637951 .. -0.03756756150091753</td><td>0.02224426630991971 .. 0.008608680912912822</td><td>0.03037742694135665 .. -0.10356135646102951</td><td>66.90813297207318 .. -31.463253979532805</td></tr>\n",
       "<tr><td>0.14957270507366352 .. 0.13490983112618804</td><td>-0.009893581 .. -0.021916162</td><td>0.13967912380249195 .. 0.11299366890356422</td><td>0.09252293777176447 .. 0.08452485445668254</td><td>0.17385288192382276 .. 0.11772859176071648</td><td>66.82778291168381 .. -31.456409185137883</td></tr>\n",
       "<tr><td>9.020006919852053e-08 .. 2.28813461122801e-07</td><td>-0.031901844 .. -0.036051046</td><td>-0.03190175364577507 .. -0.03605081728977794</td><td>0.0044721274694486 .. -0.024911790513184054</td><td>0.03918861761863495 .. 0.06926136673677269</td><td>66.9534988162672 .. -31.6133285383707</td></tr>\n",
       "<tr><td>4.209379232558014e-05 .. 0.00010862711688820054</td><td>-0.05618017 .. 0.053662073</td><td>-0.05613807787620393 .. 0.053770699984043276</td><td>0.01348238327754391 .. -0.005654778137959716</td><td>0.005785529178378806 .. 0.0354034584373686</td><td>66.75668747442579 .. -31.63772708024987</td></tr>\n",
       "<tr><td>...</td><td>...</td><td>...</td><td>...</td><td>...</td><td>...</td></tr>\n",
       "<tr><td>0.001391778331087886 .. 0.0016791576310130965</td><td>-0.016174084 .. 0.04140786</td><td>-0.01478230524451846 .. 0.04308701844653815</td><td>0.02448975046837692 .. -0.006088997991459451</td><td>-0.04301824377722443 .. 0.12812168266179827</td><td>59.47089732288817 .. -39.252055344935656</td></tr>\n",
       "<tr><td>2.0291342446677324e-05 .. 1.6261073012939498e-06</td><td>-0.016501373 .. 0.026792714</td><td>-0.01648108133762134 .. 0.026794340479578554</td><td>0.029591751721557973 .. 0.06317602239797833</td><td>-0.07835894229596822 .. -0.06608808019058951</td><td>59.25471879479512 .. -39.269248991894436</td></tr>\n",
       "<tr><td>2.288155415142157e-09 .. 3.5704434287603393e-10</td><td>-0.04153295 .. -0.0023082346</td><td>-0.041532946325011394 .. -0.0023082342153662406</td><td>-0.024364619358047748 .. -0.03352035194468955</td><td>0.038079308869553664 .. -0.006148718378219901</td><td>59.31928965546675 .. -39.17367374358289</td></tr>\n",
       "<tr><td>7.341941755945047e-09 .. 1.1170826435917547e-07</td><td>0.0489649 .. -0.014850275</td><td>0.048964906375249785 .. -0.014850162951428882</td><td>-0.037777390388530514 .. -0.022411026961871687</td><td>-0.06035704784660501 .. -0.04142983566141437</td><td>59.385608855229734 .. -39.13589079463671</td></tr>\n",
       "<tr><td>0.00040727959069184003 .. 0.0004170146588384459</td><td>-0.007514419 .. -0.024705589</td><td>-0.007107139443431581 .. -0.02428857415875799</td><td>0.005985761187546543 .. -0.0006822971109150632</td><td>-0.05476212269092902 .. 0.02751634484288083</td><td>59.274795468872796 .. -39.17604632766562</td></tr>\n",
       "<tr><td>4.568181972489094e-07 .. 4.5376463525537147e-07</td><td>-0.027393483 .. 0.39377812</td><td>-0.027393025807287218 .. 0.3937785692755758</td><td>-0.033724340862323274 .. 0.08553891336508222</td><td>-0.037795927235573096 .. 1.0012147521772266</td><td>59.39167592420039 .. -39.13165101520023</td></tr>\n",
       "<tr><td>6.0577569056766145e-05 .. 0.001683008226935942</td><td>-0.07311808 .. -0.024354579</td><td>-0.07305750560994027 .. -0.022671570700223367</td><td>0.03264836436538062 .. -0.0031631193031416297</td><td>0.017326336535629244 .. -0.05940365335585004</td><td>59.43238084203119 .. -39.24057747085838</td></tr>\n",
       "<tr><td>1.3253463638195073e-06 .. 2.0381874741119688e-06</td><td>0.0275197 .. 0.025555031</td><td>0.027521024532450474 .. 0.025557069561570982</td><td>-0.04755177170284486 .. -0.05454488109286361</td><td>0.03319754426448408 .. -0.01725499484015569</td><td>59.418457376985444 .. -39.22556712094787</td></tr>\n",
       "<tr><td>2.145377604260588e-05 .. 2.9526666915982713e-05</td><td>0.0036103032 .. -0.03576793</td><td>0.003631756935845758 .. -0.03573840482422057</td><td>-0.004886379785315219 .. 0.010413869081461297</td><td>0.015620329538294862 .. 0.00325277504647843</td><td>59.31598460109846 .. -39.1340712116623</td></tr>\n",
       "<tr><td>7.4303875950421094e-06 .. 6.545377789166432e-06</td><td>0.1595412 .. -0.012905052</td><td>0.15954863495931898 .. -0.012898506553949687</td><td>0.05849859742911747 .. -0.017980136666643307</td><td>0.18450823838105448 .. 0.10111442165085328</td><td>59.44455257866286 .. -39.14826091998106</td></tr>\n",
       "</table></div>"
      ],
      "text/plain": [
       "<Table length=100>\n",
       "                      lens                       ...\n",
       "                 float64[64,64]                  ...\n",
       "------------------------------------------------ ...\n",
       "  0.0008408614133014747 .. 0.0008329829571302478 ...\n",
       "1.5373266702353727e-07 .. 1.0798089602461966e-07 ...\n",
       "0.00014509201456941456 .. 0.00015416431336303694 ...\n",
       "   0.0008258220173074666 .. 0.009317494034665835 ...\n",
       "0.00011665589441962887 .. 0.00015686122403702277 ...\n",
       "  8.008062182509462e-06 .. 2.535112805616968e-07 ...\n",
       "  6.052561545601132e-06 .. 5.531970156680277e-07 ...\n",
       "      0.14957270507366352 .. 0.13490983112618804 ...\n",
       "   9.020006919852053e-08 .. 2.28813461122801e-07 ...\n",
       " 4.209379232558014e-05 .. 0.00010862711688820054 ...\n",
       "                                             ... ...\n",
       "   0.001391778331087886 .. 0.0016791576310130965 ...\n",
       "2.0291342446677324e-05 .. 1.6261073012939498e-06 ...\n",
       " 2.288155415142157e-09 .. 3.5704434287603393e-10 ...\n",
       " 7.341941755945047e-09 .. 1.1170826435917547e-07 ...\n",
       " 0.00040727959069184003 .. 0.0004170146588384459 ...\n",
       " 4.568181972489094e-07 .. 4.5376463525537147e-07 ...\n",
       "  6.0577569056766145e-05 .. 0.001683008226935942 ...\n",
       "1.3253463638195073e-06 .. 2.0381874741119688e-06 ...\n",
       " 2.145377604260588e-05 .. 2.9526666915982713e-05 ...\n",
       " 7.4303875950421094e-06 .. 6.545377789166432e-06 ..."
      ]
     },
     "execution_count": 398,
     "metadata": {},
     "output_type": "execute_result"
    }
   ],
   "source": [
    "## This line should display an astropy table containg lens image,dp0 cutout_image, injected_lens\n",
    "## in r, g, and i band and  center of the dp0 cutout images\n",
    "kwargs_lens_cut = {\n",
    "    \"min_image_separation\": 0.8,\n",
    "    \"max_image_separation\": 8,\n",
    "    \"mag_arc_limit\": {\"g\": 23, \"r\": 23, \"i\": 23},\n",
    "}\n",
    "ra_2, dec_2 = param_util.random_ra_dec(55, 70, -43, -30, 10)\n",
    "injected_lens_catalog_2 = lsst_science_pipeline.multiple_lens_injection_fast(\n",
    "    gg_lens_pop, 64, 0.2, butler, ra_2, dec_2, 10, kwargs_lens_cut, flux=None\n",
    ")\n",
    "injected_lens_catalog_2"
   ]
  }
 ],
 "metadata": {
  "kernelspec": {
   "display_name": "LSST",
   "language": "python",
   "name": "lsst"
  },
  "language_info": {
   "codemirror_mode": {
    "name": "ipython",
    "version": 3
   },
   "file_extension": ".py",
   "mimetype": "text/x-python",
   "name": "python",
   "nbconvert_exporter": "python",
   "pygments_lexer": "ipython3",
   "version": "3.11.4"
  }
 },
 "nbformat": 4,
 "nbformat_minor": 5
}
