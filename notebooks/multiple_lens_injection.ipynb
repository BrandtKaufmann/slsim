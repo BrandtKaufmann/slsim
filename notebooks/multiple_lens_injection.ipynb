{
 "cells": [
  {
   "cell_type": "markdown",
   "id": "07201440-7b1f-4c4e-be23-8c76a5be784a",
   "metadata": {},
   "source": [
    "## Lens injection in multiple DC2 cutout images"
   ]
  },
  {
   "cell_type": "markdown",
   "id": "027203f9-6553-4367-a2ed-f0941b77d2a1",
   "metadata": {},
   "source": [
    "In this notebook, we will show how one can inject simulated lenses to multiple DC2 cutout images and create a catalog of strong lense."
   ]
  },
  {
   "cell_type": "markdown",
   "id": "a0a7eae2-ba50-40e1-bdd4-d2e7b5d3e6fd",
   "metadata": {},
   "source": [
    "For this, we should follow following steps:\n",
    "1. Create a lens population using sim-pipeline\n",
    "2. Generate random ra and dec using random_ra_dec function in RSP module\n",
    "3. Then, finally one can should call multiple_lens_injection function in RSP module"
   ]
  },
  {
   "cell_type": "code",
   "execution_count": 1,
   "id": "56178773-0ab9-4320-acdd-561fe8ae1350",
   "metadata": {
    "execution": {
     "iopub.execute_input": "2023-08-01T17:55:25.790121Z",
     "iopub.status.busy": "2023-08-01T17:55:25.789187Z",
     "iopub.status.idle": "2023-08-01T17:55:26.254580Z",
     "shell.execute_reply": "2023-08-01T17:55:26.253872Z",
     "shell.execute_reply.started": "2023-08-01T17:55:25.790083Z"
    },
    "tags": []
   },
   "outputs": [],
   "source": [
    "import matplotlib.pyplot as plt\n",
    "import numpy as np\n",
    "import sys\n",
    "sys.path.insert(0, '/home/nkhadka/notebooks/mytutorials/sim-pipeline/')"
   ]
  },
  {
   "cell_type": "markdown",
   "id": "771e867f-f9d7-4c76-aa91-ddd8f632e11c",
   "metadata": {},
   "source": [
    "## Generate Galaxy-Galaxy Lens Population"
   ]
  },
  {
   "cell_type": "code",
   "execution_count": 2,
   "id": "fa56bba0-3c25-4f89-baf9-2cf589a6a9ae",
   "metadata": {
    "execution": {
     "iopub.execute_input": "2023-08-01T17:57:10.495002Z",
     "iopub.status.busy": "2023-08-01T17:57:10.494118Z",
     "iopub.status.idle": "2023-08-01T17:57:43.202966Z",
     "shell.execute_reply": "2023-08-01T17:57:43.202181Z",
     "shell.execute_reply.started": "2023-08-01T17:57:10.494968Z"
    },
    "tags": []
   },
   "outputs": [],
   "source": [
    "# define a cosmology\n",
    "from astropy.cosmology import FlatLambdaCDM\n",
    "cosmo = FlatLambdaCDM(H0=70, Om0=0.3)\n",
    "\n",
    "# define a sky area\n",
    "from astropy.units import Quantity\n",
    "sky_area = Quantity(value=0.1, unit='deg2')\n",
    "\n",
    "\n",
    "# define limits in the intrinsic deflector and source population (in addition to the skypy config file)\n",
    "kwargs_deflector_cut = {'band': 'g', 'band_max':28, 'z_min': 0.01, 'z_max': 2.5}\n",
    "kwargs_source_cut = {'band': 'g', 'band_max':28, 'z_min': 0.1, 'z_max': 5.}\n",
    "\n",
    "# import GGLensPop class\n",
    "from sim_pipeline.gg_lens_pop import GGLensPop\n",
    "# run skypy pipeline and make galaxy-galaxy population class\n",
    "gg_lens_pop = GGLensPop(lens_type='all-galaxies', source_type='galaxies', \n",
    "                        kwargs_deflector_cut=kwargs_deflector_cut, kwargs_source_cut=kwargs_source_cut,\n",
    "                        kwargs_mass2light=None, skypy_config=None, sky_area=sky_area, cosmo=cosmo)"
   ]
  },
  {
   "cell_type": "markdown",
   "id": "0c2cd6cf-3065-4f0a-bb5b-8aa0bb0dac0e",
   "metadata": {
    "execution": {
     "iopub.execute_input": "2023-08-01T17:59:04.135584Z",
     "iopub.status.busy": "2023-08-01T17:59:04.134551Z",
     "iopub.status.idle": "2023-08-01T17:59:04.138486Z",
     "shell.execute_reply": "2023-08-01T17:59:04.137842Z",
     "shell.execute_reply.started": "2023-08-01T17:59:04.135552Z"
    },
    "tags": []
   },
   "source": [
    "## Initiate Butler\n",
    "Butler is necessary to access and process DC2 data. So, one needs to initiate it."
   ]
  },
  {
   "cell_type": "code",
   "execution_count": 4,
   "id": "e3949b8c-f611-4c47-8a64-f9c14150b8b5",
   "metadata": {
    "execution": {
     "iopub.execute_input": "2023-08-01T17:59:20.227021Z",
     "iopub.status.busy": "2023-08-01T17:59:20.226009Z",
     "iopub.status.idle": "2023-08-01T17:59:24.472499Z",
     "shell.execute_reply": "2023-08-01T17:59:24.471485Z",
     "shell.execute_reply.started": "2023-08-01T17:59:20.226981Z"
    },
    "tags": []
   },
   "outputs": [],
   "source": [
    "import lsst.daf.butler as dafButler\n",
    "config = \"dp02\"\n",
    "collection ='2.2i/runs/DP0.2'\n",
    "butler = dafButler.Butler(config, collections=collection)\n",
    "skymap = butler.get(\"skyMap\")"
   ]
  },
  {
   "cell_type": "markdown",
   "id": "82086a3a-0b45-4d3a-b399-d230d6faefb3",
   "metadata": {},
   "source": [
    "## Import RSP module\n",
    "This module can be used to do all the operation necessary for the lens injection in DC2 data.\n",
    "We will choose 100 random ra, dec pair in the DC2 data and we inject random gg lenses in these ra, dec position. Injected_lens_catalog contains following images and information,\n",
    "1. Lens to be injected in r-band.\n",
    "2. Corresponding DC2 cutout image in r-band.\n",
    "3. r, g, and i band DC2 cutout images with corresponding injected lenes.\n",
    "4. Center of the DC2 cutout images where lenses have been injected."
   ]
  },
  {
   "cell_type": "code",
   "execution_count": 6,
   "id": "f7576138-8694-4de9-976f-5690512d19ca",
   "metadata": {
    "execution": {
     "iopub.execute_input": "2023-08-01T18:01:57.082399Z",
     "iopub.status.busy": "2023-08-01T18:01:57.081212Z",
     "iopub.status.idle": "2023-08-01T18:01:57.656074Z",
     "shell.execute_reply": "2023-08-01T18:01:57.655100Z",
     "shell.execute_reply.started": "2023-08-01T18:01:57.082341Z"
    },
    "tags": []
   },
   "outputs": [],
   "source": [
    "from sim_pipeline import RSP"
   ]
  },
  {
   "cell_type": "code",
   "execution_count": 7,
   "id": "139df30e-bae2-48da-8da7-ee335a2891b1",
   "metadata": {
    "execution": {
     "iopub.execute_input": "2023-08-01T18:06:52.831455Z",
     "iopub.status.busy": "2023-08-01T18:06:52.830104Z",
     "iopub.status.idle": "2023-08-01T18:06:52.835498Z",
     "shell.execute_reply": "2023-08-01T18:06:52.834688Z",
     "shell.execute_reply.started": "2023-08-01T18:06:52.831409Z"
    },
    "tags": []
   },
   "outputs": [],
   "source": [
    "##provide minimum and maximum limits for ra and dec. Also, specify how many ra, dec pair you want.\n",
    "ra, dec=RSP.random_ra_dec(55, 70, -43, -30, 100)"
   ]
  },
  {
   "cell_type": "code",
   "execution_count": 8,
   "id": "05e0e3e4-19d4-40e3-850a-67db60d08440",
   "metadata": {
    "execution": {
     "iopub.execute_input": "2023-08-01T18:11:46.234542Z",
     "iopub.status.busy": "2023-08-01T18:11:46.234044Z",
     "iopub.status.idle": "2023-08-01T18:28:31.626286Z",
     "shell.execute_reply": "2023-08-01T18:28:31.625442Z",
     "shell.execute_reply.started": "2023-08-01T18:11:46.234511Z"
    },
    "tags": []
   },
   "outputs": [],
   "source": [
    "## specify pixel number and pixel scale of the images. Here we have chosen 64 and 0.2 respectively. \n",
    "##We should choose pixel scale = 0.2 to match the pixel scale scale of DC2 data.\n",
    "injected_lens_catalog=RSP.multiple_lens_injection(gg_lens_pop, ra, dec, 64, 0.2, butler, flux=None)"
   ]
  },
  {
   "cell_type": "code",
   "execution_count": 9,
   "id": "8e5d2fa1-5109-4a9f-9b1e-122fe45cfc23",
   "metadata": {
    "execution": {
     "iopub.execute_input": "2023-08-01T18:28:44.501639Z",
     "iopub.status.busy": "2023-08-01T18:28:44.500705Z",
     "iopub.status.idle": "2023-08-01T18:28:44.508316Z",
     "shell.execute_reply": "2023-08-01T18:28:44.507755Z",
     "shell.execute_reply.started": "2023-08-01T18:28:44.501600Z"
    },
    "tags": []
   },
   "outputs": [
    {
     "data": {
      "text/html": [
       "<div><i>Table length=100</i>\n",
       "<table id=\"table139639995066080\" class=\"table-striped table-bordered table-condensed\">\n",
       "<thead><tr><th>lens</th><th>cutout_image</th><th>injected_lens_r</th><th>injected_lens_g</th><th>injected_lens_i</th><th>cutout_center</th></tr></thead>\n",
       "<thead><tr><th>float32[64,64]</th><th>float32[64,64]</th><th>float32[64,64]</th><th>float32[64,64]</th><th>float32[64,64]</th><th>float64[2]</th></tr></thead>\n",
       "<tr><td>7.212907e-05 .. 3.801158e-05</td><td>0.04526387 .. 0.0012604285</td><td>0.045336 .. 0.00129844</td><td>0.012054982 .. -0.02789364</td><td>-0.02833417 .. 0.037127506</td><td>57.75274808279288 .. -33.06445760574345</td></tr>\n",
       "<tr><td>0.0 .. 0.0</td><td>0.054079402 .. -0.00026809695</td><td>0.054079402 .. -0.00026809695</td><td>-0.04303897 .. -0.0057039997</td><td>-0.025019845 .. 0.03534288</td><td>69.70483305012444 .. -30.88770895837744</td></tr>\n",
       "<tr><td>0.0 .. 0.0</td><td>0.026953297 .. 0.022407167</td><td>0.026953297 .. 0.022407167</td><td>0.0066534695 .. -0.031524204</td><td>0.02840236 .. -0.117760226</td><td>66.17442177550421 .. -42.39907037288373</td></tr>\n",
       "<tr><td>0.0 .. 0.0</td><td>-0.0334646 .. -0.043052245</td><td>-0.0334646 .. -0.043052245</td><td>0.008833369 .. -0.006079131</td><td>-0.04008431 .. -0.03130091</td><td>64.92146541322535 .. -33.2527141673532</td></tr>\n",
       "<tr><td>7.9638325e-05 .. 5.2746385e-05</td><td>-0.012805905 .. 0.032482266</td><td>-0.012726267 .. 0.032535013</td><td>0.03236037 .. -0.016172385</td><td>-0.035030346 .. -0.050459325</td><td>65.59677720838707 .. -35.51604711590282</td></tr>\n",
       "<tr><td>0.0 .. 0.0</td><td>0.014122078 .. 0.37310293</td><td>0.014122078 .. 0.37310293</td><td>0.012617236 .. 0.21369311</td><td>0.0510176 .. 0.48133945</td><td>68.06463179629851 .. -38.90265627541665</td></tr>\n",
       "<tr><td>0.0023257434 .. 0.002961688</td><td>0.101967916 .. -0.0022828756</td><td>0.10429366 .. 0.00067881244</td><td>0.015178914 .. 0.030310284</td><td>0.23011267 .. 0.053892285</td><td>59.86562854893438 .. -30.028598619972037</td></tr>\n",
       "<tr><td>0.0001430288 .. 3.6917627e-06</td><td>-0.098768175 .. -0.038902782</td><td>-0.098625146 .. -0.03889909</td><td>-0.017543046 .. -0.02733806</td><td>-0.08249867 .. -0.048880957</td><td>62.40245910971964 .. -35.20759429140013</td></tr>\n",
       "<tr><td>0.0 .. 0.0</td><td>-0.030746682 .. -0.03608451</td><td>-0.030746682 .. -0.03608451</td><td>0.035569225 .. -0.023898318</td><td>-0.028907584 .. -0.06162432</td><td>64.35777634293943 .. -41.46579216378508</td></tr>\n",
       "<tr><td>3.0424037 .. 3.564348</td><td>-0.0010610797 .. -0.007084335</td><td>3.0413427 .. 3.5572636</td><td>1.572504 .. 1.8388443</td><td>4.3016815 .. 4.909056</td><td>61.74985844508959 .. -35.58472128646474</td></tr>\n",
       "<tr><td>...</td><td>...</td><td>...</td><td>...</td><td>...</td><td>...</td></tr>\n",
       "<tr><td>0.0 .. 0.0</td><td>0.047548976 .. 0.027863475</td><td>0.047548976 .. 0.027863475</td><td>-0.043762177 .. 0.0033050508</td><td>-0.03636025 .. 0.06954226</td><td>57.83070834602668 .. -30.047839345439726</td></tr>\n",
       "<tr><td>0.00077145547 .. 0.00088440534</td><td>0.034288093 .. 0.013298688</td><td>0.03505955 .. 0.014183094</td><td>-0.03949436 .. 0.02585855</td><td>-0.10763945 .. 0.16714633</td><td>67.9868060822692 .. -40.57378129696631</td></tr>\n",
       "<tr><td>0.0 .. 0.0</td><td>0.033835717 .. 0.12932765</td><td>0.033835717 .. 0.12932765</td><td>0.00073011214 .. 0.08477057</td><td>-0.011374415 .. 0.04042233</td><td>61.997916975690806 .. -32.34591128941989</td></tr>\n",
       "<tr><td>0.0 .. 0.0</td><td>0.0013957866 .. -0.002109324</td><td>0.0013957866 .. -0.002109324</td><td>0.028333625 .. -0.019675538</td><td>0.07557795 .. -0.026617603</td><td>67.32850705889076 .. -34.76502056082445</td></tr>\n",
       "<tr><td>0.0 .. 0.0</td><td>0.1466063 .. 0.024825</td><td>0.1466063 .. 0.024825</td><td>0.11668533 .. 0.032313135</td><td>0.05981677 .. 0.009798316</td><td>69.04956451313942 .. -32.894473836436134</td></tr>\n",
       "<tr><td>0.00028385688 .. 0.00016761199</td><td>-0.011636793 .. 0.016334578</td><td>-0.011352936 .. 0.01650219</td><td>-0.0005842793 .. 0.00031875478</td><td>-0.06973264 .. -0.06814862</td><td>58.78760561376572 .. -38.765589294731505</td></tr>\n",
       "<tr><td>1.8030405e-05 .. 3.5946025e-05</td><td>-0.029428607 .. -0.0019001607</td><td>-0.029410576 .. -0.0018642147</td><td>0.044107456 .. -0.038092628</td><td>-0.024061676 .. -0.044270035</td><td>56.7301062017823 .. -42.08264517030572</td></tr>\n",
       "<tr><td>5.1733106e-05 .. 0.00015030429</td><td>0.017114803 .. 0.055244647</td><td>0.017166536 .. 0.05539495</td><td>-0.042340703 .. -0.006352349</td><td>0.0033603166 .. -0.11143864</td><td>66.21950506169301 .. -42.43368349076749</td></tr>\n",
       "<tr><td>0.0 .. 0.0</td><td>0.0077605303 .. -0.014421952</td><td>0.0077605303 .. -0.014421952</td><td>-0.016387595 .. -0.06352053</td><td>-0.031261142 .. 0.010601659</td><td>67.80793523601498 .. -42.561797164431304</td></tr>\n",
       "<tr><td>0.0 .. 0.0</td><td>0.0013318879 .. 0.0029588111</td><td>0.0013318879 .. 0.0029588111</td><td>0.025218533 .. 0.013162481</td><td>0.048916046 .. 0.060588505</td><td>60.3165447661015 .. -38.273848540594166</td></tr>\n",
       "</table></div>"
      ],
      "text/plain": [
       "<Table length=100>\n",
       "             lens              ...              cutout_center              \n",
       "        float32[64,64]         ...                float64[2]               \n",
       "------------------------------ ... ----------------------------------------\n",
       "  7.212907e-05 .. 3.801158e-05 ...  57.75274808279288 .. -33.06445760574345\n",
       "                    0.0 .. 0.0 ...  69.70483305012444 .. -30.88770895837744\n",
       "                    0.0 .. 0.0 ...  66.17442177550421 .. -42.39907037288373\n",
       "                    0.0 .. 0.0 ...   64.92146541322535 .. -33.2527141673532\n",
       "7.9638325e-05 .. 5.2746385e-05 ...  65.59677720838707 .. -35.51604711590282\n",
       "                    0.0 .. 0.0 ...  68.06463179629851 .. -38.90265627541665\n",
       "   0.0023257434 .. 0.002961688 ... 59.86562854893438 .. -30.028598619972037\n",
       " 0.0001430288 .. 3.6917627e-06 ...  62.40245910971964 .. -35.20759429140013\n",
       "                    0.0 .. 0.0 ...  64.35777634293943 .. -41.46579216378508\n",
       "         3.0424037 .. 3.564348 ...  61.74985844508959 .. -35.58472128646474\n",
       "                           ... ...                                      ...\n",
       "                    0.0 .. 0.0 ... 57.83070834602668 .. -30.047839345439726\n",
       "0.00077145547 .. 0.00088440534 ...   67.9868060822692 .. -40.57378129696631\n",
       "                    0.0 .. 0.0 ... 61.997916975690806 .. -32.34591128941989\n",
       "                    0.0 .. 0.0 ...  67.32850705889076 .. -34.76502056082445\n",
       "                    0.0 .. 0.0 ... 69.04956451313942 .. -32.894473836436134\n",
       "0.00028385688 .. 0.00016761199 ... 58.78760561376572 .. -38.765589294731505\n",
       "1.8030405e-05 .. 3.5946025e-05 ...   56.7301062017823 .. -42.08264517030572\n",
       "5.1733106e-05 .. 0.00015030429 ...  66.21950506169301 .. -42.43368349076749\n",
       "                    0.0 .. 0.0 ... 67.80793523601498 .. -42.561797164431304\n",
       "                    0.0 .. 0.0 ...  60.3165447661015 .. -38.273848540594166"
      ]
     },
     "execution_count": 9,
     "metadata": {},
     "output_type": "execute_result"
    }
   ],
   "source": [
    "injected_lens_catalog"
   ]
  },
  {
   "cell_type": "code",
   "execution_count": null,
   "id": "6f8fd99a-8b68-4d6c-b71a-bc673091287c",
   "metadata": {},
   "outputs": [],
   "source": []
  }
 ],
 "metadata": {
  "kernelspec": {
   "display_name": "LSST",
   "language": "python",
   "name": "lsst"
  },
  "language_info": {
   "codemirror_mode": {
    "name": "ipython",
    "version": 3
   },
   "file_extension": ".py",
   "mimetype": "text/x-python",
   "name": "python",
   "nbconvert_exporter": "python",
   "pygments_lexer": "ipython3",
   "version": "3.10.10"
  }
 },
 "nbformat": 4,
 "nbformat_minor": 5
}
