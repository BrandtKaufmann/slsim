{
 "cells": [
  {
   "cell_type": "markdown",
   "id": "07201440-7b1f-4c4e-be23-8c76a5be784a",
   "metadata": {},
   "source": [
    "## Lens injection in multiple DC2 cutout images"
   ]
  },
  {
   "cell_type": "markdown",
   "id": "027203f9-6553-4367-a2ed-f0941b77d2a1",
   "metadata": {},
   "source": [
    "In this notebook, we will show how one can inject simulated lenses to multiple DC2 cutout images and create a catalog of strong lense."
   ]
  },
  {
   "cell_type": "markdown",
   "id": "a0a7eae2-ba50-40e1-bdd4-d2e7b5d3e6fd",
   "metadata": {},
   "source": [
    "For this, we should follow following steps:\n",
    "1. Create a lens population using sim-pipeline\n",
    "2. Generate random ra and dec using random_ra_dec function in RSP module\n",
    "3. Then, finally one can should call multiple_lens_injection function in RSP module"
   ]
  },
  {
   "cell_type": "code",
   "execution_count": 1,
   "id": "56178773-0ab9-4320-acdd-561fe8ae1350",
   "metadata": {
    "execution": {
     "iopub.execute_input": "2023-08-02T01:52:33.368313Z",
     "iopub.status.busy": "2023-08-02T01:52:33.367908Z",
     "iopub.status.idle": "2023-08-02T01:52:33.778449Z",
     "shell.execute_reply": "2023-08-02T01:52:33.777627Z",
     "shell.execute_reply.started": "2023-08-02T01:52:33.368282Z"
    },
    "tags": []
   },
   "outputs": [],
   "source": [
    "import sys\n",
    "from astropy.cosmology import FlatLambdaCDM\n",
    "from astropy.units import Quantity\n",
    "from sim_pipeline.gg_lens_pop import GGLensPop\n",
    "import lsst.daf.butler as dafButler\n",
    "from sim_pipeline import rsp\n",
    "from sim_pipeline.Util import param_util"
   ]
  },
  {
   "cell_type": "code",
   "execution_count": null,
   "id": "596275f4",
   "metadata": {},
   "outputs": [],
   "source": [
    "sys.path.insert(0, '/home/nkhadka/notebooks/mytutorials/sim-pipeline/')"
   ]
  },
  {
   "cell_type": "markdown",
   "id": "771e867f-f9d7-4c76-aa91-ddd8f632e11c",
   "metadata": {},
   "source": [
    "## Generate Galaxy-Galaxy Lens Population"
   ]
  },
  {
   "cell_type": "code",
   "execution_count": 2,
   "id": "fa56bba0-3c25-4f89-baf9-2cf589a6a9ae",
   "metadata": {
    "execution": {
     "iopub.execute_input": "2023-08-02T01:52:36.012036Z",
     "iopub.status.busy": "2023-08-02T01:52:36.011218Z",
     "iopub.status.idle": "2023-08-02T01:53:09.314757Z",
     "shell.execute_reply": "2023-08-02T01:53:09.313896Z",
     "shell.execute_reply.started": "2023-08-02T01:52:36.012007Z"
    },
    "tags": []
   },
   "outputs": [],
   "source": [
    "# define a cosmology\n",
    "cosmo = FlatLambdaCDM(H0=70, Om0=0.3)\n",
    "\n",
    "# define a sky area\n",
    "sky_area = Quantity(value=0.1, unit='deg2')\n",
    "\n",
    "# define limits in the intrinsic deflector and source population (in addition to the skypy config file)\n",
    "kwargs_deflector_cut = {'band': 'g', 'band_max':28, 'z_min': 0.01, 'z_max': 2.5}\n",
    "kwargs_source_cut = {'band': 'g', 'band_max':28, 'z_min': 0.1, 'z_max': 5.}\n",
    "\n",
    "# run skypy pipeline and make galaxy-galaxy population class using GGLensPop\n",
    "gg_lens_pop = GGLensPop(lens_type='all-galaxies', source_type='galaxies', \n",
    "                        kwargs_deflector_cut=kwargs_deflector_cut, kwargs_source_cut=kwargs_source_cut,\n",
    "                        kwargs_mass2light=None, skypy_config=None, sky_area=sky_area, cosmo=cosmo)"
   ]
  },
  {
   "cell_type": "markdown",
   "id": "0c2cd6cf-3065-4f0a-bb5b-8aa0bb0dac0e",
   "metadata": {
    "execution": {
     "iopub.execute_input": "2023-08-01T17:59:04.135584Z",
     "iopub.status.busy": "2023-08-01T17:59:04.134551Z",
     "iopub.status.idle": "2023-08-01T17:59:04.138486Z",
     "shell.execute_reply": "2023-08-01T17:59:04.137842Z",
     "shell.execute_reply.started": "2023-08-01T17:59:04.135552Z"
    },
    "tags": []
   },
   "source": [
    "## Initiate Butler\n",
    "Butler is necessary to access and process DC2 data. So, one needs to initiate it. To initiate butler, one needs to specify data configuration and data collection."
   ]
  },
  {
   "cell_type": "code",
   "execution_count": 3,
   "id": "e3949b8c-f611-4c47-8a64-f9c14150b8b5",
   "metadata": {
    "execution": {
     "iopub.execute_input": "2023-08-02T01:53:16.049540Z",
     "iopub.status.busy": "2023-08-02T01:53:16.048710Z",
     "iopub.status.idle": "2023-08-02T01:53:19.874947Z",
     "shell.execute_reply": "2023-08-02T01:53:19.874260Z",
     "shell.execute_reply.started": "2023-08-02T01:53:16.049506Z"
    },
    "tags": []
   },
   "outputs": [],
   "source": [
    "config = \"dp02\"\n",
    "collection ='2.2i/runs/DP0.2'\n",
    "butler = dafButler.Butler(config, collections=collection)\n",
    "skymap = butler.get(\"skyMap\")"
   ]
  },
  {
   "cell_type": "markdown",
   "id": "82086a3a-0b45-4d3a-b399-d230d6faefb3",
   "metadata": {},
   "source": [
    "## Import rsp module\n",
    "This module can be used to do all the operation necessary for the lens injection in DC2 data.\n",
    "We will choose 100 random ra, dec pair in the DC2 data and we inject random gg lenses in these ra, dec position. Injected_lens_catalog contains following images and information,\n",
    "1. Lens to be injected in r-band.\n",
    "2. Corresponding DC2 cutout image in r-band.\n",
    "3. r, g, and i band DC2 cutout images with corresponding injected lenes.\n",
    "4. Center of the DC2 cutout images where lenses have been injected."
   ]
  },
  {
   "cell_type": "markdown",
   "id": "bf784f0a",
   "metadata": {},
   "source": [
    "Rsp module is imported at the top"
   ]
  },
  {
   "cell_type": "code",
   "execution_count": 5,
   "id": "139df30e-bae2-48da-8da7-ee335a2891b1",
   "metadata": {
    "execution": {
     "iopub.execute_input": "2023-08-02T01:53:32.423724Z",
     "iopub.status.busy": "2023-08-02T01:53:32.422874Z",
     "iopub.status.idle": "2023-08-02T01:53:32.427068Z",
     "shell.execute_reply": "2023-08-02T01:53:32.426468Z",
     "shell.execute_reply.started": "2023-08-02T01:53:32.423685Z"
    },
    "tags": []
   },
   "outputs": [],
   "source": [
    "##provide minimum and maximum limits for ra and dec. Also, specify how many ra, dec pair you want.\n",
    "ra, dec=param_util.random_ra_dec(55, 70, -43, -30, 100)"
   ]
  },
  {
   "cell_type": "code",
   "execution_count": 6,
   "id": "05e0e3e4-19d4-40e3-850a-67db60d08440",
   "metadata": {
    "execution": {
     "iopub.execute_input": "2023-08-02T01:53:37.938505Z",
     "iopub.status.busy": "2023-08-02T01:53:37.937684Z",
     "iopub.status.idle": "2023-08-02T02:07:23.471648Z",
     "shell.execute_reply": "2023-08-02T02:07:23.470845Z",
     "shell.execute_reply.started": "2023-08-02T01:53:37.938471Z"
    },
    "tags": []
   },
   "outputs": [],
   "source": [
    "## specify pixel number and pixel scale of the images. Here we have chosen 64 and 0.2 respectively. \n",
    "## We should choose pixel scale = 0.2 to match the pixel scale scale of DC2 data.\n",
    "## For this function one lens_cut. If not provided, default option is None.\n",
    "lens_cut = {'min_image_separation': 0.8, 'max_image_separation': 10, \n",
    "                        'mag_arc_limit': {'g': 23, 'r': 23, 'i': 23}}\n",
    "injected_lens_catalog=rsp.multiple_lens_injection(gg_lens_pop, ra, dec, 64, 0.2, butler, lens_cut=lens_cut, flux=None)"
   ]
  },
  {
   "cell_type": "code",
   "execution_count": 7,
   "id": "8e5d2fa1-5109-4a9f-9b1e-122fe45cfc23",
   "metadata": {
    "execution": {
     "iopub.execute_input": "2023-08-02T02:07:30.691443Z",
     "iopub.status.busy": "2023-08-02T02:07:30.690645Z",
     "iopub.status.idle": "2023-08-02T02:07:30.698773Z",
     "shell.execute_reply": "2023-08-02T02:07:30.698044Z",
     "shell.execute_reply.started": "2023-08-02T02:07:30.691410Z"
    },
    "tags": []
   },
   "outputs": [
    {
     "data": {
      "text/html": [
       "<div><i>Table length=100</i>\n",
       "<table id=\"table140382439940800\" class=\"table-striped table-bordered table-condensed\">\n",
       "<thead><tr><th>lens</th><th>cutout_image</th><th>injected_lens_r</th><th>injected_lens_g</th><th>injected_lens_i</th><th>cutout_center</th></tr></thead>\n",
       "<thead><tr><th>float32[64,64]</th><th>float32[64,64]</th><th>float32[64,64]</th><th>float32[64,64]</th><th>float32[64,64]</th><th>float64[2]</th></tr></thead>\n",
       "<tr><td>0.0 .. 0.0</td><td>-0.031025013 .. 0.04776547</td><td>-0.031025013 .. 0.04776547</td><td>0.035453714 .. 0.05214813</td><td>0.051779103 .. -0.029229892</td><td>60.85611332568641 .. -35.96722458736316</td></tr>\n",
       "<tr><td>0.0 .. 0.0</td><td>0.012552995 .. 0.009242649</td><td>0.012552995 .. 0.009242649</td><td>-0.003614279 .. -0.020279886</td><td>-0.024247432 .. 0.04610421</td><td>65.40440769132046 .. -41.43389549336795</td></tr>\n",
       "<tr><td>0.0 .. 0.0</td><td>0.0646337 .. -0.018245338</td><td>0.0646337 .. -0.018245338</td><td>-0.029428983 .. 0.0143132415</td><td>0.030992271 .. 0.0021171963</td><td>58.889121610697195 .. -32.4264822278856</td></tr>\n",
       "<tr><td>0.0 .. 0.0</td><td>-0.10209689 .. 0.010986028</td><td>-0.10209689 .. 0.010986028</td><td>-0.005986939 .. -0.037921615</td><td>-0.04150873 .. -0.044987265</td><td>58.148975556561105 .. -37.337433140014745</td></tr>\n",
       "<tr><td>0.0 .. 0.0</td><td>0.35131955 .. -0.020105552</td><td>0.35131955 .. -0.020105552</td><td>0.071492925 .. -0.0033082063</td><td>0.5467828 .. -0.011295935</td><td>60.53512969786194 .. -33.207681057624804</td></tr>\n",
       "<tr><td>0.0 .. 0.0</td><td>0.29451466 .. 0.039429452</td><td>0.29451466 .. 0.039429452</td><td>0.16354737 .. 0.00405959</td><td>0.24544688 .. 0.023733584</td><td>58.83722441902085 .. -36.84964800487269</td></tr>\n",
       "<tr><td>0.0 .. 0.0</td><td>-0.01410901 .. 0.064772144</td><td>-0.01410901 .. 0.064772144</td><td>-0.07242727 .. -0.0056932885</td><td>0.13690712 .. -0.047720823</td><td>68.53634984929118 .. -34.164567154229985</td></tr>\n",
       "<tr><td>0.0 .. 0.0</td><td>0.05972465 .. -0.0023960597</td><td>0.05972465 .. -0.0023960597</td><td>0.023833506 .. 0.031867053</td><td>0.026590014 .. -0.10990596</td><td>59.41785466336982 .. -37.602660880508836</td></tr>\n",
       "<tr><td>0.0 .. 0.0</td><td>0.017555153 .. -0.015944025</td><td>0.017555153 .. -0.015944025</td><td>-0.007915744 .. 0.008529122</td><td>-0.08528645 .. 0.036231413</td><td>58.396101890352185 .. -40.25136844953081</td></tr>\n",
       "<tr><td>0.0 .. 0.0</td><td>0.026702145 .. 0.015838739</td><td>0.026702145 .. 0.015838739</td><td>0.02291871 .. -0.008113984</td><td>0.010204077 .. -0.0876267</td><td>61.736626049017936 .. -33.0841604477653</td></tr>\n",
       "<tr><td>...</td><td>...</td><td>...</td><td>...</td><td>...</td><td>...</td></tr>\n",
       "<tr><td>0.0 .. 0.0</td><td>-0.055406593 .. -0.04417631</td><td>-0.055406593 .. -0.04417631</td><td>0.025428321 .. -0.029686216</td><td>-0.002428244 .. -0.04896327</td><td>61.602462532722186 .. -33.242720269766</td></tr>\n",
       "<tr><td>0.0 .. 0.0</td><td>0.049480207 .. -0.047145337</td><td>0.049480207 .. -0.047145337</td><td>-0.03360666 .. -0.0030086974</td><td>0.001081408 .. -0.0256853</td><td>62.88008358932801 .. -32.44769766555556</td></tr>\n",
       "<tr><td>0.0 .. 0.0</td><td>0.015490751 .. 0.055494953</td><td>0.015490751 .. 0.055494953</td><td>-0.03424409 .. -0.020488465</td><td>-0.017309824 .. -0.013790919</td><td>63.030289303640174 .. -30.84291021058443</td></tr>\n",
       "<tr><td>0.0 .. 0.0</td><td>0.020045511 .. 0.04187721</td><td>0.020045511 .. 0.04187721</td><td>-0.0005438635 .. -0.014528705</td><td>-0.05848562 .. 0.009949184</td><td>64.55111684730001 .. -42.156724930447965</td></tr>\n",
       "<tr><td>9.687617e-06 .. 0.0</td><td>-0.028652992 .. 0.0016533314</td><td>-0.028643304 .. 0.0016533314</td><td>-0.01095598 .. 0.0021443109</td><td>0.03732963 .. -0.07199009</td><td>57.44883031995009 .. -31.159428924687404</td></tr>\n",
       "<tr><td>2.3841858e-07 .. 2.766028e-07</td><td>0.033594195 .. 0.004471136</td><td>0.033594433 .. 0.0044714124</td><td>0.009311637 .. 0.03520984</td><td>0.053793736 .. -0.039269093</td><td>60.91904672283822 .. -33.659000013797574</td></tr>\n",
       "<tr><td>0.0 .. 0.0</td><td>-0.033108875 .. 0.020835595</td><td>-0.033108875 .. 0.020835595</td><td>0.030098341 .. -0.03190413</td><td>0.06716531 .. -0.02195563</td><td>57.83815454213028 .. -35.7930908110727</td></tr>\n",
       "<tr><td>9.4249845e-06 .. 7.2997063e-06</td><td>-0.056546405 .. 0.018105518</td><td>-0.05653698 .. 0.018112818</td><td>-0.036706652 .. 0.0068460493</td><td>-0.05319087 .. -0.031197177</td><td>55.264833122327694 .. -36.43043678436738</td></tr>\n",
       "<tr><td>0.0 .. 0.0</td><td>-0.011643466 .. 0.018648518</td><td>-0.011643466 .. 0.018648518</td><td>0.0106565105 .. -0.014696051</td><td>-0.05277096 .. -0.033571288</td><td>61.98889953812597 .. -38.79066134119112</td></tr>\n",
       "<tr><td>0.0 .. 0.0</td><td>-0.0017479805 .. -0.054602675</td><td>-0.0017479805 .. -0.054602675</td><td>-0.020973364 .. -0.026871976</td><td>0.0065880464 .. -0.027140819</td><td>61.04786849982321 .. -35.28466199657776</td></tr>\n",
       "</table></div>"
      ],
      "text/plain": [
       "<Table length=100>\n",
       "             lens              ...               cutout_center              \n",
       "        float32[64,64]         ...                 float64[2]               \n",
       "------------------------------ ... -----------------------------------------\n",
       "                    0.0 .. 0.0 ...   60.85611332568641 .. -35.96722458736316\n",
       "                    0.0 .. 0.0 ...   65.40440769132046 .. -41.43389549336795\n",
       "                    0.0 .. 0.0 ...   58.889121610697195 .. -32.4264822278856\n",
       "                    0.0 .. 0.0 ... 58.148975556561105 .. -37.337433140014745\n",
       "                    0.0 .. 0.0 ...  60.53512969786194 .. -33.207681057624804\n",
       "                    0.0 .. 0.0 ...   58.83722441902085 .. -36.84964800487269\n",
       "                    0.0 .. 0.0 ...  68.53634984929118 .. -34.164567154229985\n",
       "                    0.0 .. 0.0 ...  59.41785466336982 .. -37.602660880508836\n",
       "                    0.0 .. 0.0 ...  58.396101890352185 .. -40.25136844953081\n",
       "                    0.0 .. 0.0 ...   61.736626049017936 .. -33.0841604477653\n",
       "                           ... ...                                       ...\n",
       "                    0.0 .. 0.0 ...    61.602462532722186 .. -33.242720269766\n",
       "                    0.0 .. 0.0 ...   62.88008358932801 .. -32.44769766555556\n",
       "                    0.0 .. 0.0 ...  63.030289303640174 .. -30.84291021058443\n",
       "                    0.0 .. 0.0 ...  64.55111684730001 .. -42.156724930447965\n",
       "           9.687617e-06 .. 0.0 ...  57.44883031995009 .. -31.159428924687404\n",
       " 2.3841858e-07 .. 2.766028e-07 ...  60.91904672283822 .. -33.659000013797574\n",
       "                    0.0 .. 0.0 ...    57.83815454213028 .. -35.7930908110727\n",
       "9.4249845e-06 .. 7.2997063e-06 ...  55.264833122327694 .. -36.43043678436738\n",
       "                    0.0 .. 0.0 ...   61.98889953812597 .. -38.79066134119112\n",
       "                    0.0 .. 0.0 ...   61.04786849982321 .. -35.28466199657776"
      ]
     },
     "execution_count": 7,
     "metadata": {},
     "output_type": "execute_result"
    }
   ],
   "source": [
    "injected_lens_catalog"
   ]
  },
  {
   "cell_type": "code",
   "execution_count": null,
   "id": "070d8ce0-c802-457c-8b59-c3df582b4b9d",
   "metadata": {
    "tags": []
   },
   "outputs": [],
   "source": []
  }
 ],
 "metadata": {
  "kernelspec": {
   "display_name": "LSST",
   "language": "python",
   "name": "lsst"
  },
  "language_info": {
   "codemirror_mode": {
    "name": "ipython",
    "version": 3
   },
   "file_extension": ".py",
   "mimetype": "text/x-python",
   "name": "python",
   "nbconvert_exporter": "python",
   "pygments_lexer": "ipython3",
   "version": "3.10.10"
  }
 },
 "nbformat": 4,
 "nbformat_minor": 5
}
