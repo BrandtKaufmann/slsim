{
 "cells": [
  {
   "cell_type": "markdown",
   "source": [
    "## This script demonstrates the process of generating kappa and gamma values from both halo and GLASS data sources, and how to visualize the joint distribution of the total kappa and gamma values.\n",
    "\n",
    "First, we import necessary modules and classes from `sim_pipeline.halos.halos_plus_glass` and `astropy.cosmology`. We also define our cosmology model using `FlatLambdaCDM` with parameters `H0=70` and `Om0=0.3`.\n",
    "Next, we read the glass data from the file `\"z5data.npy\"` using the `read_glass_data` function. It returns the kappa values, gamma values, and nside. Then, we calculate the sky area using `skyarea_form_n` function with the `nside`."
   ],
   "metadata": {
    "collapsed": false
   }
  },
  {
   "cell_type": "code",
   "execution_count": 1,
   "metadata": {
    "collapsed": true,
    "ExecuteTime": {
     "end_time": "2023-08-19T17:27:16.891129500Z",
     "start_time": "2023-08-19T17:27:08.471013600Z"
    }
   },
   "outputs": [
    {
     "name": "stdout",
     "output_type": "stream",
     "text": [
      "Error: C:\\Users\\14646\\Documents\\GitHub\\tzsim-pipeline\\sim_pipeline/Halos/z5data.npy not found.\n"
     ]
    },
    {
     "ename": "TypeError",
     "evalue": "'NoneType' object is not subscriptable",
     "output_type": "error",
     "traceback": [
      "\u001B[1;31m---------------------------------------------------------------------------\u001B[0m",
      "\u001B[1;31mTypeError\u001B[0m                                 Traceback (most recent call last)",
      "Cell \u001B[1;32mIn[1], line 12\u001B[0m\n\u001B[0;32m      9\u001B[0m parent_directory \u001B[38;5;241m=\u001B[39m os\u001B[38;5;241m.\u001B[39mpath\u001B[38;5;241m.\u001B[39mdirname(current_directory)\n\u001B[0;32m     10\u001B[0m file_path \u001B[38;5;241m=\u001B[39m os\u001B[38;5;241m.\u001B[39mpath\u001B[38;5;241m.\u001B[39mjoin(parent_directory, \u001B[38;5;124m'\u001B[39m\u001B[38;5;124msim_pipeline/Halos/z5data.npy\u001B[39m\u001B[38;5;124m'\u001B[39m)\n\u001B[1;32m---> 12\u001B[0m kappa_values, gamma_values, nside \u001B[38;5;241m=\u001B[39m \u001B[43mread_glass_data\u001B[49m\u001B[43m(\u001B[49m\u001B[43mfile_name\u001B[49m\u001B[38;5;241;43m=\u001B[39;49m\u001B[43mfile_path\u001B[49m\u001B[43m)\u001B[49m\n\u001B[0;32m     13\u001B[0m skyarea \u001B[38;5;241m=\u001B[39m skyarea_form_n(nside)\n\u001B[0;32m     14\u001B[0m kappa_random_glass, gamma_random_glass \u001B[38;5;241m=\u001B[39m generate_samples_from_glass(kappa_values, gamma_values, n\u001B[38;5;241m=\u001B[39m\u001B[38;5;241m5000\u001B[39m)\n",
      "File \u001B[1;32m~\\Documents\\GitHub\\tzsim-pipeline\\sim_pipeline\\Halos\\halos_plus_glass.py:38\u001B[0m, in \u001B[0;36mread_glass_data\u001B[1;34m(file_name)\u001B[0m\n\u001B[0;32m     35\u001B[0m         \u001B[38;5;28;01mreturn\u001B[39;00m \u001B[38;5;28;01mNone\u001B[39;00m\n\u001B[0;32m     37\u001B[0m data_array \u001B[38;5;241m=\u001B[39m read_data_file(file_name)\n\u001B[1;32m---> 38\u001B[0m kappa_values \u001B[38;5;241m=\u001B[39m \u001B[43mdata_array\u001B[49m\u001B[43m[\u001B[49m\u001B[43m:\u001B[49m\u001B[43m,\u001B[49m\u001B[43m \u001B[49m\u001B[38;5;241;43m0\u001B[39;49m\u001B[43m]\u001B[49m\n\u001B[0;32m     39\u001B[0m gamma_values \u001B[38;5;241m=\u001B[39m data_array[:, \u001B[38;5;241m1\u001B[39m]\n\u001B[0;32m     40\u001B[0m nside \u001B[38;5;241m=\u001B[39m \u001B[38;5;28mint\u001B[39m(np\u001B[38;5;241m.\u001B[39msqrt(\u001B[38;5;28mlen\u001B[39m(kappa_values) \u001B[38;5;241m/\u001B[39m \u001B[38;5;241m12\u001B[39m))\n",
      "\u001B[1;31mTypeError\u001B[0m: 'NoneType' object is not subscriptable"
     ]
    }
   ],
   "source": [
    "# TODO: make it more realistic including:                                                                                           1. use z5data.npy(~780MB) and make n from generate_samples_from_glass.() equal a higher number.                                  2. In generate_meanzero_halos_multiple_times(n_times=5, skypy_config=None, skyarea=0.0001, cosmo=cosmo, samples_number_for_one_halos=1000, renders_numbers=200) let skyarea=skyarea, n_times larger.                                      3. For lower halo mass min? (now 5*10^11)\n",
    "from sim_pipeline.Halos.halos_plus_glass import read_glass_data,skyarea_form_n,generate_samples_from_glass,generate_meanzero_halos_multiple_times,halos_plus_glass\n",
    "import os\n",
    "\n",
    "from astropy.cosmology import FlatLambdaCDM\n",
    "cosmo = FlatLambdaCDM(H0=70, Om0=0.3)\n",
    "\n",
    "current_directory = os.getcwd()\n",
    "parent_directory = os.path.dirname(current_directory)\n",
    "file_path = os.path.join(parent_directory, 'sim_pipeline/Halos/z5data.npy')\n",
    "\n",
    "kappa_values, gamma_values, nside = read_glass_data(file_name=file_path)\n",
    "skyarea = skyarea_form_n(nside)\n",
    "kappa_random_glass, gamma_random_glass = generate_samples_from_glass(kappa_values, gamma_values, n=5000)\n",
    "print(kappa_random_glass.shape)"
   ]
  },
  {
   "cell_type": "markdown",
   "source": [
    "### After that, we generate kappa and gamma values from halos using `run_halos_without_kde` or `run_halos_without_kde_by_multiprocessing` function. These functions repeat the generation of halos `n_iterations` times and accumulates the results.\n",
    "##### For `n_iterations` is large (>10), using ` run_halos_without_kde_by_multiprocessing` will be faster.\n",
    "###### for example, for `n_iterations=25, sky_area=0.0001, samples_number=200,cosmo=cosmo,                                                              m_min=None, m_max=None, z_max=None` :\n",
    "        `run_halos_without_kde_by_multiprocessing` takes ~ 50 secs\n",
    "        `run_halos_without_kde` takes ~ 200 secs\n"
   ],
   "metadata": {
    "collapsed": false
   }
  },
  {
   "cell_type": "code",
   "execution_count": null,
   "outputs": [],
   "source": [
    "from sim_pipeline.Halos.halos_plus_glass import run_halos_without_kde,run_halos_without_kde_by_multiprocessing\n",
    "import numpy as np\n",
    "\n",
    "\n",
    "#nk,ng = run_halos_without_kde(n_iterations=25, sky_area=0.0001, samples_number=200,cosmo=cosmo,                                                              m_min=None, m_max=None, z_max=None)\n",
    "\n",
    "nk,ng = run_halos_without_kde_by_multiprocessing(n_iterations=50, sky_area=0.0001, samples_number=100,cosmo=cosmo,                                                              m_min=None, m_max=None, z_max=None)\n",
    "mean_kappa = np.mean(nk)\n",
    "kappa_random_halos, gamma_random_halos = nk - mean_kappa,ng"
   ],
   "metadata": {
    "collapsed": false,
    "ExecuteTime": {
     "start_time": "2023-08-16T02:03:13.844333500Z"
    }
   }
  },
  {
   "cell_type": "markdown",
   "source": [
    "The total kappa and gamma values are then calculated by combining the values from halo and glass data sources. This is done by the `halos_plus_glass` function."
   ],
   "metadata": {
    "collapsed": false
   }
  },
  {
   "cell_type": "code",
   "execution_count": null,
   "outputs": [],
   "source": [
    "total_kappa, total_gamma = halos_plus_glass(kappa_random_glass, gamma_random_glass, kappa_random_halos, gamma_random_halos)"
   ],
   "metadata": {
    "collapsed": false,
    "ExecuteTime": {
     "end_time": "2023-08-16T02:03:13.844333500Z",
     "start_time": "2023-08-16T02:03:13.844333500Z"
    }
   }
  },
  {
   "cell_type": "markdown",
   "source": [
    "Finally, we visualize the joint distribution of the total kappa and gamma values using a hexbin plot.\n",
    "We also fit a Gaussian KDE to the joint distribution of kappa and gamma values and generate a random sample from this distribution.\n",
    "The joint distribution of the resampled kappa and gamma values is also visualized using a hexbin plot."
   ],
   "metadata": {
    "collapsed": false
   }
  },
  {
   "cell_type": "code",
   "execution_count": null,
   "outputs": [],
   "source": [
    "import seaborn as sns\n",
    "from scipy import stats\n",
    "import matplotlib.pyplot as plt\n",
    "import numpy as np\n",
    "\n",
    "total_plot = sns.jointplot(x=total_kappa, y=total_gamma,kind='hex')\n",
    "total_plot.plot_joint(sns.kdeplot, color=\"r\", zorder=3, levels=5)\n",
    "total_plot.ax_joint.set_xlabel('total_kappa', fontweight='bold')\n",
    "total_plot.ax_joint.set_ylabel('total_gamma', fontweight='bold')\n",
    "plt.show()\n",
    "\n",
    "# Use Gaussian KDE to fit the joint distribution\n",
    "kernel = stats.gaussian_kde(np.vstack([total_kappa, total_gamma]))\n",
    "n = 3000  # Number of random numbers to generate\n",
    "kappa_random, gamma_random = kernel.resample(n)\n",
    "modified_plot = sns.jointplot(x=kappa_random, y=gamma_random, kind='hex')\n",
    "modified_plot.ax_joint.set_xlabel('random_kappa', fontweight='bold')\n",
    "modified_plot.ax_joint.set_ylabel('random_gamma', fontweight='bold')\n",
    "plt.show()\n",
    "# TODO: make gamma render by KDE >0"
   ],
   "metadata": {
    "collapsed": false,
    "is_executing": true
   }
  },
  {
   "cell_type": "code",
   "execution_count": null,
   "outputs": [],
   "source": [],
   "metadata": {
    "collapsed": false,
    "ExecuteTime": {
     "start_time": "2023-08-16T02:03:13.854344600Z"
    }
   }
  }
 ],
 "metadata": {
  "kernelspec": {
   "display_name": "Python 3",
   "language": "python",
   "name": "python3"
  },
  "language_info": {
   "codemirror_mode": {
    "name": "ipython",
    "version": 2
   },
   "file_extension": ".py",
   "mimetype": "text/x-python",
   "name": "python",
   "nbconvert_exporter": "python",
   "pygments_lexer": "ipython2",
   "version": "2.7.6"
  }
 },
 "nbformat": 4,
 "nbformat_minor": 0
}
