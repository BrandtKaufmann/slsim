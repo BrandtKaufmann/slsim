{
 "cells": [
  {
   "cell_type": "code",
   "execution_count": null,
   "metadata": {
    "pycharm": {
     "is_executing": true
    }
   },
   "outputs": [],
   "source": [
    "import sim_pipeline.gg_lens_pop\n",
    "import warnings\n",
    "from astropy.utils.exceptions import AstropyWarning"
   ]
  },
  {
   "cell_type": "code",
   "execution_count": null,
   "metadata": {
    "pycharm": {
     "is_executing": true
    }
   },
   "outputs": [],
   "source": [
    "warnings.simplefilter(\"ignore\", category=AstropyWarning)\n",
    "# ignore warnings from astropy about redshifts since the unfeasible can be rule out through valid test in codes\n",
    "\n",
    "gg_lens_pop_instance = sim_pipeline.gg_lens_pop.GGLensPop(lens_type='early-type', source_type='galaxies',\n",
    "                                                          kwargs_lens_cut=None, kwargs_source_cut=None,\n",
    "                                                          kwargs_mass2light=None, f_sky=0.1,\n",
    "                                                          cosmo=None)\n",
    "#creat a instance of the class GGLensPop using default parameters"
   ]
  },
  {
   "cell_type": "code",
   "execution_count": null,
   "metadata": {},
   "outputs": [],
   "source": [
    "pop = gg_lens_pop_instance.draw_population()\n",
    "#run the draw_population method to generate a population of lenses with 0.1 deg^2 sky area\n",
    "\n",
    "print(pop)"
   ]
  }
 ],
 "metadata": {
  "kernelspec": {
   "display_name": "sim-pipeline",
   "language": "python",
   "name": "sim-pipeline"
  },
  "language_info": {
   "codemirror_mode": {
    "name": "ipython",
    "version": 3
   },
   "file_extension": ".py",
   "mimetype": "text/x-python",
   "name": "python",
   "nbconvert_exporter": "python",
   "pygments_lexer": "ipython3",
   "version": "3.10.10"
  }
 },
 "nbformat": 4,
 "nbformat_minor": 1
}
