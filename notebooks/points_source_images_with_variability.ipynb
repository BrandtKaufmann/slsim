{
 "cells": [
  {
   "cell_type": "code",
   "execution_count": 1,
   "id": "9b7b374b-a1a7-40e4-88bd-484247d1949d",
   "metadata": {
    "execution": {
     "iopub.execute_input": "2023-10-23T18:42:27.879830Z",
     "iopub.status.busy": "2023-10-23T18:42:27.879175Z",
     "iopub.status.idle": "2023-10-23T18:42:31.993719Z",
     "shell.execute_reply": "2023-10-23T18:42:31.992786Z",
     "shell.execute_reply.started": "2023-10-23T18:42:27.879803Z"
    },
    "tags": []
   },
   "outputs": [
    {
     "name": "stderr",
     "output_type": "stream",
     "text": [
      "/opt/lsst/software/stack/conda/miniconda3-py38_4.9.2/envs/lsst-scipipe-7.0.1/lib/python3.11/site-packages/numba/core/decorators.py:262: NumbaDeprecationWarning: \u001b[1mnumba.generated_jit is deprecated. Please see the documentation at: https://numba.readthedocs.io/en/stable/reference/deprecation.html#deprecation-of-generated-jit for more information and advice on a suitable replacement.\u001b[0m\n",
      "  warnings.warn(msg, NumbaDeprecationWarning)\n"
     ]
    }
   ],
   "source": [
    "import numpy as np\n",
    "from astropy.cosmology import FlatLambdaCDM\n",
    "from astropy.units import Quantity\n",
    "from slsim.lens_pop import LensPop\n",
    "from slsim.image_simulation import sharp_image\n",
    "from slsim.image_simulation import point_source_image_with_variability\n",
    "from slsim.Plots.plot_functions import create_image_montage_from_image_list\n",
    "from slsim.Util.param_util import convolved_image\n",
    "import lsst.daf.butler as dafButler\n",
    "import lsst.geom as geom\n",
    "from slsim import lsst_science_pipeline"
   ]
  },
  {
   "cell_type": "markdown",
   "id": "bbea940b-13e3-4ad3-a0a3-035060d490d1",
   "metadata": {},
   "source": [
    "## Point source image simulation"
   ]
  },
  {
   "cell_type": "markdown",
   "id": "edb76f70-ded5-46ae-880b-26184f0d1246",
   "metadata": {},
   "source": [
    "This notebook shows how one can use slsim to simulate lensed images of point source and can add variability to them. For this, we should follow these steps:\n",
    "\n",
    "1. Generate Point source lens population.\n",
    "2. Select a random lens.\n",
    "3. Extract psf kernels from a dp0 image or provide your own psf kernels\n",
    "4. simulate point source image using information from point 3."
   ]
  },
  {
   "cell_type": "markdown",
   "id": "069f6774-2e13-4657-a923-7fe7fbd2d265",
   "metadata": {},
   "source": [
    "## Generate point source lens population"
   ]
  },
  {
   "cell_type": "markdown",
   "id": "f228b83b-3b62-4cd0-95dc-4032549c86d7",
   "metadata": {},
   "source": [
    "Here we use LensPop class to generate point source lens. "
   ]
  },
  {
   "cell_type": "code",
   "execution_count": 2,
   "id": "311e289a-fa59-4da4-abc2-c0e696f318d5",
   "metadata": {
    "execution": {
     "iopub.execute_input": "2023-10-23T18:42:33.259898Z",
     "iopub.status.busy": "2023-10-23T18:42:33.259170Z",
     "iopub.status.idle": "2023-10-23T18:42:55.436912Z",
     "shell.execute_reply": "2023-10-23T18:42:55.435935Z",
     "shell.execute_reply.started": "2023-10-23T18:42:33.259864Z"
    },
    "tags": []
   },
   "outputs": [],
   "source": [
    "# define a cosmology\n",
    "cosmo = FlatLambdaCDM(H0=70, Om0=0.3)\n",
    "\n",
    "\n",
    "# define a sky area\n",
    "sky_area = Quantity(value=0.1, unit=\"deg2\")\n",
    "\n",
    "\n",
    "# define limits in the intrinsic deflector and source population (in addition to the skypy config\n",
    "# file)\n",
    "kwargs_deflector_cut = {\"band\": \"g\", \"band_max\": 23, \"z_min\": 0.01, \"z_max\": 2.5}\n",
    "kwargs_source_cut = {\"band\": \"g\", \"band_max\": 26, \"z_min\": 0.1, \"z_max\": 5.0}\n",
    "\n",
    "# run skypy pipeline and make galaxy-galaxy population class using LensPop\n",
    "gg_lens_pop = LensPop(\n",
    "    deflector_type=\"all-galaxies\",\n",
    "    source_type=\"quasars\",\n",
    "    kwargs_deflector_cut=kwargs_deflector_cut,\n",
    "    kwargs_source_cut=kwargs_source_cut,\n",
    "    variability_model=\"sinusoidal\",\n",
    "    kwargs_variability={\"amp\": 1, \"freq\": 0.5},\n",
    "    kwargs_mass2light=None,\n",
    "    skypy_config=None,\n",
    "    sky_area=sky_area,\n",
    "    cosmo=cosmo,\n",
    ")"
   ]
  },
  {
   "cell_type": "code",
   "execution_count": 3,
   "id": "055e0e8b-1a86-4da1-b42a-6bb0830d59af",
   "metadata": {
    "execution": {
     "iopub.execute_input": "2023-10-23T18:42:58.423895Z",
     "iopub.status.busy": "2023-10-23T18:42:58.423589Z",
     "iopub.status.idle": "2023-10-23T18:42:58.728583Z",
     "shell.execute_reply": "2023-10-23T18:42:58.727747Z",
     "shell.execute_reply.started": "2023-10-23T18:42:58.423873Z"
    },
    "tags": []
   },
   "outputs": [],
   "source": [
    "kwargs_lens_cut = {\"min_image_separation\": 0.8, \"max_image_separation\": 10}\n",
    "rgb_band_list = [\"i\", \"r\", \"g\"]\n",
    "lens_class = gg_lens_pop.select_lens_at_random(**kwargs_lens_cut)"
   ]
  },
  {
   "cell_type": "code",
   "execution_count": 4,
   "id": "775bd2f8-c08c-4315-9c4d-4bf1fcb2cefe",
   "metadata": {
    "execution": {
     "iopub.execute_input": "2023-10-23T18:42:59.370715Z",
     "iopub.status.busy": "2023-10-23T18:42:59.369896Z",
     "iopub.status.idle": "2023-10-23T18:42:59.383289Z",
     "shell.execute_reply": "2023-10-23T18:42:59.382586Z",
     "shell.execute_reply.started": "2023-10-23T18:42:59.370677Z"
    },
    "tags": []
   },
   "outputs": [],
   "source": [
    "image_r = sharp_image(\n",
    "    lens_class=lens_class,\n",
    "    band=rgb_band_list[0],\n",
    "    mag_zero_point=27,\n",
    "    delta_pix=0.2,\n",
    "    num_pix=101,\n",
    ")"
   ]
  },
  {
   "cell_type": "markdown",
   "id": "846a826e-c6b3-4ab8-9d6b-9514b9136efb",
   "metadata": {},
   "source": [
    "## Initiate Butler"
   ]
  },
  {
   "cell_type": "code",
   "execution_count": 5,
   "id": "478fe7ac-18b0-4ce7-9f99-96f8fd26dc52",
   "metadata": {
    "execution": {
     "iopub.execute_input": "2023-10-23T18:43:02.266000Z",
     "iopub.status.busy": "2023-10-23T18:43:02.265704Z",
     "iopub.status.idle": "2023-10-23T18:43:05.586215Z",
     "shell.execute_reply": "2023-10-23T18:43:05.585472Z",
     "shell.execute_reply.started": "2023-10-23T18:43:02.265980Z"
    },
    "tags": []
   },
   "outputs": [],
   "source": [
    "config = \"dp02\"\n",
    "collection = \"2.2i/runs/DP0.2\"\n",
    "butler = dafButler.Butler(config, collections=collection)\n",
    "skymap = butler.get(\"skyMap\")"
   ]
  },
  {
   "cell_type": "code",
   "execution_count": 6,
   "id": "de6373cc-81cb-4b78-b344-9efb3ec25c35",
   "metadata": {
    "execution": {
     "iopub.execute_input": "2023-10-23T18:43:07.380057Z",
     "iopub.status.busy": "2023-10-23T18:43:07.379213Z",
     "iopub.status.idle": "2023-10-23T18:43:20.071053Z",
     "shell.execute_reply": "2023-10-23T18:43:20.070338Z",
     "shell.execute_reply.started": "2023-10-23T18:43:07.380024Z"
    },
    "tags": []
   },
   "outputs": [],
   "source": [
    "config = \"dp02\"\n",
    "collection = \"2.2i/runs/DP0.2\"\n",
    "butler = dafButler.Butler(config, collections=collection)\n",
    "skymap = butler.get(\"skyMap\")\n",
    "\n",
    "# Near the center of DC2\n",
    "ra = 62.541629  # degrees\n",
    "dec = -37.852021  # degrees\n",
    "point = geom.SpherePoint(ra, dec, geom.degrees)\n",
    "cutoutSize = geom.ExtentI(101, 101)\n",
    "# print(cutoutSize)\n",
    "\n",
    "\n",
    "# Read this from the table we have at hand...\n",
    "tractInfo = skymap.findTract(point)\n",
    "patchInfo = tractInfo.findPatch(point)\n",
    "my_tract = tractInfo.tract_id\n",
    "my_patch = patchInfo.getSequentialIndex()\n",
    "\n",
    "xy = geom.PointI(tractInfo.getWcs().skyToPixel(point))\n",
    "\n",
    "bbox = geom.BoxI(xy + cutoutSize // 2, cutoutSize)\n",
    "\n",
    "coaddId = {\"tract\": my_tract, \"patch\": my_patch, \"band\": \"i\"}\n",
    "coadd = butler.get(\"deepCoadd\", dataId=coaddId)\n",
    "coadd_cut = butler.get(\"deepCoadd\", parameters={\"bbox\": bbox}, dataId=coaddId)"
   ]
  },
  {
   "cell_type": "markdown",
   "id": "5758ced1-1c50-4c4e-87f8-eb4918eac010",
   "metadata": {},
   "source": [
    "## Extract psf of a dp0 image"
   ]
  },
  {
   "cell_type": "code",
   "execution_count": 9,
   "id": "0a2583af-4e8a-43c0-af4f-fc78a72e27df",
   "metadata": {
    "execution": {
     "iopub.execute_input": "2023-10-23T18:45:44.398944Z",
     "iopub.status.busy": "2023-10-23T18:45:44.397942Z",
     "iopub.status.idle": "2023-10-23T18:45:45.035020Z",
     "shell.execute_reply": "2023-10-23T18:45:45.034118Z",
     "shell.execute_reply.started": "2023-10-23T18:45:44.398910Z"
    },
    "tags": []
   },
   "outputs": [],
   "source": [
<<<<<<< HEAD
    "transform_matrix=np.array([[0.2, 0], [0, 0.2]])\n",
    "psf_kernels = lsst_science_pipeline.cutout_image_psf_kernel(\n",
    "    coadd_cut, lens_class, band=\"i\", mag_zero_point=27, delta_pix=0.2, num_pix=101,\n",
    "transform_pix2angle=transform_matrix)"
=======
    "transform_matrix = np.array([[0.2, 0], [0, 0.2]])\n",
    "psf_kernels = lsst_science_pipeline.cutout_image_psf_kernel(\n",
    "    coadd_cut,\n",
    "    lens_class,\n",
    "    band=\"i\",\n",
    "    mag_zero_point=27,\n",
    "    delta_pix=0.2,\n",
    "    num_pix=101,\n",
    "    transform_pix2angle=transform_matrix,\n",
    ")"
>>>>>>> 8d8615b0317de7bfdf03664b64f790ef7c843e02
   ]
  },
  {
   "cell_type": "markdown",
   "id": "10415c6a-c930-4e54-aa36-f62cdbd10c51",
   "metadata": {},
   "source": [
    "## Set image observation times and image configuration"
   ]
  },
  {
   "cell_type": "code",
   "execution_count": 10,
   "id": "91ab8127-5ddc-4b85-a7a5-b1327e119c95",
   "metadata": {
    "execution": {
     "iopub.execute_input": "2023-10-23T18:45:53.520837Z",
     "iopub.status.busy": "2023-10-23T18:45:53.520026Z",
     "iopub.status.idle": "2023-10-23T18:45:53.524432Z",
     "shell.execute_reply": "2023-10-23T18:45:53.523704Z",
     "shell.execute_reply.started": "2023-10-23T18:45:53.520802Z"
    },
    "tags": []
   },
   "outputs": [],
   "source": [
    "time = np.linspace(0, 50, 4)"
   ]
  },
  {
   "cell_type": "code",
   "execution_count": 12,
   "id": "a76d7923",
   "metadata": {
    "execution": {
     "iopub.execute_input": "2023-10-23T18:46:05.322392Z",
     "iopub.status.busy": "2023-10-23T18:46:05.321602Z",
     "iopub.status.idle": "2023-10-23T18:46:05.329784Z",
     "shell.execute_reply": "2023-10-23T18:46:05.328964Z",
     "shell.execute_reply.started": "2023-10-23T18:46:05.322343Z"
    },
    "tags": []
   },
   "outputs": [],
   "source": [
    "# let's set up psf kernel for each exposure. Here we have taken the same psf that we\n",
    "# extracted above. However, each exposure can have different psf kernel and user should\n",
    "# provide corresponding psf kernel to each exposure.\n",
    "psf_kernel_1 = psf_kernels[\"psf_kernel_for_images\"][0]\n",
    "psf_kernel_2 = psf_kernels[\"psf_kernel_for_images\"][0]\n",
    "psf_kernel_3 = psf_kernels[\"psf_kernel_for_images\"][0]\n",
    "psf_kernel_4 = psf_kernels[\"psf_kernel_for_images\"][0]\n",
    "psf_kernels_all = np.array([psf_kernel_1, psf_kernel_2, psf_kernel_3, psf_kernel_4])\n",
    "\n",
    "# let's set pixel to angle transform matrix. Here we have taken the same matrix for\n",
    "# each exposure but user should provide corresponding transform matrix to each exposure.\n",
    "transform_matrix_1 = np.array([[0.2, 0], [0, 0.2]])\n",
    "transform_matrix_2 = np.array([[0.2, 0], [0, 0.2]])\n",
    "transform_matrix_3 = np.array([[0.2, 0], [0, 0.2]])\n",
    "transform_matrix_4 = np.array([[0.2, 0], [0, 0.2]])\n",
    "transform_matrix = np.array(\n",
    "    [transform_matrix_1, transform_matrix_2, transform_matrix_3, transform_matrix_4]\n",
    ")\n",
    "\n",
    "# provide magnitude zero point for each exposures. Here we have taken the same magnitude\n",
    "#  zero point for each exposure but user should provide the corresponding magnitude\n",
    "# zero point for each exposure.\n",
    "mag_zero_point_1 = 27\n",
    "mag_zero_point_2 = 27\n",
    "mag_zero_point_3 = 27\n",
    "mag_zero_point_4 = 27\n",
    "mag_zero_points = np.array(\n",
    "    [mag_zero_point_1, mag_zero_point_2, mag_zero_point_3, mag_zero_point_4]\n",
    ")"
   ]
  },
  {
   "cell_type": "code",
   "execution_count": 13,
   "id": "c5167325-9ab5-4965-a754-959a513dffe0",
   "metadata": {
    "execution": {
     "iopub.execute_input": "2023-10-23T18:46:09.022404Z",
     "iopub.status.busy": "2023-10-23T18:46:09.021560Z",
     "iopub.status.idle": "2023-10-23T18:46:09.027495Z",
     "shell.execute_reply": "2023-10-23T18:46:09.026695Z",
     "shell.execute_reply.started": "2023-10-23T18:46:09.022370Z"
    },
    "tags": []
   },
   "outputs": [],
   "source": [
    "convolved_deflector_image = convolved_image(\n",
    "    image_r, psf_kernels[\"psf_kernel_for_deflector\"][0]\n",
    ")"
   ]
  },
  {
   "cell_type": "markdown",
   "id": "73fecf15-6e8e-4522-888d-9468799ca4e4",
   "metadata": {},
   "source": [
    "# Simulate point source images"
   ]
  },
  {
   "cell_type": "code",
   "execution_count": 15,
   "id": "be93a4d2-0162-471b-9793-0f682af20293",
   "metadata": {
    "execution": {
     "iopub.execute_input": "2023-10-23T18:46:25.251882Z",
     "iopub.status.busy": "2023-10-23T18:46:25.251021Z",
     "iopub.status.idle": "2023-10-23T18:46:25.274676Z",
     "shell.execute_reply": "2023-10-23T18:46:25.274075Z",
     "shell.execute_reply.started": "2023-10-23T18:46:25.251853Z"
    },
    "tags": []
   },
   "outputs": [
    {
     "name": "stderr",
     "output_type": "stream",
     "text": [
      "/home/nkhadka/.local/lib/python3.11/site-packages/lenstronomy/Data/psf.py:80: UserWarning: Input PSF model has at least one negative element, which is unphysical except for a PSF of an interferometric array.\n",
      "  warnings.warn(\n",
      "/home/nkhadka/.local/lib/python3.11/site-packages/lenstronomy/Data/psf.py:80: UserWarning: Input PSF model has at least one negative element, which is unphysical except for a PSF of an interferometric array.\n",
      "  warnings.warn(\n",
      "/home/nkhadka/.local/lib/python3.11/site-packages/lenstronomy/Data/psf.py:80: UserWarning: Input PSF model has at least one negative element, which is unphysical except for a PSF of an interferometric array.\n",
      "  warnings.warn(\n",
      "/home/nkhadka/.local/lib/python3.11/site-packages/lenstronomy/Data/psf.py:80: UserWarning: Input PSF model has at least one negative element, which is unphysical except for a PSF of an interferometric array.\n",
      "  warnings.warn(\n"
     ]
    }
   ],
   "source": [
    "point_image = point_source_image_with_variability(\n",
    "    lens_class,\n",
    "    band=\"i\",\n",
    "    mag_zero_point=mag_zero_points,\n",
    "    delta_pix=0.2,\n",
    "    num_pix=101,\n",
    "    psf_kernels=psf_kernels_all,\n",
    "    transform_pix2angle=transform_matrix,\n",
    "    t_obs=time,\n",
    ")"
   ]
  },
  {
   "cell_type": "code",
   "execution_count": 16,
   "id": "d66184f0-d4f0-4dc7-b9e8-9e80e1604d30",
   "metadata": {
    "execution": {
     "iopub.execute_input": "2023-10-23T18:46:30.080232Z",
     "iopub.status.busy": "2023-10-23T18:46:30.079367Z",
     "iopub.status.idle": "2023-10-23T18:46:30.085011Z",
     "shell.execute_reply": "2023-10-23T18:46:30.084150Z",
     "shell.execute_reply.started": "2023-10-23T18:46:30.080197Z"
    },
    "tags": []
   },
   "outputs": [],
   "source": [
    "final_images = []\n",
    "for i in range(len(time)):\n",
    "    final_images.append(\n",
    "        point_image[0][i] + point_image[1][i] + convolved_deflector_image\n",
    "    )"
   ]
  },
  {
   "cell_type": "code",
   "execution_count": 18,
   "id": "bd9a6af0-1469-419d-a5d6-f6a7b8f11aac",
   "metadata": {
    "execution": {
     "iopub.execute_input": "2023-10-23T18:46:46.212400Z",
     "iopub.status.busy": "2023-10-23T18:46:46.211363Z",
     "iopub.status.idle": "2023-10-23T18:46:46.435726Z",
     "shell.execute_reply": "2023-10-23T18:46:46.435064Z",
     "shell.execute_reply.started": "2023-10-23T18:46:46.212368Z"
    },
    "tags": []
   },
   "outputs": [
    {
     "data": {
      "image/png": "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",
      "text/plain": [
       "<Figure size 600x600 with 4 Axes>"
      ]
     },
     "metadata": {},
     "output_type": "display_data"
    }
   ],
   "source": [
    "plot_montage = create_image_montage_from_image_list(\n",
    "    num_rows=2, num_cols=2, images=final_images, time=time\n",
    ")"
   ]
  },
  {
   "cell_type": "code",
   "execution_count": null,
   "id": "801f1abd-89c4-4af7-87b0-4c5c490d8ed5",
   "metadata": {},
   "outputs": [],
   "source": []
  }
 ],
 "metadata": {
  "kernelspec": {
   "display_name": "LSST",
   "language": "python",
   "name": "lsst"
  },
  "language_info": {
   "codemirror_mode": {
    "name": "ipython",
    "version": 3
   },
   "file_extension": ".py",
   "mimetype": "text/x-python",
   "name": "python",
   "nbconvert_exporter": "python",
   "pygments_lexer": "ipython3",
   "version": "3.11.4"
  }
 },
 "nbformat": 4,
 "nbformat_minor": 5
}
