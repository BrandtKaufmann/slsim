{
 "cells": [
  {
   "cell_type": "code",
   "execution_count": null,
   "id": "9b7b374b-a1a7-40e4-88bd-484247d1949d",
   "metadata": {
    "execution": {
     "iopub.execute_input": "2023-09-25T19:57:06.939385Z",
     "iopub.status.busy": "2023-09-25T19:57:06.939086Z",
     "iopub.status.idle": "2023-09-25T19:57:06.944178Z",
     "shell.execute_reply": "2023-09-25T19:57:06.943660Z",
     "shell.execute_reply.started": "2023-09-25T19:57:06.939364Z"
    },
    "tags": []
   },
   "outputs": [],
   "source": [
    "import matplotlib.pyplot as plt\n",
    "import numpy as np\n",
    "from astropy.cosmology import FlatLambdaCDM\n",
    "from astropy.units import Quantity\n",
    "from sim_pipeline.galaxy_galaxy_lens_pop import GalaxyGalaxyLensPop\n",
    "from sim_pipeline.image_simulation import sharp_image\n",
    "from sim_pipeline.Sources.source_variability.variability import sinusoidal_variability\n",
    "from sim_pipeline.image_simulation import point_source_image\n",
    "from sim_pipeline.Plots.plot_functions import create_image_montage_from_image_list\n",
    "from sim_pipeline.Util.param_util import convolved_image\n",
    "import lsst.daf.butler as dafButler\n",
    "import lsst.geom as geom\n",
    "from sim_pipeline import lsst_science_pipeline"
   ]
  },
  {
   "cell_type": "markdown",
   "id": "bbea940b-13e3-4ad3-a0a3-035060d490d1",
   "metadata": {},
   "source": [
    "## Point source image simulation"
   ]
  },
  {
   "cell_type": "markdown",
   "id": "edb76f70-ded5-46ae-880b-26184f0d1246",
   "metadata": {},
   "source": [
    "This notebook shows how one can use sim-pipeline to simulate lensed images of point source and can add variability to them. For this, we should follow these steps:\n",
    "\n",
    "1. Generate Point source lens population.\n",
    "2. Select a random lens.\n",
    "3. Extract psf kernels from a dp0 image or provide your own psf kernels\n",
    "4. simulate point source image using information from point 3."
   ]
  },
  {
   "cell_type": "markdown",
   "id": "069f6774-2e13-4657-a923-7fe7fbd2d265",
   "metadata": {},
   "source": [
    "## Generate point source lens population"
   ]
  },
  {
   "cell_type": "markdown",
   "id": "f228b83b-3b62-4cd0-95dc-4032549c86d7",
   "metadata": {},
   "source": [
    "Here we use GalaxyGalaxyLensPop class to generate point source lens. "
   ]
  },
  {
   "cell_type": "code",
   "execution_count": null,
   "id": "311e289a-fa59-4da4-abc2-c0e696f318d5",
   "metadata": {
    "execution": {
     "iopub.execute_input": "2023-09-25T18:58:50.214023Z",
     "iopub.status.busy": "2023-09-25T18:58:50.213224Z",
     "iopub.status.idle": "2023-09-25T18:59:20.223051Z",
     "shell.execute_reply": "2023-09-25T18:59:20.222366Z",
     "shell.execute_reply.started": "2023-09-25T18:58:50.213996Z"
    },
    "tags": []
   },
   "outputs": [],
   "source": [
    "# define a cosmology\n",
    "cosmo = FlatLambdaCDM(H0=70, Om0=0.3)\n",
    "\n",
    "\n",
    "# define a sky area\n",
    "sky_area = Quantity(value=0.1, unit=\"deg2\")\n",
    "\n",
    "\n",
    "# define limits in the intrinsic deflector and source population (in addition to the\n",
    "#skypy config file)\n",
    "kwargs_deflector_cut = {\"band\": \"g\", \"band_max\": 23, \"z_min\": 0.01, \"z_max\": 2.5}\n",
    "kwargs_source_cut = {\"band\": \"g\", \"band_max\": 26, \"z_min\": 0.1, \"z_max\": 5.0}\n",
    "\n",
    "# run skypy pipeline and make galaxy-galaxy population class using GalaxyGalaxyLensPop\n",
    "gg_lens_pop = GalaxyGalaxyLensPop(\n",
    "    deflector_type=\"all-galaxies\",\n",
    "    source_type=\"quasars\",\n",
    "    kwargs_deflector_cut=kwargs_deflector_cut,\n",
    "    kwargs_source_cut=kwargs_source_cut,\n",
    "    kwargs_mass2light=None,\n",
    "    skypy_config=None,\n",
    "    sky_area=sky_area,\n",
    "    cosmo=cosmo,\n",
    ")"
   ]
  },
  {
   "cell_type": "code",
   "execution_count": null,
   "id": "055e0e8b-1a86-4da1-b42a-6bb0830d59af",
   "metadata": {
    "execution": {
     "iopub.execute_input": "2023-09-25T19:26:54.749601Z",
     "iopub.status.busy": "2023-09-25T19:26:54.748973Z",
     "iopub.status.idle": "2023-09-25T19:26:54.981840Z",
     "shell.execute_reply": "2023-09-25T19:26:54.981208Z",
     "shell.execute_reply.started": "2023-09-25T19:26:54.749577Z"
    },
    "tags": []
   },
   "outputs": [],
   "source": [
    "kwargs_lens_cut={'min_image_separation': 0.8, 'max_image_separation': 10}\n",
    "rgb_band_list=['i', 'r', 'g']\n",
    "lens_class = gg_lens_pop.select_lens_at_random(**kwargs_lens_cut)"
   ]
  },
  {
   "cell_type": "code",
   "execution_count": null,
   "id": "775bd2f8-c08c-4315-9c4d-4bf1fcb2cefe",
   "metadata": {
    "execution": {
     "iopub.execute_input": "2023-09-25T19:26:55.583971Z",
     "iopub.status.busy": "2023-09-25T19:26:55.583194Z",
     "iopub.status.idle": "2023-09-25T19:26:55.599954Z",
     "shell.execute_reply": "2023-09-25T19:26:55.599424Z",
     "shell.execute_reply.started": "2023-09-25T19:26:55.583946Z"
    },
    "tags": []
   },
   "outputs": [],
   "source": [
    "image_r = sharp_image(lens_class=lens_class, band=rgb_band_list[0], mag_zero_point=27, \n",
    "                      delta_pix=0.2, num_pix=101)"
   ]
  },
  {
   "cell_type": "markdown",
   "id": "846a826e-c6b3-4ab8-9d6b-9514b9136efb",
   "metadata": {},
   "source": [
    "## Initiate Butler"
   ]
  },
  {
   "cell_type": "code",
   "execution_count": null,
   "id": "478fe7ac-18b0-4ce7-9f99-96f8fd26dc52",
   "metadata": {
    "execution": {
     "iopub.execute_input": "2023-09-25T19:28:03.766199Z",
     "iopub.status.busy": "2023-09-25T19:28:03.765304Z",
     "iopub.status.idle": "2023-09-25T19:28:06.390705Z",
     "shell.execute_reply": "2023-09-25T19:28:06.390158Z",
     "shell.execute_reply.started": "2023-09-25T19:28:03.766166Z"
    },
    "tags": []
   },
   "outputs": [],
   "source": [
    "config = \"dp02\"\n",
    "collection = \"2.2i/runs/DP0.2\"\n",
    "butler = dafButler.Butler(config, collections=collection)\n",
    "skymap = butler.get(\"skyMap\")"
   ]
  },
  {
   "cell_type": "code",
   "execution_count": null,
   "id": "de6373cc-81cb-4b78-b344-9efb3ec25c35",
   "metadata": {
    "execution": {
     "iopub.execute_input": "2023-09-25T19:29:08.640315Z",
     "iopub.status.busy": "2023-09-25T19:29:08.639637Z",
     "iopub.status.idle": "2023-09-25T19:29:14.565774Z",
     "shell.execute_reply": "2023-09-25T19:29:14.560953Z",
     "shell.execute_reply.started": "2023-09-25T19:29:08.640288Z"
    },
    "tags": []
   },
   "outputs": [],
   "source": [
    "config = \"dp02\"\n",
    "collection = \"2.2i/runs/DP0.2\"\n",
    "butler = dafButler.Butler(config, collections=collection)\n",
    "skymap = butler.get(\"skyMap\")\n",
    "\n",
    "# Near the center of DC2\n",
    "ra = 62.541629  # degrees\n",
    "dec = -37.852021  # degrees\n",
    "point = geom.SpherePoint(ra, dec, geom.degrees)\n",
    "cutoutSize = geom.ExtentI(101, 101)\n",
    "# print(cutoutSize)\n",
    "\n",
    "\n",
    "# Read this from the table we have at hand...\n",
    "tractInfo = skymap.findTract(point)\n",
    "patchInfo = tractInfo.findPatch(point)\n",
    "my_tract = tractInfo.tract_id\n",
    "my_patch = patchInfo.getSequentialIndex()\n",
    "\n",
    "xy = geom.PointI(tractInfo.getWcs().skyToPixel(point))\n",
    "\n",
    "bbox = geom.BoxI(xy + cutoutSize // 2, cutoutSize)\n",
    "\n",
    "coaddId = {\"tract\": my_tract, \"patch\": my_patch, \"band\": \"i\"}\n",
    "coadd = butler.get(\"deepCoadd\", dataId=coaddId)\n",
    "coadd_cut = butler.get(\"deepCoadd\", parameters={\"bbox\": bbox}, dataId=coaddId)"
   ]
  },
  {
   "cell_type": "markdown",
   "id": "5758ced1-1c50-4c4e-87f8-eb4918eac010",
   "metadata": {},
   "source": [
    "## Extract psf of a dp0 image"
   ]
  },
  {
   "cell_type": "code",
   "execution_count": null,
   "id": "0a2583af-4e8a-43c0-af4f-fc78a72e27df",
   "metadata": {
    "execution": {
     "iopub.execute_input": "2023-09-25T19:32:56.394963Z",
     "iopub.status.busy": "2023-09-25T19:32:56.394191Z",
     "iopub.status.idle": "2023-09-25T19:32:56.402954Z",
     "shell.execute_reply": "2023-09-25T19:32:56.402248Z",
     "shell.execute_reply.started": "2023-09-25T19:32:56.394934Z"
    },
    "tags": []
   },
   "outputs": [],
   "source": [
    "psf_kernels = lsst_science_pipeline.cutout_image_psf_kernel(coadd_cut, lens_class, \n",
    "                            band='i', mag_zero_point=27, delta_pix=0.2, num_pix=101)"
   ]
  },
  {
   "cell_type": "markdown",
   "id": "10415c6a-c930-4e54-aa36-f62cdbd10c51",
   "metadata": {},
   "source": [
    "## Set a variability model from variability module"
   ]
  },
  {
   "cell_type": "code",
   "execution_count": null,
   "id": "91ab8127-5ddc-4b85-a7a5-b1327e119c95",
   "metadata": {
    "execution": {
     "iopub.execute_input": "2023-09-25T19:39:29.425096Z",
     "iopub.status.busy": "2023-09-25T19:39:29.424348Z",
     "iopub.status.idle": "2023-09-25T19:39:29.428032Z",
     "shell.execute_reply": "2023-09-25T19:39:29.427538Z",
     "shell.execute_reply.started": "2023-09-25T19:39:29.425073Z"
    },
    "tags": []
   },
   "outputs": [],
   "source": [
    "time = np.linspace(0, 50, 16)\n",
    "variability = {'time': time, \n",
    "            'function': sinusoidal_variability}"
   ]
  },
  {
   "cell_type": "code",
   "execution_count": null,
   "id": "c5167325-9ab5-4965-a754-959a513dffe0",
   "metadata": {
    "execution": {
     "iopub.execute_input": "2023-09-25T19:40:38.647288Z",
     "iopub.status.busy": "2023-09-25T19:40:38.646983Z",
     "iopub.status.idle": "2023-09-25T19:40:38.774736Z",
     "shell.execute_reply": "2023-09-25T19:40:38.773965Z",
     "shell.execute_reply.started": "2023-09-25T19:40:38.647269Z"
    },
    "tags": []
   },
   "outputs": [],
   "source": [
    "convolved_deflector_image = convolved_image(\n",
    "                image_r, psf_kernels['psf_kernel_for_deflector'][0])"
   ]
  },
  {
   "cell_type": "markdown",
   "id": "73fecf15-6e8e-4522-888d-9468799ca4e4",
   "metadata": {},
   "source": [
    "# Simulate point source images"
   ]
  },
  {
   "cell_type": "code",
   "execution_count": null,
   "id": "be93a4d2-0162-471b-9793-0f682af20293",
   "metadata": {
    "execution": {
     "iopub.execute_input": "2023-09-25T19:43:11.405862Z",
     "iopub.status.busy": "2023-09-25T19:43:11.405051Z",
     "iopub.status.idle": "2023-09-25T19:43:11.438043Z",
     "shell.execute_reply": "2023-09-25T19:43:11.437485Z",
     "shell.execute_reply.started": "2023-09-25T19:43:11.405834Z"
    },
    "tags": []
   },
   "outputs": [],
   "source": [
    "point_image = point_source_image(lens_class, band='i', mag_zero_point=27, \n",
    "        delta_pix=0.2, num_pix=101, psf_kernels=psf_kernels['psf_kernel_for_images'][0],\n",
    "          variability = variability)"
   ]
  },
  {
   "cell_type": "code",
   "execution_count": null,
   "id": "d66184f0-d4f0-4dc7-b9e8-9e80e1604d30",
   "metadata": {
    "execution": {
     "iopub.execute_input": "2023-09-25T19:43:47.415992Z",
     "iopub.status.busy": "2023-09-25T19:43:47.415362Z",
     "iopub.status.idle": "2023-09-25T19:43:47.420096Z",
     "shell.execute_reply": "2023-09-25T19:43:47.419489Z",
     "shell.execute_reply.started": "2023-09-25T19:43:47.415967Z"
    },
    "tags": []
   },
   "outputs": [],
   "source": [
    "final_images = []\n",
    "for i in range(len(time)):\n",
    "    final_images.append(point_image[0][i] + point_image[1][i] + \n",
    "                        convolved_deflector_image)"
   ]
  },
  {
   "cell_type": "code",
   "execution_count": null,
   "id": "bd9a6af0-1469-419d-a5d6-f6a7b8f11aac",
   "metadata": {
    "execution": {
     "iopub.execute_input": "2023-09-25T19:49:30.435800Z",
     "iopub.status.busy": "2023-09-25T19:49:30.434940Z",
     "iopub.status.idle": "2023-09-25T19:49:30.948749Z",
     "shell.execute_reply": "2023-09-25T19:49:30.948090Z",
     "shell.execute_reply.started": "2023-09-25T19:49:30.435774Z"
    },
    "tags": []
   },
   "outputs": [],
   "source": [
    "create_image_montage_from_image_list(num_rows=4, num_cols=4, images=final_images, \n",
    "                                     time = time)"
   ]
  },
  {
   "cell_type": "code",
   "execution_count": null,
   "id": "ada75da7-cc4f-40aa-93a9-8bd8b3ce2910",
   "metadata": {},
   "outputs": [],
   "source": []
  }
 ],
 "metadata": {
  "kernelspec": {
   "display_name": "LSST",
   "language": "python",
   "name": "lsst"
  },
  "language_info": {
   "codemirror_mode": {
    "name": "ipython",
    "version": 3
   },
   "file_extension": ".py",
   "mimetype": "text/x-python",
   "name": "python",
   "nbconvert_exporter": "python",
   "pygments_lexer": "ipython3",
   "version": "3.11.4"
  }
 },
 "nbformat": 4,
 "nbformat_minor": 5
}
