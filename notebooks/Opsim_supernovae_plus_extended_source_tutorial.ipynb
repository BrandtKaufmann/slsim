{
 "cells": [
  {
   "cell_type": "code",
   "execution_count": 1,
   "metadata": {},
   "outputs": [],
   "source": [
    "from astropy.cosmology import FlatLambdaCDM\n",
    "from astropy.units import Quantity\n",
    "from slsim.lens_pop import LensPop\n",
    "import numpy as np\n",
    "from slsim.image_simulation import lens_image_series\n",
    "from slsim.Plots.plot_functions import create_image_montage_from_image_list\n",
    "from slsim.image_simulation import point_source_coordinate_properties\n",
    "from slsim import lsst_science_pipeline\n",
    "import matplotlib.pyplot as plt\n",
    "import corner\n",
    "import astropy.coordinates as coord\n",
    "import astropy.units as u"
   ]
  },
  {
   "cell_type": "markdown",
   "metadata": {},
   "source": [
    "## Supernovae plus extended source simulation\n",
    "In this notebook, we simulate population of lensed supernovae and simulate image of a \n",
    "\n",
    "random lensed supernovae. It follows following steps:\n",
    "\n",
    "1. Simulate lensed supernovae population\n",
    "2. Choose a lens at random\n",
    "3. Set observation time and other image configuration\n",
    "4. Simulate image of a selected lens\n",
    "5. Visualize it\n",
    "\n",
    "Before running this notebook, please download the \"scotch_SNIa_host_galaxies.fits\"\n",
    "\n",
    "file from the following link: https://github.com/LSST-strong-lensing/data_public.git. \n",
    "\n",
    "This file contains type Ia supernovae host galaxies."
   ]
  },
  {
   "cell_type": "markdown",
   "metadata": {},
   "source": [
    "## Simulate lensed supernovae population"
   ]
  },
  {
   "cell_type": "code",
   "execution_count": 2,
   "metadata": {},
   "outputs": [],
   "source": [
    "# define a cosmology\n",
    "cosmo = FlatLambdaCDM(H0=70, Om0=0.3)\n",
    "\n",
    "\n",
    "# define a sky area\n",
    "sky_area = Quantity(value=0.1, unit=\"deg2\")\n",
    "\n",
    "\n",
    "# define limits in the intrinsic deflector and source population (in addition to the\n",
    "# skypy config\n",
    "# file)\n",
    "kwargs_deflector_cut = {\"z_min\": 0.01, \"z_max\": 2.5}\n",
    "kwargs_source_cut = {}\n",
    "## create a point plus extended source lens population.\n",
    "supernova_lens_pop = LensPop(\n",
    "    deflector_type=\"elliptical\",  # type of the deflector. It could be elliptical or\n",
    "    # all-galaxies.\n",
    "    source_type=\"supernovae_plus_galaxies\",  # keyword for source type. it can be\n",
    "    # galaxies, quasar, quasar_plus_galaxies, and supernovae_plus_galaxies.\n",
    "    kwargs_deflector_cut=kwargs_deflector_cut,  # cuts that one wants to apply for the\n",
    "    # deflector.\n",
    "    kwargs_source_cut=kwargs_source_cut,  # cuts that one wants to apply for the\n",
    "    # source.\n",
    "    variability_model=\"light_curve\",  # keyword for the variability model.\n",
    "    kwargs_variability={\"supernovae_lightcurve\", \"i\"},  # specify kewords for\n",
    "    # lightcurve. \"i\" is a band for the lightcurve.\n",
    "    sn_type=\"Ia\",  # supernovae type.\n",
    "    sn_absolute_mag_band=\"bessellb\",  # Band used to normalize to absolute magnitude\n",
    "    sn_absolute_zpsys=\"ab\",  # magnitude system. It can be Optional, AB or Vega.\n",
    "    kwargs_mass2light=None,  # mass-to-light relation for the deflector galaxy.\n",
    "    skypy_config=None,  # Sky configuration for the simulation. If None, lsst-like\n",
    "    # configuration will be used.\n",
    "    sky_area=sky_area,  # Sky area for the simulation, source / deflector sky area\n",
    "    cosmo=cosmo,  # astropy cosmology\n",
    "    source_light_profile=\"double_sersic\",  # light profile for the source galaxy\n",
    "    catalog_type=\"scotch\",  # catalog type. It can be None or scotch\n",
    "    lightcurve_time=np.linspace(\n",
    "        -20, 100, 1000\n",
    "    ),  # array of light curve observation time.\n",
    "    catalog_path=\"../data/Scotch/\" + \"scotch_SNIa_host_galaxies.fits\",\n",
    "    # path for catalog. If not provided, small size catalog from\n",
    "    # /slsim/Source/SupernovaeCatalog will be used for\n",
    "    # source_type=\"supernovae_plus_galaxies\" case. For other cases, we do not need to\n",
    "    # provide outside catalog. One can download scotch_SNIa_host_galaxies.fits from\n",
    "    # https://github.com/LSST-strong-lensing/data_public.git\n",
    ")"
   ]
  },
  {
   "cell_type": "code",
   "execution_count": 3,
   "metadata": {},
   "outputs": [
    {
     "name": "stdout",
     "output_type": "stream",
     "text": [
      "Found 7810 potential lenses and 10000 potential sources.\n"
     ]
    }
   ],
   "source": [
    "print(\n",
    "    \"Found\",\n",
    "    supernova_lens_pop.deflector_number,\n",
    "    \"potential lenses and\",\n",
    "    supernova_lens_pop.source_number,\n",
    "    \"potential sources.\",\n",
    ")"
   ]
  },
  {
   "cell_type": "markdown",
   "metadata": {},
   "source": [
    "## Choose a random lens"
   ]
  },
  {
   "cell_type": "code",
   "execution_count": 4,
   "metadata": {},
   "outputs": [],
   "source": [
    "# specifying cuts of the population\n",
    "kwargs_lens_cuts = {}\n",
    "# drawing population\n",
    "supernovae_lens_population = supernova_lens_pop.draw_population(\n",
    "    kwargs_lens_cuts=kwargs_lens_cuts  # speed_factor=200\n",
    ")"
   ]
  },
  {
   "cell_type": "code",
   "execution_count": 5,
   "metadata": {},
   "outputs": [
    {
     "name": "stdout",
     "output_type": "stream",
     "text": [
      "Number of strong lens systems: 17\n"
     ]
    },
    {
     "name": "stderr",
     "output_type": "stream",
     "text": [
      "/Users/nikki/anaconda3/envs/slsim/lib/python3.12/site-packages/sncosmo/models.py:189: RuntimeWarning: divide by zero encountered in log10\n",
      "  result[i] = -2.5 * np.log10(f / zpf)\n",
      "/Users/nikki/anaconda3/envs/slsim/lib/python3.12/site-packages/slsim/Sources/source.py:362: RuntimeWarning: divide by zero encountered in log10\n",
      "  mag_source0 = -2.5 * np.log10(w0 * flux)\n",
      "/Users/nikki/anaconda3/envs/slsim/lib/python3.12/site-packages/sncosmo/models.py:189: RuntimeWarning: invalid value encountered in log10\n",
      "  result[i] = -2.5 * np.log10(f / zpf)\n"
     ]
    }
   ],
   "source": [
    "print(\"Number of strong lens systems:\", len(supernovae_lens_population))\n",
    "\n",
    "lens_samples = []\n",
    "labels = [\n",
    "    r\"$\\sigma_v$\",\n",
    "    r\"$\\log(M_{*})$\",\n",
    "    r\"$\\theta_E$\",\n",
    "    r\"$z_{\\rm l}$\",\n",
    "    r\"$z_{\\rm s}$\",\n",
    "    r\"$m_{\\rm host}$\",\n",
    "    r\"$m_{\\rm ps}$\",\n",
    "    r\"$m_{\\rm lens}$\",\n",
    "]\n",
    "\n",
    "for supernovae_lens in supernovae_lens_population:\n",
    "    vel_disp = supernovae_lens.deflector_velocity_dispersion()\n",
    "    m_star = supernovae_lens.deflector_stellar_mass()\n",
    "    theta_e = supernovae_lens.einstein_radius\n",
    "    zl = supernovae_lens.deflector_redshift\n",
    "    zs = supernovae_lens.source_redshift\n",
    "    source_mag = supernovae_lens.extended_source_magnitude(band=\"i\", lensed=True)\n",
    "    ps_source_mag = supernovae_lens.point_source_magnitude(band=\"i\")\n",
    "    deflector_mag = supernovae_lens.deflector_magnitude(band=\"i\")\n",
    "    lens_samples.append(\n",
    "        [\n",
    "            vel_disp,\n",
    "            np.log10(m_star),\n",
    "            theta_e,\n",
    "            zl,\n",
    "            source_mag,\n",
    "            ps_source_mag,\n",
    "            deflector_mag,\n",
    "        ]\n",
    "    )"
   ]
  },
  {
   "cell_type": "markdown",
   "metadata": {},
   "source": [
    "## Choose a lens to simulate an image"
   ]
  },
  {
   "cell_type": "code",
   "execution_count": 6,
   "metadata": {},
   "outputs": [
    {
     "data": {
      "text/plain": [
       "(1.832039, 0.5321404664052483, 24.688736, 26.831420679814215)"
      ]
     },
     "execution_count": 6,
     "metadata": {},
     "output_type": "execute_result"
    }
   ],
   "source": [
    "kwargs_lens_cut = {\"min_image_separation\": 1, \"max_image_separation\": 10}\n",
    "rgb_band_list = [\"i\", \"r\", \"g\"]\n",
    "lens_class = supernovae_lens_population[2]\n",
    "(\n",
    "    lens_class.source.source_dict[\"z\"],\n",
    "    lens_class.einstein_radius,\n",
    "    lens_class.source.source_dict[\"mag_i\"],\n",
    "    lens_class.source.source_dict[\"ps_mag_i\"],\n",
    "    # lens_class._deflector_dict[\"mag_i\"],\n",
    "    # lens_class._deflector_dict[\"z\"],\n",
    ")"
   ]
  },
  {
   "cell_type": "code",
   "execution_count": 7,
   "metadata": {},
   "outputs": [],
   "source": [
    "pix_coord = point_source_coordinate_properties(\n",
    "    lens_class,\n",
    "    band=\"i\",\n",
    "    mag_zero_point=27,\n",
    "    delta_pix=0.2,\n",
    "    num_pix=32,\n",
    "    transform_pix2angle=np.array([[0.2, 0], [0, 0.2]]),\n",
    ")[\"image_pix\"]"
   ]
  },
  {
   "cell_type": "code",
   "execution_count": 8,
   "metadata": {},
   "outputs": [
    {
     "data": {
      "text/plain": [
       "array([[11.52138022, 14.5660759 ],\n",
       "       [15.49632453, 16.44243526]])"
      ]
     },
     "execution_count": 8,
     "metadata": {},
     "output_type": "execute_result"
    }
   ],
   "source": [
    "pix_coord"
   ]
  },
  {
   "cell_type": "markdown",
   "metadata": {},
   "source": [
    "## See the light curve of a selected supernovae"
   ]
  },
  {
   "cell_type": "code",
   "execution_count": 9,
   "metadata": {},
   "outputs": [
    {
     "name": "stdout",
     "output_type": "stream",
     "text": [
      "This is a type Ia SN\n"
     ]
    }
   ],
   "source": [
    "light_curve = lens_class.source.variability_class.kwargs_model\n",
    "\n",
    "print(\"This is a type\", lens_class.source.sn_type, \"SN\")"
   ]
  },
  {
   "cell_type": "code",
   "execution_count": 10,
   "metadata": {},
   "outputs": [
    {
     "data": {
      "text/plain": [
       "(-22.0, 100.0)"
      ]
     },
     "execution_count": 10,
     "metadata": {},
     "output_type": "execute_result"
    },
    {
     "data": {
      "image/png": "[encoded data removed]",
      "text/plain": [
       "<Figure size 640x480 with 1 Axes>"
      ]
     },
     "metadata": {},
     "output_type": "display_data"
    }
   ],
   "source": [
    "plt.plot(light_curve[\"MJD\"], light_curve[\"ps_mag_i\"])\n",
    "# plt.ylim(12, 18)\n",
    "plt.gca().invert_yaxis()\n",
    "plt.ylabel(\"Magnitude\")\n",
    "plt.xlabel(\"Time\" \"[Days]\")\n",
    "plt.xlim(-22, 100)"
   ]
  },
  {
   "cell_type": "markdown",
   "metadata": {},
   "source": [
    "## Get observation properties from OpSim"
   ]
  },
  {
   "cell_type": "markdown",
   "metadata": {},
   "source": [
    "Generate random points on the sky"
   ]
  },
  {
   "cell_type": "code",
   "execution_count": 11,
   "metadata": {},
   "outputs": [],
   "source": [
    "N = 10\n",
    "\n",
    "ra_points = coord.Angle(np.random.uniform(low=0, high=360, size=N) * u.degree)\n",
    "ra_points = ra_points.wrap_at(180 * u.degree)\n",
    "dec_points = np.arcsin(2 * np.random.uniform(size=N) - 1) / np.pi * 180\n",
    "dec_points = coord.Angle(dec_points * u.degree)"
   ]
  },
  {
   "cell_type": "code",
   "execution_count": null,
   "metadata": {},
   "outputs": [],
   "source": [
    "exposure_data = lsst_science_pipeline.opsim_time_series_images_data(\n",
    "    ra_points, dec_points, \"baseline_v3.0_10yrs\", MJD_min=60000, MJD_max=60300\n",
    ")\n",
    "exposure_data"
   ]
  },
  {
   "cell_type": "code",
   "execution_count": null,
   "metadata": {},
   "outputs": [],
   "source": [
    "index = 0\n",
    "bands = [\"g\", \"r\", \"i\", \"z\"]\n",
    "num_pix = 200\n",
    "transform_pix2angle = np.array([[0.2, 0], [0, 0.2]])\n",
    "\n",
    "images = opsim_variable_lens_injection(\n",
    "    lens_class, bands, num_pix, transform_pix2angle, exposure_data[index]\n",
    ")\n",
    "images"
   ]
  },
  {
   "cell_type": "code",
   "execution_count": null,
   "metadata": {},
   "outputs": [],
   "source": []
  },
  {
   "cell_type": "markdown",
   "metadata": {},
   "source": [
    "## Set observation time and image configuration"
   ]
  },
  {
   "cell_type": "code",
   "execution_count": null,
   "metadata": {},
   "outputs": [],
   "source": [
    "time = np.array([-19.5, -15, -11.35135135135135, 0, 10, 20, 25, 30, 40, 44.86])\n",
    "# time = sorted(np.random.uniform(-20, 100, 10))\n",
    "# time = np.array([0, 50, 70, 120])\n",
    "repeats = 10\n",
    "# load your psf kernel and transform matrix. If you have your own psf, please provide\n",
    "# it here.\n",
    "path = \"../tests/TestData/psf_kernels_for_deflector.npy\"\n",
    "psf_kernel = 1 * np.load(path)\n",
    "psf_kernel[psf_kernel < 0] = 0\n",
    "transform_matrix = np.array([[0.2, 0], [0, 0.2]])\n",
    "\n",
    "# let's set up psf kernel for each exposure. Here we have taken the same psf that we\n",
    "# extracted above. However, each exposure can have different psf kernel and user should\n",
    "# provide corresponding psf kernel to each exposure.\n",
    "psf_kernel_list = [psf_kernel]\n",
    "transform_matrix_list = [transform_matrix]\n",
    "psf_kernels_all = psf_kernel_list * repeats\n",
    "# psf_kernels_all = np.array([dp0[\"psf_kernel\"][:10]])[0]\n",
    "\n",
    "# let's set pixel to angle transform matrix. Here we have taken the same matrix for\n",
    "# each exposure but user should provide corresponding transform matrix to each exposure.\n",
    "transform_matrix_all = transform_matrix_list * repeats\n",
    "\n",
    "# provide magnitude zero point for each exposures. Here we have taken the same magnitude\n",
    "#  zero point for each exposure but user should provide the corresponding magnitude\n",
    "# zero point for each exposure.\n",
    "mag_list = [31.0]\n",
    "mag_zero_points_all = mag_list * repeats\n",
    "# mag_zero_points_all = np.array([dp0[\"zero_point\"][:10]])[0]\n",
    "\n",
    "expo_list = [30]\n",
    "exposure_time_all = expo_list * repeats"
   ]
  },
  {
   "cell_type": "markdown",
   "metadata": {},
   "source": [
    "## Simulate Image"
   ]
  },
  {
   "cell_type": "code",
   "execution_count": null,
   "metadata": {},
   "outputs": [],
   "source": [
    "# Simulate a lens image\n",
    "image_lens_series = lens_image_series(\n",
    "    lens_class=lens_class,\n",
    "    band=\"i\",\n",
    "    mag_zero_point=mag_zero_points_all,\n",
    "    num_pix=32,\n",
    "    psf_kernel=psf_kernels_all,\n",
    "    transform_pix2angle=transform_matrix_all,\n",
    "    exposure_time=exposure_time_all,\n",
    "    t_obs=time,\n",
    "    with_deflector=True,\n",
    "    with_source=True,\n",
    ")\n",
    "\n",
    "# Make opsim_lens_image_series function (main difference: bands [list] instead of band [number])\n",
    "# Also make a function to plot light curve with observations"
   ]
  },
  {
   "cell_type": "code",
   "execution_count": null,
   "metadata": {},
   "outputs": [],
   "source": [
    "## Images in log scale\n",
    "log_images = []\n",
    "for i in range(len(image_lens_series)):\n",
    "    log_images.append(np.log10(image_lens_series[i]))"
   ]
  },
  {
   "cell_type": "markdown",
   "metadata": {},
   "source": [
    "## Visualize simulated images"
   ]
  },
  {
   "cell_type": "code",
   "execution_count": null,
   "metadata": {},
   "outputs": [],
   "source": [
    "plot_montage = create_image_montage_from_image_list(\n",
    "    num_rows=2, num_cols=5, images=image_lens_series, time=time, image_center=pix_coord\n",
    ")\n",
    "\n",
    "# add \"band=band\" and add as text to plots"
   ]
  },
  {
   "cell_type": "markdown",
   "metadata": {},
   "source": [
    "### Notes\n",
    "\n",
    "- Can I make a separate function to calculate the zero point?\n",
    "\n",
    "- calexp_center just contains the object coordinates so is currently a lot of duplicates for each epoch. Maybe there's a more efficient way to save it (or maybe it doesn't matter). \n",
    "\n",
    "- 'injected_lens' now contains the same as 'lens', because there is no background image\n",
    "\n",
    "- if catalog_type=None instead of \"scotch\", something goes wrong with the column names. I get the error: ellipticity or semi-major and semi-minor axis are missing for the first light profile in galaxy_list columns.\n",
    "- Light curve looks a bit strange for a type Ia SN?"
   ]
  },
  {
   "cell_type": "code",
   "execution_count": null,
   "metadata": {},
   "outputs": [],
   "source": []
  }
 ],
 "metadata": {
  "kernelspec": {
   "display_name": "Python (slsim)",
   "language": "python",
   "name": "slsim"
  },
  "language_info": {
   "codemirror_mode": {
    "name": "ipython",
    "version": 3
   },
   "file_extension": ".py",
   "mimetype": "text/x-python",
   "name": "python",
   "nbconvert_exporter": "python",
   "pygments_lexer": "ipython3",
   "version": "3.12.4"
  }
 },
 "nbformat": 4,
 "nbformat_minor": 2
}
