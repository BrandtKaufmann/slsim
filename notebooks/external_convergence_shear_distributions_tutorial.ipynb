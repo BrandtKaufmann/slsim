{
 "cells": [
  {
   "cell_type": "markdown",
   "source": [
    "## Importing Necessary Libraries\n",
    "\n",
    "Inculding the glass library for large scale structure simulations."
   ],
   "metadata": {
    "collapsed": false
   },
   "id": "834a58e3d3301721"
  },
  {
   "cell_type": "code",
   "outputs": [],
   "source": [
    "import glass.shells\n",
    "import glass.fields\n",
    "import warnings\n",
    "from cosmology import Cosmology\n",
    "import glass.shells\n",
    "from scipy.optimize import root_scalar\n",
    "import camb\n",
    "from camb import model\n",
    "import numpy as np\n",
    "import os\n",
    "import h5py\n",
    "from slsim.Halos.halos_plus_glass import (\n",
    "    read_glass_data,\n",
    "    skyarea_form_n,\n",
    "    generate_samples_from_glass,\n",
    "    halos_plus_glass,\n",
    "    run_certain_redshift_lensext_kde_by_multiprocessing,\n",
    "    run_halos_without_kde_by_multiprocessing,\n",
    ")\n",
    "from astropy.cosmology import default_cosmology"
   ],
   "metadata": {
    "collapsed": false
   },
   "id": "424cfeb4a74b6ab0"
  },
  {
   "cell_type": "markdown",
   "source": [
    "# glass.ext.camb\n",
    "\n",
    "This part of the code is modified from the glass.ext.camb. Website: [glass.ext.camb](https://github.com/glass-dev/glass.ext.camb)\n",
    "This part of GLASS is not easy to be pip install, so we manually copied the code from the website and modified it to fit our needs.\n",
    "\n",
    "### For this following code-box, credit to the original authors [Dr Nicolas Tessore](https://github.com/ntessore) of the code.\n"
   ],
   "metadata": {
    "collapsed": false
   },
   "id": "3f735a1274744933"
  },
  {
   "cell_type": "code",
   "outputs": [],
   "source": [
    "# this is from glass.ext.camb!\n",
    "def camb_tophat_weight(z):\n",
    "    \"\"\"Weight function for tophat window functions and CAMB.\n",
    "\n",
    "    This weight function linearly ramps up the redshift at low values,\n",
    "    from :math:`w(z = 0) = 0` to :math:`w(z = 0.1) = 1`.\n",
    "\n",
    "    \"\"\"\n",
    "    return np.clip(z / 0.1, None, 1.0)\n",
    "\n",
    "\n",
    "def matter_cls(pars, lmax, ws, *, limber=False, limber_lmin=100):\n",
    "    \"\"\"Compute angular matter power spectra using CAMB.\"\"\"\n",
    "\n",
    "    # make a copy of input parameters so we can set the things we need\n",
    "    pars = pars.copy()\n",
    "\n",
    "    # set up parameters for angular power spectra\n",
    "    pars.WantTransfer = False\n",
    "    pars.WantCls = True\n",
    "    pars.Want_CMB = False\n",
    "    pars.min_l = 1\n",
    "    pars.set_for_lmax(lmax)\n",
    "\n",
    "    # set up parameters to only compute the intrinsic matter cls\n",
    "    pars.SourceTerms.limber_windows = limber\n",
    "    pars.SourceTerms.limber_phi_lmin = limber_lmin\n",
    "    pars.SourceTerms.counts_density = True\n",
    "    pars.SourceTerms.counts_redshift = False\n",
    "    pars.SourceTerms.counts_lensing = False\n",
    "    pars.SourceTerms.counts_velocity = False\n",
    "    pars.SourceTerms.counts_radial = False\n",
    "    pars.SourceTerms.counts_timedelay = False\n",
    "    pars.SourceTerms.counts_ISW = False\n",
    "    pars.SourceTerms.counts_potential = False\n",
    "    pars.SourceTerms.counts_evolve = False\n",
    "\n",
    "    sources = []\n",
    "    for za, wa, _ in ws:\n",
    "        s = camb.sources.SplinedSourceWindow(z=za, W=wa)\n",
    "        sources.append(s)\n",
    "    pars.SourceWindows = sources\n",
    "\n",
    "    n = len(sources)\n",
    "    cls = camb.get_results(pars).get_source_cls_dict(lmax=lmax, raw_cl=True)\n",
    "\n",
    "    for i in range(1, n + 1):\n",
    "        if np.any(cls[f\"W{i}xW{i}\"] < 0):\n",
    "            warnings.warn(\"negative auto-correlation in shell {i}; improve accuracy?\")\n",
    "\n",
    "    return [cls[f\"W{i}xW{j}\"] for i in range(1, n + 1) for j in range(i, 0, -1)]"
   ],
   "metadata": {
    "collapsed": false,
    "ExecuteTime": {
     "end_time": "2024-03-14T15:36:19.144955Z",
     "start_time": "2024-03-14T15:36:19.139759Z"
    }
   },
   "id": "db19fc65d8510bc8",
   "execution_count": 3
  },
  {
   "cell_type": "markdown",
   "source": [
    "# Set CAMB cosmology and other parameters\n",
    "\n",
    "the camb cosmology setting part code is from [cambources_test](https://github.com/akrolewski/cambources_test/blob/main/example_for_cosmo_coffee.py), credit to the original authors [ akrolewski (Dr. Adam Krolewski ?)](https://github.com/akrolewski)\n",
    "\n",
    "we set nside to 2048"
   ],
   "metadata": {
    "collapsed": false
   },
   "id": "1c16e7177428955d"
  },
  {
   "cell_type": "code",
   "outputs": [],
   "source": [
    "# Code to test limber code for C_{ell} against CAMB's calculations\n",
    "# CAMB pieces are based off: https://camb.readthedocs.io/en/latest/CAMBdemo.html\n",
    "\n",
    "# Load fiducial P18 Cosmology\n",
    "# Results from Planck+BAO in last column of Table 2 in https://arxiv.org/pdf/1807.06209.pdf\n",
    "ombh2 = 0.02247\n",
    "tau = 0.0925\n",
    "ln10As = 3.0589\n",
    "ns = 0.96824\n",
    "H0 = 67.7\n",
    "h = H0 / 100.0\n",
    "sig8 = 0.8277\n",
    "# cosmomc_theta =  1.04101/100.\n",
    "\n",
    "# From sec 3.2 in https://arxiv.org/pdf/1807.06205.pdf\n",
    "Tcmb = 2.7255\n",
    "Neff = 3.046\n",
    "YHe = 0.2454  # None # Set from BBN consistency\n",
    "\n",
    "# Neutrinos, 1 massive and 2 massless\n",
    "# omnuh2 = minimal mass / 93.14 eV\n",
    "# Set minimal mass = 0.06 eV\n",
    "mnu = 0.00\n",
    "num_massive_neutrinos = 0\n",
    "hierarchy = \"degenerate\"\n",
    "\n",
    "minkh = 1e-4\n",
    "maxkh = 1e2\n",
    "nk = 6000\n",
    "\n",
    "# we set nisde to 2048\n",
    "nside = 2048\n",
    "\n",
    "sky_area = skyarea_form_n(nside=nside, deg2=True)"
   ],
   "metadata": {
    "collapsed": false
   },
   "id": "bb6d793cc38af504"
  },
  {
   "cell_type": "markdown",
   "source": [
    "# Functions to calculate As from sigma8\n",
    "\n",
    "reverse-calculate As from sigma8 using `scipy.optimize`\n"
   ],
   "metadata": {
    "collapsed": false
   },
   "id": "5ee2ec4d69093b05"
  },
  {
   "cell_type": "code",
   "outputs": [],
   "source": [
    "def get_As_from_sigma8(target_sigma8, Om0):\n",
    "    omch2 = Om0 * 0.677 * 0.677 - 0.02247\n",
    "\n",
    "    def sigma8_from_ln10As(ln10As):\n",
    "        _pars = camb.CAMBparams()\n",
    "        _pars.set_cosmology(\n",
    "            H0=H0,\n",
    "            ombh2=ombh2,\n",
    "            omch2=omch2,\n",
    "            mnu=mnu,\n",
    "            neutrino_hierarchy=hierarchy,\n",
    "            num_massive_neutrinos=num_massive_neutrinos,\n",
    "            YHe=YHe,\n",
    "            tau=tau,\n",
    "        )\n",
    "        _pars.InitPower.set_params(As=np.exp(ln10As) * 1e-10, ns=ns)\n",
    "        _pars.set_matter_power(redshifts=[0], kmax=2.0)\n",
    "        _pars.NonLinear = model.NonLinear_both\n",
    "        _results = camb.get_results(_pars)\n",
    "        sigma8 = _results.get_sigma8()[0]\n",
    "        return sigma8\n",
    "\n",
    "    # Function to find the discrepancy between the calculated sigma8 and the target sigma8\n",
    "    def discrepancy(ln10As):\n",
    "        return sigma8_from_ln10As(ln10As) - target_sigma8\n",
    "\n",
    "    result = root_scalar(discrepancy, bracket=[2.5, 4], method=\"brentq\")\n",
    "\n",
    "    # Check if the solution was found\n",
    "    if result.converged:\n",
    "        optimal_ln10As = result.root\n",
    "        print(\n",
    "            f\"The value of ln(10^10 A_s) that results in sigma8 = {target_sigma8} is approximately {optimal_ln10As:.5f}.\"\n",
    "        )\n",
    "    else:\n",
    "        raise ValueError(\"Failed to converge to a solution.\")\n",
    "\n",
    "    return np.exp(optimal_ln10As) * 1e-10"
   ],
   "metadata": {
    "collapsed": false
   },
   "id": "3e56f4e428734374",
   "execution_count": null
  },
  {
   "cell_type": "markdown",
   "source": [
    "# Functions to using GLASS for large scale structure simulations\n",
    "\n",
    "slghtly modified from the [GLASS documentation examples](https://glass.readthedocs.io/projects/examples/stable/basic/plot_lensing.html)"
   ],
   "metadata": {
    "collapsed": false
   },
   "id": "aa051c445f037210"
  },
  {
   "cell_type": "code",
   "outputs": [],
   "source": [
    "def get_glass_cls_file_certain_z_sigma8(z, sigma8, Om0, base_file_path):\n",
    "    filename = f\"cls{z:.1f}_{sigma8:.3f}.npy\"\n",
    "    full_path = os.path.join(base_file_path, filename)\n",
    "\n",
    "    if os.path.exists(full_path):\n",
    "        print(f\"File {full_path} already exists. Skipping...\")\n",
    "        return\n",
    "\n",
    "    lmax = 1900\n",
    "    omch2 = Om0 * 0.677 * 0.677 - 0.02247\n",
    "\n",
    "    # set up CAMB parameters for matter angular power spectrum\n",
    "    pars = camb.set_params(\n",
    "        H0=100 * h,\n",
    "        omch2=omch2,\n",
    "        ombh2=ombh2,\n",
    "        As=get_As_from_sigma8(sigma8, Om0),\n",
    "        NonLinear=camb.model.NonLinear_both,\n",
    "    )\n",
    "    # get the cosmology from CAMB\n",
    "    cosmo = Cosmology.from_camb(pars)\n",
    "    # shells of 200 Mpc in comoving distance spacing\n",
    "    zb = glass.shells.distance_grid(cosmo, 0.0, z, dx=200.0)\n",
    "    # uniform matter weight function\n",
    "    # CAMB requires linear ramp for low redshifts\n",
    "    ws = glass.shells.tophat_windows(zb, weight=camb_tophat_weight)\n",
    "    # compute angular matter power spectra with CAMB\n",
    "    cls = matter_cls(pars, lmax, ws)\n",
    "    np.save(full_path, cls)\n",
    "    print(os.path.abspath(full_path))\n",
    "\n",
    "\n",
    "def calculate_glass_data_from_cls_certain_z_sigma8(z, sigma8, Om0, base_file_path):\n",
    "\n",
    "    filename = f\"z{z:.1f}_sigma8_{sigma8:.3f}_data.npy\"\n",
    "    full_path_data = os.path.join(base_file_path, filename)\n",
    "\n",
    "    if os.path.exists(full_path_data):\n",
    "        print(f\"File {full_path_data} already exists. Skipping...\")\n",
    "        return\n",
    "\n",
    "    # basic parameters of the simulatio nside = 2048\n",
    "    lmax = 1900\n",
    "    omch2 = Om0 * 0.677 * 0.677 - 0.02247\n",
    "    # set up CAMB parameters for matter angular power spectrum\n",
    "    pars = camb.set_params(\n",
    "        H0=100 * h,\n",
    "        omch2=omch2,\n",
    "        ombh2=ombh2,\n",
    "        As=get_As_from_sigma8(sigma8, Om0),\n",
    "        NonLinear=camb.model.NonLinear_both,\n",
    "    )\n",
    "\n",
    "    # get the cosmology from CAMB\n",
    "    cosmo = Cosmology.from_camb(pars)\n",
    "\n",
    "    # shells of 200 Mpc in comoving distance spacing\n",
    "    zb = glass.shells.distance_grid(cosmo, 0.0, z, dx=200.0)\n",
    "\n",
    "    # uniform matter weight function\n",
    "    ws = glass.shells.tophat_windows(zb)\n",
    "\n",
    "    cls_filename = f\"cls{z:.1f}_{sigma8:.3f}.npy\"\n",
    "    full_path = os.path.join(base_file_path, cls_filename)\n",
    "\n",
    "    cls = np.load(full_path)\n",
    "    # compute Gaussian cls for lognormal fields for 3 correlated shells\n",
    "    # putting nside here means that the HEALPix pixel window function is applied\n",
    "    gls = glass.fields.lognormal_gls(cls, nside=nside, lmax=lmax, ncorr=3)\n",
    "\n",
    "    # generator for lognormal matter fields\n",
    "    matter = glass.fields.generate_lognormal(gls, nside, ncorr=3)\n",
    "\n",
    "    convergence = glass.lensing.MultiPlaneConvergence(cosmo)\n",
    "    kappa_bar = np.zeros(12 * nside**2)\n",
    "    # main loop to simulate the matter fields iterative\n",
    "    for i, delta_i in enumerate(matter):\n",
    "\n",
    "        # add lensing plane from the window function of this shell\n",
    "        convergence.add_window(delta_i, ws[i])\n",
    "\n",
    "        # get convergence field\n",
    "        kappa_i = convergence.kappa\n",
    "\n",
    "    kappa_bar = kappa_i\n",
    "    gamma = glass.lensing.from_convergence(kappa=kappa_bar, shear=True)\n",
    "    gamma_bar = np.abs(gamma)\n",
    "\n",
    "    data = np.column_stack((kappa_bar, gamma_bar[0]))\n",
    "\n",
    "    np.save(full_path_data, data)\n",
    "\n",
    "\n",
    "def calculate_cls_allz_certian_sigma8(sigma8, Om0, base_file_path):\n",
    "    for z in np.arange(0.1, 5.1, 0.1):\n",
    "        get_glass_cls_file_certain_z_sigma8(z, sigma8, Om0, base_file_path)\n",
    "\n",
    "\n",
    "def calculate_data_from_cls_allz_certian_sigma8(sigma8, Om0, base_file_path):\n",
    "    for z in np.arange(0.1, 5.1, 0.1):\n",
    "        calculate_glass_data_from_cls_certain_z_sigma8(z, sigma8, Om0, base_file_path)"
   ],
   "metadata": {
    "collapsed": false
   },
   "id": "151abf3c04a01e3a",
   "execution_count": null
  },
  {
   "cell_type": "markdown",
   "source": [
    "# Joint Distributions Calculation\n",
    "\n",
    "Calculates joint distributions of external convergence and shear for combinations of source and deflector redshifts combining both the GLASS and halo rendering approach.\n",
    "With non-linear correction"
   ],
   "metadata": {
    "collapsed": false
   },
   "id": "9aacd95678d523b0"
  },
  {
   "cell_type": "code",
   "outputs": [],
   "source": [
    "def calculate_joint_distributions(\n",
    "    zs_range,\n",
    "    zd_range,\n",
    "    base_file_path,\n",
    "    n_iterations=500,\n",
    "    samples_number=20,\n",
    "    m_min=1e12,\n",
    "    m_max=1e16,\n",
    "    sigma8=0.8277,\n",
    "    Om0=0.30667,\n",
    "):\n",
    "    cosmo = default_cosmology.get()\n",
    "    joint_distributions = {}\n",
    "\n",
    "    for zs in zs_range:\n",
    "        for zd in zd_range:\n",
    "            if zd < zs:\n",
    "                file_path = os.path.join(\n",
    "                    base_file_path, f\"z{zs:.1f}_sigma8_{sigma8:.3f}_data.npy\"\n",
    "                )\n",
    "\n",
    "                kappa_values, gamma_values, _ = read_glass_data(file_name=file_path)\n",
    "                kappa_random_glass, gamma_random_glass = generate_samples_from_glass(\n",
    "                    kappa_values, gamma_values, n=1000\n",
    "                )\n",
    "\n",
    "                distribution = run_certain_redshift_lensext_kde_by_multiprocessing(\n",
    "                    n_iterations=n_iterations,\n",
    "                    sky_area=sky_area,\n",
    "                    samples_number=samples_number,\n",
    "                    cosmo=cosmo,\n",
    "                    m_min=m_min,\n",
    "                    m_max=m_max,\n",
    "                    z_max=zs,\n",
    "                    zs=zs,\n",
    "                    zd=zd,\n",
    "                    mass_sheet_correction=False,\n",
    "                    listmean=False,\n",
    "                    sigma_8=sigma8,\n",
    "                    omega_m=Om0,\n",
    "                )\n",
    "\n",
    "                nk1 = [point[0] for point in distribution]\n",
    "                ng1 = [point[1] for point in distribution]\n",
    "                nk1_mean = sum(nk1) / len(nk1)\n",
    "                nk1 = [item - nk1_mean for item in nk1]\n",
    "\n",
    "                total_kappa, total_gamma = halos_plus_glass(\n",
    "                    kappa_random_glass, gamma_random_glass, nk1, ng1\n",
    "                )\n",
    "\n",
    "                kappa_gamma_pairs = np.column_stack((total_kappa, total_gamma))\n",
    "                joint_distributions[(zs, zd)] = kappa_gamma_pairs\n",
    "\n",
    "    with h5py.File(\n",
    "        os.path.join(base_file_path, f\"joint_distributions_sigma8_{sigma8:.3f}.h5\"), \"w\"\n",
    "    ) as f:\n",
    "        for (zs, zd), kappa_gamma in joint_distributions.items():\n",
    "            f.create_dataset(f\"zs_{zs:.1f}_zd_{zd:.1f}\", data=kappa_gamma)\n",
    "\n",
    "    return joint_distributions"
   ],
   "metadata": {
    "collapsed": false,
    "ExecuteTime": {
     "start_time": "2024-03-14T15:36:19.292089Z"
    }
   },
   "id": "bca1750e12e03c1d"
  },
  {
   "cell_type": "markdown",
   "source": [
    "# Calculate distributions without line of sight\n",
    "\n",
    "Calculates distributions of external convergence and shear for source redshifts combining both the GLASS and halo rendering approach.\n",
    "Without non-linear correction"
   ],
   "metadata": {
    "collapsed": false
   },
   "id": "f68ac889cb5b3798"
  },
  {
   "cell_type": "code",
   "outputs": [],
   "source": [
    "def calculate_no_los_distributions(\n",
    "    zs_range,\n",
    "    base_file_path,\n",
    "    n_iterations=500,\n",
    "    samples_number=20,\n",
    "    m_min=8e11,\n",
    "    m_max=1e16,\n",
    "    sigma8=0.8277,\n",
    "    Om0=0.30667,\n",
    "):\n",
    "    cosmo = default_cosmology.get()\n",
    "    joint_distributions = {}\n",
    "\n",
    "    filename = f\"no_nonlinear_distributions_sigma8_{sigma8:.3f}.h5\"\n",
    "    full_path_data = os.path.join(base_file_path, filename)\n",
    "\n",
    "    if os.path.exists(full_path_data):\n",
    "        print(f\"File {full_path_data} already exists. Skipping...\")\n",
    "        return\n",
    "\n",
    "    for zs in zs_range:\n",
    "        file_path = os.path.join(\n",
    "            base_file_path, f\"z{zs:.1f}_sigma8_{sigma8:.3f}_data.npy\"\n",
    "        )\n",
    "\n",
    "        kappa_values, gamma_values, _ = read_glass_data(file_name=file_path)\n",
    "        kappa_random_glass, gamma_random_glass = generate_samples_from_glass(\n",
    "            kappa_values, gamma_values, n=1000\n",
    "        )\n",
    "\n",
    "        distribution = run_halos_without_kde_by_multiprocessing(\n",
    "            n_iterations=n_iterations,\n",
    "            sky_area=sky_area,\n",
    "            samples_number=samples_number,\n",
    "            cosmo=cosmo,\n",
    "            m_min=m_min,\n",
    "            m_max=m_max,\n",
    "            z_max=zs,\n",
    "            mass_sheet_correction=False,\n",
    "            listmean=False,\n",
    "            sigma_8=sigma8,\n",
    "            omega_m=Om0,\n",
    "        )\n",
    "\n",
    "        nk1 = distribution[0]\n",
    "        ng1 = distribution[1]\n",
    "        nk1_mean = sum(nk1) / len(nk1)\n",
    "        nk1 = [item - nk1_mean for item in nk1]\n",
    "\n",
    "        total_kappa, total_gamma = halos_plus_glass(\n",
    "            kappa_random_glass, gamma_random_glass, nk1, ng1\n",
    "        )\n",
    "\n",
    "        kappa_gamma_pairs = np.column_stack((total_kappa, total_gamma))\n",
    "        joint_distributions[zs] = kappa_gamma_pairs\n",
    "\n",
    "    with h5py.File(\n",
    "        os.path.join(\n",
    "            base_file_path, f\"no_nonlinear_distributions_sigma8_{sigma8:.3f}.h5\"\n",
    "        ),\n",
    "        \"w\",\n",
    "    ) as f:\n",
    "        for zs, kappa_gamma in joint_distributions.items():\n",
    "            f.create_dataset(f\"zs_{zs:.1f}\", data=kappa_gamma)\n",
    "\n",
    "    return joint_distributions"
   ],
   "metadata": {
    "collapsed": false,
    "ExecuteTime": {
     "start_time": "2024-03-14T15:36:19.293991Z"
    }
   },
   "id": "69e80b428440c998"
  },
  {
   "cell_type": "code",
   "outputs": [],
   "source": [
    "sigma8 = 0.825\n",
    "Om0 = 0.280\n",
    "\n",
    "# sigma8 = 0.8102\n",
    "# Om0 = 0.3111"
   ],
   "metadata": {
    "collapsed": false
   },
   "id": "301f9893ceee782f"
  },
  {
   "cell_type": "markdown",
   "source": [
    "# Get the results out"
   ],
   "metadata": {
    "collapsed": false
   },
   "id": "dac078749c2af835"
  },
  {
   "cell_type": "code",
   "outputs": [],
   "source": [
    "base_file_path = \"/home/xitang/slsim/data/glass\"\n",
    "calculate_cls_allz_certian_sigma8(sigma8=sigma8, Om0=Om0, base_file_path=base_file_path)\n",
    "calculate_data_from_cls_allz_certian_sigma8(\n",
    "    sigma8=sigma8, Om0=Om0, base_file_path=base_file_path\n",
    ")"
   ],
   "metadata": {
    "collapsed": false
   },
   "id": "a5777fa5ded8417b"
  },
  {
   "cell_type": "code",
   "outputs": [],
   "source": [
    "base_file_path = \"/home/xitang/slsim/data/glass\"\n",
    "zs_range = np.arange(0.1, 5.0, 0.1)\n",
    "zd_range = np.arange(0.1, 5.0, 0.1)\n",
    "joint_distributions = calculate_joint_distributions(\n",
    "    zs_range=zs_range,\n",
    "    zd_range=zd_range,\n",
    "    base_file_path=base_file_path,\n",
    "    sigma8=sigma8,\n",
    "    Om0=Om0,\n",
    ")"
   ],
   "metadata": {
    "collapsed": false
   },
   "id": "a95936f1d28abe6e"
  },
  {
   "cell_type": "code",
   "outputs": [],
   "source": [
    "base_file_path = \"/home/xitang/slsim/data/glass\"\n",
    "zs_range = np.arange(0.1, 5.0, 0.1)\n",
    "joint_distributions2 = calculate_no_los_distributions(\n",
    "    zs_range=zs_range, base_file_path=base_file_path, sigma8=sigma8, Om0=Om0\n",
    ")"
   ],
   "metadata": {
    "collapsed": false
   },
   "id": "db7b2694ae7ad01a"
  }
 ],
 "metadata": {
  "kernelspec": {
   "display_name": "Python 3",
   "language": "python",
   "name": "python3"
  },
  "language_info": {
   "codemirror_mode": {
    "name": "ipython",
    "version": 2
   },
   "file_extension": ".py",
   "mimetype": "text/x-python",
   "name": "python",
   "nbconvert_exporter": "python",
   "pygments_lexer": "ipython2",
   "version": "2.7.6"
  }
 },
 "nbformat": 4,
 "nbformat_minor": 5
}
