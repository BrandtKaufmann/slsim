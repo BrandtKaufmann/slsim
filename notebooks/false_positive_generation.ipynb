{
 "cells": [
  {
   "cell_type": "code",
   "execution_count": 45,
   "metadata": {},
   "outputs": [],
   "source": [
    "import numpy as np\n",
    "import matplotlib.pyplot as plt\n",
    "from astropy.cosmology import FlatLambdaCDM\n",
    "from astropy.units import Quantity\n",
    "from slsim.false_positive_pop import FalsePositivePop\n",
    "import slsim.Pipelines as pipelines\n",
    "import slsim.Sources as sources\n",
    "import slsim.Deflectors as deflectors\n",
    "from slsim.image_simulation import lens_image"
   ]
  },
  {
   "cell_type": "markdown",
   "metadata": {},
   "source": [
    "# False positive simulations\n",
    "\n",
    "This notebook walks through the basics of simulating a galaxy-galaxy strong lenses like false postive.\n",
    "\n",
    "The notebook goes in three steps:\n",
    "\n",
    "1. The populations of elliptical and blue galaxy is produced.\n",
    "2. The given number of false positive is generated.\n",
    "3. A random false positive is selected and visualized in an image.\n"
   ]
  },
  {
   "cell_type": "code",
   "execution_count": 3,
   "metadata": {},
   "outputs": [],
   "source": [
    "# define a cosmology\n",
    "cosmo = FlatLambdaCDM(H0=70, Om0=0.3)\n",
    "\n",
    "# define a sky area\n",
    "sky_area = Quantity(value=0.1, unit=\"deg2\")\n",
    "\n",
    "\n",
    "# define limits in the intrinsic deflector and source population (in addition to the skypy config\n",
    "# file)\n",
    "kwargs_deflector_cut = {\"band\": \"g\", \"band_max\": 28, \"z_min\": 0.01, \"z_max\": 2.5}\n",
    "kwargs_source_cut = {\"band\": \"g\", \"band_max\": 28, \"z_min\": 0.1, \"z_max\": 5.0}"
   ]
  },
  {
   "cell_type": "code",
   "execution_count": 5,
   "metadata": {},
   "outputs": [],
   "source": [
    "# Generate galaxy population using skypy pipeline.\n",
    "galaxy_simulation_pipeline = pipelines.SkyPyPipeline(\n",
    "    skypy_config=None, sky_area=sky_area, filters=None, cosmo=cosmo\n",
    ")"
   ]
  },
  {
   "cell_type": "code",
   "execution_count": 6,
   "metadata": {},
   "outputs": [
    {
     "name": "stderr",
     "output_type": "stream",
     "text": [
      "/Users/narayankhadka/slsim/slsim/Deflectors/elliptical_lens_galaxies.py:39: UserWarning: Angular size is converted to arcsec because provided input_catalog_type is skypy. If this is not correct, please refer to the documentation of the class you are using\n",
      "  galaxy_list = param_util.catalog_with_angular_size_in_arcsec(\n"
     ]
    }
   ],
   "source": [
    "# Initiate deflector population class.\n",
    "lens_galaxies = deflectors.EllipticalLensGalaxies(\n",
    "    galaxy_list=galaxy_simulation_pipeline.red_galaxies,\n",
    "    kwargs_cut=kwargs_deflector_cut,\n",
    "    kwargs_mass2light=0.1,\n",
    "    cosmo=cosmo,\n",
    "    sky_area=sky_area,)\n",
    "#Initialize source pospulation class\n",
    "source_galaxies=sources.Galaxies(\n",
    "    galaxy_list=galaxy_simulation_pipeline.blue_galaxies,\n",
    "    kwargs_cut=kwargs_source_cut,\n",
    "    cosmo=cosmo,\n",
    "    sky_area=sky_area,\n",
    "    catalog_type=\"skypy\",\n",
    ")"
   ]
  },
  {
   "cell_type": "code",
   "execution_count": 7,
   "metadata": {},
   "outputs": [],
   "source": [
    "# make galaxy-galaxy lens like false positive class.\n",
    "fp_pop = FalsePositivePop(\n",
    "    elliptical_galaxy_population=lens_galaxies,\n",
    "    blue_galaxy_population=source_galaxies,\n",
    "    cosmo=cosmo\n",
    ")"
   ]
  },
  {
   "cell_type": "markdown",
   "metadata": {},
   "source": [
    "## Generate given number of false positive"
   ]
  },
  {
   "cell_type": "code",
   "execution_count": 13,
   "metadata": {},
   "outputs": [],
   "source": [
    "fp_class=fp_pop.draw_false_positive(number=100)"
   ]
  },
  {
   "cell_type": "markdown",
   "metadata": {},
   "source": [
    "## Simulate image in i-band"
   ]
  },
  {
   "cell_type": "code",
   "execution_count": 41,
   "metadata": {},
   "outputs": [],
   "source": [
    "# load your psf kernel and transform matrix. If you have your own psf, please provide\n",
    "# it here.\n",
    "path = \"../tests/TestData/psf_kernels_for_deflector.npy\"\n",
    "psf_kernel = 1 * np.load(path)\n",
    "psf_kernel[psf_kernel < 0] = 0\n",
    "transform_matrix = np.array([[0.2, 0], [0, 0.2]])"
   ]
  },
  {
   "cell_type": "code",
   "execution_count": 43,
   "metadata": {},
   "outputs": [],
   "source": [
    "image_false_positive_i = lens_image(\n",
    "    lens_class=fp_class[18],\n",
    "    band=\"i\",\n",
    "    mag_zero_point=31,\n",
    "    num_pix=64,\n",
    "    psf_kernel=psf_kernel,\n",
    "    transform_pix2angle=transform_matrix,\n",
    "    exposure_time=30,\n",
    "    with_deflector=True,\n",
    "    with_source=False,\n",
    ")"
   ]
  },
  {
   "cell_type": "code",
   "execution_count": 44,
   "metadata": {},
   "outputs": [
    {
     "data": {
      "text/plain": [
       "<matplotlib.image.AxesImage at 0x7fcdffa438e0>"
      ]
     },
     "execution_count": 44,
     "metadata": {},
     "output_type": "execute_result"
    },
    {
     "data": {
      "image/png": "[encoded data removed]",
      "text/plain": [
       "<Figure size 432x288 with 1 Axes>"
      ]
     },
     "metadata": {
      "needs_background": "light"
     },
     "output_type": "display_data"
    }
   ],
   "source": [
    "plt.imshow(image_false_positive_i, origin=\"lower\")"
   ]
  },
  {
   "cell_type": "code",
   "execution_count": null,
   "metadata": {},
   "outputs": [],
   "source": []
  }
 ],
 "metadata": {
  "kernelspec": {
   "display_name": "base",
   "language": "python",
   "name": "python3"
  },
  "language_info": {
   "codemirror_mode": {
    "name": "ipython",
    "version": 3
   },
   "file_extension": ".py",
   "mimetype": "text/x-python",
   "name": "python",
   "nbconvert_exporter": "python",
   "pygments_lexer": "ipython3",
   "version": "3.9.7"
  }
 },
 "nbformat": 4,
 "nbformat_minor": 2
}
