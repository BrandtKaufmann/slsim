{
 "cells": [
  {
   "cell_type": "code",
   "execution_count": 1,
   "metadata": {
    "ExecuteTime": {
     "end_time": "2024-04-16T00:27:13.464961Z",
     "start_time": "2024-04-16T00:27:11.494283Z"
    }
   },
   "outputs": [],
   "source": [
    "import matplotlib.pyplot as plt\n",
    "from astropy.cosmology import FlatLambdaCDM\n",
    "from slsim.Pipelines.skypy_pipeline import SkyPyPipeline\n",
    "from astropy.units import Quantity\n",
    "from slsim.lens_pop import LensPop\n",
    "from slsim.Plots.lens_plots import LensingPlots\n",
    "import numpy as np\n",
    "from slsim.selection import deflector_cut\n",
    "import corner\n",
    "from lenstronomy.Util import constants\n",
    "from colossus.cosmology import cosmology\n",
    "import numpy.random as random\n",
    "from slsim.Util import param_util\n",
    "import pandas as pd\n",
    "import sys\n",
    "from slsim.lens import Lens\n",
    "from slsim.Deflectors.deflector import Deflector\n",
    "import hmf\n",
    "from hmf.halos import mass_definitions as md\n",
    "# sys.path.append('../slsim')\n",
    "# from lens_pop import LensPop\n",
    "# from lensed_population_base import LensedPopulationBase\n",
    "# sys.path.append('../slsim/Deflectors')  # 別ディレクトリのパスを追加\n",
    "# from deflectors_base import DeflectorsBase\n",
    "# from compound_lens_halos_galaxies import CompoundLensHalosGalaxies\n",
    "# from lenstronomy.Util import constants\n",
    "# from velocity_dispersion import vel_disp_composite_model\n",
    "# sys.path.append('../slsim/Pipelines')  # 別ディレクトリのパスを追加\n",
    "# from sl_hammocks_pipeline import SLHammocksPipeline\n",
    "\n",
    "cosmo_col = cosmology.setCosmology('planck18')\n",
    "cosmo = FlatLambdaCDM(H0=cosmo_col.H0, Om0=cosmo_col.Om0)\n"
   ]
  },
  {
   "cell_type": "code",
   "execution_count": 2,
   "metadata": {},
   "outputs": [
    {
     "data": {
      "text/html": [
       "<div><i>Table length=325</i>\n",
       "<table id=\"table6043408400\" class=\"table-striped table-bordered table-condensed\">\n",
       "<thead><tr><th>col0</th><th>z</th><th>halo_mass</th><th>halo_mass_acc</th><th>e_h</th><th>p_h</th><th>concentration</th><th>stellar_mass</th><th>e_g</th><th>p_g</th><th>tb</th><th>vel_disp</th></tr></thead>\n",
       "<thead><tr><th>int64</th><th>float64</th><th>float64</th><th>float64</th><th>float64</th><th>float64</th><th>float64</th><th>float64</th><th>float64</th><th>float64</th><th>float64</th><th>float64</th></tr></thead>\n",
       "<tr><td>0</td><td>0.022</td><td>110662400000.0</td><td>0.0</td><td>0.1507349</td><td>-9.519763</td><td>13.72977</td><td>1080892000.0</td><td>0.4210705</td><td>-27.15581</td><td>5.840332</td><td>54.11351611935491</td></tr>\n",
       "<tr><td>1000</td><td>0.576</td><td>3548134000000.0</td><td>0.0</td><td>0.3829286</td><td>72.05911</td><td>6.484948</td><td>87221260000.0</td><td>0.4837437</td><td>46.38458</td><td>0.1061987</td><td>204.3720453546389</td></tr>\n",
       "<tr><td>2000</td><td>0.765</td><td>516416400000.0</td><td>0.0</td><td>0.4977757</td><td>122.247</td><td>7.572108</td><td>17768070000.0</td><td>0.1646521</td><td>127.6121</td><td>0.04912861</td><td>127.851230286198</td></tr>\n",
       "<tr><td>3000</td><td>0.911</td><td>148593600000.0</td><td>0.0</td><td>0.4534484</td><td>-46.85858</td><td>10.90592</td><td>548169400.0</td><td>0.4837566</td><td>-35.74009</td><td>0.1274478</td><td>52.00127681958947</td></tr>\n",
       "<tr><td>4000</td><td>1.037</td><td>169824400000.0</td><td>0.0</td><td>0.184639</td><td>122.1807</td><td>6.316697</td><td>816558200.0</td><td>0.3848487</td><td>166.7035</td><td>0.1198332</td><td>42.53282987528342</td></tr>\n",
       "<tr><td>5000</td><td>1.154</td><td>229086800000.0</td><td>0.0</td><td>0.202068</td><td>-29.99197</td><td>3.972965</td><td>1236293000.0</td><td>0.3704674</td><td>-16.34382</td><td>0.05697951</td><td>37.80321361734811</td></tr>\n",
       "<tr><td>6000</td><td>1.264</td><td>144211500000.0</td><td>0.0</td><td>0.3566259</td><td>165.1809</td><td>7.026705</td><td>619452300.0</td><td>0.09381935</td><td>192.0172</td><td>0.1238609</td><td>46.56576945541271</td></tr>\n",
       "<tr><td>7000</td><td>1.37</td><td>210862800000.0</td><td>0.0</td><td>0.1852096</td><td>-2.915689</td><td>5.302036</td><td>1323176000.0</td><td>0.3063853</td><td>5.763391</td><td>0.1009176</td><td>45.327222552049726</td></tr>\n",
       "<tr><td>8000</td><td>1.473</td><td>164059000000.0</td><td>0.0</td><td>0.02291373</td><td>110.3108</td><td>5.623022</td><td>915614600.0</td><td>0.2372075</td><td>156.3429</td><td>0.1232049</td><td>46.50312215923301</td></tr>\n",
       "<tr><td>9000</td><td>1.575</td><td>342767800000.0</td><td>0.0</td><td>0.1452881</td><td>-0.4417026</td><td>2.733182</td><td>1693974000.0</td><td>0.1657546</td><td>-20.57162</td><td>0.1595728</td><td>44.801140512587125</td></tr>\n",
       "<tr><td>...</td><td>...</td><td>...</td><td>...</td><td>...</td><td>...</td><td>...</td><td>...</td><td>...</td><td>...</td><td>...</td><td>...</td></tr>\n",
       "<tr><td>315000</td><td>2.542</td><td>142889400000.0</td><td>0.0</td><td>0.3785194</td><td>-3.585644</td><td>2.839783</td><td>619416900.0</td><td>0.6671583</td><td>10.04905</td><td>0.03741567</td><td>34.697107054668415</td></tr>\n",
       "<tr><td>316000</td><td>2.678</td><td>483058800000.0</td><td>0.0</td><td>0.08676531</td><td>106.9916</td><td>5.892725</td><td>3688971000.0</td><td>0.3630143</td><td>86.7943</td><td>0.175569</td><td>89.94226853835598</td></tr>\n",
       "<tr><td>317000</td><td>2.826</td><td>156675100000.0</td><td>0.0</td><td>0.272059</td><td>101.7101</td><td>2.569528</td><td>514676600.0</td><td>0.3897728</td><td>117.4173</td><td>0.05826681</td><td>35.08362302232545</td></tr>\n",
       "<tr><td>318000</td><td>2.987</td><td>244906300000.0</td><td>0.0</td><td>0.1919487</td><td>-81.22847</td><td>3.497248</td><td>1381975000.0</td><td>0.4954162</td><td>3.505397</td><td>0.09135559</td><td>53.084216116402</td></tr>\n",
       "<tr><td>319000</td><td>3.162</td><td>125025900000.0</td><td>0.0</td><td>0.08381249</td><td>99.85563</td><td>3.734663</td><td>416322400.0</td><td>0.2468155</td><td>46.46819</td><td>0.07218961</td><td>42.68989076889061</td></tr>\n",
       "<tr><td>320000</td><td>3.362</td><td>130918200000.0</td><td>0.0</td><td>0.5167096</td><td>-63.40463</td><td>7.154163</td><td>389231900.0</td><td>0.2515525</td><td>-75.99726</td><td>0.06861348</td><td>59.48538237638674</td></tr>\n",
       "<tr><td>321000</td><td>3.592</td><td>1006932000000.0</td><td>0.0</td><td>0.2741659</td><td>128.6977</td><td>3.12461</td><td>13700780000.0</td><td>0.5823241</td><td>137.9561</td><td>0.1259304</td><td>100.7531970732045</td></tr>\n",
       "<tr><td>322000</td><td>3.881</td><td>121338900000.0</td><td>0.0</td><td>0.1797392</td><td>-88.35701</td><td>2.708081</td><td>440413000.0</td><td>0.3841513</td><td>-92.87746</td><td>0.1106481</td><td>47.036654156548096</td></tr>\n",
       "<tr><td>323000</td><td>4.256</td><td>189670600000.0</td><td>0.0</td><td>0.1274424</td><td>-120.516</td><td>3.995246</td><td>1000013000.0</td><td>0.2340417</td><td>-130.8633</td><td>0.1002616</td><td>63.57291217695683</td></tr>\n",
       "<tr><td>324000</td><td>4.823</td><td>117760600000.0</td><td>0.0</td><td>0.2511417</td><td>30.35469</td><td>2.420641</td><td>506038400.0</td><td>0.2700931</td><td>10.16278</td><td>0.06636692</td><td>43.43553167547413</td></tr>\n",
       "</table></div>"
      ],
      "text/plain": [
       "<Table length=325>\n",
       " col0     z       halo_mass    ...    p_g        tb          vel_disp     \n",
       "int64  float64     float64     ...  float64   float64        float64      \n",
       "------ ------- --------------- ... --------- ---------- ------------------\n",
       "     0   0.022  110662400000.0 ... -27.15581   5.840332  54.11351611935491\n",
       "  1000   0.576 3548134000000.0 ...  46.38458  0.1061987  204.3720453546389\n",
       "  2000   0.765  516416400000.0 ...  127.6121 0.04912861   127.851230286198\n",
       "  3000   0.911  148593600000.0 ... -35.74009  0.1274478  52.00127681958947\n",
       "  4000   1.037  169824400000.0 ...  166.7035  0.1198332  42.53282987528342\n",
       "  5000   1.154  229086800000.0 ... -16.34382 0.05697951  37.80321361734811\n",
       "  6000   1.264  144211500000.0 ...  192.0172  0.1238609  46.56576945541271\n",
       "  7000    1.37  210862800000.0 ...  5.763391  0.1009176 45.327222552049726\n",
       "  8000   1.473  164059000000.0 ...  156.3429  0.1232049  46.50312215923301\n",
       "  9000   1.575  342767800000.0 ... -20.57162  0.1595728 44.801140512587125\n",
       "   ...     ...             ... ...       ...        ...                ...\n",
       "315000   2.542  142889400000.0 ...  10.04905 0.03741567 34.697107054668415\n",
       "316000   2.678  483058800000.0 ...   86.7943   0.175569  89.94226853835598\n",
       "317000   2.826  156675100000.0 ...  117.4173 0.05826681  35.08362302232545\n",
       "318000   2.987  244906300000.0 ...  3.505397 0.09135559    53.084216116402\n",
       "319000   3.162  125025900000.0 ...  46.46819 0.07218961  42.68989076889061\n",
       "320000   3.362  130918200000.0 ... -75.99726 0.06861348  59.48538237638674\n",
       "321000   3.592 1006932000000.0 ...  137.9561  0.1259304  100.7531970732045\n",
       "322000   3.881  121338900000.0 ... -92.87746  0.1106481 47.036654156548096\n",
       "323000   4.256  189670600000.0 ... -130.8633  0.1002616  63.57291217695683\n",
       "324000   4.823  117760600000.0 ...  10.16278 0.06636692  43.43553167547413"
      ]
     },
     "execution_count": 2,
     "metadata": {},
     "output_type": "execute_result"
    }
   ],
   "source": [
    "import numpy as np\n",
    "from lenstronomy.Util import constants\n",
    "from astropy.table import Table\n",
    "\n",
    "import slsim.Deflectors.galaxy_population as galaxy_population\n",
    "import slsim.Deflectors.halo_population as halo_population\n",
    "from colossus.cosmology import cosmology\n",
    "def csv_translator_for_slsim(table):\n",
    "    \"\"\"\n",
    "        :param csv_table: original deflector population from csv file found in slhammocks_config which is generated by SL-Hammocks\n",
    "        :type csv_table: astropy.table\n",
    "    \"\"\"\n",
    "    # csv_table.rename_column(\"zl\", \"z\")\n",
    "    # csv_table.rename_column(\"con\", \"concentration\")\n",
    "    # csv_table.rename_column(\"m_g\", \"stellar_mass\")\n",
    "    # csv_table.rename_column(\"m_h\", \"halo_mass\")\n",
    "    # csv_table.rename_column(\"m_acc\", \"halo_mass_acc\")\n",
    "    if 'z' not in table.colnames:\n",
    "        table.rename_column('zl', 'z')\n",
    "    if 'concentration' not in table.colnames:\n",
    "        table.rename_column('con', 'concentration')\n",
    "    if 'stellar_mass' not in table.colnames:\n",
    "        table.rename_column('m_g', 'stellar_mass')\n",
    "    if 'halo_mass' not in table.colnames:\n",
    "        table.rename_column('m_h', 'halo_mass')\n",
    "    if 'halo_mass_acc' not in table.colnames:\n",
    "        table.rename_column('m_acc', 'halo_mass_acc')\n",
    "    return table\n",
    "\n",
    "slhammocks_config='/Users/ktabe/Research/strong-lens-SNe/slsim_KTA/data/SL-Hammocks/pop_salp_a0001_zl001_to_5_wo_sub.csv'\n",
    "table = Table.read(slhammocks_config, format=\"csv\")\n",
    "table = csv_translator_for_slsim(table)\n",
    "table"
   ]
  },
  {
   "cell_type": "markdown",
   "metadata": {},
   "source": [
    "# Galaxy-galaxy simulations\n",
    "\n",
    "This notebook walks through the basics of simulating a galaxy-galaxy strong lensing population.\n",
    "The underlying \n",
    "\n",
    "assumptions of the galaxy populations (for both lenses and sources) are drawn from a population pre-configured\n",
    "\n",
    " and rendered through [SkyPy](https://github.com/skypyproject/skypy). The specific settings are described in the [readme file](https://github.com/LSST-strong-lensing/slsim/tree/gg-lensing/data/SkyPy).\n",
    "\n",
    "The notebook goes in three steps:\n",
    "\n",
    "1. The populations of lenses and sources is produced.\n",
    "2. Random draws of the population are generated and realized as images\n",
    "3. The full population is generated in catalogue form\n",
    "4. the full population is represented in a corner plot\n",
    "\n"
   ]
  },
  {
   "cell_type": "markdown",
   "metadata": {},
   "source": [
    "## Generate population of galaxies and (potential) deflectors\n",
    "The LensPop() class in the slsim package is used to produce a set of galaxies (as lenses and sources)\n",
    "\n",
    "as seen on the sky within a certain sky area.\n",
    "We use the default SkyPy configuration file. Alternative configuration\n",
    "\n",
    "files can be used."
   ]
  },
  {
   "cell_type": "code",
   "execution_count": 5,
   "metadata": {
    "ExecuteTime": {
     "end_time": "2024-04-16T00:28:18.491329Z",
     "start_time": "2024-04-16T00:28:12.033816Z"
    }
   },
   "outputs": [],
   "source": [
    "# define a cosmology\n",
    "\n",
    "cosmo_col = cosmology.setCosmology('planck18')\n",
    "cosmo = FlatLambdaCDM(H0=cosmo_col.H0, Om0=cosmo_col.Om0)\n",
    "\n",
    "# define a sky area\n",
    "sky_area = Quantity(value=0.01, unit=\"deg2\")\n",
    "\n",
    "\n",
    "# define limits in the intrinsic deflector and source population (in addition to the skypy config\n",
    "# file)\n",
    "kwargs_deflector_cut = {\"z_min\": 0.01, \"z_max\": 2.0}\n",
    "kwargs_source_cut = {\"band\": \"g\", \"band_max\": 28, \"z_min\": 0.1, \"z_max\": 5.0}\n",
    "\n",
    "skypy_config='/Users/ktabe/Research/strong-lens-SNe/slsim/data/SkyPy/lsst-like.yml'\n",
    "# run skypy pipeline and make galaxy-galaxy population class using LensPop\n",
    "gg_lens_pop2 = LensPop(\n",
    "    deflector_type=\"elliptical\",\n",
    "    source_type=\"galaxies\",\n",
    "    kwargs_deflector_cut=kwargs_deflector_cut,\n",
    "    kwargs_source_cut=kwargs_source_cut,\n",
    "    kwargs_mass2light=None,\n",
    "    skypy_config=skypy_config,\n",
    "    sky_area=sky_area,\n",
    "    cosmo=cosmo,\n",
    ")"
   ]
  },
  {
   "cell_type": "code",
   "execution_count": 35,
   "metadata": {},
   "outputs": [
    {
     "data": {
      "text/plain": [
       "1697.7700262438145"
      ]
     },
     "execution_count": 35,
     "metadata": {},
     "output_type": "execute_result"
    }
   ],
   "source": [
    "z=1\n",
    "cosmo_col = cosmology.setCosmology('myCosmo', params = cosmology.cosmologies['planck18'], Om0 = cosmo.Om0, H0 = cosmo.H0.value)\n",
    "dis = cosmo_col.angularDiameterDistance(z) / (cosmo_col.H0 / 100.0)\n",
    "drdz = (2997.92458 / ((1.0 + z) * cosmo_col.Ez(z))) / (cosmo_col.H0 / 100.0)\n",
    "dis"
   ]
  },
  {
   "cell_type": "code",
   "execution_count": 3,
   "metadata": {
    "ExecuteTime": {
     "end_time": "2024-04-16T00:27:52.869240Z",
     "start_time": "2024-04-16T00:27:44.606844Z"
    }
   },
   "outputs": [
    {
     "name": "stdout",
     "output_type": "stream",
     "text": [
      "Now sky_area should be lower than 0.001 . Now we set sky_area_for_lens= 0.001\n",
      "Please check https://github.com/LSST-strong-lensing/data_public for the full data file\n"
     ]
    }
   ],
   "source": [
    "# sys.path.append('../slsim/Pipelines')\n",
    "# import galaxy_population\n",
    "# import halo_population\n",
    "# import global_value as g\n",
    "\n",
    "# define a cosmology\n",
    "\n",
    "cosmo_col = cosmology.setCosmology('planck18')\n",
    "cosmo = FlatLambdaCDM(H0=cosmo_col.H0, Om0=cosmo_col.Om0)\n",
    "\n",
    "# define a sky area\n",
    "sky_area = Quantity(value=0.01, unit=\"deg2\")\n",
    "\n",
    "\n",
    "# define limits in the intrinsic deflector and source population (in addition to the skypy config\n",
    "# file)\n",
    "kwargs_deflector_cut ={\"band\": \"g\", \"band_max\": 28, \"z_min\": 0.01, \"z_max\": 2.0}\n",
    "# {\n",
    "#     'sig_c': 0.33,\n",
    "#     'sig_c_sh': 0.33,\n",
    "#     'sig_mcen': 0.2,\n",
    "#     'sig_msat': 0.2,\n",
    "#     'sig_tb': 0.46,\n",
    "#     'TYPE_GAL_SIZE': 'vdW23',\n",
    "#     'frac_SM_IMF': 1.715,\n",
    "#     'TYPE_SMHM': 'true',\n",
    "#     'area': sky_area.value,\n",
    "#     'zmin': 0.01,\n",
    "#     'zmax': 5.0,\n",
    "#     'Mhmin': 1e11,\n",
    "#     'Mhmax': 1e16,\n",
    "#     'switch_sub': False,\n",
    "#     'halo_gal_pop_array': np.empty((0, 10), float),\n",
    "#     'dz': 0.001,\n",
    "#     'zz_ar': np.arange(0.01, 5.001, 0.001),\n",
    "#     'dlogMh': 0.001,\n",
    "#     'dlnMh': np.log(10**0.001),\n",
    "#     'MMh': 10**np.arange(np.log10(1e11), np.log10(1e16), 0.001),\n",
    "#     'min_Msh': 1e11 / 10\n",
    "# }\n",
    "#\n",
    "kwargs_source_cut = {\"band\": \"g\", \"band_max\": 28, \"z_min\": 0.1, \"z_max\": 5.0}\n",
    "\n",
    "skypy_config='/Users/ktabe/Research/strong-lens-SNe/slsim_KTA/data/SkyPy/lsst-like.yml'\n",
    "slhammocks_config='/Users/ktabe/Research/strong-lens-SNe/slsim_KTA/data/SL-Hammocks/pop_salp_a0001_zl001_to_5_wo_sub.csv'\n",
    "# run skypy pipeline and make galaxy-galaxy population class using LensPop\n",
    "gg_lens_pop = LensPop(\n",
    "    deflector_type=\"halo-models\",\n",
    "    source_type=\"galaxies\",\n",
    "    kwargs_deflector_cut=kwargs_deflector_cut,\n",
    "    kwargs_source_cut=kwargs_source_cut,\n",
    "    kwargs_mass2light=None,\n",
    "    skypy_config=skypy_config,\n",
    "    slhammocks_config=slhammocks_config,\n",
    "    sky_area=sky_area,\n",
    "    cosmo=cosmo,\n",
    ")"
   ]
  },
  {
   "cell_type": "code",
   "execution_count": 2,
   "metadata": {
    "ExecuteTime": {
     "end_time": "2024-04-16T00:28:37.353272Z",
     "start_time": "2024-04-16T00:28:22.390003Z"
    }
   },
   "outputs": [],
   "source": [
    "# sys.path.append('../slsim/Pipelines')\n",
    "# import lens_gals\n",
    "# import lens_halo\n",
    "# import global_value as g\n",
    "\n",
    "# define a cosmology\n",
    "\n",
    "cosmo_col = cosmology.setCosmology('planck18')\n",
    "cosmo = FlatLambdaCDM(H0=cosmo_col.H0, Om0=cosmo_col.Om0)\n",
    "\n",
    "# define a sky area\n",
    "sky_area = Quantity(value=0.01, unit=\"deg2\")\n",
    "\n",
    "\n",
    "# define limits in the intrinsic deflector and source population (in addition to the skypy config\n",
    "# file)\n",
    "kwargs_deflector_cut = {\"z_min\": 0.01, \"z_max\": 2.0}\n",
    "kwargs_source_cut = {\"band\": \"g\", \"band_max\": 28, \"z_min\": 0.1, \"z_max\": 5.0}\n",
    "\n",
    "skypy_config='/Users/ktabe/Research/strong-lens-SNe/slsim_KTA/data/SkyPy/lsst-like.yml'\n",
    "slhammocks_config=None#'/Users/ktabe/Research/strong-lens-SNe/slsim_KTA/data/SL-Hammocks/gal_pop_Salpeter_10deg2_zl2.csv'\n",
    "# run skypy pipeline and make galaxy-galaxy population class using LensPop\n",
    "gg_lens_pop3 = LensPop(\n",
    "    deflector_type=\"halo-models\",\n",
    "    source_type=\"galaxies\",\n",
    "    kwargs_deflector_cut=kwargs_deflector_cut,\n",
    "    kwargs_source_cut=kwargs_source_cut,\n",
    "    kwargs_mass2light=None,\n",
    "    skypy_config=skypy_config,\n",
    "    slhammocks_config=slhammocks_config,\n",
    "    sky_area=sky_area,\n",
    "    cosmo=cosmo,\n",
    ")"
   ]
  },
  {
   "cell_type": "code",
   "execution_count": 4,
   "metadata": {},
   "outputs": [
    {
     "data": {
      "text/plain": [
       "(array([104., 210., 291., 309., 268., 198., 113.,  62.,  25.,   8.]),\n",
       " array([0.00220147, 0.0981394 , 0.19407734, 0.29001528, 0.38595321,\n",
       "        0.48189115, 0.57782908, 0.67376702, 0.76970495, 0.86564289,\n",
       "        0.96158083]),\n",
       " <BarContainer object of 10 artists>)"
      ]
     },
     "execution_count": 4,
     "metadata": {},
     "output_type": "execute_result"
    },
    {
     "data": {
      "image/png": "[encoded data removed]",
      "text/plain": [
       "<Figure size 640x480 with 1 Axes>"
      ]
     },
     "metadata": {},
     "output_type": "display_data"
    }
   ],
   "source": [
    "\n",
    "plt.hist(gg_lens_pop3._lens_galaxies._galaxy_select['e_g'])\n"
   ]
  },
  {
   "cell_type": "code",
   "execution_count": 3,
   "metadata": {},
   "outputs": [
    {
     "name": "stdout",
     "output_type": "stream",
     "text": [
      "1612\n"
     ]
    }
   ],
   "source": [
    "# print(gg_lens_pop._lens_galaxies._num_select)\n",
    "print(gg_lens_pop3._lens_galaxies._num_select)"
   ]
  },
  {
   "cell_type": "code",
   "execution_count": 3,
   "metadata": {},
   "outputs": [
    {
     "data": {
      "text/plain": [
       "(array([665., 400., 240., 133.,  77.,  40.,  20.,  11.,   9.,   4.]),\n",
       " array([11.    , 11.2356, 11.4712, 11.7068, 11.9424, 12.178 , 12.4136,\n",
       "        12.6492, 12.8848, 13.1204, 13.356 ]),\n",
       " <BarContainer object of 10 artists>)"
      ]
     },
     "execution_count": 3,
     "metadata": {},
     "output_type": "execute_result"
    },
    {
     "data": {
      "image/png": "[encoded data removed]",
      "text/plain": [
       "<Figure size 640x480 with 1 Axes>"
      ]
     },
     "metadata": {},
     "output_type": "display_data"
    }
   ],
   "source": [
    "# plt.hist(np.log10(gg_lens_pop._lens_galaxies._galaxy_select['halo_mass']))\n",
    "plt.hist(np.log10(gg_lens_pop3._lens_galaxies._galaxy_select['halo_mass']),alpha=0.5)"
   ]
  },
  {
   "cell_type": "code",
   "execution_count": 5,
   "metadata": {
    "ExecuteTime": {
     "end_time": "2024-04-16T00:28:45.889397Z",
     "start_time": "2024-04-16T00:28:45.649255Z"
    }
   },
   "outputs": [
    {
     "data": {
      "text/html": [
       "<i>Row index=388</i>\n",
       "<table id=\"table6420223872\">\n",
       "<thead><tr><th>z</th><th>halo_mass</th><th>halo_mass_acc</th><th>e_h</th><th>p_h</th><th>concentration</th><th>stellar_mass</th><th>e_g</th><th>p_g</th><th>tb</th><th>angular_size</th><th>vel_disp</th><th>mag_g</th><th>mag_r</th><th>mag_i</th><th>mag_z</th><th>mag_Y</th><th>e1_light</th><th>e2_light</th><th>e1_mass</th><th>e2_mass</th></tr></thead>\n",
       "<thead><tr><th>float64</th><th>float64</th><th>float64</th><th>float64</th><th>float64</th><th>float64</th><th>float64</th><th>float64</th><th>float64</th><th>float64</th><th>float64</th><th>float64</th><th>float64</th><th>float64</th><th>float64</th><th>float64</th><th>float64</th><th>float64</th><th>float64</th><th>float64</th><th>float64</th></tr></thead>\n",
       "<tr><td>0.9569999999999992</td><td>407380277803.7956</td><td>0.0</td><td>0.13290431203118563</td><td>119.06220294334727</td><td>3.9777239731416962</td><td>8314765773.82698</td><td>0.31251481791987373</td><td>68.16867977803352</td><td>0.0781046411182528</td><td>6.872268343426382e-07</td><td>70.94345480569933</td><td>-1.0</td><td>-1.0</td><td>-1.0</td><td>-1.0</td><td>-1.0</td><td>0.15478894426172457</td><td>0.04155996172501363</td><td>0.11238010966804383</td><td>0.029974762119019865</td></tr>\n",
       "</table>"
      ],
      "text/plain": [
       "<Row index=388>\n",
       "        z              halo_mass     halo_mass_acc         e_h                p_h           concentration      stellar_mass           e_g                p_g                tb              angular_size          vel_disp      mag_g   mag_r   mag_i   mag_z   mag_Y        e1_light            e2_light            e1_mass             e2_mass       \n",
       "     float64            float64         float64          float64            float64            float64           float64            float64            float64           float64              float64             float64      float64 float64 float64 float64 float64       float64             float64             float64             float64       \n",
       "------------------ ----------------- ------------- ------------------- ------------------ ------------------ ---------------- ------------------- ----------------- ------------------ --------------------- ----------------- ------- ------- ------- ------- ------- ------------------- ------------------- ------------------- --------------------\n",
       "0.9569999999999992 407380277803.7956           0.0 0.13290431203118563 119.06220294334727 3.9777239731416962 8314765773.82698 0.31251481791987373 68.16867977803352 0.0781046411182528 6.872268343426382e-07 70.94345480569933    -1.0    -1.0    -1.0    -1.0    -1.0 0.15478894426172457 0.04155996172501363 0.11238010966804383 0.029974762119019865"
      ]
     },
     "execution_count": 5,
     "metadata": {},
     "output_type": "execute_result"
    }
   ],
   "source": [
    "gg_lens_pop3._lens_galaxies.draw_deflector()"
   ]
  },
  {
   "cell_type": "code",
   "execution_count": 3,
   "metadata": {},
   "outputs": [],
   "source": [
    "kwargs_deflector_cut = {\"z_min\": 0.01, \"z_max\": 2.0}\n",
    "\n",
    "# skypy_config='/Users/ktabe/Research/strong-lens-SNe/slsim_KTA/data/SL-Hammocks/gal_pop_Salpeter_10deg2_zl2.csv'\n",
    "# run skypy pipeline and make galaxy-galaxy population class using LensPop\n",
    "gg_lens_pop3 = LensPop(\n",
    "    deflector_type=\"halo-models\",\n",
    "    source_type=\"galaxies\",\n",
    "    kwargs_deflector_cut=kwargs_deflector_cut,\n",
    "    kwargs_source_cut=kwargs_source_cut,\n",
    "    kwargs_mass2light=None,\n",
    "    skypy_config=skypy_config,\n",
    "    slhammocks_config=None,\n",
    "    sky_area=sky_area,\n",
    "    cosmo=cosmo,\n",
    ")"
   ]
  },
  {
   "cell_type": "code",
   "execution_count": 14,
   "metadata": {},
   "outputs": [
    {
     "data": {
      "text/plain": [
       "(11.0, 2.0)"
      ]
     },
     "execution_count": 14,
     "metadata": {},
     "output_type": "execute_result"
    }
   ],
   "source": [
    "np.log10(min(gg_lens_pop3._lens_galaxies._galaxy_select['halo_mass'])), max(gg_lens_pop._lens_galaxies._galaxy_select['z'])"
   ]
  },
  {
   "cell_type": "code",
   "execution_count": 16,
   "metadata": {},
   "outputs": [
    {
     "data": {
      "text/html": [
       "<div><i>Table length=381</i>\n",
       "<table id=\"table6238417296\" class=\"table-striped table-bordered table-condensed\">\n",
       "<thead><tr><th>z</th><th>M</th><th>coeff</th><th>ellipticity</th><th>physical_size</th><th>stellar_mass</th><th>angular_size</th><th>mag_g</th><th>mag_r</th><th>mag_i</th><th>mag_z</th><th>mag_Y</th><th>vel_disp</th><th>e1_light</th><th>e2_light</th><th>e1_mass</th><th>e2_mass</th><th>n_sersic</th></tr></thead>\n",
       "<thead><tr><th></th><th></th><th></th><th></th><th>kpc</th><th></th><th>rad</th><th></th><th></th><th></th><th></th><th></th><th></th><th></th><th></th><th></th><th></th><th></th></tr></thead>\n",
       "<thead><tr><th>float64</th><th>float64</th><th>float64[5]</th><th>float64</th><th>float64</th><th>float64</th><th>float64</th><th>float64</th><th>float64</th><th>float64</th><th>float64</th><th>float64</th><th>float64</th><th>float64</th><th>float64</th><th>float64</th><th>float64</th><th>float64</th></tr></thead>\n",
       "<tr><td>1.998556467041887</td><td>-23.221930182705094</td><td>0.014580211315256678 .. 0.00027922589969713783</td><td>0.11027584342567216</td><td>8.674276868506373</td><td>1362166402924.5896</td><td>4.901372096006925e-06</td><td>26.155793174487254</td><td>25.825736045025362</td><td>25.34115550905506</td><td>24.253622952898798</td><td>23.37038440056583</td><td>320.89979378771886</td><td>-1.0</td><td>-1.0</td><td>-1.0</td><td>-1.0</td><td>-1.0</td></tr>\n",
       "<tr><td>1.245565498299808</td><td>-22.974996971944865</td><td>0.18508847359910938 .. 0.0003963184870359315</td><td>0.1331387541393436</td><td>7.395465680627259</td><td>909925740694.5557</td><td>4.18853018660978e-06</td><td>24.426704629734026</td><td>23.58312550138792</td><td>22.477269702980564</td><td>21.670283208389918</td><td>20.95890992982782</td><td>316.1204312000873</td><td>-1.0</td><td>-1.0</td><td>-1.0</td><td>-1.0</td><td>-1.0</td></tr>\n",
       "<tr><td>1.8189013263925555</td><td>-22.76695794207456</td><td>0.10993758466828976 .. 0.00037168068272003696</td><td>0.05188227237178492</td><td>6.204887165889491</td><td>852246371379.467</td><td>3.4766009841457494e-06</td><td>24.137088281386987</td><td>24.04613536114573</td><td>23.980219166406442</td><td>23.484021379795998</td><td>23.096387678296622</td><td>313.4358968727419</td><td>-1.0</td><td>-1.0</td><td>-1.0</td><td>-1.0</td><td>-1.0</td></tr>\n",
       "<tr><td>1.836493080508662</td><td>-22.429516444446627</td><td>0.1476462310850743 .. 0.0008995252026049224</td><td>0.11438565841533611</td><td>6.6033230962994365</td><td>634447688365.5225</td><td>3.7022935720263365e-06</td><td>25.35211638036161</td><td>25.165927985804647</td><td>24.93085473946662</td><td>24.130543677844404</td><td>23.632483985394362</td><td>301.5380235349734</td><td>-1.0</td><td>-1.0</td><td>-1.0</td><td>-1.0</td><td>-1.0</td></tr>\n",
       "<tr><td>1.8084675767918517</td><td>-22.502018226829676</td><td>0.07893805601131923 .. 0.00044702816493207204</td><td>0.14277636980440256</td><td>8.418839480053837</td><td>631142261446.193</td><td>4.715317659086048e-06</td><td>25.149616497789168</td><td>24.963278736518916</td><td>24.71061676798187</td><td>23.935239971518705</td><td>23.465706432217004</td><td>301.03909335635694</td><td>-1.0</td><td>-1.0</td><td>-1.0</td><td>-1.0</td><td>-1.0</td></tr>\n",
       "<tr><td>1.7074185438324543</td><td>-22.4546339772828</td><td>0.07335159633362477 .. 0.0020494318993501868</td><td>0.06903031968349306</td><td>5.726683981683717</td><td>626685468564.9553</td><td>3.198398953780591e-06</td><td>25.428622704802642</td><td>25.171564296155047</td><td>24.55589050900943</td><td>23.72639275098895</td><td>23.287359440851468</td><td>300.31972715629803</td><td>-1.0</td><td>-1.0</td><td>-1.0</td><td>-1.0</td><td>-1.0</td></tr>\n",
       "<tr><td>1.108378917115437</td><td>-22.42219937825867</td><td>0.04710549480099161 .. 0.00040796903920647167</td><td>0.13216772950084588</td><td>4.52362440184417</td><td>617468632463.3743</td><td>2.6080785863222885e-06</td><td>24.509668088427627</td><td>23.445614966813718</td><td>22.46876164862169</td><td>21.575547962590502</td><td>20.948859966120448</td><td>298.27174944403095</td><td>-1.0</td><td>-1.0</td><td>-1.0</td><td>-1.0</td><td>-1.0</td></tr>\n",
       "<tr><td>1.836631778276361</td><td>-22.29888727837126</td><td>0.044762121879074177 .. 0.0004089690055280359</td><td>0.5785462808439199</td><td>4.466526692665602</td><td>565780104760.9315</td><td>2.504266664429605e-06</td><td>26.827457172900324</td><td>26.392092162635564</td><td>25.74302871998055</td><td>24.46617316123782</td><td>23.852403470080937</td><td>297.7316406544439</td><td>-1.0</td><td>-1.0</td><td>-1.0</td><td>-1.0</td><td>-1.0</td></tr>\n",
       "<tr><td>0.7486143673213437</td><td>-22.220081714685627</td><td>0.12143691727695244 .. 0.0003110660581279288</td><td>0.14851320519038558</td><td>4.506446926145264</td><td>554812788201.2017</td><td>2.895091569080674e-06</td><td>23.159658426154884</td><td>21.86942672970953</td><td>20.638899190239734</td><td>20.07302426185513</td><td>19.756858960306168</td><td>296.3870100860302</td><td>-1.0</td><td>-1.0</td><td>-1.0</td><td>-1.0</td><td>-1.0</td></tr>\n",
       "<tr><td>...</td><td>...</td><td>...</td><td>...</td><td>...</td><td>...</td><td>...</td><td>...</td><td>...</td><td>...</td><td>...</td><td>...</td><td>...</td><td>...</td><td>...</td><td>...</td><td>...</td><td>...</td></tr>\n",
       "<tr><td>1.2504816256775073</td><td>-15.32993142040954</td><td>0.09390164009652038 .. 0.0005625252627516618</td><td>0.010251582096655052</td><td>0.09885187061387204</td><td>741977956.9468689</td><td>5.595917097406646e-08</td><td>30.600844176504193</td><td>30.411351512259845</td><td>29.821339469812617</td><td>29.232887237255387</td><td>28.618856282321776</td><td>237.07879232226273</td><td>-1.0</td><td>-1.0</td><td>-1.0</td><td>-1.0</td><td>-1.0</td></tr>\n",
       "<tr><td>1.3138557133428885</td><td>-15.03850681505581</td><td>0.047868301082107365 .. 0.00036073070532498735</td><td>0.13849593647024444</td><td>0.08762539129827168</td><td>723912772.7396177</td><td>4.933684923091793e-08</td><td>32.977738968928975</td><td>32.10457488457277</td><td>30.690445508247706</td><td>30.056719322744463</td><td>29.183013227732886</td><td>237.03954883827336</td><td>-1.0</td><td>-1.0</td><td>-1.0</td><td>-1.0</td><td>-1.0</td></tr>\n",
       "<tr><td>0.015716210000903185</td><td>-15.037598094833179</td><td>0.04692191717782783 .. 0.0007549279412787852</td><td>0.23973191575109057</td><td>0.12726443034780377</td><td>639000463.6131452</td><td>1.8631305564607612e-06</td><td>18.910001086780298</td><td>18.246167904727997</td><td>17.91764070109877</td><td>17.701614642914123</td><td>17.503386158896006</td><td>236.99160431952552</td><td>-1.0</td><td>-1.0</td><td>-1.0</td><td>-1.0</td><td>-1.0</td></tr>\n",
       "<tr><td>1.4890390594701557</td><td>-15.280867204518392</td><td>0.07644257887695177 .. 0.005477206910347395</td><td>0.01157094237556586</td><td>0.12862329575670817</td><td>609896057.8964528</td><td>7.183097547612424e-08</td><td>30.45761193489344</td><td>30.42817733309666</td><td>30.180950998904624</td><td>29.876313555419703</td><td>29.474220189466397</td><td>236.85196325202</td><td>-1.0</td><td>-1.0</td><td>-1.0</td><td>-1.0</td><td>-1.0</td></tr>\n",
       "<tr><td>0.6067260063383614</td><td>-14.816912484534251</td><td>0.0877138340896365 .. 0.0012694225494659748</td><td>0.4669910270509583</td><td>0.08977762634844558</td><td>580217707.9909381</td><td>6.288754347303932e-08</td><td>29.659912735458434</td><td>28.271652633293932</td><td>27.192508240315306</td><td>26.802109022134125</td><td>26.51165652935662</td><td>236.7868367164176</td><td>-1.0</td><td>-1.0</td><td>-1.0</td><td>-1.0</td><td>-1.0</td></tr>\n",
       "<tr><td>0.7061947330659577</td><td>-14.538487541649824</td><td>0.1495310624913846 .. 0.001161581350958518</td><td>0.057694154047994786</td><td>0.07933400514363596</td><td>450510835.662734</td><td>5.2106962555793016e-08</td><td>30.473208195223606</td><td>29.245089515620002</td><td>28.06249717660684</td><td>27.57799391677664</td><td>27.26324078855852</td><td>236.67772923973718</td><td>-1.0</td><td>-1.0</td><td>-1.0</td><td>-1.0</td><td>-1.0</td></tr>\n",
       "<tr><td>0.23999339956624438</td><td>-14.192716334707217</td><td>0.13919996576019308 .. 0.0014751049777641998</td><td>0.1409113581258251</td><td>0.049338408471974966</td><td>273013267.32134616</td><td>6.106660301152884e-08</td><td>26.696753420679233</td><td>25.593122717765905</td><td>25.117758161969196</td><td>24.87340588874159</td><td>24.665826706831414</td><td>236.61216042547042</td><td>-1.0</td><td>-1.0</td><td>-1.0</td><td>-1.0</td><td>-1.0</td></tr>\n",
       "<tr><td>0.8204593491536589</td><td>-13.858676040787437</td><td>0.08783011071351757 .. 0.0005451765192685724</td><td>0.26707378762578005</td><td>0.03960424444919203</td><td>246655270.6147133</td><td>2.464909671780317e-08</td><td>32.326694352417235</td><td>30.65221659535624</td><td>29.48275175800371</td><td>28.72740700890301</td><td>28.452981230892167</td><td>236.6035116034778</td><td>-1.0</td><td>-1.0</td><td>-1.0</td><td>-1.0</td><td>-1.0</td></tr>\n",
       "<tr><td>0.5205043088490044</td><td>-13.554548368859031</td><td>0.029933149427038532 .. 0.0018610177528091394</td><td>0.21393512425770933</td><td>0.024596802092615822</td><td>158473607.96772006</td><td>1.856098585067953e-08</td><td>30.101882130481574</td><td>28.801383661801832</td><td>27.98728573416096</td><td>27.633903602798572</td><td>27.413080624425685</td><td>236.5116359516706</td><td>-1.0</td><td>-1.0</td><td>-1.0</td><td>-1.0</td><td>-1.0</td></tr>\n",
       "<tr><td>0.2611249418176846</td><td>-13.21449755397116</td><td>0.12595745427981933 .. 0.0016114907477344342</td><td>0.3453301739012941</td><td>0.05411020035231707</td><td>90460215.31416188</td><td>6.29488824080817e-08</td><td>27.873782753795723</td><td>26.8596382284679</td><td>26.44045424767851</td><td>26.16821721503846</td><td>26.008674709856535</td><td>236.5113212840819</td><td>-1.0</td><td>-1.0</td><td>-1.0</td><td>-1.0</td><td>-1.0</td></tr>\n",
       "</table></div>"
      ],
      "text/plain": [
       "<Table length=381>\n",
       "         z                    M          ... e2_mass n_sersic\n",
       "                                         ...                 \n",
       "      float64              float64       ... float64 float64 \n",
       "-------------------- ------------------- ... ------- --------\n",
       "   1.998556467041887 -23.221930182705094 ...    -1.0     -1.0\n",
       "   1.245565498299808 -22.974996971944865 ...    -1.0     -1.0\n",
       "  1.8189013263925555  -22.76695794207456 ...    -1.0     -1.0\n",
       "   1.836493080508662 -22.429516444446627 ...    -1.0     -1.0\n",
       "  1.8084675767918517 -22.502018226829676 ...    -1.0     -1.0\n",
       "  1.7074185438324543   -22.4546339772828 ...    -1.0     -1.0\n",
       "   1.108378917115437  -22.42219937825867 ...    -1.0     -1.0\n",
       "   1.836631778276361  -22.29888727837126 ...    -1.0     -1.0\n",
       "  0.7486143673213437 -22.220081714685627 ...    -1.0     -1.0\n",
       "                 ...                 ... ...     ...      ...\n",
       "  1.2504816256775073  -15.32993142040954 ...    -1.0     -1.0\n",
       "  1.3138557133428885  -15.03850681505581 ...    -1.0     -1.0\n",
       "0.015716210000903185 -15.037598094833179 ...    -1.0     -1.0\n",
       "  1.4890390594701557 -15.280867204518392 ...    -1.0     -1.0\n",
       "  0.6067260063383614 -14.816912484534251 ...    -1.0     -1.0\n",
       "  0.7061947330659577 -14.538487541649824 ...    -1.0     -1.0\n",
       " 0.23999339956624438 -14.192716334707217 ...    -1.0     -1.0\n",
       "  0.8204593491536589 -13.858676040787437 ...    -1.0     -1.0\n",
       "  0.5205043088490044 -13.554548368859031 ...    -1.0     -1.0\n",
       "  0.2611249418176846  -13.21449755397116 ...    -1.0     -1.0"
      ]
     },
     "execution_count": 16,
     "metadata": {},
     "output_type": "execute_result"
    }
   ],
   "source": [
    "gg_lens_pop2._lens_galaxies._galaxy_select"
   ]
  },
  {
   "cell_type": "code",
   "execution_count": 12,
   "metadata": {},
   "outputs": [
    {
     "name": "stdout",
     "output_type": "stream",
     "text": [
      "column_name1 column_name2\n",
      "------------ ------------\n",
      "           1            2\n",
      "           3            4\n"
     ]
    }
   ],
   "source": [
    "import numpy as np\n",
    "from astropy.table import Table\n",
    "\n",
    "# 2x2のNumPy配列を作成する\n",
    "np_array = np.array([[1, 2], [3, 4]])\n",
    "\n",
    "# Astropyテーブルを作成し、NumPy配列を列として追加する\n",
    "table = Table(np_array, names=['column_name1', 'column_name2'])\n",
    "\n",
    "# 変換後のAstropyテーブルを表示する\n",
    "print(table)\n"
   ]
  },
  {
   "cell_type": "code",
   "execution_count": 3,
   "metadata": {},
   "outputs": [
    {
     "data": {
      "text/plain": [
       "{'sig_c': 0.1,\n",
       " 'sig_c_sh': 0.33,\n",
       " 'sig_mcen': 0.2,\n",
       " 'sig_msat': 0.2,\n",
       " 'sig_tb': 0.46,\n",
       " 'TYPE_GAL_SIZE': 'OT20',\n",
       " 'frac_SM_IMF': 1.715,\n",
       " 'TYPE_SMHM': 'true',\n",
       " 'zmin': 0.01,\n",
       " 'zmax': 3.0,\n",
       " 'Mhmin': 100000000000.0,\n",
       " 'Mhmax': 1e+16,\n",
       " 'switch_sub': False,\n",
       " 'halo_gal_pop_array': array([], shape=(0, 10), dtype=float64),\n",
       " 'dz': 0.001,\n",
       " 'zz_ar': array([0.01 , 0.011, 0.012, ..., 4.998, 4.999, 5.   ]),\n",
       " 'dlogMh': 0.001,\n",
       " 'dlnMh': 0.0023025850929939925,\n",
       " 'MMh': array([1.00000000e+11, 1.00230524e+11, 1.00461579e+11, ...,\n",
       "        9.93116048e+15, 9.95405417e+15, 9.97700064e+15]),\n",
       " 'min_Msh': 10000000000.0}"
      ]
     },
     "execution_count": 3,
     "metadata": {},
     "output_type": "execute_result"
    }
   ],
   "source": [
    "kwargs_deflector_base = {\n",
    "    'sig_c': 0.33,\n",
    "    'sig_c_sh': 0.33,\n",
    "    'sig_mcen': 0.2,\n",
    "    'sig_msat': 0.2,\n",
    "    'sig_tb': 0.46,\n",
    "    'TYPE_GAL_SIZE': 'vdW23',\n",
    "    'frac_SM_IMF': 1.715,\n",
    "    'TYPE_SMHM': 'true',\n",
    "    'zmin': 0.01,\n",
    "    'zmax': 5.0,\n",
    "    'Mhmin': 1e11,\n",
    "    'Mhmax': 1e16,\n",
    "    'switch_sub': False,\n",
    "    'halo_gal_pop_array': np.empty((0, 10), float),\n",
    "    'dz': 0.001,\n",
    "    'zz_ar': np.arange(0.01, 5.001, 0.001),\n",
    "    'dlogMh': 0.001,\n",
    "    'dlnMh': np.log(10**0.001),\n",
    "    'MMh': 10**np.arange(np.log10(1e11), np.log10(1e16), 0.001),\n",
    "    'min_Msh': 1e11 / 10\n",
    "}\n",
    "\n",
    "kwargs_deflector_cut = {\n",
    "    'sig_c': 0.10,\n",
    "    'TYPE_GAL_SIZE': 'OT20',\n",
    "    'frac_SM_IMF': 1.715,\n",
    "    'TYPE_SMHM': 'true',\n",
    "    'zmin': 0.01,\n",
    "    'zmax': 3.0,\n",
    "}\n",
    "\n",
    "def update_dictionary(original_dict, **kwargs):\n",
    "    for key, value in kwargs.items():\n",
    "        if key in original_dict:\n",
    "            original_dict[key] = value\n",
    "        else:\n",
    "            print(f\"Key '{key}' not found in the dictionary\")\n",
    "    return original_dict\n",
    "\n",
    "udict = update_dictionary(kwargs_deflector_base, **kwargs_deflector_cut)\n",
    "udict"
   ]
  },
  {
   "cell_type": "code",
   "execution_count": 55,
   "metadata": {
    "ExecuteTime": {
     "end_time": "2024-04-16T00:43:24.559392Z",
     "start_time": "2024-04-16T00:43:24.546217Z"
    }
   },
   "outputs": [
    {
     "data": {
      "text/plain": [
       "48"
      ]
     },
     "execution_count": 55,
     "metadata": {},
     "output_type": "execute_result"
    }
   ],
   "source": [
    "deflector_dict = np.argmax(gg_lens_pop._lens_galaxies._galaxy_select['halo_mass'])\n",
    "deflector_dict"
   ]
  },
  {
   "cell_type": "code",
   "execution_count": 7,
   "metadata": {
    "ExecuteTime": {
     "end_time": "2024-04-16T00:43:40.569608Z",
     "start_time": "2024-04-16T00:43:40.554560Z"
    }
   },
   "outputs": [],
   "source": [
    "from slsim.Deflectors.DeflectorTypes.nfw_hernquist import NFWHernquist\n",
    "source_dict = gg_lens_pop._sources.draw_source()\n",
    "deflector_dict = gg_lens_pop3._lens_galaxies.draw_deflector()\n",
    "# deflector_dict2 = gg_lens_pop2._lens_galaxies.draw_deflector()\n",
    "a = gg_lens_pop._lens_galaxies._galaxy_select['halo_mass']\n",
    "# source_dict['z'], deflector_dict, deflector_dict2['vel_disp']"
   ]
  },
  {
   "cell_type": "code",
   "execution_count": 10,
   "metadata": {
    "ExecuteTime": {
     "end_time": "2024-04-16T00:33:55.846750Z",
     "start_time": "2024-04-16T00:33:55.833378Z"
    }
   },
   "outputs": [
    {
     "name": "stdout",
     "output_type": "stream",
     "text": [
      "yes\n"
     ]
    }
   ],
   "source": [
    "scatter = True\n",
    "if scatter:\n",
    "    print(\"yes\")"
   ]
  },
  {
   "cell_type": "code",
   "execution_count": 8,
   "metadata": {},
   "outputs": [
    {
     "data": {
      "text/plain": [
       "(838712731.7087927, (175090269611.83795, 5.5553119079142945))"
      ]
     },
     "execution_count": 8,
     "metadata": {},
     "output_type": "execute_result"
    }
   ],
   "source": [
    "deflector = NFWHernquist(deflector_dict=deflector_dict)\n",
    "deflector.stellar_mass, deflector.halo_properties"
   ]
  },
  {
   "cell_type": "code",
   "execution_count": 20,
   "metadata": {},
   "outputs": [
    {
     "data": {
      "text/plain": [
       "(0.16973150227387734, 0.7839999999999994)"
      ]
     },
     "execution_count": 20,
     "metadata": {},
     "output_type": "execute_result"
    }
   ],
   "source": [
    "source_dict['z'],deflector_dict['z']"
   ]
  },
  {
   "cell_type": "code",
   "execution_count": null,
   "metadata": {},
   "outputs": [],
   "source": [
    "from lenstronomy.Cosmo.lens_cosmo import LensCosmo\n",
    "lens_cosmo = LensCosmo(\n",
    "            z_lens=float(deflector_dict.redshift),\n",
    "            z_source=float(source_dict.redshift),\n",
    "            cosmo=cosmo,\n",
    "        )"
   ]
  },
  {
   "cell_type": "code",
   "execution_count": 58,
   "metadata": {
    "ExecuteTime": {
     "end_time": "2024-04-16T00:43:44.906233Z",
     "start_time": "2024-04-16T00:43:44.896101Z"
    }
   },
   "outputs": [],
   "source": [
    "gg_lens = Lens(\n",
    "        source_dict,\n",
    "        deflector_dict,\n",
    "        cosmo,\n",
    "        deflector_type=\"NFW_HERNQUIST\",\n",
    "        source_type=\"extended\",\n",
    "        lens_equation_solver=\"lenstronomy_analytical\",\n",
    "        variability_model=None,\n",
    "        kwargs_variability=None,\n",
    "        sn_type=None,\n",
    "        sn_absolute_mag_band=None,\n",
    "        sn_absolute_zpsys=None,\n",
    "        test_area=4 * np.pi,\n",
    "        mixgauss_means=None,\n",
    "        mixgauss_stds=None,\n",
    "        mixgauss_weights=None,\n",
    "        magnification_limit=0.01,\n",
    "        light_profile=\"single_sersic\",\n",
    "        lightcurve_time=None,\n",
    "    )\n",
    "\n",
    "gg_lens2 = Lens(\n",
    "        source_dict,\n",
    "        deflector_dict2,\n",
    "        cosmo,\n",
    "        deflector_type=\"EPL\",\n",
    "        source_type=\"extended\",\n",
    "        lens_equation_solver=\"lenstronomy_analytical\",\n",
    "        variability_model=None,\n",
    "        kwargs_variability=None,\n",
    "        sn_type=None,\n",
    "        sn_absolute_mag_band=None,\n",
    "        sn_absolute_zpsys=None,\n",
    "        test_area=4 * np.pi,\n",
    "        mixgauss_means=None,\n",
    "        mixgauss_stds=None,\n",
    "        mixgauss_weights=None,\n",
    "        magnification_limit=0.01,\n",
    "        light_profile=\"single_sersic\",\n",
    "        lightcurve_time=None,\n",
    "    )"
   ]
  },
  {
   "cell_type": "code",
   "execution_count": 59,
   "metadata": {
    "ExecuteTime": {
     "end_time": "2024-04-16T00:43:46.593491Z",
     "start_time": "2024-04-16T00:43:46.558828Z"
    }
   },
   "outputs": [
    {
     "name": "stdout",
     "output_type": "stream",
     "text": [
      "[{'theta_E': 1.0813749614233952, 'gamma': 2, 'e1': -0.16373720740359413, 'e2': 0.15818465644884203, 'center_x': 0.0988554002749264, 'center_y': -0.10115871210005899}, {'gamma1': 0.028372267477532402, 'gamma2': -0.005941815130409935, 'ra_0': 0, 'dec_0': 0}, {'kappa': 0.017074293504680784, 'ra_0': 0, 'dec_0': 0}] ['EPL', 'SHEAR', 'CONVERGENCE'] 1.0710594886431368\n"
     ]
    }
   ],
   "source": [
    "from lenstronomy.LensModel.lens_model import LensModel\n",
    "from lenstronomy.LightModel.light_model import LightModel\n",
    "from lenstronomy.Analysis.lens_profile import LensProfileAnalysis\n",
    "lens_model_list, kwargs_lens = gg_lens2.deflector_mass_model_lenstronomy()\n",
    "lens_model = LensModel(lens_model_list=lens_model_list, z_source_convention=1000)\n",
    "lens_analysis = LensProfileAnalysis(lens_model=lens_model)\n",
    "theta_E = lens_analysis.effective_einstein_radius(\n",
    "    kwargs_lens, r_min=1e-6, r_max=100.0, num_points=50)\n",
    "\n",
    "\n",
    "# lens_model_list2, kwargs_lens2 = gg_lens2.deflector_mass_model_lenstronomy()\n",
    "# lens_model2 = LensModel(lens_model_list=lens_model_list2)\n",
    "# lens_analysis2 = LensProfileAnalysis(lens_model=lens_model2)\n",
    "# theta_E2 = lens_analysis2.effective_einstein_radius(\n",
    "#     kwargs_lens2, r_min=1e-6, r_max=100.0, num_points=50)\n",
    "\n",
    "print(kwargs_lens,lens_model_list, theta_E)\n",
    "# print(kwargs_lens2,lens_model_list2,theta_E2)"
   ]
  },
  {
   "cell_type": "code",
   "execution_count": 25,
   "metadata": {
    "ExecuteTime": {
     "end_time": "2024-04-16T00:34:27.895702Z",
     "start_time": "2024-04-16T00:34:27.863549Z"
    }
   },
   "outputs": [
    {
     "name": "stdout",
     "output_type": "stream",
     "text": [
      "[{'theta_E': 0.5641739349956584, 'gamma': 2, 'e1': -0.000759747226126268, 'e2': 0.10921183628686036, 'center_x': -0.01753885744033882, 'center_y': -0.14393943642585913}, {'gamma1': -0.0020684156945948895, 'gamma2': 0.0037826334857735287, 'ra_0': 0, 'dec_0': 0}, {'kappa': 0.08710126725122858, 'ra_0': 0, 'dec_0': 0}] ['EPL', 'SHEAR', 'CONVERGENCE'] 0.61441583271697\n"
     ]
    }
   ],
   "source": [
    "from lenstronomy.LensModel.lens_model import LensModel\n",
    "from lenstronomy.LightModel.light_model import LightModel\n",
    "from lenstronomy.Analysis.lens_profile import LensProfileAnalysis\n",
    "lens_model_list, kwargs_lens = gg_lens2.deflector_mass_model_lenstronomy()\n",
    "lens_model = LensModel(lens_model_list=lens_model_list, z_source_convention=1000)\n",
    "lens_analysis = LensProfileAnalysis(lens_model=lens_model)\n",
    "theta_E = lens_analysis.effective_einstein_radius(\n",
    "    kwargs_lens, r_min=1e-6, r_max=10.0, num_points=50)\n",
    "\n",
    "\n",
    "# lens_model_list2, kwargs_lens2 = gg_lens2.deflector_mass_model_lenstronomy()\n",
    "# lens_model2 = LensModel(lens_model_list=lens_model_list2)\n",
    "# lens_analysis2 = LensProfileAnalysis(lens_model=lens_model2)\n",
    "# theta_E2 = lens_analysis2.effective_einstein_radius(\n",
    "#     kwargs_lens2, r_min=1e-6, r_max=100.0, num_points=50)\n",
    "\n",
    "print(kwargs_lens,lens_model_list, theta_E)\n",
    "# print(kwargs_lens2,lens_model_list2,theta_E2)"
   ]
  },
  {
   "cell_type": "code",
   "execution_count": 17,
   "metadata": {},
   "outputs": [
    {
     "data": {
      "text/plain": [
       "(57.318277870321324, 33.22739046275703)"
      ]
     },
     "execution_count": 17,
     "metadata": {},
     "output_type": "execute_result"
    }
   ],
   "source": [
    "gg_lens.deflector_velocity_dispersion(),gg_lens2.deflector_velocity_dispersion()"
   ]
  },
  {
   "cell_type": "code",
   "execution_count": 18,
   "metadata": {},
   "outputs": [
    {
     "data": {
      "text/plain": [
       "nan"
      ]
     },
     "execution_count": 18,
     "metadata": {},
     "output_type": "execute_result"
    }
   ],
   "source": [
    "# lens_analysis.effective_einstein_radius_grid(kwargs_lens,center_x=0,center_y=0,)"
   ]
  },
  {
   "cell_type": "code",
   "execution_count": 25,
   "metadata": {},
   "outputs": [
    {
     "data": {
      "text/plain": [
       "[0.3471820793592025,\n",
       " 0.3471820677601571,\n",
       " 0.34718205411081476,\n",
       " 0.347182038048871,\n",
       " 0.3471820191480437,\n",
       " 0.34718199690679236,\n",
       " 0.34718197073505525,\n",
       " 0.3471819399386578,\n",
       " 0.3471819037009888,\n",
       " 0.3471818610614671,\n",
       " 0.34718181089024724,\n",
       " 0.3471817518585136,\n",
       " 0.34718168240360775,\n",
       " 0.3471816006881091,\n",
       " 0.34718150455184393,\n",
       " 0.347181391455637,\n",
       " 0.34718125841543135,\n",
       " 0.34718110192519736,\n",
       " 0.3471809178668138,\n",
       " 0.34718070140485074,\n",
       " 0.3471804468639076,\n",
       " 0.3471801475858657,\n",
       " 0.347179795764123,\n",
       " 0.34717938225159506,\n",
       " 0.3471788963390273,\n",
       " 0.3471783255000095,\n",
       " 0.3471776550990754,\n",
       " 0.34717686805950554,\n",
       " 0.34717594448806344,\n",
       " 0.34717486125508035,\n",
       " 0.34717359153035354,\n",
       " 0.3471721042786081,\n",
       " 0.34717036372340565,\n",
       " 0.3471683287961126,\n",
       " 0.3471659525980358,\n",
       " 0.3471631819206368,\n",
       " 0.3471599568930935,\n",
       " 0.34715621086144954,\n",
       " 0.34715187065353414,\n",
       " 0.347146857454758,\n",
       " 0.347141088620238,\n",
       " 0.34713448089020643,\n",
       " 0.34712695567472807,\n",
       " 0.3471184473532595,\n",
       " 0.3471089159265189,\n",
       " 0.34709836590726995,\n",
       " 0.34708687410577127,\n",
       " 0.34707463004328337,\n",
       " 0.34706199423834044,\n",
       " 0.34704958173378647,\n",
       " 0.347038381224053,\n",
       " 0.34702992437411717,\n",
       " 0.3470265259430382,\n",
       " 0.34703162396033754,\n",
       " 0.3470502617183133,\n",
       " 0.34708977173146716,\n",
       " 0.34716074930996366,\n",
       " 0.34727844541523006,\n",
       " 0.34746477439929113,\n",
       " 0.3477512389140753,\n",
       " 0.34818325299864983,\n",
       " 0.34882665531943796,\n",
       " 0.34977776774781383,\n",
       " 0.3511794174050893,\n",
       " 0.3532474298716877,\n",
       " 0.35631636699349345,\n",
       " 0.36092224997750966,\n",
       " 0.3679589872690011,\n",
       " 0.3789838160816838,\n",
       " 0.39705681195968456,\n",
       " 0.4615124768358413,\n",
       " 0.37391306756298615,\n",
       " 0.33573635589509443,\n",
       " 0.3049103786513271,\n",
       " 0.2789946942168512,\n",
       " 0.2562595716623679,\n",
       " 0.2356476185338025,\n",
       " 0.21651130620746722,\n",
       " 0.19844961518357468,\n",
       " 0.18122291725463086,\n",
       " 0.16469879876623783,\n",
       " 0.1488171799219485,\n",
       " 0.1335678158742834,\n",
       " 0.11897435409579046,\n",
       " 0.10508236276460722,\n",
       " 0.09194990730389327,\n",
       " 0.07963938427226137,\n",
       " 0.06821019556278538,\n",
       " 0.05771254367291395,\n",
       " 0.04818247111998208,\n",
       " 0.03963801093694504,\n",
       " 0.03207666447137029,\n",
       " 0.025474779437275025,\n",
       " 0.019788959847605973,\n",
       " 0.014958972295713288,\n",
       " 0.010911566537769996,\n",
       " 0.007564871651518847,\n",
       " 0.004832988111700772,\n",
       " 0.0026302452443467753,\n",
       " 0.0008746911081551241]"
      ]
     },
     "execution_count": 25,
     "metadata": {},
     "output_type": "execute_result"
    }
   ],
   "source": [
    "from lenstronomy.Util import util\n",
    "from lenstronomy.Util import mask_util as mask_util\n",
    "import lenstronomy.Util.multi_gauss_expansion as mge\n",
    "from lenstronomy.Util import analysis_util\n",
    "import scipy\n",
    "r_min=1e-6\n",
    "r_max=10.0\n",
    "num_points=100\n",
    "r_array = np.logspace(np.log10(r_min), np.log10(r_max), num_points)\n",
    "center_x, center_y = analysis_util.profile_center(\n",
    "    kwargs_lens, center_x=0, center_y=0\n",
    ")\n",
    "kappa_list = []\n",
    "for r in r_array:\n",
    "    x, y = util.points_on_circle(r, num_points=20)\n",
    "    f_r = lens_model.kappa(\n",
    "        x + center_x, y + center_y, kwargs=kwargs_lens, k=None\n",
    "    )\n",
    "    kappa_list.append(np.average(f_r))\n",
    "\n",
    "kappa_r = kappa_list\n",
    "# here we make a finer grid interpolation in log-log space\n",
    "k_interp = scipy.interpolate.interp1d(np.log10(r_array), np.log10(kappa_r))\n",
    "r_array = np.logspace(np.log10(r_min), np.log10(r_max), num_points * 10)\n",
    "kappa_r = 10 ** k_interp(np.log10(r_array))\n",
    "\n",
    "# we perform the integral in logarithmic steps of the convergence\n",
    "kappa_r = np.array(kappa_r)\n",
    "kappa_r_ = (kappa_r[1:] + kappa_r[:-1]) / 2\n",
    "r_array_ = (r_array[1:] + r_array[:-1]) / 2\n",
    "dlog_r = (np.log10(r_array[2]) - np.log10(r_array[1])) * np.log(10)\n",
    "# add the mass within the innermost bin and assume it's constant\n",
    "kappa_innermost = kappa_r[0] * np.pi * r_array[0] ** 2\n",
    "\n",
    "# the first part is the logarithmic integrand, the second part the circle integrand\n",
    "kappa_slice = kappa_r_ * dlog_r * r_array_ * (2 * np.pi * r_array_)\n",
    "kappa_slice = np.append(kappa_innermost, kappa_slice)\n",
    "\n",
    "kappa_cdf = np.cumsum(kappa_slice)\n",
    "# calculate average convergence at radius\n",
    "kappa_average = kappa_cdf / (np.pi * r_array**2)\n",
    "\n",
    "# we interpolate as the inverse function and evaluate this function for average kappa = 1\n",
    "# (assumes monotonic decline in average convergence)\n",
    "# inv_interp = scipy.interpolate.interp1d(\n",
    "#     np.log10(kappa_average), np.log10(r_array)\n",
    "# )\n",
    "# np.log10(kappa_average),inv_interp(max(np.log10(kappa_average)))\n",
    "kappa_list\n",
    "# try:\n",
    "#     theta_e = 10 ** inv_interp(0)\n",
    "# except:\n",
    "#     theta_e = np.nan\n",
    "# theta_e\n"
   ]
  },
  {
   "cell_type": "code",
   "execution_count": null,
   "metadata": {},
   "outputs": [],
   "source": []
  },
  {
   "cell_type": "markdown",
   "metadata": {},
   "source": [
    "## Test halo mass conversion"
   ]
  },
  {
   "cell_type": "code",
   "execution_count": 8,
   "metadata": {},
   "outputs": [],
   "source": [
    "from colossus.cosmology import cosmology\n",
    "from colossus.lss import mass_function\n",
    "\n",
    "cosmology.setCosmology('WMAP9')\n",
    "mfunc_so = mass_function.massFunction(1E12, 0.0, mdef = 'fof', model = 'sheth99')"
   ]
  },
  {
   "cell_type": "code",
   "execution_count": 48,
   "metadata": {},
   "outputs": [
    {
     "data": {
      "text/html": [
       "<div><i>Table length=325</i>\n",
       "<table id=\"table6382218848\" class=\"table-striped table-bordered table-condensed\">\n",
       "<thead><tr><th>col0</th><th>z</th><th>halo_mass</th><th>halo_mass_acc</th><th>e_h</th><th>p_h</th><th>concentration</th><th>stellar_mass</th><th>e_g</th><th>p_g</th><th>tb</th><th>vel_disp</th></tr></thead>\n",
       "<thead><tr><th>int64</th><th>float64</th><th>float64</th><th>float64</th><th>float64</th><th>float64</th><th>float64</th><th>float64</th><th>float64</th><th>float64</th><th>float64</th><th>float64</th></tr></thead>\n",
       "<tr><td>0</td><td>0.022</td><td>142832261031.83215</td><td>0.0</td><td>0.1507349</td><td>-9.519763</td><td>10.572378475255391</td><td>1597534732.4859593</td><td>0.4210705</td><td>-27.15581</td><td>5.840332</td><td>54.11351611935491</td></tr>\n",
       "<tr><td>1000</td><td>0.576</td><td>4757972519878.891</td><td>0.0</td><td>0.3829286</td><td>72.05911</td><td>5.612749728009598</td><td>128911114395.50696</td><td>0.4837437</td><td>46.38458</td><td>0.1061987</td><td>204.3720453546389</td></tr>\n",
       "<tr><td>2000</td><td>0.765</td><td>708033538279.459</td><td>0.0</td><td>0.4977757</td><td>122.247</td><td>6.722593718892994</td><td>26260818799.881763</td><td>0.1646521</td><td>127.6121</td><td>0.04912861</td><td>127.851230286198</td></tr>\n",
       "<tr><td>3000</td><td>0.911</td><td>207642584601.56036</td><td>0.0</td><td>0.4534484</td><td>-46.85858</td><td>9.844931854543955</td><td>810182382.500739</td><td>0.4837566</td><td>-35.74009</td><td>0.1274478</td><td>52.00127681958947</td></tr>\n",
       "<tr><td>4000</td><td>1.037</td><td>234807623222.22086</td><td>0.0</td><td>0.184639</td><td>122.1807</td><td>5.722013889417409</td><td>1206855158.1436596</td><td>0.3848487</td><td>166.7035</td><td>0.1198332</td><td>42.53282987528342</td></tr>\n",
       "<tr><td>5000</td><td>1.154</td><td>312891289508.3945</td><td>0.0</td><td>0.202068</td><td>-29.99197</td><td>3.603289890853103</td><td>1827214011.2326338</td><td>0.3704674</td><td>-16.34382</td><td>0.05697951</td><td>37.80321361734811</td></tr>\n",
       "<tr><td>6000</td><td>1.264</td><td>201678735944.95407</td><td>0.0</td><td>0.3566259</td><td>165.1809</td><td>6.449867631847342</td><td>915536949.4531481</td><td>0.09381935</td><td>192.0172</td><td>0.1238609</td><td>46.56576945541271</td></tr>\n",
       "<tr><td>7000</td><td>1.37</td><td>293351313089.63513</td><td>0.0</td><td>0.1852096</td><td>-2.915689</td><td>4.874588504500382</td><td>1955625184.7472658</td><td>0.3063853</td><td>5.763391</td><td>0.1009176</td><td>45.327222552049726</td></tr>\n",
       "<tr><td>8000</td><td>1.473</td><td>229244376446.62952</td><td>0.0</td><td>0.02291373</td><td>110.3108</td><td>5.191626304115181</td><td>1353258350.5764115</td><td>0.2372075</td><td>156.3429</td><td>0.1232049</td><td>46.50312215923301</td></tr>\n",
       "<tr><td>9000</td><td>1.575</td><td>467964150674.07245</td><td>0.0</td><td>0.1452881</td><td>-0.4417026</td><td>2.5099227940088142</td><td>2503656517.8835354</td><td>0.1657546</td><td>-20.57162</td><td>0.1595728</td><td>44.801140512587125</td></tr>\n",
       "<tr><td>...</td><td>...</td><td>...</td><td>...</td><td>...</td><td>...</td><td>...</td><td>...</td><td>...</td><td>...</td><td>...</td><td>...</td></tr>\n",
       "<tr><td>315000</td><td>2.542</td><td>198470838415.2002</td><td>0.0</td><td>0.3785194</td><td>-3.585644</td><td>2.6533524070972003</td><td>915484629.0274904</td><td>0.6671583</td><td>10.04905</td><td>0.03741567</td><td>34.697107054668415</td></tr>\n",
       "<tr><td>316000</td><td>2.678</td><td>684994886255.7418</td><td>0.0</td><td>0.08676531</td><td>106.9916</td><td>5.54837438962927</td><td>5452218445.167011</td><td>0.3630143</td><td>86.7943</td><td>0.175569</td><td>89.94226853835598</td></tr>\n",
       "<tr><td>317000</td><td>2.826</td><td>217323014595.92053</td><td>0.0</td><td>0.272059</td><td>101.7101</td><td>2.403419332105421</td><td>760680756.7248005</td><td>0.3897728</td><td>117.4173</td><td>0.05826681</td><td>35.08362302232545</td></tr>\n",
       "<tr><td>318000</td><td>2.987</td><td>343356651872.47125</td><td>0.0</td><td>0.1919487</td><td>-81.22847</td><td>3.2850828703279276</td><td>2042528820.5734556</td><td>0.4954162</td><td>3.505397</td><td>0.09135559</td><td>53.084216116402</td></tr>\n",
       "<tr><td>319000</td><td>3.162</td><td>175735253324.54688</td><td>0.0</td><td>0.08381249</td><td>99.85563</td><td>3.5133028920153295</td><td>615315400.5320722</td><td>0.2468155</td><td>46.46819</td><td>0.07218961</td><td>42.68989076889061</td></tr>\n",
       "<tr><td>320000</td><td>3.362</td><td>186764089096.06036</td><td>0.0</td><td>0.5167096</td><td>-63.40463</td><td>6.7675063593660125</td><td>575276234.1117351</td><td>0.2515525</td><td>-75.99726</td><td>0.06861348</td><td>59.48538237638674</td></tr>\n",
       "<tr><td>321000</td><td>3.592</td><td>1410214044835.6162</td><td>0.0</td><td>0.2741659</td><td>128.6977</td><td>2.9392899677980253</td><td>20249453148.09341</td><td>0.5823241</td><td>137.9561</td><td>0.1259304</td><td>100.7531970732045</td></tr>\n",
       "<tr><td>322000</td><td>3.881</td><td>169321257314.90103</td><td>0.0</td><td>0.1797392</td><td>-88.35701</td><td>2.5458360370610813</td><td>650920780.3724505</td><td>0.3841513</td><td>-92.87746</td><td>0.1106481</td><td>47.036654156548096</td></tr>\n",
       "<tr><td>323000</td><td>4.256</td><td>267756046001.0221</td><td>0.0</td><td>0.1274424</td><td>-120.516</td><td>3.7725197248781273</td><td>1477997339.6393733</td><td>0.2340417</td><td>-130.8633</td><td>0.1002616</td><td>63.57291217695683</td></tr>\n",
       "<tr><td>324000</td><td>4.823</td><td>163999752812.92654</td><td>0.0</td><td>0.2511417</td><td>30.35469</td><td>2.2767178577532428</td><td>747913686.0774461</td><td>0.2700931</td><td>10.16278</td><td>0.06636692</td><td>43.43553167547413</td></tr>\n",
       "</table></div>"
      ],
      "text/plain": [
       "<Table length=325>\n",
       " col0     z        halo_mass      ...    p_g        tb          vel_disp     \n",
       "int64  float64      float64       ...  float64   float64        float64      \n",
       "------ ------- ------------------ ... --------- ---------- ------------------\n",
       "     0   0.022 142832261031.83215 ... -27.15581   5.840332  54.11351611935491\n",
       "  1000   0.576  4757972519878.891 ...  46.38458  0.1061987  204.3720453546389\n",
       "  2000   0.765   708033538279.459 ...  127.6121 0.04912861   127.851230286198\n",
       "  3000   0.911 207642584601.56036 ... -35.74009  0.1274478  52.00127681958947\n",
       "  4000   1.037 234807623222.22086 ...  166.7035  0.1198332  42.53282987528342\n",
       "  5000   1.154  312891289508.3945 ... -16.34382 0.05697951  37.80321361734811\n",
       "  6000   1.264 201678735944.95407 ...  192.0172  0.1238609  46.56576945541271\n",
       "  7000    1.37 293351313089.63513 ...  5.763391  0.1009176 45.327222552049726\n",
       "  8000   1.473 229244376446.62952 ...  156.3429  0.1232049  46.50312215923301\n",
       "  9000   1.575 467964150674.07245 ... -20.57162  0.1595728 44.801140512587125\n",
       "   ...     ...                ... ...       ...        ...                ...\n",
       "315000   2.542  198470838415.2002 ...  10.04905 0.03741567 34.697107054668415\n",
       "316000   2.678  684994886255.7418 ...   86.7943   0.175569  89.94226853835598\n",
       "317000   2.826 217323014595.92053 ...  117.4173 0.05826681  35.08362302232545\n",
       "318000   2.987 343356651872.47125 ...  3.505397 0.09135559    53.084216116402\n",
       "319000   3.162 175735253324.54688 ...  46.46819 0.07218961  42.68989076889061\n",
       "320000   3.362 186764089096.06036 ... -75.99726 0.06861348  59.48538237638674\n",
       "321000   3.592 1410214044835.6162 ...  137.9561  0.1259304  100.7531970732045\n",
       "322000   3.881 169321257314.90103 ... -92.87746  0.1106481 47.036654156548096\n",
       "323000   4.256  267756046001.0221 ... -130.8633  0.1002616  63.57291217695683\n",
       "324000   4.823 163999752812.92654 ...  10.16278 0.06636692  43.43553167547413"
      ]
     },
     "execution_count": 48,
     "metadata": {},
     "output_type": "execute_result"
    }
   ],
   "source": [
    "from colossus.halo import mass_defs\n",
    "\n",
    "Mvirs = table['halo_mass']\n",
    "cvirs = table['concentration']\n",
    "z_s = table['z']\n",
    "M200_array = []\n",
    "c200_array = []\n",
    "for i in range(len(z_s)):\n",
    "    M200, r200, c200 = mass_defs.changeMassDefinition(Mvirs[i], cvirs[i], z_s[i], 'vir', '200c')\n",
    "    M200_array.append(M200)\n",
    "    c200_array.append(c200)\n",
    "M200_array = np.array(M200_array)\n",
    "c200_array = np.array(c200_array)\n",
    "M200_array,c200_array\n",
    "\n",
    "hubble = cosmo.H0.value / 100.0\n",
    "table['halo_mass'] = (\n",
    "    M200_array / hubble\n",
    ")  # convert to Mvir [Msun/h] to physical M200c [Msun]\n",
    "table['halo_mass_acc'] = (\n",
    "    table['halo_mass_acc'] / hubble\n",
    ")  # convert to Mvir [Msun/h] to physical M200c[Msun] Currently not supported\n",
    "table['concentration'] = (\n",
    "    c200_array\n",
    ")\n",
    "table['stellar_mass'] = (\n",
    "    table['stellar_mass'] / hubble\n",
    ")  # convert to stellar mass [Msun/h] to physical stellar mass [Msun]\n",
    "table\n",
    "# # M200_array, r200_array, c200_array = zip(*[mass_defs.changeMassDefinition(Mvir, cvir, z, 'vir', '200c') for Mvir, cvir, z in zip(table['halo_mass'], table['concentration'], table['z'])])\n",
    "# M200_array, r200_array, c200_array = zip(*[mass_defs.changeMassDefinition(Mvir, cvir, z, 'vir', '200c') for Mvir, cvir, z in zip(table['halo_mass'], table['concentration'], table['z'])])\n",
    "\n",
    "# M200_array = np.array(M200_array)\n",
    "# c200_array = np.array(c200_array)\n",
    "\n",
    "# M200_array, c200_array"
   ]
  },
  {
   "cell_type": "code",
   "execution_count": 43,
   "metadata": {},
   "outputs": [
    {
     "name": "stderr",
     "output_type": "stream",
     "text": [
      "No artists with labels found to put in legend.  Note that artists whose label start with an underscore are ignored when legend() is called with no argument.\n"
     ]
    },
    {
     "data": {
      "image/png": "[encoded data removed]",
      "text/plain": [
       "<Figure size 700x500 with 1 Axes>"
      ]
     },
     "metadata": {},
     "output_type": "display_data"
    }
   ],
   "source": [
    "fig = plt.figure(figsize=(7, 5.))\n",
    "\n",
    "ax = fig.add_subplot(111)\n",
    "ax.grid()\n",
    "plt.rcParams[\"font.size\"] = 20\n",
    "plt.tick_params(labelsize=20)\n",
    "#ax.set_xlim(1e-4,4e-1)\n",
    "#ax.set_ylim(1e-4,1.)\n",
    "plt.xscale(\"log\")\n",
    "plt.yscale(\"log\")\n",
    "# plt.scatter(Mvirs, M200_array/Mvirs)\n",
    "plt.scatter(cvirs, c200_array/cvirs)\n",
    "\n",
    "plt.xlabel(r\"$Foo[\\mathrm{Mpc}^{-1}]$\")\n",
    "plt.ylabel(r\"$Bar$\")\n",
    "plt.legend(loc='upper right', \n",
    "           bbox_to_anchor=(0.99, 0.99), \n",
    "           borderaxespad=0.,\n",
    "           ncol=2,\n",
    "          fontsize=20.)\n",
    "plt.tight_layout()\n",
    "# plt.savefig(\"tmp_plots/test_plot.pdf\")\n",
    "plt.show()\n"
   ]
  },
  {
   "cell_type": "code",
   "execution_count": 3,
   "metadata": {},
   "outputs": [],
   "source": [
    "mdef_1 = md.SOMean(overdensity=200)\n",
    "mdef_2 = md.SOVirial()\n",
    "mdef_3 = md.FOF()"
   ]
  },
  {
   "cell_type": "code",
   "execution_count": 6,
   "metadata": {},
   "outputs": [
    {
     "data": {
      "text/plain": [
       "(1137000786564.2122,\n",
       " 0.2514735105816359,\n",
       " 8.834441694015762,\n",
       " 838836244557.61,\n",
       " 0.19186177057393847,\n",
       " 5.485045834545732)"
      ]
     },
     "execution_count": 6,
     "metadata": {},
     "output_type": "execute_result"
    }
   ],
   "source": [
    "mnew, rnew, cnew = mdef_2.change_definition(m=1e12, mdef=mdef_1)\n",
    "mnew3, rnew3, cnew3 = mdef_3.change_definition(m=1e12, mdef=mdef_1)\n",
    "mnew3, rnew3, cnew3 = mdef_3.change_definition(m=1e12, mdef=mdef_2)\n",
    "mnew, rnew, cnew, mnew3, rnew3, cnew3"
   ]
  },
  {
   "cell_type": "code",
   "execution_count": null,
   "metadata": {},
   "outputs": [],
   "source": []
  },
  {
   "cell_type": "markdown",
   "metadata": {},
   "source": [
    "# Test generate dataframe"
   ]
  },
  {
   "cell_type": "code",
   "execution_count": 82,
   "metadata": {},
   "outputs": [
    {
     "data": {
      "text/plain": [
       "0.33"
      ]
     },
     "execution_count": 82,
     "metadata": {},
     "output_type": "execute_result"
    }
   ],
   "source": [
    "g.sig_c"
   ]
  },
  {
   "cell_type": "code",
   "execution_count": 92,
   "metadata": {},
   "outputs": [],
   "source": [
    "\n",
    "# Scatter of concentration params for halos & gals in log-normal distribution\n",
    "sig_c = 0.33  # Intrinsic scatter (https://arxiv.org/abs/astro-ph/0608157)\n",
    "sig_c_sh = 0.33  # Intrinsic scatter (https://arxiv.org/abs/astro-ph/0608157)\n",
    "sig_mcen = 0.2  # Intrinsic scatter (https://iopscience.iop.org/article/10.3847/1538-4357/ac4cb4/pdf)\n",
    "sig_msat = 0.2\n",
    "sig_tb = 0.46\n",
    "\n",
    "# method to calculate galaxy half-light effective size (or rb in Hernquist profile)\n",
    "# options: 'vdW23'(JWST-base), 'oguri20'(simple), 'karmakar23'(IllustrisTNG-base), (default 'vdW23')\n",
    "TYPE_GAL_SIZE = 'vdW23'\n",
    "\n",
    "# fraction of Stellar mass-to-light ratio in respect to Chabrier IMF\n",
    "# Chabrier: frac_SM_IMF=1.0, Salpeter: =1.715 (default 1.715)\n",
    "frac_SM_IMF = 1.715\n",
    "\n",
    "# type of fitting formula of the stellar-mass-halo-mass relation\n",
    "# options: 'true','true_all','obs', see Berhoozi et al. 2019 Table J1\n",
    "# default 'true'\n",
    "TYPE_SMHM = 'true'\n",
    "paramc, params = lens_gals.gals_init(TYPE_SMHM)\n",
    "\n",
    "# cosmological parameters\n",
    "area = sky_area.value\n",
    "zmin=0.01\n",
    "zmax=5.0\n",
    "Mhmin=1e11\n",
    "Mhmax=1e16\n",
    "switch_sub=False\n",
    "halo_gal_pop_array = np.array([])\n",
    "halo_gal_pop_array = np.empty((0,10), float)\n",
    "dz = 0.001\n",
    "zz_ar = np.arange(zmin, zmax + dz, dz)\n",
    "dlogMh = 0.001\n",
    "dlnMh = np.log(10**dlogMh)\n",
    "MMh = 10**np.arange(np.log10(Mhmin),\n",
    "                    np.log10(Mhmax), dlogMh)\n",
    "min_Msh =Mhmin/10.\n",
    "\n",
    "frac_SM_IMF = 1.715\n",
    "#     if switch_sub:\n",
    "#         n_bins = 100\n",
    "#         output_length = n_bins-1\n",
    "#         interp_dnsh, interp_msh_acc_Mh = lens_subhalo.create_interp_dndmsh(0, zmax+0.1, Mhmin/2., Mhmax*2., min_Msh, cosmo, n_bins=n_bins)\n",
    "\n",
    "# Start for loop-1 of redshift\n",
    "for zz in zz_ar:\n",
    "    zz2 = np.full(len(MMh), zz)\n",
    "    NNh = area * \\\n",
    "        lens_halo.dNhalodzdlnM_lens(MMh, zz2, cosmo_col) * dlnMh * dz\n",
    "    Nh = np.random.poisson(NNh)\n",
    "    indices = np.nonzero(Nh)[0]\n",
    "    if len(indices) == 0:\n",
    "        continue\n",
    "\n",
    "    zl_tab = np.repeat(zz2[indices], Nh[indices])\n",
    "    Mhosthl_tab  = np.repeat(MMh[indices], Nh[indices])\n",
    "    conhl_tab = lens_halo.concent_m_w_scatter(Mhosthl_tab, zz, g.sig_c)\n",
    "    # in physical [Mpc/h]\n",
    "    eliphl_tab, polarhl_tab = solve_lenseq.gene_e_ang_halo(Mhosthl_tab)\n",
    "\n",
    "    mshsat_tot = 0\n",
    "    Mhosthl_tab_re = Mhosthl_tab\n",
    "\n",
    "#         if switch_sub == True:\n",
    "#             Mhl_zl_tab_vec = np.vstack((np.log10(Mhosthl_tab),  zl_tab)).T\n",
    "#             dnshp = interp_dnsh(Mhl_zl_tab_vec).reshape(\n",
    "#                 len(Mhosthl_tab), output_length)\n",
    "#             msh_acc_Mh = interp_msh_acc_Mh(Mhl_zl_tab_vec).reshape(\n",
    "#                 len(Mhosthl_tab), output_length)\n",
    "#             dnsh = np.where((msh_acc_Mh > 0.5) | (dnshp < 1.0e-4), 0., dnshp)\n",
    "#             mmsh_acc = msh_acc_Mh*Mhosthl_tab.reshape(len(Mhosthl_tab), -1)\n",
    "#             mmsh = np.logspace(np.log10(min_Msh), np.log10(\n",
    "#                 Mhosthl_tab/2.), n_bins).T[:, 1:]  # in [Modot/h]\n",
    "#             NNsh = np.random.poisson(dnsh)\n",
    "\n",
    "#             # Start: for-loop-2 of host halos\n",
    "#             for j, (mh, zl) in enumerate(zip(Mhosthl_tab, zl_tab)):\n",
    "#                 indices_sh = np.nonzero(NNsh[j])[0]\n",
    "#                 cut_Nsh = NNsh[j][indices_sh]\n",
    "#                 cut_msh = mmsh[j][indices_sh]\n",
    "#                 cut_msh_acc = mmsh_acc[j][indices_sh]\n",
    "#                 # Subhalo mass\n",
    "#                 msh_tab = np.repeat(cut_msh, cut_Nsh)\n",
    "#                 msh_acc_tab = np.repeat(cut_msh_acc, cut_Nsh)\n",
    "#                 zsub_tab = np.full(len(msh_tab), zz)\n",
    "#                 mshsat_tot = 0\n",
    "#                 # Start: If at least one subhalo exists in loop-2 of host halos\n",
    "#                 if len(msh_tab) != 0:\n",
    "#                     # Satellite gals\n",
    "#                     msat_ave = lens_gals.stellarmass_halomass(\n",
    "#                         msh_acc_tab/(cosmo.H0/100.), zl, g.params, g.frac_SM_IMF)*(cosmo.H0/100.)  # KA\n",
    "#                     msat_scat = np.random.lognormal(0.0, g.sig_msat, len(msh_acc_tab))\n",
    "#                     msat_tab = msat_ave*msat_scat\n",
    "\n",
    "#                     mshsat_tot = sum(msh_tab)+sum(msat_tab)\n",
    "#                     elipsh_tab, polarsh_tab = solve_lenseq.gene_e_ang_halo(msh_acc_tab)\n",
    "#                     con_sh_ave = np.where(lens_subhalo.concent_m_sub_ando(msh_tab, zl, cosmo) > lens_halo.concent_m(msh_tab, zl),\n",
    "#                                       lens_subhalo.concent_m_sub_ando(msh_tab, zl, cosmo), lens_halo.concent_m(msh_tab, zl))\n",
    "#                     cor_con_sh = mass_so.M_to_R(\n",
    "#                         msh_acc_tab, zl, 'vir') / mass_so.M_to_R(msh_tab, zl, 'vir')\n",
    "#                     con_sh_tab = con_sh_ave * \\\n",
    "#                         cor_con_sh * np.random.lognormal(0.0, g.sig_c_sh, len(msh_tab))\n",
    "#                     elipsat_tab, polarsat_tab = lens_gals.set_gals_param(polarsh_tab)\n",
    "#                     tb_sat_tab = lens_gals.galaxy_size(\n",
    "#                          msh_acc_tab, msat_tab/g.frac_SM_IMF, zz, cosmo, model=g.TYPE_GAL_SIZE, scatter=True, sig_tb=g.sig_tb)\n",
    "#                     halogal_par_mat = np.hstack((zsub_tab.reshape(-1, 1), msh_tab.reshape(-1, 1),  msh_acc_tab.reshape(-1, 1), elipsh_tab.reshape(-1, 1), polarsh_tab.reshape(-1, 1), con_sh_tab.reshape(-1, 1), msat_tab.reshape(-1, 1), elipsat_tab.reshape(-1, 1), polarsat_tab.reshape(-1, 1), tb_sat_tab.reshape(-1, 1)))\n",
    "\n",
    "#                     result_halogal_par.append(halogal_par_mat)\n",
    "#                 # End: If at least one subhalo exists in loop-2 of host halos\n",
    "\n",
    "#                 Mhosthl_tab_re[j] = mh-mshsat_tot\n",
    "\n",
    "    Mcenl_ave = lens_gals.stellarmass_halomass(Mhosthl_tab_re / (cosmo_col.H0 / 100.), zl_tab, g.paramc, g.frac_SM_IMF) * (cosmo_col.H0 / 100.)\n",
    "    Mcenl_scat = np.random.lognormal(0.0, g.sig_mcen, size=Mhosthl_tab_re.shape)\n",
    "    Mcenl_tab = Mcenl_ave * Mcenl_scat\n",
    "\n",
    "    elipcenl, polarcenl = lens_gals.set_gals_param(polarhl_tab)\n",
    "    tb_cen = lens_gals.galaxy_size(Mhosthl_tab_re, Mcenl_tab/g.frac_SM_IMF, zl_tab, cosmo_col, model=g.TYPE_GAL_SIZE, scatter=True, sig_tb=g.sig_tb)\n",
    "    halogal_par_mat = np.hstack((zl_tab.reshape(-1, 1), Mhosthl_tab_re.reshape(-1, 1), np.zeros_like(Mhosthl_tab).reshape(-1, 1), eliphl_tab.reshape(-1, 1), polarhl_tab.reshape(-1, 1), conhl_tab.reshape(-1, 1),\n",
    "                                    Mcenl_tab.reshape(-1, 1), elipcenl.reshape(-1, 1), polarcenl.reshape(-1, 1), tb_cen.reshape(-1, 1)))\n",
    "\n",
    "    halo_gal_pop_array = np.append(halo_gal_pop_array, halogal_par_mat, axis=0)\n",
    "# data_frame_pop = pd.DataFrame(halo_gal_pop_list)\n",
    "\n",
    "# data_frame_pop"
   ]
  },
  {
   "cell_type": "code",
   "execution_count": 99,
   "metadata": {},
   "outputs": [
    {
     "data": {
      "text/html": [
       "<div>\n",
       "<style scoped>\n",
       "    .dataframe tbody tr th:only-of-type {\n",
       "        vertical-align: middle;\n",
       "    }\n",
       "\n",
       "    .dataframe tbody tr th {\n",
       "        vertical-align: top;\n",
       "    }\n",
       "\n",
       "    .dataframe thead th {\n",
       "        text-align: right;\n",
       "    }\n",
       "</style>\n",
       "<table border=\"1\" class=\"dataframe\">\n",
       "  <thead>\n",
       "    <tr style=\"text-align: right;\">\n",
       "      <th></th>\n",
       "      <th>z</th>\n",
       "      <th>halo_mass</th>\n",
       "      <th>halo_mass_acc</th>\n",
       "      <th>e_h</th>\n",
       "      <th>p_h</th>\n",
       "      <th>concentration</th>\n",
       "      <th>stellar_mass</th>\n",
       "      <th>e_g</th>\n",
       "      <th>p_g</th>\n",
       "      <th>tb</th>\n",
       "    </tr>\n",
       "  </thead>\n",
       "  <tbody>\n",
       "    <tr>\n",
       "      <th>0</th>\n",
       "      <td>0.075</td>\n",
       "      <td>2.600160e+11</td>\n",
       "      <td>0.0</td>\n",
       "      <td>0.145123</td>\n",
       "      <td>115.552317</td>\n",
       "      <td>9.760382</td>\n",
       "      <td>5.865524e+09</td>\n",
       "      <td>0.373607</td>\n",
       "      <td>140.399393</td>\n",
       "      <td>0.365735</td>\n",
       "    </tr>\n",
       "    <tr>\n",
       "      <th>1</th>\n",
       "      <td>0.091</td>\n",
       "      <td>2.182730e+11</td>\n",
       "      <td>0.0</td>\n",
       "      <td>0.182705</td>\n",
       "      <td>-25.663141</td>\n",
       "      <td>13.494212</td>\n",
       "      <td>3.716412e+09</td>\n",
       "      <td>0.232750</td>\n",
       "      <td>-90.596291</td>\n",
       "      <td>0.397336</td>\n",
       "    </tr>\n",
       "    <tr>\n",
       "      <th>2</th>\n",
       "      <td>0.105</td>\n",
       "      <td>1.462177e+11</td>\n",
       "      <td>0.0</td>\n",
       "      <td>0.510557</td>\n",
       "      <td>-59.927349</td>\n",
       "      <td>9.158950</td>\n",
       "      <td>1.803778e+09</td>\n",
       "      <td>0.266069</td>\n",
       "      <td>-69.402165</td>\n",
       "      <td>0.689494</td>\n",
       "    </tr>\n",
       "    <tr>\n",
       "      <th>3</th>\n",
       "      <td>0.107</td>\n",
       "      <td>2.857591e+11</td>\n",
       "      <td>0.0</td>\n",
       "      <td>0.082263</td>\n",
       "      <td>-39.738060</td>\n",
       "      <td>13.614227</td>\n",
       "      <td>5.151813e+09</td>\n",
       "      <td>0.599937</td>\n",
       "      <td>33.779926</td>\n",
       "      <td>0.203443</td>\n",
       "    </tr>\n",
       "    <tr>\n",
       "      <th>4</th>\n",
       "      <td>0.113</td>\n",
       "      <td>1.606941e+11</td>\n",
       "      <td>0.0</td>\n",
       "      <td>0.294678</td>\n",
       "      <td>-26.069737</td>\n",
       "      <td>10.675590</td>\n",
       "      <td>2.071995e+09</td>\n",
       "      <td>0.169438</td>\n",
       "      <td>-8.782146</td>\n",
       "      <td>0.776613</td>\n",
       "    </tr>\n",
       "    <tr>\n",
       "      <th>...</th>\n",
       "      <td>...</td>\n",
       "      <td>...</td>\n",
       "      <td>...</td>\n",
       "      <td>...</td>\n",
       "      <td>...</td>\n",
       "      <td>...</td>\n",
       "      <td>...</td>\n",
       "      <td>...</td>\n",
       "      <td>...</td>\n",
       "      <td>...</td>\n",
       "    </tr>\n",
       "    <tr>\n",
       "      <th>32324</th>\n",
       "      <td>4.997</td>\n",
       "      <td>1.023293e+11</td>\n",
       "      <td>0.0</td>\n",
       "      <td>0.099154</td>\n",
       "      <td>111.671446</td>\n",
       "      <td>2.448956</td>\n",
       "      <td>6.121657e+08</td>\n",
       "      <td>0.297413</td>\n",
       "      <td>97.413709</td>\n",
       "      <td>0.184843</td>\n",
       "    </tr>\n",
       "    <tr>\n",
       "      <th>32325</th>\n",
       "      <td>4.997</td>\n",
       "      <td>1.037528e+11</td>\n",
       "      <td>0.0</td>\n",
       "      <td>0.096262</td>\n",
       "      <td>-45.937216</td>\n",
       "      <td>4.559088</td>\n",
       "      <td>3.953498e+08</td>\n",
       "      <td>0.468007</td>\n",
       "      <td>0.791494</td>\n",
       "      <td>0.041592</td>\n",
       "    </tr>\n",
       "    <tr>\n",
       "      <th>32326</th>\n",
       "      <td>4.998</td>\n",
       "      <td>1.078947e+11</td>\n",
       "      <td>0.0</td>\n",
       "      <td>0.125211</td>\n",
       "      <td>40.247689</td>\n",
       "      <td>4.835674</td>\n",
       "      <td>3.391498e+08</td>\n",
       "      <td>0.277973</td>\n",
       "      <td>-39.793874</td>\n",
       "      <td>0.045571</td>\n",
       "    </tr>\n",
       "    <tr>\n",
       "      <th>32327</th>\n",
       "      <td>4.998</td>\n",
       "      <td>1.227439e+11</td>\n",
       "      <td>0.0</td>\n",
       "      <td>0.542791</td>\n",
       "      <td>-155.775944</td>\n",
       "      <td>4.452229</td>\n",
       "      <td>5.875778e+08</td>\n",
       "      <td>0.386369</td>\n",
       "      <td>-165.288244</td>\n",
       "      <td>0.099346</td>\n",
       "    </tr>\n",
       "    <tr>\n",
       "      <th>32328</th>\n",
       "      <td>4.999</td>\n",
       "      <td>1.606941e+11</td>\n",
       "      <td>0.0</td>\n",
       "      <td>0.409270</td>\n",
       "      <td>78.180511</td>\n",
       "      <td>2.681565</td>\n",
       "      <td>9.249738e+08</td>\n",
       "      <td>0.131304</td>\n",
       "      <td>30.621283</td>\n",
       "      <td>0.064940</td>\n",
       "    </tr>\n",
       "  </tbody>\n",
       "</table>\n",
       "<p>32329 rows × 10 columns</p>\n",
       "</div>"
      ],
      "text/plain": [
       "           z     halo_mass  halo_mass_acc       e_h         p_h  \\\n",
       "0      0.075  2.600160e+11            0.0  0.145123  115.552317   \n",
       "1      0.091  2.182730e+11            0.0  0.182705  -25.663141   \n",
       "2      0.105  1.462177e+11            0.0  0.510557  -59.927349   \n",
       "3      0.107  2.857591e+11            0.0  0.082263  -39.738060   \n",
       "4      0.113  1.606941e+11            0.0  0.294678  -26.069737   \n",
       "...      ...           ...            ...       ...         ...   \n",
       "32324  4.997  1.023293e+11            0.0  0.099154  111.671446   \n",
       "32325  4.997  1.037528e+11            0.0  0.096262  -45.937216   \n",
       "32326  4.998  1.078947e+11            0.0  0.125211   40.247689   \n",
       "32327  4.998  1.227439e+11            0.0  0.542791 -155.775944   \n",
       "32328  4.999  1.606941e+11            0.0  0.409270   78.180511   \n",
       "\n",
       "       concentration  stellar_mass       e_g         p_g        tb  \n",
       "0           9.760382  5.865524e+09  0.373607  140.399393  0.365735  \n",
       "1          13.494212  3.716412e+09  0.232750  -90.596291  0.397336  \n",
       "2           9.158950  1.803778e+09  0.266069  -69.402165  0.689494  \n",
       "3          13.614227  5.151813e+09  0.599937   33.779926  0.203443  \n",
       "4          10.675590  2.071995e+09  0.169438   -8.782146  0.776613  \n",
       "...              ...           ...       ...         ...       ...  \n",
       "32324       2.448956  6.121657e+08  0.297413   97.413709  0.184843  \n",
       "32325       4.559088  3.953498e+08  0.468007    0.791494  0.041592  \n",
       "32326       4.835674  3.391498e+08  0.277973  -39.793874  0.045571  \n",
       "32327       4.452229  5.875778e+08  0.386369 -165.288244  0.099346  \n",
       "32328       2.681565  9.249738e+08  0.131304   30.621283  0.064940  \n",
       "\n",
       "[32329 rows x 10 columns]"
      ]
     },
     "execution_count": 99,
     "metadata": {},
     "output_type": "execute_result"
    }
   ],
   "source": [
    "columns_pop = [\"z\", \"halo_mass\", \"halo_mass_acc\", \"e_h\" , \"p_h\", \"concentration\", \"stellar_mass\", \"e_g\", \"p_g\", \"tb\"]\n",
    "data_frame_pop = pd.DataFrame(halo_gal_pop_array)\n",
    "data_frame_pop.columns =columns_pop\n",
    "data_frame_pop"
   ]
  },
  {
   "cell_type": "code",
   "execution_count": null,
   "metadata": {},
   "outputs": [],
   "source": [
    "def halo_galaxy_population(sky_area,cosmo,cosmo_col,z_min,z_max,log10host_halo_mass_min,log10host_halo_mass_max,\n",
    "                           log10subhalo_mass_min, sigma_host_halo_concentration, sigma_subhalo_concentration,\n",
    "                           sigma_central_galaxy_mass, sigma_satellite_galaxy_mass, sig_tb,\n",
    "                           TYPE_GAL_SIZE,frac_SM_IMF, TYPE_SMHM, switch_sub,**kwargs):\n",
    "    dz = 0.001\n",
    "    dlogMh = 0.001\n",
    "    dlnMh = np.log(10**dlogMh)\n",
    "    # cosmological parameters\n",
    "    area = sky_area.value\n",
    "    halo_gal_pop_array = np.array([])\n",
    "    halo_gal_pop_array = np.empty((0,10), float)\n",
    "    zz = np.arange(z_min, z_max + dz,dz)\n",
    "    Mh_min = 10**log10host_halo_mass_min\n",
    "    Mh_max = 10**log10host_halo_mass_max\n",
    "    MMh = 10**np.arange(np.log10(Mh_min),\n",
    "                        np.log10(Mh_max), dlogMh)\n",
    "    min_Msh =10**log10subhalo_mass_min\n",
    "    paramc, params = lens_gals.gals_init(TYPE_SMHM)\n",
    "    sig_c = sigma_host_halo_concentration\n",
    "    sig_csh = sigma_subhalo_concentration\n",
    "    sig_mcen = sigma_central_galaxy_mass\n",
    "    sig_msat = sigma_satellite_galaxy_mass\n",
    "\n",
    "    for z in zz:\n",
    "        zz2 = np.full(len(MMh), z)\n",
    "        NNh = area * \\\n",
    "            lens_halo.dNhalodzdlnM_lens(MMh, zz2, cosmo_col) * dlnMh * dz\n",
    "        Nh = np.random.poisson(NNh)\n",
    "        indices = np.nonzero(Nh)[0]\n",
    "        if len(indices) == 0:\n",
    "            continue\n",
    "\n",
    "        zl_tab = np.repeat(zz2[indices], Nh[indices])\n",
    "        Mhosthl_tab  = np.repeat(MMh[indices], Nh[indices])\n",
    "        conhl_tab = lens_halo.concent_m_w_scatter(Mhosthl_tab, z, sig_c)\n",
    "        # in physical [Mpc/h]\n",
    "        eliphl_tab, polarhl_tab = solve_lenseq.gene_e_ang_halo(Mhosthl_tab)\n",
    "\n",
    "        mshsat_tot = 0\n",
    "        Mhosthl_tab_re = Mhosthl_tab\n",
    "\n",
    "        Mcenl_ave = lens_gals.stellarmass_halomass(Mhosthl_tab_re / (cosmo.H0 / 100.), zl_tab, paramc, frac_SM_IMF) * (cosmo.H0 / 100.)\n",
    "        Mcenl_scat = np.random.lognormal(0.0, sig_mcen, size=Mhosthl_tab_re.shape)\n",
    "        Mcenl_tab = Mcenl_ave * Mcenl_scat\n",
    "\n",
    "        elipcenl, polarcenl = lens_gals.set_gals_param(polarhl_tab)\n",
    "        tb_cen = lens_gals.galaxy_size(Mhosthl_tab_re, Mcenl_tab/frac_SM_IMF, zl_tab, cosmo_col, model=TYPE_GAL_SIZE, scatter=True, sig_tb=sig_tb)\n",
    "        halogal_par_mat = np.hstack((zl_tab.reshape(-1, 1), Mhosthl_tab_re.reshape(-1, 1), np.zeros_like(Mhosthl_tab).reshape(-1, 1), eliphl_tab.reshape(-1, 1), polarhl_tab.reshape(-1, 1), conhl_tab.reshape(-1, 1),\n",
    "                                        Mcenl_tab.reshape(-1, 1), elipcenl.reshape(-1, 1), polarcenl.reshape(-1, 1), tb_cen.reshape(-1, 1)))\n",
    "\n",
    "        halo_gal_pop_array = np.append(halo_gal_pop_array, halogal_par_mat, axis=0)\n",
    "\n",
    "        halo_gal_pop_array = np.append(halo_gal_pop_array, halogal_par_mat, axis=0)\n",
    "    columns_pop = [\"z\", \"halo_mass\", \"halo_mass_acc\", \"e_h\" , \"p_h\", \"concentration\", \"stellar_mass\", \"e_g\", \"p_g\", \"tb\"]\n",
    "    data_frame_pop = pd.DataFrame(halo_gal_pop_array)\n",
    "    data_frame_pop.columns =columns_pop\n",
    "\n",
    "    return data_frame_pop"
   ]
  },
  {
   "cell_type": "code",
   "execution_count": null,
   "metadata": {},
   "outputs": [],
   "source": []
  },
  {
   "cell_type": "code",
   "execution_count": 3,
   "metadata": {},
   "outputs": [],
   "source": [
    "\n",
    "import os\n",
    "path = os.getcwd()\n",
    "slhammocks_config = os.path.join(path, \"../data/SL-Hammocks/gal_pop_Salpeter_10deg2_zl2.csv\")\n",
    "\n",
    "df = pd.read_csv(slhammocks_config)\n",
    "# mlens_halo = np.where(df[\"mass_sh\"]==-1, df[\"mass_hh\"], df[\"mass_sh\"])\n",
    "# mlens_gal = np.where(df[\"mass_sh\"]==-1, df[\"mass_cen\"], df[\"mass_sat\"])\n",
    "# lens_con = np.where(df[\"mass_sh\"]==-1, df[\"param1_hh\"], df[\"param1_sh\"])\n",
    "# lens_tb = np.where(df[\"mass_sh\"]==-1, df[\"param1_cen\"], df[\"param1_sat\"])\n",
    "# elip_lens_gal = np.where(df[\"mass_sh\"]==-1, df[\"elip_cen\"], df[\"elip_sat\"])\n",
    "# df[\"mlens_halo\"]=mlens_halo\n",
    "# df[\"mlens_gal\"]=mlens_gal\n",
    "# df[\"lens_tb\"]=lens_tb\n",
    "# df[\"lens_con\"]=lens_con\n",
    "# df[\"elip_lens_gal\"] = elip_lens_gal\n",
    "# df = df.rename(columns={'zl_hh': 'z'})\n",
    "df = df.rename(columns={'zl': 'z'})\n",
    "df = df.rename(columns={'m_g': 'm_gal'})\n",
    "df = df.rename(columns={'m_h': 'm_halo'})\n",
    "\n",
    "data_area = 10.0 #deg2\n",
    "if(sky_area.value>10.0):\n",
    "    print(\"Now sky_area should be lower than 10. Now we set sky_area=10.0.\")\n",
    "thinp = int((data_area/sky_area).value)"
   ]
  },
  {
   "cell_type": "code",
   "execution_count": null,
   "metadata": {},
   "outputs": [],
   "source": [
    "import matplotlib.pyplot as plt\n",
    "from astropy.cosmology import FlatLambdaCDM\n",
    "from slsim.Pipelines.skypy_pipeline import SkyPyPipeline\n",
    "from astropy.units import Quantity\n",
    "from slsim.lens_pop import LensPop\n",
    "from slsim.Plots.lens_plots import LensingPlots\n",
    "import numpy as np\n",
    "from slsim.selection import deflector_cut\n",
    "import corner\n",
    "from lenstronomy.Util import constants\n",
    "from colossus.cosmology import cosmology\n",
    "import numpy.random as random\n",
    "from slsim.Util import param_util\n",
    "import pandas as pd\n",
    "import sys\n",
    "from slsim.lens import Lens\n",
    "from slsim.Deflectors.deflector import Deflector\n",
    "# sys.path.append('../slsim')\n",
    "# from lens_pop import LensPop\n",
    "# from lensed_population_base import LensedPopulationBase\n",
    "# sys.path.append('../slsim/Deflectors')  # 別ディレクトリのパスを追加\n",
    "# from deflectors_base import DeflectorsBase\n",
    "# from compound_lens_halos_galaxies import CompoundLensHalosGalaxies\n",
    "# from lenstronomy.Util import constants\n",
    "# from velocity_dispersion import vel_disp_composite_model\n",
    "# sys.path.append('../slsim/Pipelines')  # 別ディレクトリのパスを追加\n",
    "# from sl_hammocks_pipeline import SLHammocksPipeline\n"
   ]
  },
  {
   "cell_type": "code",
   "execution_count": null,
   "metadata": {},
   "outputs": [],
   "source": [
    "import matplotlib.pyplot as plt\n",
    "from astropy.cosmology import FlatLambdaCDM\n",
    "from slsim.Pipelines.skypy_pipeline import SkyPyPipeline\n",
    "from astropy.units import Quantity\n",
    "from slsim.lens_pop import LensPop\n",
    "from slsim.Plots.lens_plots import LensingPlots\n",
    "import numpy as np\n",
    "from slsim.selection import deflector_cut\n",
    "import corner\n",
    "from lenstronomy.Util import constants\n",
    "from colossus.cosmology import cosmology\n",
    "import numpy.random as random\n",
    "from slsim.Util import param_util\n",
    "import pandas as pd\n",
    "import sys\n",
    "from slsim.lens import Lens\n",
    "from slsim.Deflectors.deflector import Deflector\n",
    "# sys.path.append('../slsim')\n",
    "# from lens_pop import LensPop\n",
    "# from lensed_population_base import LensedPopulationBase\n",
    "# sys.path.append('../slsim/Deflectors')  # 別ディレクトリのパスを追加\n",
    "# from deflectors_base import DeflectorsBase\n",
    "# from compound_lens_halos_galaxies import CompoundLensHalosGalaxies\n",
    "# from lenstronomy.Util import constants\n",
    "# from velocity_dispersion import vel_disp_composite_model\n",
    "# sys.path.append('../slsim/Pipelines')  # 別ディレクトリのパスを追加\n",
    "# from sl_hammocks_pipeline import SLHammocksPipeline\n"
   ]
  },
  {
   "cell_type": "code",
   "execution_count": 4,
   "metadata": {},
   "outputs": [
    {
     "data": {
      "text/html": [
       "<div>\n",
       "<style scoped>\n",
       "    .dataframe tbody tr th:only-of-type {\n",
       "        vertical-align: middle;\n",
       "    }\n",
       "\n",
       "    .dataframe tbody tr th {\n",
       "        vertical-align: top;\n",
       "    }\n",
       "\n",
       "    .dataframe thead th {\n",
       "        text-align: right;\n",
       "    }\n",
       "</style>\n",
       "<table border=\"1\" class=\"dataframe\">\n",
       "  <thead>\n",
       "    <tr style=\"text-align: right;\">\n",
       "      <th></th>\n",
       "      <th>Unnamed: 0</th>\n",
       "      <th>m_halo</th>\n",
       "      <th>m_gal</th>\n",
       "      <th>z</th>\n",
       "      <th>vel_disp</th>\n",
       "      <th>tb</th>\n",
       "      <th>con</th>\n",
       "      <th>m_acc</th>\n",
       "      <th>elip_lens_gal</th>\n",
       "    </tr>\n",
       "  </thead>\n",
       "  <tbody>\n",
       "    <tr>\n",
       "      <th>0</th>\n",
       "      <td>0</td>\n",
       "      <td>1.000000e+10</td>\n",
       "      <td>1.000000e+10</td>\n",
       "      <td>0.050000</td>\n",
       "      <td>150.000000</td>\n",
       "      <td>0.050000</td>\n",
       "      <td>2.000000</td>\n",
       "      <td>0.0</td>\n",
       "      <td>0.200000</td>\n",
       "    </tr>\n",
       "    <tr>\n",
       "      <th>1</th>\n",
       "      <td>1</td>\n",
       "      <td>1.668101e+10</td>\n",
       "      <td>1.668101e+10</td>\n",
       "      <td>0.266667</td>\n",
       "      <td>155.555556</td>\n",
       "      <td>0.055556</td>\n",
       "      <td>2.888889</td>\n",
       "      <td>0.0</td>\n",
       "      <td>0.244444</td>\n",
       "    </tr>\n",
       "    <tr>\n",
       "      <th>2</th>\n",
       "      <td>2</td>\n",
       "      <td>2.782559e+10</td>\n",
       "      <td>2.782559e+10</td>\n",
       "      <td>0.483333</td>\n",
       "      <td>161.111111</td>\n",
       "      <td>0.061111</td>\n",
       "      <td>3.777778</td>\n",
       "      <td>0.0</td>\n",
       "      <td>0.288889</td>\n",
       "    </tr>\n",
       "    <tr>\n",
       "      <th>3</th>\n",
       "      <td>3</td>\n",
       "      <td>4.641589e+10</td>\n",
       "      <td>4.641589e+10</td>\n",
       "      <td>0.700000</td>\n",
       "      <td>166.666667</td>\n",
       "      <td>0.066667</td>\n",
       "      <td>4.666667</td>\n",
       "      <td>0.0</td>\n",
       "      <td>0.333333</td>\n",
       "    </tr>\n",
       "    <tr>\n",
       "      <th>4</th>\n",
       "      <td>4</td>\n",
       "      <td>7.742637e+10</td>\n",
       "      <td>7.742637e+10</td>\n",
       "      <td>0.916667</td>\n",
       "      <td>172.222222</td>\n",
       "      <td>0.072222</td>\n",
       "      <td>5.555556</td>\n",
       "      <td>0.0</td>\n",
       "      <td>0.377778</td>\n",
       "    </tr>\n",
       "    <tr>\n",
       "      <th>5</th>\n",
       "      <td>5</td>\n",
       "      <td>1.291550e+11</td>\n",
       "      <td>1.291550e+11</td>\n",
       "      <td>1.133333</td>\n",
       "      <td>177.777778</td>\n",
       "      <td>0.077778</td>\n",
       "      <td>6.444444</td>\n",
       "      <td>0.0</td>\n",
       "      <td>0.422222</td>\n",
       "    </tr>\n",
       "    <tr>\n",
       "      <th>6</th>\n",
       "      <td>6</td>\n",
       "      <td>2.154435e+11</td>\n",
       "      <td>2.154435e+11</td>\n",
       "      <td>1.350000</td>\n",
       "      <td>183.333333</td>\n",
       "      <td>0.083333</td>\n",
       "      <td>7.333333</td>\n",
       "      <td>0.0</td>\n",
       "      <td>0.466667</td>\n",
       "    </tr>\n",
       "    <tr>\n",
       "      <th>7</th>\n",
       "      <td>7</td>\n",
       "      <td>3.593814e+11</td>\n",
       "      <td>3.593814e+11</td>\n",
       "      <td>1.566667</td>\n",
       "      <td>188.888889</td>\n",
       "      <td>0.088889</td>\n",
       "      <td>8.222222</td>\n",
       "      <td>0.0</td>\n",
       "      <td>0.511111</td>\n",
       "    </tr>\n",
       "    <tr>\n",
       "      <th>8</th>\n",
       "      <td>8</td>\n",
       "      <td>5.994843e+11</td>\n",
       "      <td>5.994843e+11</td>\n",
       "      <td>1.783333</td>\n",
       "      <td>194.444444</td>\n",
       "      <td>0.094444</td>\n",
       "      <td>9.111111</td>\n",
       "      <td>0.0</td>\n",
       "      <td>0.555556</td>\n",
       "    </tr>\n",
       "    <tr>\n",
       "      <th>9</th>\n",
       "      <td>9</td>\n",
       "      <td>1.000000e+12</td>\n",
       "      <td>1.000000e+12</td>\n",
       "      <td>2.000000</td>\n",
       "      <td>200.000000</td>\n",
       "      <td>0.100000</td>\n",
       "      <td>10.000000</td>\n",
       "      <td>0.0</td>\n",
       "      <td>0.600000</td>\n",
       "    </tr>\n",
       "  </tbody>\n",
       "</table>\n",
       "</div>"
      ],
      "text/plain": [
       "   Unnamed: 0        m_halo         m_gal         z    vel_disp        tb  \\\n",
       "0           0  1.000000e+10  1.000000e+10  0.050000  150.000000  0.050000   \n",
       "1           1  1.668101e+10  1.668101e+10  0.266667  155.555556  0.055556   \n",
       "2           2  2.782559e+10  2.782559e+10  0.483333  161.111111  0.061111   \n",
       "3           3  4.641589e+10  4.641589e+10  0.700000  166.666667  0.066667   \n",
       "4           4  7.742637e+10  7.742637e+10  0.916667  172.222222  0.072222   \n",
       "5           5  1.291550e+11  1.291550e+11  1.133333  177.777778  0.077778   \n",
       "6           6  2.154435e+11  2.154435e+11  1.350000  183.333333  0.083333   \n",
       "7           7  3.593814e+11  3.593814e+11  1.566667  188.888889  0.088889   \n",
       "8           8  5.994843e+11  5.994843e+11  1.783333  194.444444  0.094444   \n",
       "9           9  1.000000e+12  1.000000e+12  2.000000  200.000000  0.100000   \n",
       "\n",
       "         con  m_acc  elip_lens_gal  \n",
       "0   2.000000    0.0       0.200000  \n",
       "1   2.888889    0.0       0.244444  \n",
       "2   3.777778    0.0       0.288889  \n",
       "3   4.666667    0.0       0.333333  \n",
       "4   5.555556    0.0       0.377778  \n",
       "5   6.444444    0.0       0.422222  \n",
       "6   7.333333    0.0       0.466667  \n",
       "7   8.222222    0.0       0.511111  \n",
       "8   9.111111    0.0       0.555556  \n",
       "9  10.000000    0.0       0.600000  "
      ]
     },
     "execution_count": 4,
     "metadata": {},
     "output_type": "execute_result"
    }
   ],
   "source": [
    "df"
   ]
  },
  {
   "cell_type": "code",
   "execution_count": 10,
   "metadata": {},
   "outputs": [
    {
     "data": {
      "text/plain": [
       "Unnamed: 0       5.000000e+00\n",
       "m_halo           1.291550e+11\n",
       "m_gal            1.291550e+11\n",
       "z                1.133333e+00\n",
       "vel_disp         1.777778e+02\n",
       "tb               7.777778e-02\n",
       "con              6.444444e+00\n",
       "m_acc            0.000000e+00\n",
       "elip_lens_gal    4.222222e-01\n",
       "mag_g           -1.000000e+00\n",
       "mag_r           -1.000000e+00\n",
       "mag_i           -1.000000e+00\n",
       "mag_z           -1.000000e+00\n",
       "mag_Y           -1.000000e+00\n",
       "e1_light        -2.138122e-01\n",
       "e2_light         5.771732e-02\n",
       "e1_mass         -1.751155e-01\n",
       "e2_mass          5.916205e-02\n",
       "Name: 5, dtype: float64"
      ]
     },
     "execution_count": 10,
     "metadata": {},
     "output_type": "execute_result"
    }
   ],
   "source": [
    "gg_lens_pop._lens_galaxies.draw_deflector()"
   ]
  },
  {
   "cell_type": "code",
   "execution_count": 5,
   "metadata": {
    "execution": {
     "iopub.execute_input": "2023-07-10T22:02:02.025669Z",
     "iopub.status.busy": "2023-07-10T22:02:02.025321Z",
     "iopub.status.idle": "2023-07-10T22:02:35.987416Z",
     "shell.execute_reply": "2023-07-10T22:02:35.986246Z",
     "shell.execute_reply.started": "2023-07-10T22:02:02.025645Z"
    },
    "tags": []
   },
   "outputs": [],
   "source": [
    "# define a cosmology\n",
    "\n",
    "cosmo_col = cosmology.setCosmology('planck18')\n",
    "cosmo = FlatLambdaCDM(H0=cosmo_col.H0, Om0=cosmo_col.Om0)\n",
    "\n",
    "# define a sky area\n",
    "sky_area = Quantity(value=0.1, unit=\"deg2\")\n",
    "\n",
    "\n",
    "# define limits in the intrinsic deflector and source population (in addition to the skypy config\n",
    "# file)\n",
    "kwargs_deflector_cut = {\"band\": \"g\", \"band_max\": 28, \"z_min\": 0.01, \"z_max\": 2.5}\n",
    "kwargs_source_cut = {\"band\": \"g\", \"band_max\": 28, \"z_min\": 0.1, \"z_max\": 5.0}\n",
    "\n",
    "skypy_config='/Users/ktabe/Research/strong-lens-SNe/slsim/data/SkyPy/lsst-like.yml'\n",
    "# run skypy pipeline and make galaxy-galaxy population class using LensPop\n",
    "gg_lens_pop2 = LensPop(\n",
    "    deflector_type=\"all-galaxies\",\n",
    "    source_type=\"galaxies\",\n",
    "    kwargs_deflector_cut=kwargs_deflector_cut,\n",
    "    kwargs_source_cut=kwargs_source_cut,\n",
    "    kwargs_mass2light=None,\n",
    "    skypy_config=skypy_config,\n",
    "    sky_area=sky_area,\n",
    "    cosmo=cosmo,\n",
    ")"
   ]
  },
  {
   "cell_type": "code",
   "execution_count": null,
   "metadata": {},
   "outputs": [],
   "source": [
    "# define a cosmology\n",
    "\n",
    "cosmo_col = cosmology.setCosmology('planck18')\n",
    "cosmo = FlatLambdaCDM(H0=cosmo_col.H0, Om0=cosmo_col.Om0)\n",
    "\n",
    "# define a sky area\n",
    "sky_area = Quantity(value=0.1, unit=\"deg2\")\n",
    "\n",
    "\n",
    "# define limits in the intrinsic deflector and source population (in addition to the skypy config\n",
    "# file)\n",
    "kwargs_deflector_cut = {\"band\": \"g\", \"band_max\": 28, \"z_min\": 0.01, \"z_max\": 2.5}\n",
    "kwargs_source_cut = {\"band\": \"g\", \"band_max\": 28, \"z_min\": 0.1, \"z_max\": 5.0}\n",
    "\n",
    "skypy_config='/Users/ktabe/Research/strong-lens-SNe/slsim/data/SkyPy/lsst-like.yml'\n",
    "# run skypy pipeline and make galaxy-galaxy population class using LensPop\n",
    "gg_lens_pop = LensPop(\n",
    "    deflector_type=\"all-galaxies\",\n",
    "    source_type=\"galaxies\",\n",
    "    kwargs_deflector_cut=kwargs_deflector_cut,\n",
    "    kwargs_source_cut=kwargs_source_cut,\n",
    "    kwargs_mass2light=None,\n",
    "    skypy_config=skypy_config,\n",
    "    sky_area=sky_area,\n",
    "    cosmo=cosmo,\n",
    ")"
   ]
  },
  {
   "cell_type": "code",
   "execution_count": 12,
   "metadata": {},
   "outputs": [],
   "source": [
    "filters=None\n",
    "pipeline = SkyPyPipeline(\n",
    "                skypy_config=skypy_config,\n",
    "                sky_area=sky_area,\n",
    "                filters=filters,\n",
    "                cosmo=cosmo,\n",
    "            )"
   ]
  },
  {
   "cell_type": "code",
   "execution_count": 17,
   "metadata": {},
   "outputs": [
    {
     "data": {
      "text/plain": [
       "(7.180317718856675, 12.956928546511325)"
      ]
     },
     "execution_count": 17,
     "metadata": {},
     "output_type": "execute_result"
    }
   ],
   "source": [
    "gal_list = pipeline.red_galaxies\n",
    "gal_list.sort(\"stellar_mass\")\n",
    "gal_list.reverse()\n",
    "np.log10(min(gal_list[\"stellar_mass\"])),np.log10(9055835950204)"
   ]
  },
  {
   "cell_type": "code",
   "execution_count": 2,
   "metadata": {},
   "outputs": [],
   "source": []
  },
  {
   "cell_type": "markdown",
   "metadata": {},
   "source": [
    "## Elliptical galaxies class"
   ]
  },
  {
   "cell_type": "code",
   "execution_count": 5,
   "metadata": {},
   "outputs": [],
   "source": [
    "from slsim.Deflectors.elliptical_lens_galaxies import (\n",
    "                EllipticalLensGalaxies)\n",
    "kwargs_mass2light = {}\n",
    "lens_galaxies = EllipticalLensGalaxies(\n",
    "                pipeline.red_galaxies,\n",
    "                kwargs_cut=kwargs_deflector_cut,\n",
    "                kwargs_mass2light=kwargs_mass2light,\n",
    "                cosmo=cosmo,\n",
    "                sky_area=sky_area,\n",
    "            )"
   ]
  },
  {
   "cell_type": "code",
   "execution_count": 2,
   "metadata": {},
   "outputs": [
    {
     "ename": "NameError",
     "evalue": "name 'lens_galaxies' is not defined",
     "output_type": "error",
     "traceback": [
      "\u001b[0;31m---------------------------------------------------------------------------\u001b[0m",
      "\u001b[0;31mNameError\u001b[0m                                 Traceback (most recent call last)",
      "Cell \u001b[0;32mIn[2], line 4\u001b[0m\n\u001b[1;32m      1\u001b[0m \u001b[38;5;28;01mimport\u001b[39;00m \u001b[38;5;21;01mnumpy\u001b[39;00m\u001b[38;5;21;01m.\u001b[39;00m\u001b[38;5;21;01mrandom\u001b[39;00m \u001b[38;5;28;01mas\u001b[39;00m \u001b[38;5;21;01mrandom\u001b[39;00m\n\u001b[1;32m      2\u001b[0m \u001b[38;5;28;01mfrom\u001b[39;00m \u001b[38;5;21;01mslsim\u001b[39;00m\u001b[38;5;21;01m.\u001b[39;00m\u001b[38;5;21;01mDeflectors\u001b[39;00m\u001b[38;5;21;01m.\u001b[39;00m\u001b[38;5;21;01melliptical_lens_galaxies\u001b[39;00m \u001b[38;5;28;01mimport\u001b[39;00m (\n\u001b[1;32m      3\u001b[0m                 elliptical_projected_eccentricity)\n\u001b[0;32m----> 4\u001b[0m index \u001b[38;5;241m=\u001b[39m random\u001b[38;5;241m.\u001b[39mrandint(\u001b[38;5;241m0\u001b[39m, \u001b[43mlens_galaxies\u001b[49m\u001b[38;5;241m.\u001b[39m_num_select \u001b[38;5;241m-\u001b[39m \u001b[38;5;241m1\u001b[39m)\n\u001b[1;32m      5\u001b[0m deflec \u001b[38;5;241m=\u001b[39m lens_galaxies\u001b[38;5;241m.\u001b[39m_galaxy_select[index]\n\u001b[1;32m      6\u001b[0m a,b,c,d \u001b[38;5;241m=\u001b[39m elliptical_projected_eccentricity(\u001b[38;5;241m*\u001b[39m\u001b[38;5;241m*\u001b[39mdeflec)\n",
      "\u001b[0;31mNameError\u001b[0m: name 'lens_galaxies' is not defined"
     ]
    }
   ],
   "source": [
    "import numpy.random as random\n",
    "from slsim.Deflectors.elliptical_lens_galaxies import (\n",
    "                elliptical_projected_eccentricity)\n",
    "index = random.randint(0, lens_galaxies._num_select - 1)\n",
    "deflec = lens_galaxies._galaxy_select[index]\n",
    "a,b,c,d = elliptical_projected_eccentricity(**deflec)\n",
    "print(deflec),print(a,b,c,d)"
   ]
  },
  {
   "cell_type": "markdown",
   "metadata": {},
   "source": [
    "## Compound class"
   ]
  },
  {
   "cell_type": "code",
   "execution_count": 41,
   "metadata": {},
   "outputs": [],
   "source": [
    "class CompoundLensHalosGalaxies(DeflectorsBase):\n",
    "    \"\"\"Class describing compound lens model based on the halo model.\"\"\"\n",
    "\n",
    "    def __init__(self, halo_galaxy_list, kwargs_cut, kwargs_mass2light, cosmo, sky_area):\n",
    "        \"\"\"\n",
    "\n",
    "        :param halo_galaxy_list: list of dictionary with lens parameters of\n",
    "            elliptical dark matte haloes and galaxies (currently supporting SL-Hammocks pipelines)\n",
    "        :param kwargs_cut: cuts in parameters: band, band_mag, z_min, z_max\n",
    "        :type kwargs_cut: dict\n",
    "        # :param kwargs_mass2light: mass-to-light relation\n",
    "        :param cosmo: astropy.cosmology instance\n",
    "        :type sky_area: `~astropy.units.Quantity`\n",
    "        :param sky_area: Sky area over which galaxies are sampled. Must be in units of\n",
    "            solid angle.\n",
    "        ## MEMO: DeflectorsBase's inputs are deflector_table, kwargs_cut, cosmo, sky_area\n",
    "        \"\"\"\n",
    "        super().__init__(\n",
    "            deflector_table=halo_galaxy_list,\n",
    "            kwargs_cut=kwargs_cut,\n",
    "            cosmo=cosmo,\n",
    "            sky_area=sky_area,\n",
    "        )\n",
    "\n",
    "        n = len(halo_galaxy_list)\n",
    "        column_names = halo_galaxy_list.columns\n",
    "        if \"vel_disp\" not in column_names:\n",
    "            halo_galaxy_list[\"vel_disp\"] = -np.ones(n)\n",
    "        if \"mag_g\" not in column_names:\n",
    "            halo_galaxy_list[\"mag_g\"] = -np.ones(n)\n",
    "        if \"mag_r\" not in column_names:\n",
    "            halo_galaxy_list[\"mag_r\"] = -np.ones(n)\n",
    "        if \"mag_i\" not in column_names:\n",
    "            halo_galaxy_list[\"mag_i\"] = -np.ones(n)\n",
    "        if \"mag_z\" not in column_names:\n",
    "            halo_galaxy_list[\"mag_z\"] = -np.ones(n)\n",
    "        if \"mag_Y\" not in column_names:\n",
    "            halo_galaxy_list[\"mag_Y\"] = -np.ones(n)\n",
    "        if \"e1_light\" not in column_names or \"e2_light\" not in column_names:\n",
    "            halo_galaxy_list[\"e1_light\"] = -np.ones(n)\n",
    "            halo_galaxy_list[\"e2_light\"] = -np.ones(n)\n",
    "        if \"e1_mass\" not in column_names or \"e2_mass\" not in column_names:\n",
    "            halo_galaxy_list[\"e1_mass\"] = -np.ones(n)\n",
    "            halo_galaxy_list[\"e2_mass\"] = -np.ones(n)\n",
    "        # TODO: check\n",
    "\n",
    "        # num_total = len(halo_galaxy_list)\n",
    "        # z_min, z_max = 0, np.max(halo_galaxy_list[\"z\"])\n",
    "\n",
    "        self._galaxy_select = deflector_cut(halo_galaxy_list, **kwargs_cut)\n",
    "        # Currently only supporting redshift cut\n",
    "        self._num_select = len(self._galaxy_select)\n",
    "        self._cosmo = cosmo\n",
    "\n",
    "        # TODO: random reshuffle of matched list\n",
    "\n",
    "    def draw_deflector(self):\n",
    "        \"\"\"\n",
    "        :return: dictionary of complete parameterization of deflector\n",
    "        \"\"\"\n",
    "        cosmo = self._cosmo\n",
    "        index = random.randint(0, self._num_select - 1)\n",
    "        deflector_ori = self._galaxy_select.iloc[index]\n",
    "        deflector = deflector_ori.copy()\n",
    "        # if deflector[\"vel_disp\"] == -1:\n",
    "        theta_eff = deflector['tb']/0.551 # [arcsec]\n",
    "        reff = (theta_eff*cosmo.angular_diameter_distance(deflector['z'])*constants.arcsec).value # physical Mpc\n",
    "        hubble = cosmo.H0.value/100.\n",
    "        vel_disp = vel_disp_composite_model(\n",
    "                theta_eff, deflector['m_gal']/(hubble), reff, max(deflector['m_halo'],deflector['m_acc'])/(hubble),deflector['con'], cosmo, deflector['z'])\n",
    "        print(vel_disp)\n",
    "            # vel_disp = vel_disp_composite_model(theta_eff, deflector['mlens_gal']/(hubble), reff, deflector['mlens_halo']/(hubble),deflector['lens_con'], deflector['z'], deflector['zs'], cosmo)\n",
    "            # deflector[\"vel_disp\"] = vel_disp\n",
    "        if deflector[\"mag_g\"] == -1 or deflector[\"mag_r\"] or  deflector[\"mag_i\"] == -1 or deflector[\"mag_z\"] or deflector[\"mag_Y\"] == -1:\n",
    "            mag_g, mag_r, mag_i, mag_z, mag_Y = 0,0,0,0,0 # TODO: make function if needed\n",
    "        if deflector[\"e1_light\"] == -1 or deflector[\"e2_light\"] == -1:\n",
    "            e1_light, e2_light, e1_mass, e2_mass = elliptical_projected_eccentricity_galaxy(\n",
    "                **deflector\n",
    "            ) # TODO: make function if needed\n",
    "            deflector[\"e1_light\"] = e1_light\n",
    "            deflector[\"e2_light\"] = e2_light\n",
    "            deflector[\"e1_mass\"] = e1_mass\n",
    "            deflector[\"e2_mass\"] = e2_mass\n",
    "        return deflector\n",
    "\n",
    "    def deflector_number(self):\n",
    "        \"\"\"\n",
    "\n",
    "        :return: number of deflectors\n",
    "        \"\"\"\n",
    "        number = self._num_select\n",
    "        return number\n",
    "\n",
    "\n",
    "def elliptical_projected_eccentricity_galaxy(elip_lens_gal, **kwargs): #TODO: add row of elip_lens_gal if needed\n",
    "    \"\"\"Projected eccentricity of elliptical galaxies as a function of other deflector\n",
    "    parameters.\n",
    "\n",
    "    :param ellipticity: eccentricity amplitude\n",
    "    :type ellipticity: float [0,1)\n",
    "    :param kwargs: deflector properties\n",
    "    :type kwargs: dict\n",
    "    :return: e1_light, e2_light,e1_mass, e2_mass eccentricity components\n",
    "    \"\"\"\n",
    "    ellipticity = elip_lens_gal\n",
    "    e_light = param_util.epsilon2e(ellipticity)\n",
    "    phi_light = np.random.uniform(0, np.pi)\n",
    "    e1_light = e_light * np.cos(phi_light)\n",
    "    e2_light = e_light * np.sin(phi_light)\n",
    "    e_mass = 0.5 * ellipticity + np.random.normal(loc=0, scale=0.1)\n",
    "    phi_mass = phi_light + np.random.normal(loc=0, scale=0.1)\n",
    "    e1_mass = e_mass * np.cos(phi_mass)\n",
    "    e2_mass = e_mass * np.sin(phi_mass)\n",
    "    return e1_light, e2_light, e1_mass, e2_mass\n",
    "\n",
    "\n",
    "def vel_disp_composite_model2(r, m_star, rs_star, m_halo, c_halo, cosmo, z_lens):\n",
    "    \"\"\"Computes the luminosity weighted velocity dispersion for a deflector with a\n",
    "    stellar Hernquist profile and a NFW halo profile, assuming isotropic anisotropy.\n",
    "\n",
    "    :param r: radius of the luminosity-weighted velocity dispersion [arcsec]\n",
    "    :param m_star: stellar mass [M_sun]\n",
    "    :param rs_star: stellar half light radius [physical Mpc]\n",
    "    :param m_halo: Halo mass [physical M_sun]\n",
    "    :param c_halo: halo concentration\n",
    "    :param cosmo: cosmology\n",
    "    :type cosmo: ~astropy.cosmology class\n",
    "    :param z_lens: redshift of the deflector\n",
    "    :return: velocity dispersion [km/s]\n",
    "    \"\"\"\n",
    "    kwargs_model = {\n",
    "        \"mass_profile_list\": [\"HERNQUIST\", \"NFW\"],\n",
    "        \"light_profile_list\": [\"HERNQUIST\"],\n",
    "        \"anisotropy_model\": \"const\",\n",
    "    }\n",
    "\n",
    "    # turn physical masses to lenstronomy units\n",
    "    from lenstronomy.Cosmo.lens_cosmo import LensCosmo\n",
    "\n",
    "    lens_cosmo = LensCosmo(z_lens=z_lens, z_source=z_lens+0.5, cosmo=cosmo)\n",
    "    # Hernquist profile\n",
    "    sigma0, rs_angle_hernquist = lens_cosmo.hernquist_phys2angular(\n",
    "        mass=m_star, rs=rs_star\n",
    "    )\n",
    "\n",
    "    rs_angle_nfw, alpha_Rs = lens_cosmo.nfw_physical2angle(M=m_halo, c=c_halo)\n",
    "    kwargs_mass = [\n",
    "        {\"sigma0\": sigma0, \"Rs\": rs_angle_hernquist, \"center_x\": 0, \"center_y\": 0},\n",
    "        {\"alpha_Rs\": alpha_Rs, \"Rs\": rs_angle_nfw, \"center_x\": 0, \"center_y\": 0},\n",
    "    ]\n",
    "    kwargs_light = [{\"amp\": 1, \"Rs\": rs_angle_hernquist, \"center_x\": 0, \"center_y\": 0}]\n",
    "    kwargs_anisotropy = {\"beta\": 0}\n",
    "\n",
    "    from lenstronomy.GalKin.numeric_kinematics import NumericKinematics\n",
    "\n",
    "    kwargs_numerics = {\n",
    "        \"interpol_grid_num\": 1000,\n",
    "        \"log_integration\": True,\n",
    "        \"max_integrate\": 100,\n",
    "        \"min_integrate\": 0.0001,\n",
    "        \"max_light_draw\": None,\n",
    "        \"lum_weight_int_method\": True,\n",
    "    }\n",
    "    kwargs_cosmo = {\"d_d\": lens_cosmo.dd, \"d_s\": lens_cosmo.ds, \"d_ds\": lens_cosmo.dds}\n",
    "\n",
    "\n",
    "    num_kin = NumericKinematics(kwargs_model, kwargs_cosmo, **kwargs_numerics)\n",
    "    vel_disp = num_kin.lum_weighted_vel_disp(\n",
    "        r, kwargs_mass, kwargs_light, kwargs_anisotropy\n",
    "    )\n",
    "    return vel_disp\n",
    "\n"
   ]
  },
  {
   "cell_type": "code",
   "execution_count": 4,
   "metadata": {},
   "outputs": [],
   "source": [
    "import pandas as pd\n",
    "# columns = [\n",
    "#     'nim', 'mori', 'mobs', 'sep', 'ein', 'fs', 'frac_sh_trunc', 'mmin', 'flag_out', 'zs', 'xs', 'ys'\n",
    "# ]\n",
    "\n",
    "# for i in range(5):\n",
    "#     suffix = \"_sh\" if i == 0 else \"_sat\" if i == 1 else \"_hh\" if i == 2 else \"_cen\" if i == 3 else \"_pert\"\n",
    "#     columns.extend([\n",
    "#         f'm_type{suffix}', f'zl{suffix}', f'mass{suffix}', f'xl{suffix}',\n",
    "#         f'yl{suffix}', f'elip{suffix}', f'pol{suffix}', f'param1{suffix}'\n",
    "#     ])\n",
    "# file_path = '/Users/ktabe/Research/strong-lens-SNe/genmock_halo/result/default_kapst/'\n",
    "# prefix = 'default_LSST_kapst'\n",
    "# data = np.loadtxt(file_path+\"/\"+prefix+\"_result.dat\")\n",
    "# df = pd.DataFrame(data, columns=columns)\n",
    "# lens_class = df\n",
    "# lens_class\n",
    "df = pd.read_csv(\"/Users/ktabe/Research/strong-lens-SNe/slsim_KTA/data/SL-Hammocks/qso_salpeter_LSST_multi.csv\")"
   ]
  },
  {
   "cell_type": "code",
   "execution_count": 17,
   "metadata": {},
   "outputs": [],
   "source": [
    "import os\n",
    "import slsim\n",
    "path = os.getcwd()\n",
    "module_path, _ = os.path.split(path)\n",
    "slhammocks_config = os.path.join(path, \"../data/SL-Hammocks/qso_salpeter_LSST_multi.csv\")\n",
    "df = pd.read_csv(slhammocks_config)"
   ]
  },
  {
   "cell_type": "code",
   "execution_count": 18,
   "metadata": {},
   "outputs": [],
   "source": [
    "mlens_halo = np.where(df[\"mass_sh\"]==-1, df[\"mass_hh\"], df[\"mass_sh\"])\n",
    "mlens_gal = np.where(df[\"mass_sh\"]==-1, df[\"mass_cen\"], df[\"mass_sat\"])\n",
    "lens_con = np.where(df[\"mass_sh\"]==-1, df[\"param1_hh\"], df[\"param1_sh\"])\n",
    "lens_tb = np.where(df[\"mass_sh\"]==-1, df[\"param1_cen\"], df[\"param1_sat\"])\n",
    "elip_lens_gal = np.where(df[\"mass_sh\"]==-1, df[\"elip_cen\"], df[\"elip_sat\"])\n",
    "df[\"mlens_halo\"]=mlens_halo\n",
    "df[\"mlens_gal\"]=mlens_gal\n",
    "df[\"lens_tb\"]=lens_tb\n",
    "df[\"lens_con\"]=lens_con\n",
    "df[\"elip_lens_gal\"] = elip_lens_gal\n",
    "df = df.rename(columns={'zl_hh': 'z'})"
   ]
  },
  {
   "cell_type": "code",
   "execution_count": 2,
   "metadata": {},
   "outputs": [],
   "source": [
    "sys.path.append('../slsim/Pipelines')  # 別ディレクトリのパスを追加\n",
    "from sl_hammocks_pipeline import SLHammocksPipeline"
   ]
  },
  {
   "cell_type": "code",
   "execution_count": 11,
   "metadata": {},
   "outputs": [],
   "source": [
    "# define a cosmology\n",
    "\n",
    "cosmo_col = cosmology.setCosmology('planck18')\n",
    "cosmo = FlatLambdaCDM(H0=cosmo_col.H0, Om0=cosmo_col.Om0)\n",
    "sky_area = Quantity(value=0.1, unit=\"deg2\")\n",
    "kwargs_deflector_cut = {\"z_min\": 0.01, \"z_max\": 2.5}"
   ]
  },
  {
   "cell_type": "code",
   "execution_count": 6,
   "metadata": {},
   "outputs": [],
   "source": [
    "pipeline2 = SLHammocksPipeline(\n",
    "                slhammocks_config=None,\n",
    "                sky_area=sky_area,\n",
    "                cosmo=cosmo,\n",
    "            )"
   ]
  },
  {
   "cell_type": "code",
   "execution_count": 20,
   "metadata": {},
   "outputs": [
    {
     "name": "stdout",
     "output_type": "stream",
     "text": [
      "include\n"
     ]
    }
   ],
   "source": [
    "n = len(halo_galaxy_list)\n",
    "column_names = halo_galaxy_list.columns\n",
    "if \"vel_disp\" not in column_names:\n",
    "    halo_galaxy_list[\"vel_disp\"] = -np.ones(n)\n",
    "else:\n",
    "    print(\"include\")"
   ]
  },
  {
   "cell_type": "code",
   "execution_count": 23,
   "metadata": {},
   "outputs": [
    {
     "ename": "NameError",
     "evalue": "name 'halo_galaxy_list' is not defined",
     "output_type": "error",
     "traceback": [
      "\u001b[0;31m---------------------------------------------------------------------------\u001b[0m",
      "\u001b[0;31mNameError\u001b[0m                                 Traceback (most recent call last)",
      "Cell \u001b[0;32mIn[23], line 2\u001b[0m\n\u001b[1;32m      1\u001b[0m kwargs_deflector_cut \u001b[38;5;241m=\u001b[39m {\u001b[38;5;124m\"\u001b[39m\u001b[38;5;124mz_min\u001b[39m\u001b[38;5;124m\"\u001b[39m: \u001b[38;5;241m0.01\u001b[39m, \u001b[38;5;124m\"\u001b[39m\u001b[38;5;124mz_max\u001b[39m\u001b[38;5;124m\"\u001b[39m: \u001b[38;5;241m2.5\u001b[39m}\n\u001b[0;32m----> 2\u001b[0m galaxy_select \u001b[38;5;241m=\u001b[39m deflector_cut(\u001b[43mhalo_galaxy_list\u001b[49m, \u001b[38;5;241m*\u001b[39m\u001b[38;5;241m*\u001b[39mkwargs_deflector_cut)\n\u001b[1;32m      3\u001b[0m galaxy_select\n",
      "\u001b[0;31mNameError\u001b[0m: name 'halo_galaxy_list' is not defined"
     ]
    }
   ],
   "source": [
    "kwargs_deflector_cut = {\"z_min\": 0.01, \"z_max\": 2.5}\n",
    "galaxy_select = deflector_cut(halo_galaxy_list, **kwargs_deflector_cut)\n",
    "galaxy_select"
   ]
  },
  {
   "cell_type": "markdown",
   "metadata": {},
   "source": [
    "### Test vel_disp_compound"
   ]
  },
  {
   "cell_type": "code",
   "execution_count": 45,
   "metadata": {},
   "outputs": [
    {
     "data": {
      "text/plain": [
       "Index(['Unnamed: 0', 'index', 'z', 'm_halo', 'm_acc', 'e_h', 'p_h', 'con',\n",
       "       'm_gal', 'e_g', 'p_g', 'tb', 'vel_disp'],\n",
       "      dtype='object')"
      ]
     },
     "execution_count": 45,
     "metadata": {},
     "output_type": "execute_result"
    }
   ],
   "source": [
    "pipeline2._pipeline.columns"
   ]
  },
  {
   "cell_type": "code",
   "execution_count": 24,
   "metadata": {},
   "outputs": [],
   "source": [
    "import numpy.random as random\n",
    "import sys\n",
    "\n",
    "kwargs_mass2light = {}\n",
    "lens_galaxies = CompoundLensHalosGalaxies(\n",
    "                pipeline2._pipeline.copy(),\n",
    "                kwargs_cut=kwargs_deflector_cut,\n",
    "                kwargs_mass2light=kwargs_mass2light,\n",
    "                cosmo=cosmo,\n",
    "                sky_area=sky_area,\n",
    "            )"
   ]
  },
  {
   "cell_type": "code",
   "execution_count": 25,
   "metadata": {},
   "outputs": [
    {
     "data": {
      "text/html": [
       "<div>\n",
       "<style scoped>\n",
       "    .dataframe tbody tr th:only-of-type {\n",
       "        vertical-align: middle;\n",
       "    }\n",
       "\n",
       "    .dataframe tbody tr th {\n",
       "        vertical-align: top;\n",
       "    }\n",
       "\n",
       "    .dataframe thead th {\n",
       "        text-align: right;\n",
       "    }\n",
       "</style>\n",
       "<table border=\"1\" class=\"dataframe\">\n",
       "  <thead>\n",
       "    <tr style=\"text-align: right;\">\n",
       "      <th></th>\n",
       "      <th>Unnamed: 0</th>\n",
       "      <th>index</th>\n",
       "      <th>z</th>\n",
       "      <th>m_halo</th>\n",
       "      <th>m_acc</th>\n",
       "      <th>e_h</th>\n",
       "      <th>p_h</th>\n",
       "      <th>con</th>\n",
       "      <th>m_gal</th>\n",
       "      <th>e_g</th>\n",
       "      <th>...</th>\n",
       "      <th>vel_disp</th>\n",
       "      <th>mag_g</th>\n",
       "      <th>mag_r</th>\n",
       "      <th>mag_i</th>\n",
       "      <th>mag_z</th>\n",
       "      <th>mag_Y</th>\n",
       "      <th>e1_light</th>\n",
       "      <th>e2_light</th>\n",
       "      <th>e1_mass</th>\n",
       "      <th>e2_mass</th>\n",
       "    </tr>\n",
       "  </thead>\n",
       "  <tbody>\n",
       "    <tr>\n",
       "      <th>0</th>\n",
       "      <td>0</td>\n",
       "      <td>1.0</td>\n",
       "      <td>0.019</td>\n",
       "      <td>1.244515e+12</td>\n",
       "      <td>0.000000e+00</td>\n",
       "      <td>0.187930</td>\n",
       "      <td>-144.374000</td>\n",
       "      <td>8.977181</td>\n",
       "      <td>4.517617e+10</td>\n",
       "      <td>0.298916</td>\n",
       "      <td>...</td>\n",
       "      <td>128.801900</td>\n",
       "      <td>-1.0</td>\n",
       "      <td>-1.0</td>\n",
       "      <td>-1.0</td>\n",
       "      <td>-1.0</td>\n",
       "      <td>-1.0</td>\n",
       "      <td>-1.0</td>\n",
       "      <td>-1.0</td>\n",
       "      <td>-1.0</td>\n",
       "      <td>-1.0</td>\n",
       "    </tr>\n",
       "    <tr>\n",
       "      <th>100</th>\n",
       "      <td>100</td>\n",
       "      <td>101.0</td>\n",
       "      <td>0.144</td>\n",
       "      <td>1.339274e+12</td>\n",
       "      <td>0.000000e+00</td>\n",
       "      <td>0.247963</td>\n",
       "      <td>112.869200</td>\n",
       "      <td>11.008350</td>\n",
       "      <td>4.194567e+10</td>\n",
       "      <td>0.025451</td>\n",
       "      <td>...</td>\n",
       "      <td>115.253096</td>\n",
       "      <td>-1.0</td>\n",
       "      <td>-1.0</td>\n",
       "      <td>-1.0</td>\n",
       "      <td>-1.0</td>\n",
       "      <td>-1.0</td>\n",
       "      <td>-1.0</td>\n",
       "      <td>-1.0</td>\n",
       "      <td>-1.0</td>\n",
       "      <td>-1.0</td>\n",
       "    </tr>\n",
       "    <tr>\n",
       "      <th>200</th>\n",
       "      <td>200</td>\n",
       "      <td>201.0</td>\n",
       "      <td>0.167</td>\n",
       "      <td>3.723917e+11</td>\n",
       "      <td>0.000000e+00</td>\n",
       "      <td>0.271244</td>\n",
       "      <td>-9.635914</td>\n",
       "      <td>8.594441</td>\n",
       "      <td>8.539675e+09</td>\n",
       "      <td>0.429663</td>\n",
       "      <td>...</td>\n",
       "      <td>70.951111</td>\n",
       "      <td>-1.0</td>\n",
       "      <td>-1.0</td>\n",
       "      <td>-1.0</td>\n",
       "      <td>-1.0</td>\n",
       "      <td>-1.0</td>\n",
       "      <td>-1.0</td>\n",
       "      <td>-1.0</td>\n",
       "      <td>-1.0</td>\n",
       "      <td>-1.0</td>\n",
       "    </tr>\n",
       "    <tr>\n",
       "      <th>300</th>\n",
       "      <td>300</td>\n",
       "      <td>301.0</td>\n",
       "      <td>0.184</td>\n",
       "      <td>2.403459e+11</td>\n",
       "      <td>7.791242e+11</td>\n",
       "      <td>0.322615</td>\n",
       "      <td>-111.397300</td>\n",
       "      <td>31.934680</td>\n",
       "      <td>4.313094e+10</td>\n",
       "      <td>0.431950</td>\n",
       "      <td>...</td>\n",
       "      <td>173.523664</td>\n",
       "      <td>-1.0</td>\n",
       "      <td>-1.0</td>\n",
       "      <td>-1.0</td>\n",
       "      <td>-1.0</td>\n",
       "      <td>-1.0</td>\n",
       "      <td>-1.0</td>\n",
       "      <td>-1.0</td>\n",
       "      <td>-1.0</td>\n",
       "      <td>-1.0</td>\n",
       "    </tr>\n",
       "    <tr>\n",
       "      <th>400</th>\n",
       "      <td>400</td>\n",
       "      <td>401.0</td>\n",
       "      <td>0.213</td>\n",
       "      <td>4.813280e+10</td>\n",
       "      <td>1.539985e+11</td>\n",
       "      <td>0.293230</td>\n",
       "      <td>-98.551830</td>\n",
       "      <td>22.060570</td>\n",
       "      <td>3.007909e+09</td>\n",
       "      <td>0.021218</td>\n",
       "      <td>...</td>\n",
       "      <td>70.217042</td>\n",
       "      <td>-1.0</td>\n",
       "      <td>-1.0</td>\n",
       "      <td>-1.0</td>\n",
       "      <td>-1.0</td>\n",
       "      <td>-1.0</td>\n",
       "      <td>-1.0</td>\n",
       "      <td>-1.0</td>\n",
       "      <td>-1.0</td>\n",
       "      <td>-1.0</td>\n",
       "    </tr>\n",
       "    <tr>\n",
       "      <th>...</th>\n",
       "      <td>...</td>\n",
       "      <td>...</td>\n",
       "      <td>...</td>\n",
       "      <td>...</td>\n",
       "      <td>...</td>\n",
       "      <td>...</td>\n",
       "      <td>...</td>\n",
       "      <td>...</td>\n",
       "      <td>...</td>\n",
       "      <td>...</td>\n",
       "      <td>...</td>\n",
       "      <td>...</td>\n",
       "      <td>...</td>\n",
       "      <td>...</td>\n",
       "      <td>...</td>\n",
       "      <td>...</td>\n",
       "      <td>...</td>\n",
       "      <td>...</td>\n",
       "      <td>...</td>\n",
       "      <td>...</td>\n",
       "      <td>...</td>\n",
       "    </tr>\n",
       "    <tr>\n",
       "      <th>836100</th>\n",
       "      <td>836100</td>\n",
       "      <td>836101.0</td>\n",
       "      <td>1.990</td>\n",
       "      <td>1.320623e+12</td>\n",
       "      <td>0.000000e+00</td>\n",
       "      <td>0.361820</td>\n",
       "      <td>-125.420200</td>\n",
       "      <td>1.948017</td>\n",
       "      <td>3.128009e+10</td>\n",
       "      <td>0.319185</td>\n",
       "      <td>...</td>\n",
       "      <td>136.727897</td>\n",
       "      <td>-1.0</td>\n",
       "      <td>-1.0</td>\n",
       "      <td>-1.0</td>\n",
       "      <td>-1.0</td>\n",
       "      <td>-1.0</td>\n",
       "      <td>-1.0</td>\n",
       "      <td>-1.0</td>\n",
       "      <td>-1.0</td>\n",
       "      <td>-1.0</td>\n",
       "    </tr>\n",
       "    <tr>\n",
       "      <th>836200</th>\n",
       "      <td>836200</td>\n",
       "      <td>836201.0</td>\n",
       "      <td>1.993</td>\n",
       "      <td>4.675144e+10</td>\n",
       "      <td>1.679422e+11</td>\n",
       "      <td>0.151623</td>\n",
       "      <td>113.741200</td>\n",
       "      <td>12.795430</td>\n",
       "      <td>1.465869e+09</td>\n",
       "      <td>0.424344</td>\n",
       "      <td>...</td>\n",
       "      <td>92.630333</td>\n",
       "      <td>-1.0</td>\n",
       "      <td>-1.0</td>\n",
       "      <td>-1.0</td>\n",
       "      <td>-1.0</td>\n",
       "      <td>-1.0</td>\n",
       "      <td>-1.0</td>\n",
       "      <td>-1.0</td>\n",
       "      <td>-1.0</td>\n",
       "      <td>-1.0</td>\n",
       "    </tr>\n",
       "    <tr>\n",
       "      <th>836300</th>\n",
       "      <td>836300</td>\n",
       "      <td>836301.0</td>\n",
       "      <td>1.995</td>\n",
       "      <td>4.027170e+11</td>\n",
       "      <td>0.000000e+00</td>\n",
       "      <td>0.239865</td>\n",
       "      <td>21.876960</td>\n",
       "      <td>3.597686</td>\n",
       "      <td>3.384027e+09</td>\n",
       "      <td>0.265425</td>\n",
       "      <td>...</td>\n",
       "      <td>77.866145</td>\n",
       "      <td>-1.0</td>\n",
       "      <td>-1.0</td>\n",
       "      <td>-1.0</td>\n",
       "      <td>-1.0</td>\n",
       "      <td>-1.0</td>\n",
       "      <td>-1.0</td>\n",
       "      <td>-1.0</td>\n",
       "      <td>-1.0</td>\n",
       "      <td>-1.0</td>\n",
       "    </tr>\n",
       "    <tr>\n",
       "      <th>836400</th>\n",
       "      <td>836400</td>\n",
       "      <td>836401.0</td>\n",
       "      <td>1.998</td>\n",
       "      <td>4.989141e+10</td>\n",
       "      <td>1.814349e+11</td>\n",
       "      <td>0.584665</td>\n",
       "      <td>-31.060090</td>\n",
       "      <td>9.095567</td>\n",
       "      <td>1.346018e+09</td>\n",
       "      <td>0.349045</td>\n",
       "      <td>...</td>\n",
       "      <td>60.557533</td>\n",
       "      <td>-1.0</td>\n",
       "      <td>-1.0</td>\n",
       "      <td>-1.0</td>\n",
       "      <td>-1.0</td>\n",
       "      <td>-1.0</td>\n",
       "      <td>-1.0</td>\n",
       "      <td>-1.0</td>\n",
       "      <td>-1.0</td>\n",
       "      <td>-1.0</td>\n",
       "    </tr>\n",
       "    <tr>\n",
       "      <th>836500</th>\n",
       "      <td>836500</td>\n",
       "      <td>836501.0</td>\n",
       "      <td>2.000</td>\n",
       "      <td>1.514723e+11</td>\n",
       "      <td>5.502894e+11</td>\n",
       "      <td>0.267961</td>\n",
       "      <td>87.257020</td>\n",
       "      <td>10.702200</td>\n",
       "      <td>1.222437e+10</td>\n",
       "      <td>0.212749</td>\n",
       "      <td>...</td>\n",
       "      <td>149.675925</td>\n",
       "      <td>-1.0</td>\n",
       "      <td>-1.0</td>\n",
       "      <td>-1.0</td>\n",
       "      <td>-1.0</td>\n",
       "      <td>-1.0</td>\n",
       "      <td>-1.0</td>\n",
       "      <td>-1.0</td>\n",
       "      <td>-1.0</td>\n",
       "      <td>-1.0</td>\n",
       "    </tr>\n",
       "  </tbody>\n",
       "</table>\n",
       "<p>8366 rows × 22 columns</p>\n",
       "</div>"
      ],
      "text/plain": [
       "        Unnamed: 0     index      z        m_halo         m_acc       e_h  \\\n",
       "0                0       1.0  0.019  1.244515e+12  0.000000e+00  0.187930   \n",
       "100            100     101.0  0.144  1.339274e+12  0.000000e+00  0.247963   \n",
       "200            200     201.0  0.167  3.723917e+11  0.000000e+00  0.271244   \n",
       "300            300     301.0  0.184  2.403459e+11  7.791242e+11  0.322615   \n",
       "400            400     401.0  0.213  4.813280e+10  1.539985e+11  0.293230   \n",
       "...            ...       ...    ...           ...           ...       ...   \n",
       "836100      836100  836101.0  1.990  1.320623e+12  0.000000e+00  0.361820   \n",
       "836200      836200  836201.0  1.993  4.675144e+10  1.679422e+11  0.151623   \n",
       "836300      836300  836301.0  1.995  4.027170e+11  0.000000e+00  0.239865   \n",
       "836400      836400  836401.0  1.998  4.989141e+10  1.814349e+11  0.584665   \n",
       "836500      836500  836501.0  2.000  1.514723e+11  5.502894e+11  0.267961   \n",
       "\n",
       "               p_h        con         m_gal       e_g  ...    vel_disp  mag_g  \\\n",
       "0      -144.374000   8.977181  4.517617e+10  0.298916  ...  128.801900   -1.0   \n",
       "100     112.869200  11.008350  4.194567e+10  0.025451  ...  115.253096   -1.0   \n",
       "200      -9.635914   8.594441  8.539675e+09  0.429663  ...   70.951111   -1.0   \n",
       "300    -111.397300  31.934680  4.313094e+10  0.431950  ...  173.523664   -1.0   \n",
       "400     -98.551830  22.060570  3.007909e+09  0.021218  ...   70.217042   -1.0   \n",
       "...            ...        ...           ...       ...  ...         ...    ...   \n",
       "836100 -125.420200   1.948017  3.128009e+10  0.319185  ...  136.727897   -1.0   \n",
       "836200  113.741200  12.795430  1.465869e+09  0.424344  ...   92.630333   -1.0   \n",
       "836300   21.876960   3.597686  3.384027e+09  0.265425  ...   77.866145   -1.0   \n",
       "836400  -31.060090   9.095567  1.346018e+09  0.349045  ...   60.557533   -1.0   \n",
       "836500   87.257020  10.702200  1.222437e+10  0.212749  ...  149.675925   -1.0   \n",
       "\n",
       "        mag_r  mag_i  mag_z  mag_Y  e1_light  e2_light  e1_mass  e2_mass  \n",
       "0        -1.0   -1.0   -1.0   -1.0      -1.0      -1.0     -1.0     -1.0  \n",
       "100      -1.0   -1.0   -1.0   -1.0      -1.0      -1.0     -1.0     -1.0  \n",
       "200      -1.0   -1.0   -1.0   -1.0      -1.0      -1.0     -1.0     -1.0  \n",
       "300      -1.0   -1.0   -1.0   -1.0      -1.0      -1.0     -1.0     -1.0  \n",
       "400      -1.0   -1.0   -1.0   -1.0      -1.0      -1.0     -1.0     -1.0  \n",
       "...       ...    ...    ...    ...       ...       ...      ...      ...  \n",
       "836100   -1.0   -1.0   -1.0   -1.0      -1.0      -1.0     -1.0     -1.0  \n",
       "836200   -1.0   -1.0   -1.0   -1.0      -1.0      -1.0     -1.0     -1.0  \n",
       "836300   -1.0   -1.0   -1.0   -1.0      -1.0      -1.0     -1.0     -1.0  \n",
       "836400   -1.0   -1.0   -1.0   -1.0      -1.0      -1.0     -1.0     -1.0  \n",
       "836500   -1.0   -1.0   -1.0   -1.0      -1.0      -1.0     -1.0     -1.0  \n",
       "\n",
       "[8366 rows x 22 columns]"
      ]
     },
     "execution_count": 25,
     "metadata": {},
     "output_type": "execute_result"
    }
   ],
   "source": [
    "lens_galaxies._galaxy_select"
   ]
  },
  {
   "cell_type": "code",
   "execution_count": 52,
   "metadata": {},
   "outputs": [
    {
     "name": "stdout",
     "output_type": "stream",
     "text": [
      "796159400000.0 0.0 128.4151557557737 128.4125275148259 128.39161113322533 Unnamed: 0    1.200000e+04\n",
      "index         1.200100e+04\n",
      "z             7.420000e-01\n",
      "m_halo        7.961594e+11\n",
      "m_acc         0.000000e+00\n",
      "e_h           3.716677e-01\n",
      "p_h           1.407213e+02\n",
      "con           1.135522e+01\n",
      "m_gal         2.634698e+10\n",
      "e_g           3.702175e-01\n",
      "p_g           8.901383e+01\n",
      "tb            8.547288e-02\n",
      "vel_disp      1.283916e+02\n",
      "mag_g        -1.000000e+00\n",
      "mag_r        -1.000000e+00\n",
      "mag_i        -1.000000e+00\n",
      "mag_z        -1.000000e+00\n",
      "mag_Y        -1.000000e+00\n",
      "e1_light     -1.000000e+00\n",
      "e2_light     -1.000000e+00\n",
      "e1_mass      -1.000000e+00\n",
      "e2_mass      -1.000000e+00\n",
      "Name: 12000, dtype: float64 1551.5006031719888 Mpc\n"
     ]
    }
   ],
   "source": [
    "# test = lens_galaxies.draw_deflector()\n",
    "i=120\n",
    "deflector = lens_galaxies._galaxy_select.iloc[i]\n",
    "\n",
    "theta_eff = deflector['tb']/0.551 # [arcsec]\n",
    "reff = (theta_eff*cosmo.angular_diameter_distance(deflector['z'])*constants.arcsec).value # physical Mpc\n",
    "hubble = cosmo.H0.value/100.\n",
    "\n",
    "vel_disp = vel_disp_composite_model(theta_eff, deflector['m_gal']/(hubble), reff, max(deflector['m_halo'],deflector['m_acc'])/(hubble), deflector['con'], cosmo, deflector['z'])\n",
    "vel_disp2 = vel_disp_composite_model2(theta_eff, deflector['m_gal']/(hubble), reff, deflector['m_halo']/(hubble), deflector['con'], cosmo, deflector['z'])\n",
    "\n",
    "# re_pop_sub = (deflector['tb']*theta_eff*cosmo.angular_diameter_distance(deflector['z'])*constants.arcsec).value\n",
    "\n",
    "# vel_disp_composite_model(deflector['tb']/0.551, deflector['m_g'].iloc[i]/(cosmo.H0/100.),\n",
    "#                                 re_pop_sub, max(df_sub['m_h'].iloc[i],df_sub['m_acc'].iloc[i])/(cosmo.H0/100.),\n",
    "#                                 df_sub['con'].iloc[i], df_sub['zl'].iloc[i], max(1.5,df_sub['zl'].iloc[i]+0.5),cosmop18))\n",
    "#     vel_pop_sub_ar = np.array(vel_pop_sub)\n",
    "print(deflector['m_halo'],deflector['m_acc'],vel_disp,vel_disp2, lens_galaxies._galaxy_select.iloc[i][\"vel_disp\"],lens_galaxies._galaxy_select.iloc[i],cosmo.angular_diameter_distance(deflector['z']))\n",
    "# # # test"
   ]
  },
  {
   "cell_type": "code",
   "execution_count": 46,
   "metadata": {},
   "outputs": [
    {
     "data": {
      "text/plain": [
       "0.6766"
      ]
     },
     "execution_count": 46,
     "metadata": {},
     "output_type": "execute_result"
    }
   ],
   "source": [
    "hubble"
   ]
  },
  {
   "cell_type": "code",
   "execution_count": 198,
   "metadata": {},
   "outputs": [
    {
     "data": {
      "text/plain": [
       "0.0897516624218156"
      ]
     },
     "execution_count": 198,
     "metadata": {},
     "output_type": "execute_result"
    }
   ],
   "source": []
  },
  {
   "cell_type": "code",
   "execution_count": 147,
   "metadata": {},
   "outputs": [
    {
     "data": {
      "text/plain": [
       "<__main__.CompoundLensHalosGalaxies at 0x16bd53be0>"
      ]
     },
     "execution_count": 147,
     "metadata": {},
     "output_type": "execute_result"
    }
   ],
   "source": [
    "index = random.randint(0, lens_galaxies._num_select - 1)\n",
    "deflec = lens_galaxies._galaxy_select[index]\n",
    "a,b,c,d = elliptical_projected_eccentricity(**deflec)\n",
    "print(deflec),print(a,b,c,d)"
   ]
  },
  {
   "cell_type": "markdown",
   "metadata": {},
   "source": [
    "lens_class.(by='', ascending=True, inplace=True)"
   ]
  },
  {
   "cell_type": "code",
   "execution_count": null,
   "metadata": {},
   "outputs": [],
   "source": [
    "# define a cosmology\n",
    "cosmo = FlatLambdaCDM(H0=70, Om0=0.3)\n",
    "\n",
    "# define a sky area\n",
    "sky_area = Quantity(value=0.1, unit=\"deg2\")\n",
    "\n",
    "\n",
    "# define limits in the intrinsic deflector and source population (in addition to the skypy config\n",
    "# file)\n",
    "kwargs_deflector_cut = {\"band\": \"g\", \"band_max\": 28, \"z_min\": 0.01, \"z_max\": 2.5}\n",
    "kwargs_source_cut = {\"band\": \"g\", \"band_max\": 28, \"z_min\": 0.1, \"z_max\": 5.0}\n",
    "\n",
    "# run skypy pipeline and make galaxy-galaxy population class using LensPop\n",
    "gg_lens_pop = LensPop(\n",
    "    deflector_type=\"halomodel\",\n",
    "    source_type=\"galaxies\",\n",
    "    kwargs_deflector_cut=kwargs_deflector_cut,\n",
    "    kwargs_source_cut=kwargs_source_cut,\n",
    "    kwargs_mass2light=None,\n",
    "    skypy_config='/Users/ktabe/Research/strong-lens-SNe/slsim/data/SkyPy/lsst-like.yml',\n",
    "    sky_area=sky_area,\n",
    "    cosmo=cosmo,\n",
    ")"
   ]
  },
  {
   "cell_type": "code",
   "execution_count": 4,
   "metadata": {},
   "outputs": [
    {
     "ename": "TypeError",
     "evalue": "Lens.__init__() got an unexpected keyword argument 'deflector_type'",
     "output_type": "error",
     "traceback": [
      "\u001b[0;31m---------------------------------------------------------------------------\u001b[0m",
      "\u001b[0;31mTypeError\u001b[0m                                 Traceback (most recent call last)",
      "Cell \u001b[0;32mIn[4], line 14\u001b[0m\n\u001b[1;32m     11\u001b[0m kwargs_source_cut \u001b[38;5;241m=\u001b[39m {\u001b[38;5;124m\"\u001b[39m\u001b[38;5;124mband\u001b[39m\u001b[38;5;124m\"\u001b[39m: \u001b[38;5;124m\"\u001b[39m\u001b[38;5;124mg\u001b[39m\u001b[38;5;124m\"\u001b[39m, \u001b[38;5;124m\"\u001b[39m\u001b[38;5;124mband_max\u001b[39m\u001b[38;5;124m\"\u001b[39m: \u001b[38;5;241m28\u001b[39m, \u001b[38;5;124m\"\u001b[39m\u001b[38;5;124mz_min\u001b[39m\u001b[38;5;124m\"\u001b[39m: \u001b[38;5;241m0.1\u001b[39m, \u001b[38;5;124m\"\u001b[39m\u001b[38;5;124mz_max\u001b[39m\u001b[38;5;124m\"\u001b[39m: \u001b[38;5;241m5.0\u001b[39m}\n\u001b[1;32m     13\u001b[0m \u001b[38;5;66;03m# run skypy pipeline and make galaxy-galaxy population class using LensPop\u001b[39;00m\n\u001b[0;32m---> 14\u001b[0m gg_lens \u001b[38;5;241m=\u001b[39m \u001b[43mLens\u001b[49m\u001b[43m(\u001b[49m\n\u001b[1;32m     15\u001b[0m \u001b[43m    \u001b[49m\u001b[43mdeflector_type\u001b[49m\u001b[38;5;241;43m=\u001b[39;49m\u001b[38;5;124;43m\"\u001b[39;49m\u001b[38;5;124;43mall-galaxies\u001b[39;49m\u001b[38;5;124;43m\"\u001b[39;49m\u001b[43m,\u001b[49m\n\u001b[1;32m     16\u001b[0m \u001b[43m    \u001b[49m\u001b[43msource_type\u001b[49m\u001b[38;5;241;43m=\u001b[39;49m\u001b[38;5;124;43m\"\u001b[39;49m\u001b[38;5;124;43mgalaxies\u001b[39;49m\u001b[38;5;124;43m\"\u001b[39;49m\u001b[43m,\u001b[49m\n\u001b[1;32m     17\u001b[0m \u001b[43m    \u001b[49m\u001b[43mkwargs_deflector_cut\u001b[49m\u001b[38;5;241;43m=\u001b[39;49m\u001b[43mkwargs_deflector_cut\u001b[49m\u001b[43m,\u001b[49m\n\u001b[1;32m     18\u001b[0m \u001b[43m    \u001b[49m\u001b[43mkwargs_source_cut\u001b[49m\u001b[38;5;241;43m=\u001b[39;49m\u001b[43mkwargs_source_cut\u001b[49m\u001b[43m,\u001b[49m\n\u001b[1;32m     19\u001b[0m \u001b[43m    \u001b[49m\u001b[43mkwargs_mass2light\u001b[49m\u001b[38;5;241;43m=\u001b[39;49m\u001b[38;5;28;43;01mNone\u001b[39;49;00m\u001b[43m,\u001b[49m\n\u001b[1;32m     20\u001b[0m \u001b[43m    \u001b[49m\u001b[43mskypy_config\u001b[49m\u001b[38;5;241;43m=\u001b[39;49m\u001b[38;5;124;43m'\u001b[39;49m\u001b[38;5;124;43m/Users/ktabe/Research/strong-lens-SNe/slsim/data/SkyPy/lsst-like.yml\u001b[39;49m\u001b[38;5;124;43m'\u001b[39;49m\u001b[43m,\u001b[49m\n\u001b[1;32m     21\u001b[0m \u001b[43m    \u001b[49m\u001b[43msky_area\u001b[49m\u001b[38;5;241;43m=\u001b[39;49m\u001b[43msky_area\u001b[49m\u001b[43m,\u001b[49m\n\u001b[1;32m     22\u001b[0m \u001b[43m    \u001b[49m\u001b[43mcosmo\u001b[49m\u001b[38;5;241;43m=\u001b[39;49m\u001b[43mcosmo\u001b[49m\u001b[43m,\u001b[49m\n\u001b[1;32m     23\u001b[0m \u001b[43m)\u001b[49m\n",
      "\u001b[0;31mTypeError\u001b[0m: Lens.__init__() got an unexpected keyword argument 'deflector_type'"
     ]
    }
   ],
   "source": [
    "# define a cosmology\n",
    "cosmo = FlatLambdaCDM(H0=70, Om0=0.3)\n",
    "\n",
    "# define a sky area\n",
    "sky_area = Quantity(value=0.1, unit=\"deg2\")\n",
    "\n",
    "\n",
    "# define limits in the intrinsic deflector and source population (in addition to the skypy config\n",
    "# file)\n",
    "kwargs_deflector_cut = {\"band\": \"g\", \"band_max\": 28, \"z_min\": 0.01, \"z_max\": 2.5}\n",
    "kwargs_source_cut = {\"band\": \"g\", \"band_max\": 28, \"z_min\": 0.1, \"z_max\": 5.0}\n",
    "\n",
    "# run skypy pipeline and make galaxy-galaxy population class using LensPop\n",
    "gg_lens = Lens(\n",
    "    source_dict,\n",
    "    deflector_dict,\n",
    "    cosmo,\n",
    "    deflector_type=\"EPL\",\n",
    "    source_type=\"extended\",\n",
    "    lens_equation_solver=\"lenstronomy_analytical\",\n",
    "    variability_model=None,\n",
    "    kwargs_variability=None,\n",
    "    sn_type=None,\n",
    "    sn_absolute_mag_band=None,\n",
    "    sn_absolute_zpsys=None,\n",
    "    test_area=4 * np.pi,\n",
    "    mixgauss_means=None,\n",
    "    mixgauss_stds=None,\n",
    "    mixgauss_weights=None,\n",
    "    magnification_limit=0.01,\n",
    "    light_profile=\"single_sersic\",\n",
    "    lightcurve_time=None,\n",
    "    deflector_type=\"all-galaxies\",\n",
    "    source_type=\"galaxies\",\n",
    "    kwargs_deflector_cut=kwargs_deflector_cut,\n",
    "    kwargs_source_cut=kwargs_source_cut,\n",
    "    kwargs_mass2light=None,\n",
    "    skypy_config='/Users/ktabe/Research/strong-lens-SNe/slsim/data/SkyPy/lsst-like.yml',\n",
    "    sky_area=sky_area,\n",
    "    cosmo=cosmo,\n",
    ")"
   ]
  },
  {
   "cell_type": "markdown",
   "metadata": {},
   "source": [
    "## Generate images of random lenses\n",
    "The LensingPlots() class has the functionality to draw random lenses and makes an image of it.\n",
    "Currently\n",
    "\n",
    "default settings in lenstronomy are chosen for the LSST image settings. These will be able to be replaced with the\n",
    "\n",
    "LSST simulation tools."
   ]
  },
  {
   "cell_type": "code",
   "execution_count": null,
   "metadata": {
    "execution": {
     "iopub.execute_input": "2023-07-10T22:02:45.594772Z",
     "iopub.status.busy": "2023-07-10T22:02:45.593856Z",
     "iopub.status.idle": "2023-07-10T22:03:09.185852Z",
     "shell.execute_reply": "2023-07-10T22:03:09.184974Z",
     "shell.execute_reply.started": "2023-07-10T22:02:45.594734Z"
    },
    "tags": []
   },
   "outputs": [],
   "source": [
    "# make some cuts in the image separations and limited magnitudes of the arc\n",
    "kwargs_lens_cut_plot = {\n",
    "    \"min_image_separation\": 0.8,\n",
    "    \"max_image_separation\": 10,\n",
    "    \"mag_arc_limit\": {\"g\": 23, \"r\": 23, \"i\": 23},\n",
    "}\n",
    "\n",
    "\n",
    "gg_plot = LensingPlots(gg_lens_pop, num_pix=64, coadd_years=10)\n",
    "\n",
    "# generate montage indicating which bands are used for the rgb color image\n",
    "fig, axes = gg_plot.plot_montage(\n",
    "    rgb_band_list=[\"i\", \"r\", \"g\"],\n",
    "    add_noise=True,\n",
    "    n_horizont=5,\n",
    "    n_vertical=2,\n",
    "    kwargs_lens_cut=kwargs_lens_cut_plot,\n",
    ")\n",
    "plt.show()"
   ]
  },
  {
   "cell_type": "markdown",
   "metadata": {},
   "source": [
    "## Generate the full population\n",
    "We are using the instance of the LensPop() class to draw the full population within specified cuts in a Monte Carlo process."
   ]
  },
  {
   "cell_type": "code",
   "execution_count": null,
   "metadata": {
    "execution": {
     "iopub.execute_input": "2023-07-10T22:03:19.932376Z",
     "iopub.status.busy": "2023-07-10T22:03:19.932021Z",
     "iopub.status.idle": "2023-07-10T22:09:27.244984Z",
     "shell.execute_reply": "2023-07-10T22:09:27.244130Z",
     "shell.execute_reply.started": "2023-07-10T22:03:19.932352Z"
    },
    "tags": []
   },
   "outputs": [],
   "source": [
    "# specifying cuts of the population\n",
    "kwargs_lens_cuts = {\"mag_arc_limit\": {\"g\": 28}}\n",
    "# drawing population\n",
    "gg_lens_population = gg_lens_pop.draw_population(kwargs_lens_cuts=kwargs_lens_cuts)"
   ]
  },
  {
   "cell_type": "markdown",
   "metadata": {},
   "source": [
    "## Represent key quantities of full population in corner plots\n",
    "We calculate few key quantities of the lenses. The full population is represented each with a Lens() class\n",
    "\n",
    "object that allows to compute and return these (and more) quantities."
   ]
  },
  {
   "cell_type": "code",
   "execution_count": null,
   "metadata": {
    "execution": {
     "iopub.execute_input": "2023-07-10T22:13:14.161110Z",
     "iopub.status.busy": "2023-07-10T22:13:14.160678Z",
     "iopub.status.idle": "2023-07-10T22:13:14.212114Z",
     "shell.execute_reply": "2023-07-10T22:13:14.210992Z",
     "shell.execute_reply.started": "2023-07-10T22:13:14.161081Z"
    },
    "tags": []
   },
   "outputs": [],
   "source": [
    "print(\"Number of lenses:\", len(gg_lens_population))\n",
    "\n",
    "lens_samples = []\n",
    "labels = [\n",
    "    r\"$\\sigma_v$\",\n",
    "    r\"$\\log(M_{*})$\",\n",
    "    r\"$\\theta_E$\",\n",
    "    r\"$z_{\\rm l}$\",\n",
    "    r\"$z_{\\rm s}$\",\n",
    "    r\"$m_{\\rm source}$\",\n",
    "    r\"$m_{\\rm lens}$\",\n",
    "]\n",
    "\n",
    "for gg_lens in gg_lens_population:\n",
    "    vel_disp = gg_lens.deflector_velocity_dispersion()\n",
    "    m_star = gg_lens.deflector_stellar_mass()\n",
    "    theta_e = gg_lens.einstein_radius\n",
    "    zl = gg_lens.deflector_redshift\n",
    "    zs = gg_lens.source_redshift\n",
    "    source_mag = gg_lens.extended_source_magnitude(band=\"g\", lensed=True)\n",
    "    deflector_mag = gg_lens.deflector_magnitude(band=\"g\")\n",
    "    lens_samples.append(\n",
    "        [vel_disp, np.log10(m_star), theta_e, zl, zs, source_mag, deflector_mag]\n",
    "    )"
   ]
  },
  {
   "cell_type": "code",
   "execution_count": null,
   "metadata": {
    "execution": {
     "iopub.execute_input": "2023-07-10T22:13:17.491966Z",
     "iopub.status.busy": "2023-07-10T22:13:17.491075Z",
     "iopub.status.idle": "2023-07-10T22:13:20.234778Z",
     "shell.execute_reply": "2023-07-10T22:13:20.233839Z",
     "shell.execute_reply.started": "2023-07-10T22:13:17.491889Z"
    },
    "scrolled": true,
    "tags": []
   },
   "outputs": [],
   "source": [
    "hist2dkwargs = {\n",
    "    \"plot_density\": False,\n",
    "    \"plot_contours\": False,\n",
    "    \"plot_datapoints\": True,\n",
    "    \"color\": \"b\",\n",
    "    \"data_kwargs\": {\"ms\": 5},\n",
    "}\n",
    "corner.corner(np.array(lens_samples), labels=labels, **hist2dkwargs)\n",
    "plt.show()"
   ]
  },
  {
   "cell_type": "code",
   "execution_count": null,
   "metadata": {},
   "outputs": [],
   "source": []
  }
 ],
 "metadata": {
  "kernelspec": {
   "display_name": "Python 3 (ipykernel)",
   "language": "python",
   "name": "python3"
  },
  "language_info": {
   "codemirror_mode": {
    "name": "ipython",
    "version": 3
   },
   "file_extension": ".py",
   "mimetype": "text/x-python",
   "name": "python",
   "nbconvert_exporter": "python",
   "pygments_lexer": "ipython3",
   "version": "3.10.13"
  },
  "toc": {
   "base_numbering": 1,
   "nav_menu": {},
   "number_sections": true,
   "sideBar": true,
   "skip_h1_title": false,
   "title_cell": "Table of Contents",
   "title_sidebar": "Contents",
   "toc_cell": false,
   "toc_position": {},
   "toc_section_display": true,
   "toc_window_display": false
  }
 },
 "nbformat": 4,
 "nbformat_minor": 4
}
