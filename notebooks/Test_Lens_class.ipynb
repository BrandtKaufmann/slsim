{
 "cells": [
  {
   "cell_type": "code",
   "execution_count": 70,
   "metadata": {},
   "outputs": [],
   "source": [
    "import matplotlib.pyplot as plt\n",
    "from astropy.cosmology import FlatLambdaCDM\n",
    "from slsim.Pipelines.skypy_pipeline import SkyPyPipeline\n",
    "from astropy.units import Quantity\n",
    "from slsim.lens_pop import LensPop\n",
    "from slsim.lens import Lens\n",
    "from slsim.Plots.lens_plots import LensingPlots\n",
    "import numpy as np\n",
    "from slsim.selection import deflector_cut\n",
    "import corner\n",
    "from lenstronomy.Util import constants\n",
    "from colossus.cosmology import cosmology"
   ]
  },
  {
   "cell_type": "markdown",
   "metadata": {},
   "source": [
    "# Galaxy-galaxy simulations\n",
    "\n",
    "This notebook walks through the basics of simulating a galaxy-galaxy strong lensing population.\n",
    "The underlying \n",
    "\n",
    "assumptions of the galaxy populations (for both lenses and sources) are drawn from a population pre-configured\n",
    "\n",
    " and rendered through [SkyPy](https://github.com/skypyproject/skypy). The specific settings are described in the [readme file](https://github.com/LSST-strong-lensing/slsim/tree/gg-lensing/data/SkyPy).\n",
    "\n",
    "The notebook goes in three steps:\n",
    "\n",
    "1. The populations of lenses and sources is produced.\n",
    "2. Random draws of the population are generated and realized as images\n",
    "3. The full population is generated in catalogue form\n",
    "4. the full population is represented in a corner plot\n",
    "\n"
   ]
  },
  {
   "cell_type": "markdown",
   "metadata": {},
   "source": [
    "## Generate population of galaxies and (potential) deflectors\n",
    "The LensPop() class in the slsim package is used to produce a set of galaxies (as lenses and sources)\n",
    "\n",
    "as seen on the sky within a certain sky area.\n",
    "We use the default SkyPy configuration file. Alternative configuration\n",
    "\n",
    "files can be used."
   ]
  },
  {
   "cell_type": "code",
   "execution_count": 72,
   "metadata": {
    "execution": {
     "iopub.execute_input": "2023-07-10T22:02:02.025669Z",
     "iopub.status.busy": "2023-07-10T22:02:02.025321Z",
     "iopub.status.idle": "2023-07-10T22:02:35.987416Z",
     "shell.execute_reply": "2023-07-10T22:02:35.986246Z",
     "shell.execute_reply.started": "2023-07-10T22:02:02.025645Z"
    },
    "tags": []
   },
   "outputs": [],
   "source": [
    "# define a cosmology\n",
    "\n",
    "cosmo_col = cosmology.setCosmology('planck18')\n",
    "cosmo = FlatLambdaCDM(H0=cosmo_col.H0, Om0=cosmo_col.Om0)\n",
    "\n",
    "# define a sky area\n",
    "sky_area = Quantity(value=0.1, unit=\"deg2\")\n",
    "\n",
    "\n",
    "# define limits in the intrinsic deflector and source population (in addition to the skypy config\n",
    "# file)\n",
    "kwargs_deflector_cut = {\"band\": \"g\", \"band_max\": 28, \"z_min\": 0.01, \"z_max\": 2.5}\n",
    "kwargs_source_cut = {\"band\": \"g\", \"band_max\": 28, \"z_min\": 0.1, \"z_max\": 5.0}\n",
    "\n",
    "skypy_config='/Users/ktabe/Research/strong-lens-SNe/slsim/data/SkyPy/lsst-like.yml'\n",
    "# run skypy pipeline and make galaxy-galaxy population class using LensPop\n",
    "gg_lens_pop = LensPop(\n",
    "    deflector_type=\"all-galaxies\",\n",
    "    source_type=\"galaxies\",\n",
    "    kwargs_deflector_cut=kwargs_deflector_cut,\n",
    "    kwargs_source_cut=kwargs_source_cut,\n",
    "    kwargs_mass2light=None,\n",
    "    skypy_config=skypy_config,\n",
    "    sky_area=sky_area,\n",
    "    cosmo=cosmo,\n",
    ")"
   ]
  },
  {
   "cell_type": "code",
   "execution_count": 73,
   "metadata": {},
   "outputs": [],
   "source": [
    "filters=None\n",
    "pipeline = SkyPyPipeline(\n",
    "                skypy_config=skypy_config,\n",
    "                sky_area=sky_area,\n",
    "                filters=filters,\n",
    "                cosmo=cosmo,\n",
    "            )"
   ]
  },
  {
   "cell_type": "code",
   "execution_count": 48,
   "metadata": {},
   "outputs": [
    {
     "data": {
      "text/html": [
       "<div><i>Table length=5547</i>\n",
       "<table id=\"table11046688784\" class=\"table-striped table-bordered table-condensed\">\n",
       "<thead><tr><th>z</th><th>M</th><th>coeff</th><th>ellipticity</th><th>physical_size</th><th>stellar_mass</th><th>angular_size</th><th>mag_g</th><th>mag_r</th><th>mag_i</th><th>mag_z</th><th>mag_Y</th></tr></thead>\n",
       "<thead><tr><th></th><th></th><th></th><th></th><th>kpc</th><th></th><th>rad</th><th></th><th></th><th></th><th></th><th></th></tr></thead>\n",
       "<thead><tr><th>float64</th><th>float64</th><th>float64[5]</th><th>float64</th><th>float64</th><th>float64</th><th>float64</th><th>float64</th><th>float64</th><th>float64</th><th>float64</th><th>float64</th></tr></thead>\n",
       "<tr><td>4.999800459443261</td><td>-25.239712765784798</td><td>0.03020282316223047 .. 0.0007407315916694893</td><td>0.07497594358595468</td><td>23.29359197480283</td><td>8461609194030.7705</td><td>1.7974552071088878e-05</td><td>27.307631018660075</td><td>24.92249263667381</td><td>24.64428758116278</td><td>24.631137841343694</td><td>24.674646364969348</td></tr>\n",
       "<tr><td>4.983312396704012</td><td>-23.57581358630234</td><td>0.04749648124938698 .. 0.0006222250944322844</td><td>0.10916459397763396</td><td>13.491485234076519</td><td>1847915400264.1614</td><td>1.0393812817222237e-05</td><td>29.4551022555523</td><td>27.21258387950662</td><td>26.943729328447244</td><td>26.922386496920158</td><td>26.92700603598875</td></tr>\n",
       "<tr><td>4.98260526024358</td><td>-23.29123893022552</td><td>0.0783611261257195 .. 0.0007291037319569196</td><td>0.07361934872874885</td><td>11.063313875652996</td><td>1340918092791.3696</td><td>8.522559593244222e-06</td><td>27.98393970794679</td><td>25.488102413576875</td><td>25.21783421938548</td><td>25.235598121551106</td><td>25.279223583683887</td></tr>\n",
       "<tr><td>4.975226518952471</td><td>-21.212654190687623</td><td>0.05215973023800485 .. 0.0004656238630493206</td><td>0.2433196699213895</td><td>2.492626395545829</td><td>201483322790.28452</td><td>1.918781762458522e-06</td><td>30.91013462777808</td><td>28.494101466476852</td><td>28.22859212475895</td><td>28.242356433385975</td><td>28.2627347960987</td></tr>\n",
       "<tr><td>4.973463934801499</td><td>-22.799942156008896</td><td>0.006431096283452608 .. 0.0001302275536158153</td><td>0.37010347056794</td><td>7.24183364743577</td><td>934134465139.4835</td><td>5.573671006790078e-06</td><td>30.90818703264483</td><td>29.118574097142496</td><td>28.895875911332215</td><td>28.889828927783345</td><td>28.89130610723591</td></tr>\n",
       "<tr><td>4.972476329501685</td><td>-23.479487751688616</td><td>0.06202038183335238 .. 0.0004839198640334943</td><td>0.2860161111534387</td><td>11.082465740043299</td><td>1745827566673.9336</td><td>8.528778119138993e-06</td><td>29.221797896505052</td><td>26.914253042893222</td><td>26.652133725301802</td><td>26.66181939228172</td><td>26.68645401263221</td></tr>\n",
       "<tr><td>4.961421132747331</td><td>-20.415537742988903</td><td>0.09461025095002537 .. 0.0002590149407255108</td><td>0.13450187610303066</td><td>2.743606809033856</td><td>105027114540.67049</td><td>2.109103312642805e-06</td><td>31.879118253765174</td><td>29.516504461661935</td><td>29.259439605420962</td><td>29.289768605060782</td><td>29.311061795062923</td></tr>\n",
       "<tr><td>4.9608778130370625</td><td>-20.34689881204559</td><td>0.024663092489725102 .. 0.00018430466544998734</td><td>0.1422354063333618</td><td>2.4062506520067566</td><td>95993746548.06244</td><td>1.849666883688738e-06</td><td>32.206747809996415</td><td>29.8968657555623</td><td>29.64314991381946</td><td>29.672265042129535</td><td>29.68898016429255</td></tr>\n",
       "<tr><td>4.959280545599959</td><td>-23.04094176019675</td><td>0.027668856213500223 .. 0.0005520872793503234</td><td>0.1080987213462523</td><td>8.89077964564487</td><td>1160450579205.7449</td><td>6.833196757014666e-06</td><td>29.936637724631048</td><td>27.73640049675732</td><td>27.4796030272498</td><td>27.486327934158034</td><td>27.4956982714291</td></tr>\n",
       "<tr><td>...</td><td>...</td><td>...</td><td>...</td><td>...</td><td>...</td><td>...</td><td>...</td><td>...</td><td>...</td><td>...</td><td>...</td></tr>\n",
       "<tr><td>0.11199088830121177</td><td>-20.971448531370292</td><td>0.11899600578222173 .. 0.00010772195387529431</td><td>0.08023740865460405</td><td>3.6100384743742815</td><td>154877384553.97067</td><td>8.590687956195992e-06</td><td>17.564873452554714</td><td>16.735141364004313</td><td>16.328263040336417</td><td>16.06121145723617</td><td>15.904109758459413</td></tr>\n",
       "<tr><td>0.10887017942022392</td><td>-17.906053691063775</td><td>0.07644332053679669 .. 0.00040927270056859784</td><td>0.29549860822848867</td><td>0.3670497938667627</td><td>9256448504.040537</td><td>8.953016293839204e-07</td><td>20.551464537258113</td><td>19.74353571592095</td><td>19.35196715236193</td><td>19.08871114749131</td><td>18.940082823162875</td></tr>\n",
       "<tr><td>0.10800943318540093</td><td>-18.480537432556485</td><td>0.11246375558323812 .. 0.0029195296575444604</td><td>0.13965045612673652</td><td>0.6662087651118278</td><td>14421728773.044485</td><td>1.6363462281766223e-06</td><td>19.95354508036607</td><td>19.19307446442449</td><td>18.802961904183043</td><td>18.54509806141445</td><td>18.393024467933735</td></tr>\n",
       "<tr><td>0.10794457198357138</td><td>-19.632021463460624</td><td>0.029495883008802758 .. 0.00025535070186844964</td><td>0.1491026846472939</td><td>1.1292330176692995</td><td>48906224154.5869</td><td>2.775090397042783e-06</td><td>18.80617282280902</td><td>17.955188760896373</td><td>17.570578544507743</td><td>17.302693298512086</td><td>17.162437123849056</td></tr>\n",
       "<tr><td>0.10641155937416885</td><td>-17.38859983542941</td><td>0.016159494191583277 .. 0.0004890543790109059</td><td>0.1092432914785631</td><td>1.040526060163597</td><td>4671412757.184441</td><td>2.589392170123839e-06</td><td>21.008988141248114</td><td>20.28781425576688</td><td>19.92361854831554</td><td>19.709776286224265</td><td>19.580463095340622</td></tr>\n",
       "<tr><td>0.10405072489193234</td><td>-20.753189936324176</td><td>0.10606430422881588 .. 0.0003602970943070668</td><td>0.07942572474163638</td><td>2.5763907370534698</td><td>126399810563.5417</td><td>6.539242297640933e-06</td><td>17.584525399268486</td><td>16.787813893564334</td><td>16.388672969018614</td><td>16.12514414239184</td><td>15.970753383255783</td></tr>\n",
       "<tr><td>0.04632515032986464</td><td>-19.535943515342172</td><td>0.09213792253035685 .. 0.0011596457272647985</td><td>0.12653619524279608</td><td>0.43394678557236827</td><td>39920114900.390594</td><td>2.3129035822213716e-06</td><td>16.810193572506744</td><td>16.09805386857938</td><td>15.739344273476508</td><td>15.510993502431905</td><td>15.326135805912703</td></tr>\n",
       "<tr><td>0.03268932595209166</td><td>-14.799863337176852</td><td>0.07195410343748516 .. 0.00015227545738497408</td><td>0.3526199531388965</td><td>0.07121421679443342</td><td>586661160.8665183</td><td>5.292194052908692e-07</td><td>20.710088210630495</td><td>19.965699149759743</td><td>19.60196543135043</td><td>19.364758579432795</td><td>19.173105401607955</td></tr>\n",
       "<tr><td>0.030427546564566903</td><td>-16.398595382766377</td><td>0.07429488582055592 .. 0.0006612386798289952</td><td>0.07939931377898317</td><td>0.23080635796852284</td><td>2250425402.8654327</td><td>1.8377149570862986e-06</td><td>18.967271704255346</td><td>18.270202645926105</td><td>17.930697999947483</td><td>17.703576746317545</td><td>17.512267124845515</td></tr>\n",
       "<tr><td>0.01687513219553955</td><td>-21.46819338868958</td><td>0.03526871703903498 .. 0.0007197481528935861</td><td>0.05804038004215081</td><td>3.9474515353090385</td><td>249981811114.03384</td><td>5.5753563604907556e-05</td><td>12.553675535597979</td><td>11.873231613502437</td><td>11.53833093757024</td><td>11.321809755029644</td><td>11.12669224297078</td></tr>\n",
       "</table></div>"
      ],
      "text/plain": [
       "<Table length=5547>\n",
       "         z                    M          ...       mag_Y       \n",
       "                                         ...                   \n",
       "      float64              float64       ...      float64      \n",
       "-------------------- ------------------- ... ------------------\n",
       "   4.999800459443261 -25.239712765784798 ... 24.674646364969348\n",
       "   4.983312396704012  -23.57581358630234 ...  26.92700603598875\n",
       "    4.98260526024358  -23.29123893022552 ... 25.279223583683887\n",
       "   4.975226518952471 -21.212654190687623 ...   28.2627347960987\n",
       "   4.973463934801499 -22.799942156008896 ...  28.89130610723591\n",
       "   4.972476329501685 -23.479487751688616 ...  26.68645401263221\n",
       "   4.961421132747331 -20.415537742988903 ... 29.311061795062923\n",
       "  4.9608778130370625  -20.34689881204559 ...  29.68898016429255\n",
       "   4.959280545599959  -23.04094176019675 ...   27.4956982714291\n",
       "                 ...                 ... ...                ...\n",
       " 0.11199088830121177 -20.971448531370292 ... 15.904109758459413\n",
       " 0.10887017942022392 -17.906053691063775 ... 18.940082823162875\n",
       " 0.10800943318540093 -18.480537432556485 ... 18.393024467933735\n",
       " 0.10794457198357138 -19.632021463460624 ... 17.162437123849056\n",
       " 0.10641155937416885  -17.38859983542941 ... 19.580463095340622\n",
       " 0.10405072489193234 -20.753189936324176 ... 15.970753383255783\n",
       " 0.04632515032986464 -19.535943515342172 ... 15.326135805912703\n",
       " 0.03268932595209166 -14.799863337176852 ... 19.173105401607955\n",
       "0.030427546564566903 -16.398595382766377 ... 17.512267124845515\n",
       " 0.01687513219553955  -21.46819338868958 ...  11.12669224297078"
      ]
     },
     "execution_count": 48,
     "metadata": {},
     "output_type": "execute_result"
    }
   ],
   "source": [
    "gal_list = pipeline.red_galaxies\n",
    "gal_list.sort(\"z\")\n",
    "gal_list.reverse()\n",
    "gal_list\n",
    "\n"
   ]
  },
  {
   "cell_type": "code",
   "execution_count": 75,
   "metadata": {},
   "outputs": [],
   "source": [
    "import pandas as pd\n",
    "# columns = [\n",
    "#     'nim', 'mori', 'mobs', 'sep', 'ein', 'fs', 'frac_sh_trunc', 'mmin', 'flag_out', 'zs', 'xs', 'ys'\n",
    "# ]\n",
    "\n",
    "# for i in range(5):\n",
    "#     suffix = \"_sh\" if i == 0 else \"_sat\" if i == 1 else \"_hh\" if i == 2 else \"_cen\" if i == 3 else \"_pert\"\n",
    "#     columns.extend([\n",
    "#         f'm_type{suffix}', f'zl{suffix}', f'mass{suffix}', f'xl{suffix}',\n",
    "#         f'yl{suffix}', f'elip{suffix}', f'pol{suffix}', f'param1{suffix}'\n",
    "#     ])\n",
    "# file_path = '/Users/ktabe/Research/strong-lens-SNe/genmock_halo/result/default_kapst/'\n",
    "# prefix = 'default_LSST_kapst'\n",
    "# data = np.loadtxt(file_path+\"/\"+prefix+\"_result.dat\")\n",
    "# df = pd.DataFrame(data, columns=columns)\n",
    "# lens_class = df\n",
    "# lens_class\n",
    "df = pd.read_csv(\"/Users/ktabe/Research/strong-lens-SNe/slsim_KTA/data/SL-Hammocks/qso_salpeter_LSST_multi.csv\")"
   ]
  },
  {
   "cell_type": "code",
   "execution_count": 76,
   "metadata": {},
   "outputs": [],
   "source": [
    "mlens_halo = np.where(df[\"mass_sh\"]==-1, df[\"mass_hh\"], df[\"mass_sh\"])\n",
    "mlens_gal = np.where(df[\"mass_sh\"]==-1, df[\"mass_cen\"], df[\"mass_sat\"])\n",
    "lens_tb = np.where(df[\"mass_sh\"]==-1, df[\"param1_cen\"], df[\"param1_sat\"])\n",
    "lens_con = np.where(df[\"mass_sh\"]==-1, df[\"param1_hh\"], df[\"param1_sh\"])\n",
    "df[\"mlens_halo\"]=mlens_halo\n",
    "df[\"mlens_gal\"]=mlens_gal\n",
    "df[\"lens_tb\"]=lens_tb\n",
    "df[\"lens_con\"]=lens_con\n",
    "df = df.rename(columns={'zl_hh': 'z'})"
   ]
  },
  {
   "cell_type": "code",
   "execution_count": 77,
   "metadata": {},
   "outputs": [],
   "source": [
    "halo_galaxy_list = df"
   ]
  },
  {
   "cell_type": "code",
   "execution_count": 74,
   "metadata": {},
   "outputs": [
    {
     "data": {
      "text/plain": [
       "(4.84813681109536e-06, 86.47274031460155, 86.47912716830542)"
      ]
     },
     "execution_count": 74,
     "metadata": {},
     "output_type": "execute_result"
    }
   ],
   "source": [
    "\n",
    "z_te = 0.02\n",
    "constants.arcsec,cosmo.angular_diameter_distance(z_te).value,cosmo_col.angularDiameterDistance(z_te)/(cosmo_col.H0/100.)"
   ]
  },
  {
   "cell_type": "code",
   "execution_count": 59,
   "metadata": {},
   "outputs": [
    {
     "name": "stdout",
     "output_type": "stream",
     "text": [
      "include\n"
     ]
    }
   ],
   "source": [
    "n = len(halo_galaxy_list)\n",
    "column_names = halo_galaxy_list.columns\n",
    "if \"vel_disp\" not in column_names:\n",
    "    halo_galaxy_list[\"vel_disp\"] = -np.ones(n)\n",
    "else:\n",
    "    print(\"include\")"
   ]
  },
  {
   "cell_type": "code",
   "execution_count": 49,
   "metadata": {},
   "outputs": [
    {
     "data": {
      "text/plain": [
       "Index(['Unnamed: 0', 'nim', 'mori', 'mobs', 'sep', 'ein', 'fs',\n",
       "       'frac_sh_trunc', 'mmin', 'flag_out', 'zs', 'xs', 'ys', 'm_type_sh',\n",
       "       'zl_sh', 'mass_sh', 'xl_sh', 'yl_sh', 'elip_sh', 'pol_sh', 'param1_sh',\n",
       "       'm_type_sat', 'zl_sat', 'mass_sat', 'xl_sat', 'yl_sat', 'elip_sat',\n",
       "       'pol_sat', 'param1_sat', 'm_type_hh', 'z', 'mass_hh', 'xl_hh', 'yl_hh',\n",
       "       'elip_hh', 'pol_hh', 'param1_hh', 'm_type_cen', 'zl_cen', 'mass_cen',\n",
       "       'xl_cen', 'yl_cen', 'elip_cen', 'pol_cen', 'param1_cen', 'm_type_pert',\n",
       "       'zl_pert', 'mass_pert', 'xl_pert', 'yl_pert', 'elip_pert', 'pol_pert',\n",
       "       'param1_pert', 'vel_disp'],\n",
       "      dtype='object')"
      ]
     },
     "execution_count": 49,
     "metadata": {},
     "output_type": "execute_result"
    }
   ],
   "source": [
    "kwargs_deflector_cut = {\"z_min\": 0.01, \"z_max\": 2.5}\n",
    "galaxy_select = deflector_cut(halo_galaxy_list, **kwargs_deflector_cut)\n",
    "galaxy_select.columns"
   ]
  },
  {
   "cell_type": "markdown",
   "metadata": {},
   "source": [
    "lens_class.(by='', ascending=True, inplace=True)"
   ]
  },
  {
   "cell_type": "code",
   "execution_count": null,
   "metadata": {},
   "outputs": [],
   "source": [
    "# define a cosmology\n",
    "cosmo = FlatLambdaCDM(H0=70, Om0=0.3)\n",
    "\n",
    "# define a sky area\n",
    "sky_area = Quantity(value=0.1, unit=\"deg2\")\n",
    "\n",
    "\n",
    "# define limits in the intrinsic deflector and source population (in addition to the skypy config\n",
    "# file)\n",
    "kwargs_deflector_cut = {\"band\": \"g\", \"band_max\": 28, \"z_min\": 0.01, \"z_max\": 2.5}\n",
    "kwargs_source_cut = {\"band\": \"g\", \"band_max\": 28, \"z_min\": 0.1, \"z_max\": 5.0}\n",
    "\n",
    "# run skypy pipeline and make galaxy-galaxy population class using LensPop\n",
    "gg_lens_pop = LensPop(\n",
    "    deflector_type=\"halomodel\",\n",
    "    source_type=\"galaxies\",\n",
    "    kwargs_deflector_cut=kwargs_deflector_cut,\n",
    "    kwargs_source_cut=kwargs_source_cut,\n",
    "    kwargs_mass2light=None,\n",
    "    skypy_config='/Users/ktabe/Research/strong-lens-SNe/slsim/data/SkyPy/lsst-like.yml',\n",
    "    sky_area=sky_area,\n",
    "    cosmo=cosmo,\n",
    ")"
   ]
  },
  {
   "cell_type": "code",
   "execution_count": 4,
   "metadata": {},
   "outputs": [
    {
     "ename": "TypeError",
     "evalue": "Lens.__init__() got an unexpected keyword argument 'deflector_type'",
     "output_type": "error",
     "traceback": [
      "\u001b[0;31m---------------------------------------------------------------------------\u001b[0m",
      "\u001b[0;31mTypeError\u001b[0m                                 Traceback (most recent call last)",
      "Cell \u001b[0;32mIn[4], line 14\u001b[0m\n\u001b[1;32m     11\u001b[0m kwargs_source_cut \u001b[38;5;241m=\u001b[39m {\u001b[38;5;124m\"\u001b[39m\u001b[38;5;124mband\u001b[39m\u001b[38;5;124m\"\u001b[39m: \u001b[38;5;124m\"\u001b[39m\u001b[38;5;124mg\u001b[39m\u001b[38;5;124m\"\u001b[39m, \u001b[38;5;124m\"\u001b[39m\u001b[38;5;124mband_max\u001b[39m\u001b[38;5;124m\"\u001b[39m: \u001b[38;5;241m28\u001b[39m, \u001b[38;5;124m\"\u001b[39m\u001b[38;5;124mz_min\u001b[39m\u001b[38;5;124m\"\u001b[39m: \u001b[38;5;241m0.1\u001b[39m, \u001b[38;5;124m\"\u001b[39m\u001b[38;5;124mz_max\u001b[39m\u001b[38;5;124m\"\u001b[39m: \u001b[38;5;241m5.0\u001b[39m}\n\u001b[1;32m     13\u001b[0m \u001b[38;5;66;03m# run skypy pipeline and make galaxy-galaxy population class using LensPop\u001b[39;00m\n\u001b[0;32m---> 14\u001b[0m gg_lens \u001b[38;5;241m=\u001b[39m \u001b[43mLens\u001b[49m\u001b[43m(\u001b[49m\n\u001b[1;32m     15\u001b[0m \u001b[43m    \u001b[49m\u001b[43mdeflector_type\u001b[49m\u001b[38;5;241;43m=\u001b[39;49m\u001b[38;5;124;43m\"\u001b[39;49m\u001b[38;5;124;43mall-galaxies\u001b[39;49m\u001b[38;5;124;43m\"\u001b[39;49m\u001b[43m,\u001b[49m\n\u001b[1;32m     16\u001b[0m \u001b[43m    \u001b[49m\u001b[43msource_type\u001b[49m\u001b[38;5;241;43m=\u001b[39;49m\u001b[38;5;124;43m\"\u001b[39;49m\u001b[38;5;124;43mgalaxies\u001b[39;49m\u001b[38;5;124;43m\"\u001b[39;49m\u001b[43m,\u001b[49m\n\u001b[1;32m     17\u001b[0m \u001b[43m    \u001b[49m\u001b[43mkwargs_deflector_cut\u001b[49m\u001b[38;5;241;43m=\u001b[39;49m\u001b[43mkwargs_deflector_cut\u001b[49m\u001b[43m,\u001b[49m\n\u001b[1;32m     18\u001b[0m \u001b[43m    \u001b[49m\u001b[43mkwargs_source_cut\u001b[49m\u001b[38;5;241;43m=\u001b[39;49m\u001b[43mkwargs_source_cut\u001b[49m\u001b[43m,\u001b[49m\n\u001b[1;32m     19\u001b[0m \u001b[43m    \u001b[49m\u001b[43mkwargs_mass2light\u001b[49m\u001b[38;5;241;43m=\u001b[39;49m\u001b[38;5;28;43;01mNone\u001b[39;49;00m\u001b[43m,\u001b[49m\n\u001b[1;32m     20\u001b[0m \u001b[43m    \u001b[49m\u001b[43mskypy_config\u001b[49m\u001b[38;5;241;43m=\u001b[39;49m\u001b[38;5;124;43m'\u001b[39;49m\u001b[38;5;124;43m/Users/ktabe/Research/strong-lens-SNe/slsim/data/SkyPy/lsst-like.yml\u001b[39;49m\u001b[38;5;124;43m'\u001b[39;49m\u001b[43m,\u001b[49m\n\u001b[1;32m     21\u001b[0m \u001b[43m    \u001b[49m\u001b[43msky_area\u001b[49m\u001b[38;5;241;43m=\u001b[39;49m\u001b[43msky_area\u001b[49m\u001b[43m,\u001b[49m\n\u001b[1;32m     22\u001b[0m \u001b[43m    \u001b[49m\u001b[43mcosmo\u001b[49m\u001b[38;5;241;43m=\u001b[39;49m\u001b[43mcosmo\u001b[49m\u001b[43m,\u001b[49m\n\u001b[1;32m     23\u001b[0m \u001b[43m)\u001b[49m\n",
      "\u001b[0;31mTypeError\u001b[0m: Lens.__init__() got an unexpected keyword argument 'deflector_type'"
     ]
    }
   ],
   "source": [
    "# define a cosmology\n",
    "cosmo = FlatLambdaCDM(H0=70, Om0=0.3)\n",
    "\n",
    "# define a sky area\n",
    "sky_area = Quantity(value=0.1, unit=\"deg2\")\n",
    "\n",
    "\n",
    "# define limits in the intrinsic deflector and source population (in addition to the skypy config\n",
    "# file)\n",
    "kwargs_deflector_cut = {\"band\": \"g\", \"band_max\": 28, \"z_min\": 0.01, \"z_max\": 2.5}\n",
    "kwargs_source_cut = {\"band\": \"g\", \"band_max\": 28, \"z_min\": 0.1, \"z_max\": 5.0}\n",
    "\n",
    "# run skypy pipeline and make galaxy-galaxy population class using LensPop\n",
    "gg_lens = Lens(\n",
    "    source_dict,\n",
    "    deflector_dict,\n",
    "    cosmo,\n",
    "    deflector_type=\"EPL\",\n",
    "    source_type=\"extended\",\n",
    "    lens_equation_solver=\"lenstronomy_analytical\",\n",
    "    variability_model=None,\n",
    "    kwargs_variability=None,\n",
    "    sn_type=None,\n",
    "    sn_absolute_mag_band=None,\n",
    "    sn_absolute_zpsys=None,\n",
    "    test_area=4 * np.pi,\n",
    "    mixgauss_means=None,\n",
    "    mixgauss_stds=None,\n",
    "    mixgauss_weights=None,\n",
    "    magnification_limit=0.01,\n",
    "    light_profile=\"single_sersic\",\n",
    "    lightcurve_time=None,\n",
    "    deflector_type=\"all-galaxies\",\n",
    "    source_type=\"galaxies\",\n",
    "    kwargs_deflector_cut=kwargs_deflector_cut,\n",
    "    kwargs_source_cut=kwargs_source_cut,\n",
    "    kwargs_mass2light=None,\n",
    "    skypy_config='/Users/ktabe/Research/strong-lens-SNe/slsim/data/SkyPy/lsst-like.yml',\n",
    "    sky_area=sky_area,\n",
    "    cosmo=cosmo,\n",
    ")"
   ]
  },
  {
   "cell_type": "markdown",
   "metadata": {},
   "source": [
    "## Generate images of random lenses\n",
    "The LensingPlots() class has the functionality to draw random lenses and makes an image of it.\n",
    "Currently\n",
    "\n",
    "default settings in lenstronomy are chosen for the LSST image settings. These will be able to be replaced with the\n",
    "\n",
    "LSST simulation tools."
   ]
  },
  {
   "cell_type": "code",
   "execution_count": null,
   "metadata": {
    "execution": {
     "iopub.execute_input": "2023-07-10T22:02:45.594772Z",
     "iopub.status.busy": "2023-07-10T22:02:45.593856Z",
     "iopub.status.idle": "2023-07-10T22:03:09.185852Z",
     "shell.execute_reply": "2023-07-10T22:03:09.184974Z",
     "shell.execute_reply.started": "2023-07-10T22:02:45.594734Z"
    },
    "tags": []
   },
   "outputs": [],
   "source": [
    "# make some cuts in the image separations and limited magnitudes of the arc\n",
    "kwargs_lens_cut_plot = {\n",
    "    \"min_image_separation\": 0.8,\n",
    "    \"max_image_separation\": 10,\n",
    "    \"mag_arc_limit\": {\"g\": 23, \"r\": 23, \"i\": 23},\n",
    "}\n",
    "\n",
    "\n",
    "gg_plot = LensingPlots(gg_lens_pop, num_pix=64, coadd_years=10)\n",
    "\n",
    "# generate montage indicating which bands are used for the rgb color image\n",
    "fig, axes = gg_plot.plot_montage(\n",
    "    rgb_band_list=[\"i\", \"r\", \"g\"],\n",
    "    add_noise=True,\n",
    "    n_horizont=5,\n",
    "    n_vertical=2,\n",
    "    kwargs_lens_cut=kwargs_lens_cut_plot,\n",
    ")\n",
    "plt.show()"
   ]
  },
  {
   "cell_type": "markdown",
   "metadata": {},
   "source": [
    "## Generate the full population\n",
    "We are using the instance of the LensPop() class to draw the full population within specified cuts in a Monte Carlo process."
   ]
  },
  {
   "cell_type": "code",
   "execution_count": null,
   "metadata": {
    "execution": {
     "iopub.execute_input": "2023-07-10T22:03:19.932376Z",
     "iopub.status.busy": "2023-07-10T22:03:19.932021Z",
     "iopub.status.idle": "2023-07-10T22:09:27.244984Z",
     "shell.execute_reply": "2023-07-10T22:09:27.244130Z",
     "shell.execute_reply.started": "2023-07-10T22:03:19.932352Z"
    },
    "tags": []
   },
   "outputs": [],
   "source": [
    "# specifying cuts of the population\n",
    "kwargs_lens_cuts = {\"mag_arc_limit\": {\"g\": 28}}\n",
    "# drawing population\n",
    "gg_lens_population = gg_lens_pop.draw_population(kwargs_lens_cuts=kwargs_lens_cuts)"
   ]
  },
  {
   "cell_type": "markdown",
   "metadata": {},
   "source": [
    "## Represent key quantities of full population in corner plots\n",
    "We calculate few key quantities of the lenses. The full population is represented each with a Lens() class\n",
    "\n",
    "object that allows to compute and return these (and more) quantities."
   ]
  },
  {
   "cell_type": "code",
   "execution_count": null,
   "metadata": {
    "execution": {
     "iopub.execute_input": "2023-07-10T22:13:14.161110Z",
     "iopub.status.busy": "2023-07-10T22:13:14.160678Z",
     "iopub.status.idle": "2023-07-10T22:13:14.212114Z",
     "shell.execute_reply": "2023-07-10T22:13:14.210992Z",
     "shell.execute_reply.started": "2023-07-10T22:13:14.161081Z"
    },
    "tags": []
   },
   "outputs": [],
   "source": [
    "print(\"Number of lenses:\", len(gg_lens_population))\n",
    "\n",
    "lens_samples = []\n",
    "labels = [\n",
    "    r\"$\\sigma_v$\",\n",
    "    r\"$\\log(M_{*})$\",\n",
    "    r\"$\\theta_E$\",\n",
    "    r\"$z_{\\rm l}$\",\n",
    "    r\"$z_{\\rm s}$\",\n",
    "    r\"$m_{\\rm source}$\",\n",
    "    r\"$m_{\\rm lens}$\",\n",
    "]\n",
    "\n",
    "for gg_lens in gg_lens_population:\n",
    "    vel_disp = gg_lens.deflector_velocity_dispersion()\n",
    "    m_star = gg_lens.deflector_stellar_mass()\n",
    "    theta_e = gg_lens.einstein_radius\n",
    "    zl = gg_lens.deflector_redshift\n",
    "    zs = gg_lens.source_redshift\n",
    "    source_mag = gg_lens.extended_source_magnitude(band=\"g\", lensed=True)\n",
    "    deflector_mag = gg_lens.deflector_magnitude(band=\"g\")\n",
    "    lens_samples.append(\n",
    "        [vel_disp, np.log10(m_star), theta_e, zl, zs, source_mag, deflector_mag]\n",
    "    )"
   ]
  },
  {
   "cell_type": "code",
   "execution_count": null,
   "metadata": {
    "execution": {
     "iopub.execute_input": "2023-07-10T22:13:17.491966Z",
     "iopub.status.busy": "2023-07-10T22:13:17.491075Z",
     "iopub.status.idle": "2023-07-10T22:13:20.234778Z",
     "shell.execute_reply": "2023-07-10T22:13:20.233839Z",
     "shell.execute_reply.started": "2023-07-10T22:13:17.491889Z"
    },
    "scrolled": true,
    "tags": []
   },
   "outputs": [],
   "source": [
    "hist2dkwargs = {\n",
    "    \"plot_density\": False,\n",
    "    \"plot_contours\": False,\n",
    "    \"plot_datapoints\": True,\n",
    "    \"color\": \"b\",\n",
    "    \"data_kwargs\": {\"ms\": 5},\n",
    "}\n",
    "corner.corner(np.array(lens_samples), labels=labels, **hist2dkwargs)\n",
    "plt.show()"
   ]
  },
  {
   "cell_type": "code",
   "execution_count": null,
   "metadata": {},
   "outputs": [],
   "source": []
  }
 ],
 "metadata": {
  "kernelspec": {
   "display_name": "base",
   "language": "python",
   "name": "python3"
  },
  "language_info": {
   "codemirror_mode": {
    "name": "ipython",
    "version": 3
   },
   "file_extension": ".py",
   "mimetype": "text/x-python",
   "name": "python",
   "nbconvert_exporter": "python",
   "pygments_lexer": "ipython3",
   "version": "3.10.13"
  }
 },
 "nbformat": 4,
 "nbformat_minor": 4
}
