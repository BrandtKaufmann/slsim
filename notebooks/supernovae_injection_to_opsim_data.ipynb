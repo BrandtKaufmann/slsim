{
 "cells": [
  {
   "cell_type": "code",
   "execution_count": 7,
   "metadata": {},
   "outputs": [],
   "source": [
    "from astropy.cosmology import FlatLambdaCDM\n",
    "from astropy.units import Quantity\n",
    "from slsim.lens_pop import LensPop\n",
    "import numpy as np\n",
    "from astropy.table import Table\n",
    "from astropy.units import Quantity\n",
    "import slsim.Sources as sources\n",
    "import slsim.Deflectors as deflectors\n",
    "import slsim.Pipelines as pipelines\n",
    "from slsim.Sources.point_sources import PointSources\n",
    "from slsim.Sources.QuasarCatalog.quasar_pop import QuasarRate\n",
    "import corner\n",
    "import matplotlib.pyplot as plt\n",
    "from astropy.table import Table\n",
    "from slsim.Sources.source import Source\n",
    "from slsim.image_simulation import point_source_coordinate_properties\n",
    "from slsim.image_simulation import lens_image_series, rgb_image_from_image_list\n",
    "from slsim.Plots.plot_functions import create_image_montage_from_image_list\n",
    "import math"
   ]
  },
  {
   "cell_type": "markdown",
   "metadata": {},
   "source": [
    "## Supernovae plus extended source simulation\n",
    "In this notebook, we simulate population of lensed supernovae and simulate image of a \n",
    "\n",
    "random lensed supernovae. It follows following steps:\n",
    "\n",
    "1. Simulate lensed supernovae population\n",
    "2. Choose a lens at random\n",
    "3. Set observation time and other image configuration\n",
    "4. Simulate image of a selected lens\n",
    "5. Visualize it\n",
    "\n",
    "Before running this notebook, please download the \"scotch_SNIa_host_galaxies.fits\"\n",
    "\n",
    "file from the following link: https://github.com/LSST-strong-lensing/data_public.git. \n",
    "\n",
    "This file contains type Ia supernovae host galaxies."
   ]
  },
  {
   "cell_type": "markdown",
   "metadata": {},
   "source": [
    "## Simulate lensed supernovae population"
   ]
  },
  {
   "cell_type": "code",
   "execution_count": 19,
   "metadata": {},
   "outputs": [],
   "source": [
    "cosmo = FlatLambdaCDM(H0=70, Om0=0.3)\n",
    "deflector_sky_area = Quantity(value=2, unit=\"deg2\")\n",
    "source_sky_area = Quantity(value=5, unit=\"deg2\")\n",
    "sky_area = Quantity(value=2000, unit=\"deg2\")\n",
    "\n",
    "kwargs_deflector_cut = {\"band\": \"g\", \"band_max\": 24, \"z_min\": 0.01, \"z_max\": 2.5}\n",
    "kwargs_source_cut = {\"z_min\": 0.1, \"z_max\": 5.0}\n",
    "\n",
    "time_range = np.linspace(-50, 100, 500)\n"
   ]
  },
  {
   "cell_type": "code",
   "execution_count": 3,
   "metadata": {},
   "outputs": [],
   "source": [
    "# Generate galaxy population using skypy pipeline.\n",
    "galaxy_simulation_pipeline = pipelines.SkyPyPipeline(\n",
    "    skypy_config=None, sky_area=sky_area, filters=None, cosmo=cosmo\n",
    ")"
   ]
  },
  {
   "cell_type": "code",
   "execution_count": 4,
   "metadata": {},
   "outputs": [
    {
     "name": "stderr",
     "output_type": "stream",
     "text": [
      "/Users/narayankhadka/slsim/slsim/Deflectors/all_lens_galaxies.py:54: UserWarning: Angular size is converted to arcsec because provided input_catalog_type is skypy. If this is not correct, please refer to the documentation of the class you are using\n",
      "  red_galaxy_list = catalog_with_angular_size_in_arcsec(\n",
      "/Users/narayankhadka/slsim/slsim/Deflectors/all_lens_galaxies.py:57: UserWarning: Angular size is converted to arcsec because provided input_catalog_type is skypy. If this is not correct, please refer to the documentation of the class you are using\n",
      "  blue_galaxy_list = catalog_with_angular_size_in_arcsec(\n"
     ]
    }
   ],
   "source": [
    "# Initiate deflector population class.\n",
    "lens_galaxies = deflectors.AllLensGalaxies(\n",
    "    red_galaxy_list=galaxy_simulation_pipeline.red_galaxies,\n",
    "    blue_galaxy_list=galaxy_simulation_pipeline.blue_galaxies,\n",
    "    kwargs_cut=kwargs_deflector_cut,\n",
    "    kwargs_mass2light=None,\n",
    "    cosmo=cosmo,\n",
    "    sky_area=sky_area,\n",
    ")"
   ]
  },
  {
   "cell_type": "code",
   "execution_count": 16,
   "metadata": {},
   "outputs": [],
   "source": [
    "supernovae_catalog = sources.SupernovaeCatalog.SupernovaeCatalog(\n",
    "    sn_type=\"Ia\",\n",
    "    band_list=[\"i\"],\n",
    "    lightcurve_time=time_range,\n",
    "    absolute_mag_band=\"bessellb\",\n",
    "    absolute_mag=None,\n",
    "    mag_zpsys=\"ab\",\n",
    "    cosmo=cosmo,\n",
    "    skypy_config=None,\n",
    "    sky_area=source_sky_area,\n",
    ")\n",
    "supernovae_data = supernovae_catalog.supernovae_catalog(\n",
    "    host_galaxy=False, lightcurve=False\n",
    ")"
   ]
  },
  {
   "cell_type": "code",
   "execution_count": 17,
   "metadata": {},
   "outputs": [],
   "source": [
    "# Initiate source population class.\n",
    "supernovae_sourece = sources.PointSources(\n",
    "    point_source_list=supernovae_data,\n",
    "    cosmo=cosmo,\n",
    "    sky_area=source_sky_area,\n",
    "    kwargs_cut=kwargs_source_cut,\n",
    "    variability_model=\"light_curve\",\n",
    "    kwargs_variability_model={\"supernovae_lightcurve\", \"i\", \"r\", \"g\"},\n",
    "    lightcurve_time=time_range,\n",
    "    sn_type=\"Ia\",\n",
    "    sn_absolute_mag_band=\"bessellb\",\n",
    "    sn_absolute_zpsys=\"ab\",\n",
    ")"
   ]
  },
  {
   "cell_type": "code",
   "execution_count": 20,
   "metadata": {},
   "outputs": [],
   "source": [
    "# Initiate LensPop class\n",
    "supernova_lens_pop = LensPop(\n",
    "    deflector_population=lens_galaxies,\n",
    "    source_population=supernovae_sourece,\n",
    "    sky_area=sky_area,\n",
    "    cosmo=cosmo\n",
    ")"
   ]
  },
  {
   "cell_type": "markdown",
   "metadata": {},
   "source": [
    "## Draw lens population"
   ]
  },
  {
   "cell_type": "code",
   "execution_count": 22,
   "metadata": {},
   "outputs": [],
   "source": [
    "# specifying cuts of the population\n",
    "kwargs_lens_cuts = {}\n",
    "# drawing population\n",
    "supernovae_lens_population = supernova_lens_pop.draw_population(\n",
    "    kwargs_lens_cuts=kwargs_lens_cuts, speed_factor=100, multi_source=False\n",
    ")"
   ]
  },
  {
   "cell_type": "markdown",
   "metadata": {},
   "source": [
    "## Choose a lens to simulate an image"
   ]
  },
  {
   "cell_type": "code",
   "execution_count": 25,
   "metadata": {},
   "outputs": [],
   "source": [
    "kwargs_lens_cut = {\"min_image_separation\": 1, \"max_image_separation\": 10}\n",
    "rgb_band_list = [\"i\", \"r\", \"g\"]\n",
    "lens_class = supernovae_lens_population[0]"
   ]
  },
  {
   "cell_type": "code",
   "execution_count": 26,
   "metadata": {},
   "outputs": [
    {
     "name": "stderr",
     "output_type": "stream",
     "text": [
      "/Users/narayankhadka/slsim/slsim/Sources/supernovae.py:109: UserWarning: bandpass 'lsstg' [3866, .., 5670] outside spectral range [4231.25, .., 42312.5]\n",
      "Ignoring bandpass for now. Use extended wavelength SN models found here: https://github.com/LSST-strong-lensing/data_public/tree/main/sncosmo_sn_models\n",
      "  warn(\n",
      "/opt/anaconda3/lib/python3.9/site-packages/sncosmo/models.py:189: RuntimeWarning: divide by zero encountered in log10\n",
      "  result[i] = -2.5 * np.log10(f / zpf)\n"
     ]
    }
   ],
   "source": [
    "pix_coord = point_source_coordinate_properties(\n",
    "    lens_class,\n",
    "    band=\"i\",\n",
    "    mag_zero_point=27,\n",
    "    delta_pix=0.2,\n",
    "    num_pix=32,\n",
    "    transform_pix2angle=np.array([[0.2, 0], [0, 0.2]]),\n",
    ")[\"image_pix\"]"
   ]
  },
  {
   "cell_type": "code",
   "execution_count": 36,
   "metadata": {},
   "outputs": [
    {
     "data": {
      "text/plain": [
       "[array([[18.28767419, 11.13214571]]), array([[14.84482128, 15.23258164]])]"
      ]
     },
     "execution_count": 36,
     "metadata": {},
     "output_type": "execute_result"
    }
   ],
   "source": [
    "pix_coord"
   ]
  },
  {
   "cell_type": "markdown",
   "metadata": {},
   "source": [
    "## See the light curve of a selected supernovae"
   ]
  },
  {
   "cell_type": "code",
   "execution_count": 29,
   "metadata": {},
   "outputs": [],
   "source": [
    "light_curve = lens_class.source[0].variability_class.kwargs_model"
   ]
  },
  {
   "cell_type": "code",
   "execution_count": 30,
   "metadata": {},
   "outputs": [
    {
     "data": {
      "text/plain": [
       "(-22.0, 100.0)"
      ]
     },
     "execution_count": 30,
     "metadata": {},
     "output_type": "execute_result"
    },
    {
     "data": {
      "image/png": "[encoded data removed]",
      "text/plain": [
       "<Figure size 432x288 with 1 Axes>"
      ]
     },
     "metadata": {
      "needs_background": "light"
     },
     "output_type": "display_data"
    }
   ],
   "source": [
    "plt.plot(light_curve[\"MJD\"], light_curve[\"ps_mag_i\"])\n",
    "# plt.ylim(12, 18)\n",
    "plt.gca().invert_yaxis()\n",
    "plt.ylabel(\"Magnitude\")\n",
    "plt.xlabel(\"Time\" \"[Days]\")\n",
    "plt.xlim(-22, 100)"
   ]
  },
  {
   "cell_type": "markdown",
   "metadata": {},
   "source": [
    "## Set observation time and image configuration"
   ]
  },
  {
   "cell_type": "code",
   "execution_count": 31,
   "metadata": {},
   "outputs": [],
   "source": [
    "time = np.array([-19.5, -15, -11.35135135135135, 0, 10, 20, 25, 30, 40, 44.86])\n",
    "# time = sorted(np.random.uniform(-20, 100, 10))\n",
    "# time = np.array([0, 50, 70, 120])\n",
    "repeats = 10\n",
    "# load your psf kernel and transform matrix. If you have your own psf, please provide\n",
    "# it here.\n",
    "path = \"../tests/TestData/psf_kernels_for_deflector.npy\"\n",
    "psf_kernel = 1 * np.load(path)\n",
    "psf_kernel[psf_kernel < 0] = 0\n",
    "transform_matrix = np.array([[0.2, 0], [0, 0.2]])\n",
    "\n",
    "# let's set up psf kernel for each exposure. Here we have taken the same psf that we\n",
    "# extracted above. However, each exposure can have different psf kernel and user should\n",
    "# provide corresponding psf kernel to each exposure.\n",
    "psf_kernel_list = [psf_kernel]\n",
    "transform_matrix_list = [transform_matrix]\n",
    "psf_kernels_all = psf_kernel_list * repeats\n",
    "# psf_kernels_all = np.array([dp0[\"psf_kernel\"][:10]])[0]\n",
    "\n",
    "# let's set pixel to angle transform matrix. Here we have taken the same matrix for\n",
    "# each exposure but user should provide corresponding transform matrix to each exposure.\n",
    "transform_matrix_all = transform_matrix_list * repeats\n",
    "\n",
    "# provide magnitude zero point for each exposures. Here we have taken the same magnitude\n",
    "#  zero point for each exposure but user should provide the corresponding magnitude\n",
    "# zero point for each exposure.\n",
    "mag_list = [31.0]\n",
    "mag_zero_points_all = mag_list * repeats\n",
    "# mag_zero_points_all = np.array([dp0[\"zero_point\"][:10]])[0]\n",
    "\n",
    "expo_list = [30]\n",
    "exposure_time_all = expo_list * repeats"
   ]
  },
  {
   "cell_type": "markdown",
   "metadata": {},
   "source": [
    "## Simulate Image"
   ]
  },
  {
   "cell_type": "code",
   "execution_count": 32,
   "metadata": {},
   "outputs": [],
   "source": [
    "# Simulate a lens image\n",
    "image_lens_series = lens_image_series(\n",
    "    lens_class=lens_class,\n",
    "    band=\"i\",\n",
    "    mag_zero_point=mag_zero_points_all,\n",
    "    num_pix=32,\n",
    "    psf_kernel=psf_kernels_all,\n",
    "    transform_pix2angle=transform_matrix_all,\n",
    "    exposure_time=exposure_time_all,\n",
    "    t_obs=time,\n",
    "    with_deflector=True,\n",
    "    with_source=True,\n",
    ")"
   ]
  },
  {
   "cell_type": "code",
   "execution_count": 33,
   "metadata": {},
   "outputs": [],
   "source": [
    "## Images in log scale\n",
    "log_images = []\n",
    "for i in range(len(image_lens_series)):\n",
    "    log_images.append(np.log10(image_lens_series[i]))"
   ]
  },
  {
   "cell_type": "markdown",
   "metadata": {},
   "source": [
    "## Visualize simulated images"
   ]
  },
  {
   "cell_type": "code",
   "execution_count": 41,
   "metadata": {},
   "outputs": [
    {
     "data": {
      "image/png": "[encoded data removed]",
      "text/plain": [
       "<Figure size 1080x432 with 10 Axes>"
      ]
     },
     "metadata": {
      "needs_background": "light"
     },
     "output_type": "display_data"
    }
   ],
   "source": [
    "plot_montage = create_image_montage_from_image_list(\n",
    "    num_rows=2, num_cols=5, images=image_lens_series, time=time,\n",
    "      image_center=[pix_coord[0][0], pix_coord[1][0]]\n",
    ")"
   ]
  },
  {
   "cell_type": "code",
   "execution_count": null,
   "metadata": {},
   "outputs": [],
   "source": []
  }
 ],
 "metadata": {
  "kernelspec": {
   "display_name": "base",
   "language": "python",
   "name": "python3"
  },
  "language_info": {
   "codemirror_mode": {
    "name": "ipython",
    "version": 3
   },
   "file_extension": ".py",
   "mimetype": "text/x-python",
   "name": "python",
   "nbconvert_exporter": "python",
   "pygments_lexer": "ipython3",
   "version": "3.9.7"
  }
 },
 "nbformat": 4,
 "nbformat_minor": 2
}
