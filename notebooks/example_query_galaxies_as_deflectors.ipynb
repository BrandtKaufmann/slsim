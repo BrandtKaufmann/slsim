{
 "cells": [
  {
   "cell_type": "code",
   "execution_count": 1,
   "metadata": {},
   "outputs": [],
   "source": [
    "import numpy as np\n",
    "from astropy.table import Table\n",
    "from query_galaxies_as_deflectors import find_potential_lenses_parallel\n",
    "from query_galaxies_as_deflectors import find_potential_lenses\n",
    "from astropy.cosmology import FlatLambdaCDM\n",
    "import srclensprop as slp\n",
    "import os\n",
    "from slsim.Util.mag2errors import get_errors_Poisson\n",
    "#from mpi4py import MPI\n"
   ]
  },
  {
   "cell_type": "markdown",
   "metadata": {},
   "source": [
    "This notebook demonstrates how to use the 'query_galaxies_as_deflectors.py' module in slsim to query a galaxy catalog and idenitfy which of the galaxies can act as potential deflectors.  \n",
    "Please download the catalogs 'cosmo_DC2.fits' from 'https://github.com/LSST-strong-lensing/data_public' for running this notebook."
   ]
  },
  {
   "cell_type": "code",
   "execution_count": 2,
   "metadata": {},
   "outputs": [],
   "source": [
    "# define the cosmology to be used\n",
    "cosmo = FlatLambdaCDM(H0=72,Om0=0.26)\n",
    "\n",
    "#define the Universal gravitational constant and the speed of light\n",
    "constants = {'G':4.2994e-9, 'light_speed':299792.458}  # in km^3 Msun^(-1) year^(-2) and km/s respectively\n",
    "\n",
    "deflector_type = \"galaxy\"\n",
    "#background_source = \"galaxy\"\n",
    "#background_source = \"quasar\"\n",
    "\n"
   ]
  },
  {
   "cell_type": "code",
   "execution_count": 3,
   "metadata": {},
   "outputs": [],
   "source": [
    "\n",
    "# Define path to the input catalog\n",
    "lenscatalog      = 'cosmo_DC2.fits'           ## foreground lens catalog\n",
    "\n",
    "\n",
    "# define the keywords for the survey, deflector, and the background source to be used\n",
    "kwargs_source_gal={'type':'galaxy', 'min_z':0.2, 'max_z':5.0, 'min_mag':23.0, 'max_mag':28.0, 'boost_csect':3, \n",
    "                     'ell_min':0.1, 'ell_max': 0.8, 'PA_min': 0., 'PA_max':180., 'R_Einst_min': 0.5, 'R_Einst_max':3.0}\n",
    "kwargs_source_qso={'type':'qso', 'min_z':0.2, 'max_z':5.0,'min_mag':23.0, 'max_mag':28.0, 'boost_csect':30000, \n",
    "                     'ell_min':None, 'ell_max': None,  'PA_min': None, 'PA_max':None, 'R_Einst_min': 0.9, 'R_Einst_max':3.0}\n",
    "kwargs_deflector={'min_z':0.2,'max_z':1.9, 'min_shear':0.001,'max_shear':0.02,'min_PA_shear':0.0,'max_PA_shear':180.0}\n"
   ]
  },
  {
   "cell_type": "markdown",
   "metadata": {},
   "source": [
    "Please make sure that the input galaxy ctalog has the required columnnames, or else change the column names as shown below."
   ]
  },
  {
   "cell_type": "code",
   "execution_count": 4,
   "metadata": {},
   "outputs": [
    {
     "name": "stdout",
     "output_type": "stream",
     "text": [
      "Size of foreground table:  583402\n"
     ]
    }
   ],
   "source": [
    "# read the foreground galaxy catalog as an astropy table\n",
    "foreground_table = Table.read(lenscatalog, format='fits')\n",
    "\n",
    "#sort the foreground table for redshift\n",
    "id_redshift = np.where(foreground_table['redshift'] < 2)[0]\n",
    "foreground_table = foreground_table[id_redshift]\n",
    "print('Size of foreground table: ',len(foreground_table))\n",
    "\n",
    "#rename the column names\n",
    "foreground_table.rename_column('mag_true_g_lsst', 'gmag')\n",
    "foreground_table.rename_column('mag_true_r_lsst', 'rmag')\n",
    "foreground_table.rename_column('mag_true_i_lsst', 'imag')\n",
    "foreground_table.rename_column('ellipticity_true', 'ellipticity')\n",
    "\n",
    "#rename the column name and generate the random shear if not available\n",
    "if 'shear' and 'shear PA' in foreground_table.colnames:\n",
    "    foreground_table.rename_column('shear', 'random shear')\n",
    "    foreground_table.rename_column('shear PA', 'random shear PA')\n",
    "    \n",
    "else:\n",
    "    # generate random shear to the galaxies if shear is not already provided\n",
    "    myseed = 2894 #9999\n",
    "    np.random.seed(myseed)\n",
    "    random_shear_value=np.random.uniform(low=kwargs_deflector.get('min_shear'),high=kwargs_deflector.get('max_shear'))\n",
    "    #print('random_shear_value is :',random_shear_value)\n",
    "    random_shear = np.full(len(foreground_table),random_shear_value)\n",
    "    #random_shear=np.random.uniform(low=kwargs_deflector.get('min_shear'),high=kwargs_deflector.get('max_shear'),size=len(foreground_table))\n",
    "\n",
    "    np.random.seed(myseed)\n",
    "    random_PA_value=np.random.uniform(kwargs_deflector.get('min_PA_shear'),kwargs_deflector.get('max_PA_shear'))\n",
    "    random_shear_PA = np.full(len(foreground_table),random_PA_value)\n",
    "    #random_shear_PA = np.random.uniform(kwargs_deflector.get('min_PA_shear'),kwargs_deflector.get('max_PA_shear'),size=len(foreground_table))\n",
    "\n",
    "    # add the shear and shear PA to the galaxy catalog table\n",
    "    foreground_table['random shear'] = random_shear\n",
    "    foreground_table['random shear PA'] = random_shear_PA\n"
   ]
  },
  {
   "cell_type": "markdown",
   "metadata": {},
   "source": [
    "If the input catalog doesnot contain magnitude errors, please add statistical error due to Poisson noise in the counts."
   ]
  },
  {
   "cell_type": "code",
   "execution_count": 5,
   "metadata": {},
   "outputs": [],
   "source": [
    "# define the LSST zeropoint and exposure time (in secs) for g, r, and i bands.\n",
    "zeropoint_g, exptime_g = 28.51, 15\n",
    "zeropoint_r, exptime_r = 28.36, 15\n",
    "zeropoint_i, exptime_i = 28.17, 15\n",
    "\n",
    "\n",
    "#Add magnitude errors (Poisson) to the table if not already present\n",
    "if 'err_g' and 'err_r' and 'err_i' in foreground_table.colnames:\n",
    "    pass\n",
    "else:\n",
    "    foreground_table['err_g'] = get_errors_Poisson(foreground_table['gmag'], zeropoint_g, exptime_g)\n",
    "    foreground_table['err_r'] = get_errors_Poisson(foreground_table['rmag'], zeropoint_r, exptime_r)\n",
    "    foreground_table['err_i'] = get_errors_Poisson(foreground_table['imag'], zeropoint_i, exptime_i)\n"
   ]
  },
  {
   "cell_type": "markdown",
   "metadata": {},
   "source": [
    "Please create the Crosssect.dat file, if not already created"
   ]
  },
  {
   "cell_type": "code",
   "execution_count": 6,
   "metadata": {},
   "outputs": [
    {
     "name": "stdout",
     "output_type": "stream",
     "text": [
      "Crosssect.dat already exists, exiting without creating a new file.\n"
     ]
    }
   ],
   "source": [
    "# Create Crosssect.dat file, if not already created\n",
    "filename = 'Crosssect.dat'\n",
    "\n",
    "if os.path.exists(filename):\n",
    "    print(f\"{filename} already exists, exiting without creating a new file.\")\n",
    "else:\n",
    "    print(f\"File {filename} does not exist, creating it now.\")\n",
    "    \n",
    "    qi = np.arange(0.1, 1.0, 0.001)\n",
    "    csecti = np.zeros_like(qi)\n",
    "    \n",
    "    for ii in range(qi.size):\n",
    "        csecti[ii] = slp.getcrosssect(slp.fid_b_I / np.sqrt(qi[ii]), qi[ii])\n",
    "    \n",
    "    np.savetxt(filename, np.transpose([qi, csecti]))\n",
    "    print(f\"{filename} created successfully.\")\n",
    "\n"
   ]
  },
  {
   "cell_type": "code",
   "execution_count": 7,
   "metadata": {},
   "outputs": [
    {
     "name": "stdout",
     "output_type": "stream",
     "text": [
      "Initializing Cross-section\n",
      "Found  822 unique lensed  galaxy\n"
     ]
    }
   ],
   "source": [
    "# Run the code in series\n",
    "run = 'series'\n",
    "\n",
    "## To run in series\n",
    "if(run=='series'):\n",
    "    find_potential_lenses(foreground_table[0:50000], background_source='galaxy', \n",
    "                          kwargs_source=kwargs_source_gal, kwargs_deflector=kwargs_deflector, \n",
    "                          cosmo=cosmo, constants=constants)\n",
    "    #find_potential_lenses(foreground_table[0:10000], background_source=\"quasar\",\n",
    "    #                      kwargs_source=kwargs_source_qso,kwargs_deflector=kwargs_deflector,\n",
    "    #                      cosmo=cosmo,constants=constants)\n"
   ]
  },
  {
   "cell_type": "markdown",
   "metadata": {},
   "source": [
    "To deal with large catalogs, the code can also be run in parallel,  \n",
    "To run the code in parallel, save the code as a python script *.py  \n",
    "'Openmpi' should be setup in your machine and at the top, import mpi4py as:  \n",
    " from mpi4py import MPI\n",
    "\n",
    "--Then run as 'mpirun -np X python query_galaxies_as_deflectors.py',  \n",
    "\n",
    "-- where X is the no. of processors you want to use.\n"
   ]
  },
  {
   "cell_type": "code",
   "execution_count": null,
   "metadata": {},
   "outputs": [
    {
     "name": "stdout",
     "output_type": "stream",
     "text": [
      "Invalid input\n"
     ]
    }
   ],
   "source": [
    "run='parallel'\n",
    "elif(run=='parallel'):\n",
    "    ## MPI Initialization\n",
    "    comm = MPI.COMM_WORLD\n",
    "    rank = comm.Get_rank()\n",
    "    size = comm.Get_size()\n",
    "\n",
    "    find_potential_lenses_parallel(comm,rank,size,foreground_table[0:10000],background_source=\"galaxy\",kwargs_source=kwargs_source_gal,kwargs_deflector=kwargs_deflector,cosmo=cosmo,constants=constants)\n",
    "\n",
    "else:\n",
    "    print('Invalid input')\n",
    "\n"
   ]
  },
  {
   "cell_type": "code",
   "execution_count": null,
   "metadata": {},
   "outputs": [],
   "source": []
  }
 ],
 "metadata": {
  "kernelspec": {
   "display_name": "base",
   "language": "python",
   "name": "python3"
  },
  "language_info": {
   "codemirror_mode": {
    "name": "ipython",
    "version": 3
   },
   "file_extension": ".py",
   "mimetype": "text/x-python",
   "name": "python",
   "nbconvert_exporter": "python",
   "pygments_lexer": "ipython3",
   "version": "3.11.7"
  }
 },
 "nbformat": 4,
 "nbformat_minor": 2
}
