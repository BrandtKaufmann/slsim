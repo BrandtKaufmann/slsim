{
 "cells": [
  {
   "cell_type": "code",
   "execution_count": 1,
   "metadata": {},
   "outputs": [],
   "source": [
    "\n",
    "#print(skypy.__version__)\n",
    "from sim_pipeline.gg_lens_pop import GGLensPop\n",
    "%matplotlib inline"
   ]
  },
  {
   "cell_type": "code",
   "execution_count": 2,
   "metadata": {},
   "outputs": [],
   "source": [
    "# define a cosmology\n",
    "from astropy.cosmology import FlatLambdaCDM\n",
    "cosmo = FlatLambdaCDM(H0=70, Om0=0.3)\n",
    "\n",
    "\n",
    "# define limits in the intrinsic deflector and source population (in addition to the skypy config file)\n",
    "kwargs_lens_cut = {'mag_g_max':22, 'z_min': 0.1, 'z_max': 0.5}\n",
    "kwargs_source_cut = {'mag_g_max':30, 'z_min': 0.5, 'z_max': 5.}\n",
    "\n",
    "# run skypy pipeline and make galaxy-galaxy population class\n",
    "gg_lens_pop = GGLensPop(lens_type='early-type', source_type='galaxies', \n",
    "                        kwargs_lens_cut=kwargs_lens_cut, kwargs_source_cut=kwargs_source_cut,\n",
    "                        kwargs_mass2light=None, skypy_config=None, f_sky=0.1, cosmo=None)\n"
   ]
  },
  {
   "cell_type": "code",
   "execution_count": 3,
   "metadata": {},
   "outputs": [
    {
     "name": "stderr",
     "output_type": "stream",
     "text": [
      "/Users/sibirrer/Software/LSST-strong-lensing/sim-pipeline/sim_pipeline/Sources/galaxies.py:26: FutureWarning: elementwise comparison failed; returning scalar instead, but in the future will perform elementwise comparison\n",
      "  if 'e1' not in galaxy or 'e2' not in galaxy:\n"
     ]
    },
    {
     "ename": "AttributeError",
     "evalue": "'Row' object has no attribute 'add_column'",
     "output_type": "error",
     "traceback": [
      "\u001b[0;31m---------------------------------------------------------------------------\u001b[0m",
      "\u001b[0;31mAttributeError\u001b[0m                            Traceback (most recent call last)",
      "Input \u001b[0;32mIn [3]\u001b[0m, in \u001b[0;36m<cell line: 5>\u001b[0;34m()\u001b[0m\n\u001b[1;32m      2\u001b[0m \u001b[38;5;28;01mfrom\u001b[39;00m \u001b[38;5;21;01msim_pipeline\u001b[39;00m\u001b[38;5;21;01m.\u001b[39;00m\u001b[38;5;21;01mPlots\u001b[39;00m\u001b[38;5;21;01m.\u001b[39;00m\u001b[38;5;21;01mgg_plots\u001b[39;00m \u001b[38;5;28;01mimport\u001b[39;00m GGLensingPlots\n\u001b[1;32m      3\u001b[0m gg_plot \u001b[38;5;241m=\u001b[39m GGLensingPlots(gg_lens_pop, num_pix\u001b[38;5;241m=\u001b[39m\u001b[38;5;241m64\u001b[39m, coadd_years\u001b[38;5;241m=\u001b[39m\u001b[38;5;241m1\u001b[39m)\n\u001b[0;32m----> 5\u001b[0m fig, axes \u001b[38;5;241m=\u001b[39m \u001b[43mgg_plot\u001b[49m\u001b[38;5;241;43m.\u001b[39;49m\u001b[43mplot_montage\u001b[49m\u001b[43m(\u001b[49m\u001b[43mrgb_band_list\u001b[49m\u001b[38;5;241;43m=\u001b[39;49m\u001b[43m[\u001b[49m\u001b[38;5;124;43m'\u001b[39;49m\u001b[38;5;124;43mi\u001b[39;49m\u001b[38;5;124;43m'\u001b[39;49m\u001b[43m,\u001b[49m\u001b[43m \u001b[49m\u001b[38;5;124;43m'\u001b[39;49m\u001b[38;5;124;43mr\u001b[39;49m\u001b[38;5;124;43m'\u001b[39;49m\u001b[43m,\u001b[49m\u001b[43m \u001b[49m\u001b[38;5;124;43m'\u001b[39;49m\u001b[38;5;124;43mg\u001b[39;49m\u001b[38;5;124;43m'\u001b[39;49m\u001b[43m]\u001b[49m\u001b[43m,\u001b[49m\u001b[43m \u001b[49m\u001b[43madd_noise\u001b[49m\u001b[38;5;241;43m=\u001b[39;49m\u001b[38;5;28;43;01mTrue\u001b[39;49;00m\u001b[43m,\u001b[49m\u001b[43m \u001b[49m\u001b[43mn_horizont\u001b[49m\u001b[38;5;241;43m=\u001b[39;49m\u001b[38;5;241;43m5\u001b[39;49m\u001b[43m,\u001b[49m\u001b[43m \u001b[49m\u001b[43mn_vertical\u001b[49m\u001b[38;5;241;43m=\u001b[39;49m\u001b[38;5;241;43m2\u001b[39;49m\u001b[43m)\u001b[49m\n\u001b[1;32m      6\u001b[0m fig\u001b[38;5;241m.\u001b[39mshow()\n",
      "File \u001b[0;32m~/Software/LSST-strong-lensing/sim-pipeline/sim_pipeline/Plots/gg_plots.py:52\u001b[0m, in \u001b[0;36mGGLensingPlots.plot_montage\u001b[0;34m(self, rgb_band_list, add_noise, n_horizont, n_vertical)\u001b[0m\n\u001b[1;32m     50\u001b[0m \u001b[38;5;28;01mfor\u001b[39;00m j \u001b[38;5;129;01min\u001b[39;00m \u001b[38;5;28mrange\u001b[39m(n_vertical):\n\u001b[1;32m     51\u001b[0m     ax \u001b[38;5;241m=\u001b[39m axes[j, i]\n\u001b[0;32m---> 52\u001b[0m     lens_class \u001b[38;5;241m=\u001b[39m \u001b[38;5;28;43mself\u001b[39;49m\u001b[38;5;241;43m.\u001b[39;49m\u001b[43m_lens_pop\u001b[49m\u001b[38;5;241;43m.\u001b[39;49m\u001b[43mselect_lens_at_random\u001b[49m\u001b[43m(\u001b[49m\u001b[43m)\u001b[49m\n\u001b[1;32m     53\u001b[0m     image_rgb \u001b[38;5;241m=\u001b[39m \u001b[38;5;28mself\u001b[39m\u001b[38;5;241m.\u001b[39mrgb_image(lens_class, rgb_band_list, add_noise\u001b[38;5;241m=\u001b[39madd_noise)\n\u001b[1;32m     54\u001b[0m     ax\u001b[38;5;241m.\u001b[39mimshow(image_rgb, aspect\u001b[38;5;241m=\u001b[39m\u001b[38;5;124m'\u001b[39m\u001b[38;5;124mequal\u001b[39m\u001b[38;5;124m'\u001b[39m, origin\u001b[38;5;241m=\u001b[39m\u001b[38;5;124m'\u001b[39m\u001b[38;5;124mlower\u001b[39m\u001b[38;5;124m'\u001b[39m)\n",
      "File \u001b[0;32m~/Software/LSST-strong-lensing/sim-pipeline/sim_pipeline/gg_lens_pop.py:55\u001b[0m, in \u001b[0;36mGGLensPop.select_lens_at_random\u001b[0;34m(self)\u001b[0m\n\u001b[1;32m     46\u001b[0m \u001b[38;5;28;01mdef\u001b[39;00m \u001b[38;5;21mselect_lens_at_random\u001b[39m(\u001b[38;5;28mself\u001b[39m):\n\u001b[1;32m     47\u001b[0m     \u001b[38;5;124;03m\"\"\"\u001b[39;00m\n\u001b[1;32m     48\u001b[0m \u001b[38;5;124;03m    draw a random lens within the cuts of the lens and source, with possible additional cut in the lensing\u001b[39;00m\n\u001b[1;32m     49\u001b[0m \u001b[38;5;124;03m    configuration.\u001b[39;00m\n\u001b[0;32m   (...)\u001b[0m\n\u001b[1;32m     53\u001b[0m \u001b[38;5;124;03m    :return: GGLens() instance with parameters of the deflector and lens and source light\u001b[39;00m\n\u001b[1;32m     54\u001b[0m \u001b[38;5;124;03m    \"\"\"\u001b[39;00m\n\u001b[0;32m---> 55\u001b[0m     source \u001b[38;5;241m=\u001b[39m \u001b[38;5;28;43mself\u001b[39;49m\u001b[38;5;241;43m.\u001b[39;49m\u001b[43m_source_galaxies\u001b[49m\u001b[38;5;241;43m.\u001b[39;49m\u001b[43mdraw_galaxy\u001b[49m\u001b[43m(\u001b[49m\u001b[43m)\u001b[49m\n\u001b[1;32m     56\u001b[0m     lens \u001b[38;5;241m=\u001b[39m \u001b[38;5;28mself\u001b[39m\u001b[38;5;241m.\u001b[39m_lens_galaxies\u001b[38;5;241m.\u001b[39mdraw_deflector()\n\u001b[1;32m     57\u001b[0m     gg_lens \u001b[38;5;241m=\u001b[39m GGLens(deflector_dict\u001b[38;5;241m=\u001b[39mlens, source_dict\u001b[38;5;241m=\u001b[39msource, cosmo\u001b[38;5;241m=\u001b[39m\u001b[38;5;28mself\u001b[39m\u001b[38;5;241m.\u001b[39mcosmo)\n",
      "File \u001b[0;32m~/Software/LSST-strong-lensing/sim-pipeline/sim_pipeline/Sources/galaxies.py:28\u001b[0m, in \u001b[0;36mGalaxies.draw_galaxy\u001b[0;34m(self)\u001b[0m\n\u001b[1;32m     26\u001b[0m \u001b[38;5;28;01mif\u001b[39;00m \u001b[38;5;124m'\u001b[39m\u001b[38;5;124me1\u001b[39m\u001b[38;5;124m'\u001b[39m \u001b[38;5;129;01mnot\u001b[39;00m \u001b[38;5;129;01min\u001b[39;00m galaxy \u001b[38;5;129;01mor\u001b[39;00m \u001b[38;5;124m'\u001b[39m\u001b[38;5;124me2\u001b[39m\u001b[38;5;124m'\u001b[39m \u001b[38;5;129;01mnot\u001b[39;00m \u001b[38;5;129;01min\u001b[39;00m galaxy:\n\u001b[1;32m     27\u001b[0m     e1, e2 \u001b[38;5;241m=\u001b[39m galaxy_projected_eccentricity(\u001b[38;5;241m*\u001b[39m\u001b[38;5;241m*\u001b[39mgalaxy)\n\u001b[0;32m---> 28\u001b[0m     \u001b[43mgalaxy\u001b[49m\u001b[38;5;241;43m.\u001b[39;49m\u001b[43madd_column\u001b[49m(e1, name\u001b[38;5;241m=\u001b[39m\u001b[38;5;124m'\u001b[39m\u001b[38;5;124me1\u001b[39m\u001b[38;5;124m'\u001b[39m)\n\u001b[1;32m     29\u001b[0m     galaxy[\u001b[38;5;124m'\u001b[39m\u001b[38;5;124me2\u001b[39m\u001b[38;5;124m'\u001b[39m] \u001b[38;5;241m=\u001b[39m e2\n\u001b[1;32m     30\u001b[0m \u001b[38;5;28;01mif\u001b[39;00m \u001b[38;5;124m'\u001b[39m\u001b[38;5;124mn_sersic\u001b[39m\u001b[38;5;124m'\u001b[39m \u001b[38;5;129;01mnot\u001b[39;00m \u001b[38;5;129;01min\u001b[39;00m galaxy:\n",
      "\u001b[0;31mAttributeError\u001b[0m: 'Row' object has no attribute 'add_column'"
     ]
    },
    {
     "data": {
      "image/png": "[encoded data removed]",
      "text/plain": [
       "<Figure size 1080x432 with 10 Axes>"
      ]
     },
     "metadata": {
      "needs_background": "light"
     },
     "output_type": "display_data"
    }
   ],
   "source": [
    "# make montage of realizations\n",
    "from sim_pipeline.Plots.gg_plots import GGLensingPlots\n",
    "gg_plot = GGLensingPlots(gg_lens_pop, num_pix=64, coadd_years=1)\n",
    "\n",
    "fig, axes = gg_plot.plot_montage(rgb_band_list=['i', 'r', 'g'], add_noise=True, n_horizont=5, n_vertical=2)\n",
    "fig.show()\n"
   ]
  },
  {
   "cell_type": "code",
   "execution_count": null,
   "metadata": {},
   "outputs": [],
   "source": []
  }
 ],
 "metadata": {
  "kernelspec": {
   "display_name": "sim-pipeline",
   "language": "python",
   "name": "sim-pipeline"
  },
  "language_info": {
   "codemirror_mode": {
    "name": "ipython",
    "version": 3
   },
   "file_extension": ".py",
   "mimetype": "text/x-python",
   "name": "python",
   "nbconvert_exporter": "python",
   "pygments_lexer": "ipython3",
   "version": "3.10.10"
  }
 },
 "nbformat": 4,
 "nbformat_minor": 1
}
