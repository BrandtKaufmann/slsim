{
 "cells": [
  {
   "cell_type": "code",
   "execution_count": null,
   "metadata": {},
   "outputs": [],
   "source": [
    "import matplotlib.pyplot as plt\n",
    "from sim_pipeline.gg_lens_pop import GGLensPop\n",
    "%matplotlib inline\n"
   ]
  },
  {
   "cell_type": "code",
   "execution_count": null,
   "metadata": {},
   "outputs": [],
   "source": [
    "# define a cosmology\n",
    "from astropy.cosmology import FlatLambdaCDM\n",
    "cosmo = FlatLambdaCDM(H0=70, Om0=0.3)\n",
    "\n",
    "# define a sky area\n",
    "from astropy.units import Quantity\n",
    "sky_area = Quantity(value=0.1, unit='deg2')\n",
    "\n",
    "\n",
    "# define limits in the intrinsic deflector and source population (in addition to the skypy config file)\n",
    "kwargs_lens_cut = {'mag_g_max':35, 'z_min': 0.01, 'z_max': .5}\n",
    "kwargs_source_cut = {'mag_g_max':25, 'z_min': 0.1, 'z_max': 5.}\n",
    "\n",
    "\n",
    "# run skypy pipeline and make galaxy-galaxy population class\n",
    "gg_lens_pop = GGLensPop(lens_type='early-type', source_type='galaxies', \n",
    "                        kwargs_lens_cut=kwargs_lens_cut, kwargs_source_cut=kwargs_source_cut,\n",
    "                        kwargs_mass2light=None, skypy_config=None, sky_area=sky_area, cosmo=cosmo)\n"
   ]
  },
  {
   "cell_type": "code",
   "execution_count": null,
   "metadata": {},
   "outputs": [],
   "source": [
    "# make montage of realizations\n",
    "from sim_pipeline.Plots.gg_plots import GGLensingPlots\n",
    "gg_plot = GGLensingPlots(gg_lens_pop, num_pix=64, coadd_years=10)\n",
    "\n",
    "fig, axes = gg_plot.plot_montage(rgb_band_list=['i', 'r', 'g'], add_noise=True, n_horizont=5, n_vertical=2)\n",
    "plt.show()\n"
   ]
  },
  {
   "cell_type": "code",
   "execution_count": null,
   "metadata": {},
   "outputs": [],
   "source": [
    "gg_lens_population = gg_lens_pop.draw_population()"
   ]
  },
  {
   "cell_type": "code",
   "execution_count": null,
   "metadata": {},
   "outputs": [],
   "source": [
    "import numpy as np\n",
    "\n",
    "print('Number of lenses:', len(gg_lens_population))\n",
    "\n",
    "lens_samples = []\n",
    "labels = [r'$\\sigma_v$', r'$\\log(M_{*})$', r'$\\theta_E$', r'$z_{\\rm l}$', r'$z_{\\rm s}$']\n",
    "\n",
    "for gg_lens in gg_lens_population:\n",
    "    vel_disp = gg_lens.deflector_velocity_dispersion()\n",
    "    m_star = gg_lens.deflector_stellar_mass()\n",
    "    theta_e = gg_lens.einstein_radius\n",
    "    zl = gg_lens.lens_redshift\n",
    "    zs = gg_lens.source_redshift\n",
    "    lens_samples.append([vel_disp, np.log10(m_star), theta_e, zl, zs])\n",
    "\n"
   ]
  },
  {
   "cell_type": "code",
   "execution_count": null,
   "metadata": {
    "scrolled": true
   },
   "outputs": [],
   "source": [
    "import corner\n",
    "\n",
    "hist2dkwargs = {'plot_density':False, 'plot_contours':False, 'plot_datapoints': True, 'color': 'b',\n",
    "               'data_kwargs': {'ms': 5}}\n",
    "corner.corner(np.array(lens_samples), labels=labels, **hist2dkwargs)\n",
    "plt.show()"
   ]
  },
  {
   "cell_type": "code",
   "execution_count": null,
   "metadata": {},
   "outputs": [],
   "source": []
  }
 ],
 "metadata": {
  "kernelspec": {
   "display_name": "Python (lenstronomy)",
   "language": "python",
   "name": "lenstronomy"
  },
  "language_info": {
   "codemirror_mode": {
    "name": "ipython",
    "version": 3
   },
   "file_extension": ".py",
   "mimetype": "text/x-python",
   "name": "python",
   "nbconvert_exporter": "python",
   "pygments_lexer": "ipython3",
   "version": "3.9.7"
  }
 },
 "nbformat": 4,
 "nbformat_minor": 1
}
