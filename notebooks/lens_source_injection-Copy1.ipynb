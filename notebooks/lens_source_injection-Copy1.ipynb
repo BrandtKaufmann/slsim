{
 "cells": [
  {
   "cell_type": "code",
   "execution_count": null,
   "id": "fd70c97a",
   "metadata": {},
   "outputs": [],
   "source": [
    "import opsimsummaryv2 as op"
   ]
  },
  {
   "cell_type": "code",
   "execution_count": null,
   "id": "64d66921",
   "metadata": {
    "execution": {
     "iopub.execute_input": "2023-08-14T22:44:03.255969Z",
     "iopub.status.busy": "2023-08-14T22:44:03.254836Z",
     "iopub.status.idle": "2023-08-14T22:44:06.388495Z",
     "shell.execute_reply": "2023-08-14T22:44:06.387611Z",
     "shell.execute_reply.started": "2023-08-14T22:44:03.255926Z"
    },
    "scrolled": false,
    "tags": []
   },
   "outputs": [],
   "source": [
    "import matplotlib.pyplot as plt\n",
    "import numpy as np\n",
    "import sys\n",
    "from astropy.cosmology import FlatLambdaCDM\n",
    "from astropy.units import Quantity\n",
    "from slsim.lens_pop import LensPop\n",
    "from slsim.image_simulation import (\n",
    "    sharp_image,\n",
    "    sharp_rgb_image,\n",
    "    rgb_image_from_image_list,\n",
    ")\n",
    "import galsim\n",
    "import mpl_toolkits.axisartist.floating_axes as floating_axes\n",
    "from mpl_toolkits.axisartist.grid_finder import MaxNLocator, DictFormatter\n",
    "from matplotlib.transforms import Affine2D\n",
    "# import lsst.daf.butler as dafButler\n",
    "# import lsst.geom as geom\n",
    "# import lsst.afw.display as afwDisplay\n",
    "# from lsst.pipe.tasks.insertFakes import _add_fake_sources\n",
    "from slsim import lsst_science_pipeline\n",
    "import astropy.coordinates as coord\n",
    "import astropy.units as u"
   ]
  },
  {
   "cell_type": "code",
   "execution_count": null,
   "id": "fee1fe4a",
   "metadata": {},
   "outputs": [],
   "source": []
  },
  {
   "cell_type": "code",
   "execution_count": null,
   "id": "28ee0ced",
   "metadata": {},
   "outputs": [],
   "source": [
    "print(\"done\")"
   ]
  },
  {
   "cell_type": "code",
   "execution_count": null,
   "id": "b1935849",
   "metadata": {},
   "outputs": [],
   "source": [
    "# Import OpSimSummaryV2\n",
    "try:\n",
    "    import opsimsummaryv2 as op\n",
    "except ImportError:\n",
    "    raise ImportError(\n",
    "        \"Users need to have OpSimSummaryV2 installed (https://github.com/bastiencarreres/OpSimSummaryV2)\"\n",
    "    )\n",
    "\n",
    "# Initialise OpSimSummaryV2 with opsim database\n",
    "try:\n",
    "    opsim_path = \"../data/OpSim_database/\" + obs_strategy + \".db\"\n",
    "    OpSimSurv = op.OpSimSurvey(opsim_path)\n",
    "except FileNotFoundError:\n",
    "    raise FileNotFoundError(\n",
    "        \"File not found: \" + opsim_path + \". Input variable 'obs_strategy' should correspond to the name of an opsim database saved in the folder ../data/OpSim_database\"\n",
    "    )\n",
    "\n",
    "# Collect observations that cover the coordinates in ra_list and dec_list\n",
    "gen = OpSimSurv.get_obs_from_coords(ra_list, dec_list, is_deg=True)"
   ]
  },
  {
   "cell_type": "code",
   "execution_count": null,
   "id": "bec351fa",
   "metadata": {},
   "outputs": [],
   "source": []
  },
  {
   "cell_type": "code",
   "execution_count": null,
   "id": "993a0b60",
   "metadata": {},
   "outputs": [],
   "source": [
    "N = 10\n",
    "\n",
    "ra_points = coord.Angle(np.random.uniform(low=0, high=360, size=N) * u.degree)\n",
    "ra_points = ra_points.wrap_at(180*u.degree)\n",
    "dec_points = np.arcsin(2 * np.random.uniform(size=N) - 1) / np.pi * 180\n",
    "dec_points = coord.Angle(dec_points * u.degree)"
   ]
  },
  {
   "cell_type": "code",
   "execution_count": null,
   "id": "0dac9d61",
   "metadata": {},
   "outputs": [],
   "source": [
    "exposure_data = lsst_science_pipeline.opsim_time_series_images_data(ra_points, dec_points, \"baseline_v3.0_10yrs\",\n",
    "                                                                    MJD_min=60000, MJD_max=60300)\n",
    "exposure_data"
   ]
  },
  {
   "cell_type": "code",
   "execution_count": null,
   "id": "5767de15",
   "metadata": {},
   "outputs": [],
   "source": [
    "# add galsim to requirements\n",
    "# colossus is listed twice"
   ]
  },
  {
   "cell_type": "markdown",
   "id": "f3c701c3",
   "metadata": {},
   "source": [
    "## Lensed source injection in DC2 data"
   ]
  },
  {
   "cell_type": "markdown",
   "id": "ab92b75c-4ce7-4d54-b8bb-68d3db80eb7b",
   "metadata": {},
   "source": [
    "This notebook uses slsim to generate lens-deflector population. Then, we select a random lens-deflector\n",
    "\n",
    "and inject it to a patch of the DC2 data."
   ]
  },
  {
   "cell_type": "markdown",
   "id": "60e07f48-9aeb-45e0-9454-eacebcfc4921",
   "metadata": {},
   "source": [
    "## Generate population of sources and deflectors"
   ]
  },
  {
   "cell_type": "markdown",
   "id": "d79f6fa6-296a-447c-8cfa-f133a4c0d7bd",
   "metadata": {
    "execution": {
     "iopub.execute_input": "2023-07-21T18:51:20.484913Z",
     "iopub.status.busy": "2023-07-21T18:51:20.484398Z",
     "iopub.status.idle": "2023-07-21T18:51:20.490580Z",
     "shell.execute_reply": "2023-07-21T18:51:20.489623Z",
     "shell.execute_reply.started": "2023-07-21T18:51:20.484880Z"
    },
    "tags": []
   },
   "source": [
    "Using slsim one can generate galaxy-galaxy lenses."
   ]
  },
  {
   "cell_type": "code",
   "execution_count": null,
   "id": "d0d48388-dee5-4488-81f4-b3d636b3a698",
   "metadata": {
    "execution": {
     "iopub.execute_input": "2023-08-14T22:43:59.996001Z",
     "iopub.status.busy": "2023-08-14T22:43:59.994972Z",
     "iopub.status.idle": "2023-08-14T22:44:00.000126Z",
     "shell.execute_reply": "2023-08-14T22:43:59.999335Z",
     "shell.execute_reply.started": "2023-08-14T22:43:59.995960Z"
    },
    "tags": []
   },
   "outputs": [],
   "source": [
    "## Users should change this path to their slsim path\n",
    "sys.path.insert(0, \"../slsim/\")"
   ]
  },
  {
   "cell_type": "code",
   "execution_count": null,
   "id": "834ce91e-1958-4c80-b35a-107720c4ff72",
   "metadata": {
    "execution": {
     "iopub.execute_input": "2023-08-14T22:44:11.102224Z",
     "iopub.status.busy": "2023-08-14T22:44:11.101637Z",
     "iopub.status.idle": "2023-08-14T22:44:43.143147Z",
     "shell.execute_reply": "2023-08-14T22:44:43.142083Z",
     "shell.execute_reply.started": "2023-08-14T22:44:11.102187Z"
    },
    "tags": []
   },
   "outputs": [],
   "source": [
    "# define a cosmology\n",
    "cosmo = FlatLambdaCDM(H0=70, Om0=0.3)\n",
    "\n",
    "# define a sky area\n",
    "sky_area = Quantity(value=0.1, unit=\"deg2\")\n",
    "\n",
    "\n",
    "# define limits in the intrinsic deflector and source population (in addition to the skypy config\n",
    "# file)\n",
    "kwargs_deflector_cut = {\"band\": \"g\", \"band_max\": 28, \"z_min\": 0.01, \"z_max\": 2.5}\n",
    "kwargs_source_cut = {\"band\": \"g\", \"band_max\": 28, \"z_min\": 0.1, \"z_max\": 5.0}\n",
    "\n",
    "# run skypy pipeline and make galaxy-galaxy population class using LensPop\n",
    "gg_lens_pop = LensPop(\n",
    "    deflector_type=\"all-galaxies\",\n",
    "    source_type=\"galaxies\",\n",
    "    kwargs_deflector_cut=kwargs_deflector_cut,\n",
    "    kwargs_source_cut=kwargs_source_cut,\n",
    "    kwargs_mass2light=None,\n",
    "    skypy_config=None,\n",
    "    sky_area=sky_area,\n",
    "    cosmo=cosmo,\n",
    ")"
   ]
  },
  {
   "cell_type": "markdown",
   "id": "568932d9-f62a-4a5e-945f-f5b82647039e",
   "metadata": {},
   "source": [
    "## Select a lens at random and generate a high resolution image"
   ]
  },
  {
   "cell_type": "code",
   "execution_count": null,
   "id": "efa81c8a-8404-40f2-a0b3-70e13ff1611e",
   "metadata": {
    "execution": {
     "iopub.execute_input": "2023-08-14T22:49:58.155179Z",
     "iopub.status.busy": "2023-08-14T22:49:58.153874Z",
     "iopub.status.idle": "2023-08-14T22:49:58.551444Z",
     "shell.execute_reply": "2023-08-14T22:49:58.550418Z",
     "shell.execute_reply.started": "2023-08-14T22:49:58.155139Z"
    },
    "tags": []
   },
   "outputs": [],
   "source": [
    "kwargs_lens_cut = {\n",
    "    \"min_image_separation\": 3,\n",
    "    \"max_image_separation\": 10,\n",
    "    \"mag_arc_limit\": {\"g\": 22, \"r\": 22, \"i\": 22},\n",
    "}\n",
    "rgb_band_list = [\"i\", \"r\", \"g\"]\n",
    "lens_class = gg_lens_pop.select_lens_at_random(**kwargs_lens_cut)\n",
    "\n"
   ]
  },
  {
   "cell_type": "code",
   "execution_count": null,
   "id": "9dce1a91-2c90-4f6e-b3cb-b18547c33c87",
   "metadata": {
    "execution": {
     "iopub.execute_input": "2023-08-14T22:50:02.322956Z",
     "iopub.status.busy": "2023-08-14T22:50:02.321951Z",
     "iopub.status.idle": "2023-08-14T22:50:02.432770Z",
     "shell.execute_reply": "2023-08-14T22:50:02.431771Z",
     "shell.execute_reply.started": "2023-08-14T22:50:02.322913Z"
    },
    "tags": []
   },
   "outputs": [],
   "source": [
    "image_i_1 = sharp_image(\n",
    "    lens_class=lens_class,\n",
    "    band=rgb_band_list[0],\n",
    "    mag_zero_point=27,\n",
    "    delta_pix=0.2,\n",
    "    num_pix=200,\n",
    ")\n",
    "image_r_1 = sharp_image(\n",
    "    lens_class=lens_class,\n",
    "    band=rgb_band_list[1],\n",
    "    mag_zero_point=27,\n",
    "    delta_pix=0.2,\n",
    "    num_pix=200,\n",
    ")\n",
    "image_g_1 = sharp_image(\n",
    "    lens_class=lens_class,\n",
    "    band=rgb_band_list[2],\n",
    "    mag_zero_point=27,\n",
    "    delta_pix=0.2,\n",
    "    num_pix=200,\n",
    ")"
   ]
  },
  {
   "cell_type": "code",
   "execution_count": null,
   "id": "9f44dc9c-1999-481b-87d9-bbaa6782395d",
   "metadata": {
    "execution": {
     "iopub.execute_input": "2023-08-14T22:50:05.761403Z",
     "iopub.status.busy": "2023-08-14T22:50:05.760033Z",
     "iopub.status.idle": "2023-08-14T22:50:05.958947Z",
     "shell.execute_reply": "2023-08-14T22:50:05.958217Z",
     "shell.execute_reply.started": "2023-08-14T22:50:05.761345Z"
    },
    "tags": []
   },
   "outputs": [],
   "source": [
    "# image_g.shape\n",
    "plt.imshow(image_i_1, origin=\"lower\")\n",
    "plt.xlim(75, 125)\n",
    "plt.ylim(75, 125)"
   ]
  },
  {
   "cell_type": "code",
   "execution_count": null,
   "id": "ad707603-1867-4014-96b7-234d60fd03fb",
   "metadata": {
    "execution": {
     "iopub.execute_input": "2023-07-21T18:48:11.924529Z",
     "iopub.status.busy": "2023-07-21T18:48:11.923414Z",
     "iopub.status.idle": "2023-07-21T18:48:12.102182Z",
     "shell.execute_reply": "2023-07-21T18:48:12.101351Z",
     "shell.execute_reply.started": "2023-07-21T18:48:11.924461Z"
    },
    "tags": []
   },
   "outputs": [],
   "source": [
    "high_reso_rgb = sharp_rgb_image(\n",
    "    lens_class=lens_class,\n",
    "    rgb_band_list=rgb_band_list,\n",
    "    mag_zero_point=27,\n",
    "    delta_pix=0.2,\n",
    "    num_pix=200,\n",
    ")\n",
    "\n",
    "plt.imshow(high_reso_rgb, origin=\"lower\")\n",
    "plt.xlim(75, 125)\n",
    "plt.ylim(75, 125)"
   ]
  },
  {
   "cell_type": "markdown",
   "id": "b7fdb441-5312-4615-a388-de5d4e2c2e7a",
   "metadata": {},
   "source": [
    "## Inject the randomly selected lens "
   ]
  },
  {
   "cell_type": "code",
   "execution_count": null,
   "id": "c3583a71-357a-4a32-8ffc-3093d58cffe6",
   "metadata": {
    "execution": {
     "iopub.execute_input": "2023-07-31T21:23:45.432354Z",
     "iopub.status.busy": "2023-07-31T21:23:45.431497Z",
     "iopub.status.idle": "2023-07-31T21:23:45.435397Z",
     "shell.execute_reply": "2023-07-31T21:23:45.434770Z",
     "shell.execute_reply.started": "2023-07-31T21:23:45.432323Z"
    },
    "tags": []
   },
   "outputs": [],
   "source": [
    "ra = 62.541629  # degrees\n",
    "dec = -37.852021  # degrees\n",
    "\n",
    "ra_list = [ra]\n",
    "dec_list = [dec]\n",
    "delta_pix = 0.2"
   ]
  },
  {
   "cell_type": "code",
   "execution_count": null,
   "id": "af429deb",
   "metadata": {
    "scrolled": false
   },
   "outputs": [],
   "source": [
    "import opsimsummary\n",
    "\n",
    "Replace np.int by int \n",
    "~/anaconda3/envs/slsim/lib/python3.12/site-packages/opsimsummary/summarize_opsim.py"
   ]
  },
  {
   "cell_type": "code",
   "execution_count": null,
   "id": "42db18da-5d0a-4dfc-86e6-7314936b4005",
   "metadata": {
    "execution": {
     "iopub.execute_input": "2023-07-31T21:23:47.574166Z",
     "iopub.status.busy": "2023-07-31T21:23:47.573355Z",
     "iopub.status.idle": "2023-07-31T21:23:58.136282Z",
     "shell.execute_reply": "2023-07-31T21:23:58.135425Z",
     "shell.execute_reply.started": "2023-07-31T21:23:47.574135Z"
    },
    "tags": []
   },
   "outputs": [],
   "source": [
    "y = lsst_science_pipeline.lens_inejection(\n",
    "    gg_lens_pop, 201, 0.2, butler, ra, dec, flux=None\n",
    ")"
   ]
  },
  {
   "cell_type": "code",
   "execution_count": null,
   "id": "870ff6da-17d5-459a-90c5-8c0b0fb1b3f0",
   "metadata": {
    "execution": {
     "iopub.execute_input": "2023-07-31T21:25:26.587461Z",
     "iopub.status.busy": "2023-07-31T21:25:26.586546Z",
     "iopub.status.idle": "2023-07-31T21:25:26.593078Z",
     "shell.execute_reply": "2023-07-31T21:25:26.592444Z",
     "shell.execute_reply.started": "2023-07-31T21:25:26.587426Z"
    },
    "tags": []
   },
   "outputs": [],
   "source": [
    "## This line should display an astropy table containg lens image,dp0 cutout_image, injected_lens\n",
    "## in r, g, and i band and  center of the dp0 cutout images.\n",
    "y"
   ]
  },
  {
   "cell_type": "code",
   "execution_count": null,
   "id": "58113000",
   "metadata": {},
   "outputs": [],
   "source": [
    "import lenstronomy.Util.kernel_util as kernel_util\n",
    "import lenstronomy.Util.util as util\n",
    "import lenstronomy.Util.data_util as data_util\n",
    "from astropy.table import Table, vstack\n",
    "\n",
    "size = 101\n",
    "delta_pix = 0.2\n",
    "psf_fwhm = 0.7\n",
    "moffat_beta = 3.1\n",
    "\n",
    "# Create a Moffat psf kernel\n",
    "psf_kernel = kernel_util.kernel_moffat(num_pix=size, delta_pix=delta_pix, fwhm=psf_fwhm, \n",
    "                                       moffat_beta=moffat_beta)\n",
    "\n",
    "psf_kernel = util.array2image(psf_kernel)\n",
    "\n",
    "psf_kernel"
   ]
  },
  {
   "cell_type": "code",
   "execution_count": null,
   "id": "163711f9",
   "metadata": {},
   "outputs": [],
   "source": [
    "def opsim_time_series_images_data2(\n",
    "    ra_list, dec_list, obs_strategy, MJD_min=60000, MJD_max=64000, size=101, moffat_beta=3.1, \n",
    "    readout_noise=10, delta_pix=0.2\n",
    "):\n",
    "    \"\"\"Creates time series data from opsim database.\n",
    "\n",
    "    :param ra_list: a list of ra points (in degrees) from objects we want to collect\n",
    "        observations for\n",
    "    :param dec_list: a list of dec points (in degrees) from objects we want to collect\n",
    "        observations for\n",
    "    :param obs_strategy: version of observing strategy corresponding to opsim database.\n",
    "        for example \"baseline_v3.0_10yrs\" (string)\n",
    "    :param size: cutout size of images (in pixels)\n",
    "    :param moffat_beta: power index of the moffat psf kernel\n",
    "    :param readout_noise: noise added per readout\n",
    "    :param delta_pix: size of pixel in units arcseonds\n",
    "    :return: a list of astropy tables containing observation information for each\n",
    "        coordinate\n",
    "    \"\"\"\n",
    "\n",
    "    # Import OpSimSummaryV2\n",
    "    try:\n",
    "        import opsimsummaryv2 as op\n",
    "    except ImportError:\n",
    "        raise ImportError(\n",
    "            \"Users need to have OpSimSummaryV2 installed (https://github.com/bastiencarreres/OpSimSummaryV2)\"\n",
    "        )\n",
    "\n",
    "    # Initialise OpSimSummaryV2 with opsim database\n",
    "    try:\n",
    "        opsim_path = \"../data/OpSim_database/\" + obs_strategy + \".db\"\n",
    "        OpSimSurv = op.OpSimSurvey(opsim_path)\n",
    "    except FileNotFoundError:\n",
    "        raise FileNotFoundError(\n",
    "            \"File not found: \" + opsim_path + \". Input variable 'obs_strategy' should correspond to the name of an opsim database saved in the folder ../data/OpSim_database\"\n",
    "        )\n",
    "\n",
    "    # Collect observations that cover the coordinates in ra_list and dec_list\n",
    "    gen = OpSimSurv.get_obs_from_coords(ra_list, dec_list, is_deg=True)\n",
    "\n",
    "    table_data_list = []\n",
    "\n",
    "    # Loop through all coordinates and compute the table_data\n",
    "    for i in range(len(ra_list)):\n",
    "\n",
    "        # Collect the next observation sequence from the opsim generator\n",
    "        seq = next(gen)\n",
    "        seq = seq.sort_values(by=[\"observationStartMJD\"])\n",
    "\n",
    "        # Check if the coordinates are in the opsim LSST footprint\n",
    "        opsim_ra = np.mean(seq[\"fieldRA\"])\n",
    "        opsim_dec = np.mean(seq[\"fieldDec\"])\n",
    "\n",
    "        if np.isnan(opsim_ra) or np.isnan(opsim_dec):\n",
    "            print(\n",
    "                f\"Coordinate ({ra_list[i]}, {dec_list[i]}) is not in the LSST footprint. This entry is skipped.\"\n",
    "            )\n",
    "            continue\n",
    "\n",
    "        # Get the relevant properties from opsim\n",
    "        obs_time = np.array(seq[\"observationStartMJD\"])\n",
    "        \n",
    "        # Only give the observations between MJD_min and MJD_max\n",
    "        mask = (obs_time > MJD_min) & (obs_time < MJD_max)\n",
    "        obs_time = obs_time[mask]\n",
    "        \n",
    "        expo_time = np.array(seq[\"visitExposureTime\"])[mask]\n",
    "        sky_brightness = np.array(seq[\"skyBrightness\"])[mask]\n",
    "        bandpass = np.array(seq[\"filter\"])[mask]\n",
    "        psf_fwhm = np.array(seq[\"seeingFwhmGeom\"])[mask]\n",
    "        m5_depth = np.array(seq[\"fiveSigmaDepth\"])[mask]\n",
    "        # Question: use 'FWHMeff' or 'seeingFwhmGeom' for the psf?\n",
    "        \n",
    "        radec_list = [(ra_list[i], dec_list[i])] * len(obs_time)\n",
    "\n",
    "        # Create a Moffat psf kernel for each epoch\n",
    "        \n",
    "        psf_kernels = []\n",
    "        \n",
    "        for psf in psf_fwhm:\n",
    "        \n",
    "            psf_kernel = kernel_util.kernel_moffat(\n",
    "                num_pix=size, delta_pix=delta_pix, fwhm=psf, moffat_beta=moffat_beta\n",
    "            )\n",
    "            psf_kernel = util.array2image(psf_kernel)\n",
    "            \n",
    "            psf_kernels.append(psf_kernel)\n",
    "            \n",
    "        psf_kernels = np.array(psf_kernels)\n",
    "\n",
    "        # Calculate background noise\n",
    "        bkg_noise = data_util.bkg_noise(readout_noise, expo_time, sky_brightness, delta_pix, num_exposures=1)\n",
    "\n",
    "        # Calculate the zero point magnitude\n",
    "        # Code from OpSimSummary/opsimsummary/simlib.py/add_simlibCols\n",
    "        # need to work in nvariance in photon electrons\n",
    "        term1 = 2.0 * m5_depth - sky_brightness  # * pixArea   whata units is sky birghtness? counts or photo electrons?\n",
    "        # per pixel or arcsec?\n",
    "        term2 = -(m5_depth - sky_brightness)  # * pixArea\n",
    "        area = (1.51 * psf_fwhm) ** 2.0  # area = 1 / int(psf^2)\n",
    "        opsim_snr = 5.0\n",
    "        arg = area * opsim_snr * opsim_snr\n",
    "        # Background dominated limit assuming counts with system transmission only\n",
    "        # is approximately equal to counts with total transmission\n",
    "        zpt_approx = term1 + 2.5 * np.log10(arg)\n",
    "        val = -0.4 * term2\n",
    "        tmp = 10.0**val\n",
    "        # Additional term to account for photons from the source, again assuming\n",
    "        # that counts with system transmission approximately equal counts with total transmission.\n",
    "        zpt_cor = 2.5 * np.log10(1.0 + 1.0 / (area * tmp))\n",
    "        zero_point_mag = zpt_approx + zpt_cor\n",
    "        \n",
    "        table_data = Table(\n",
    "            [\n",
    "                bkg_noise,\n",
    "                psf_kernels,\n",
    "                obs_time,\n",
    "                expo_time,\n",
    "                zero_point_mag,\n",
    "                radec_list,\n",
    "                bandpass,\n",
    "            ],\n",
    "            names=(\n",
    "                \"bkg_noise\",\n",
    "                \"psf_kernel\",\n",
    "                \"obs_time\",\n",
    "                \"expo_time\",\n",
    "                \"zero_point\",\n",
    "                \"calexp_center\",\n",
    "                \"band\",\n",
    "            ),\n",
    "        )\n",
    "\n",
    "        table_data_list.append(table_data)\n",
    "    return table_data_list"
   ]
  },
  {
   "cell_type": "code",
   "execution_count": null,
   "id": "05f8b9a2",
   "metadata": {},
   "outputs": [],
   "source": [
    "def opsim_variable_lens_injection(\n",
    "    lens_class, bands, num_pix, transform_pix2angle, exposure_data\n",
    "):\n",
    "    \"\"\"Injects variable lens to the OpSim time series data (1 object).\n",
    "\n",
    "    :param lens_class: Lens() object\n",
    "    :param bands: list of imaging bands of interest\n",
    "    :param num_pix: number of pixels per axis\n",
    "    :param transform_pix2angle: transformation matrix (2x2) of pixels into coordinate\n",
    "        displacements\n",
    "    :param exposure_data: An astropy table of exposure data. One entry of table_list_data\n",
    "        generated from the opsim_time_series_images_data function. It must contain the rms of\n",
    "        background noise fluctuations (column name should be \"bkg_noise\"), psf kernel for\n",
    "        each exposure (column name should be \"psf_kernel\", these are pixel psf kernel\n",
    "        for each single exposure images in time series image), observation time\n",
    "        (column name should be \"obs_time\", these are observation time in days for each\n",
    "        single exposure images in time series images), exposure time (column name should\n",
    "        be \"expo_time\", these are exposure time for each single exposure images in time\n",
    "        series images), magnitude zero point (column name should be \"zero_point\", these\n",
    "        are zero point magnitudes for each single exposure images in time series image),\n",
    "        coordinates of the object (column name should be \"calexp_center\"), these are\n",
    "        the coordinates in (ra, dec), and the band in which the observation is taken\n",
    "        (column name should be \"band\").\n",
    "\n",
    "    :return: Astropy table of injected lenses and exposure information of dp0 data\n",
    "    \"\"\"\n",
    "\n",
    "    final_image = []\n",
    "\n",
    "    for obs in range(len(exposure_data[\"obs_time\"])):\n",
    "\n",
    "        exposure_data_obs = exposure_data[obs]\n",
    "\n",
    "        if exposure_data_obs[\"band\"] not in bands:\n",
    "            continue\n",
    "\n",
    "        if \"bkg_noise\" in exposure_data_obs.keys():\n",
    "            std_gaussian_noise = exposure_data_obs[\"bkg_noise\"]\n",
    "        else:\n",
    "            std_gaussian_noise = None\n",
    "\n",
    "        lens_images = lens_image(\n",
    "            lens_class,\n",
    "            band=exposure_data_obs[\"band\"],\n",
    "            mag_zero_point=exposure_data_obs[\"zero_point\"],\n",
    "            num_pix=num_pix,\n",
    "            psf_kernel=exposure_data_obs[\"psf_kernel\"],\n",
    "            transform_pix2angle=transform_pix2angle,\n",
    "            exposure_time=exposure_data_obs[\"expo_time\"],\n",
    "            t_obs=exposure_data_obs[\"obs_time\"],\n",
    "            std_gaussian_noise=std_gaussian_noise\n",
    "        )\n",
    "\n",
    "        final_image.append(lens_images)\n",
    "\n",
    "    lens_col = Column(name=\"lens\", data=final_image)\n",
    "    final_image_col = Column(name=\"injected_lens\", data=final_image)\n",
    "    \n",
    "    # Create a new Table with only the bands of interest\n",
    "    mask = np.isin(exposure_data['band'], bands)\n",
    "    exposure_data_new = exposure_data[mask]\n",
    "    exposure_data_new.add_columns([lens_col, final_image_col])\n",
    "    return exposure_data_new"
   ]
  },
  {
   "cell_type": "code",
   "execution_count": null,
   "id": "ce7e0143",
   "metadata": {},
   "outputs": [],
   "source": [
    "N = 100\n",
    "\n",
    "ra_points = coord.Angle(np.random.uniform(low=0, high=360, size=N) * u.degree)\n",
    "ra_points = ra_points.wrap_at(180*u.degree)\n",
    "dec_points = np.arcsin(2 * np.random.uniform(size=N) - 1) / np.pi * 180\n",
    "dec_points = coord.Angle(dec_points * u.degree)"
   ]
  },
  {
   "cell_type": "code",
   "execution_count": null,
   "id": "8bf9fa6b",
   "metadata": {},
   "outputs": [],
   "source": [
    "exposure_data = opsim_time_series_images_data2(ra_points, dec_points, \"baseline_v3.0_10yrs\",\n",
    "                                              MJD_min=60000, MJD_max=60300)\n",
    "exposure_data"
   ]
  },
  {
   "cell_type": "code",
   "execution_count": null,
   "id": "cdbc63a1",
   "metadata": {
    "scrolled": false
   },
   "outputs": [],
   "source": [
    "from slsim.image_simulation import (\n",
    "    sharp_image,\n",
    "    lens_image,\n",
    "    lens_image_series,\n",
    ")\n",
    "from astropy.table import Column\n",
    "\n",
    "index = 1\n",
    "bands = ['g','r','i','z']\n",
    "num_pix = 200\n",
    "transform_pix2angle = np.array([[0.2, 0], [0, 0.2]])\n",
    "\n",
    "images = opsim_variable_lens_injection(lens_class, bands, num_pix, transform_pix2angle, exposure_data[index])\n",
    "images"
   ]
  },
  {
   "cell_type": "code",
   "execution_count": null,
   "id": "cfc320b6",
   "metadata": {},
   "outputs": [],
   "source": [
    "print(\"band: \", images['band'][10])\n",
    "plt.imshow(images['injected_lens'][10])\n",
    "plt.xlim(75, 125)\n",
    "plt.ylim(75, 125)"
   ]
  },
  {
   "cell_type": "code",
   "execution_count": null,
   "id": "df583ea6",
   "metadata": {},
   "outputs": [],
   "source": [
    "np.array(exposure_data[0][\"band\"]) in np.array(bands)"
   ]
  },
  {
   "cell_type": "code",
   "execution_count": null,
   "id": "547d9c77",
   "metadata": {},
   "outputs": [],
   "source": [
    "len(exposure_data[0])"
   ]
  },
  {
   "cell_type": "markdown",
   "id": "6a20f7e9",
   "metadata": {},
   "source": [
    "### Notes\n",
    "\n",
    "Can I make a separate function to calculate the zero point?\n",
    "\n",
    "calexp_center just contains the object coordinates so is currently a lot of duplicates for each epoch. Maybe there's a more efficient way to save it (or maybe it doesn't matter). \n",
    "\n",
    "'injected_lens' now contains the same as 'lens', because there is no background image"
   ]
  },
  {
   "cell_type": "code",
   "execution_count": null,
   "id": "9544527b",
   "metadata": {},
   "outputs": [],
   "source": [
    "# Next steps: test it out for lensed SN (see the other notebook, try to recreate that with the opsim class)\n",
    "# do the images make sense with the input?"
   ]
  },
  {
   "cell_type": "code",
   "execution_count": null,
   "id": "895352f9",
   "metadata": {},
   "outputs": [],
   "source": []
  }
 ],
 "metadata": {
  "kernelspec": {
   "display_name": "Python [conda env:opsimsummary_test]",
   "language": "python",
   "name": "conda-env-opsimsummary_test-py"
  },
  "language_info": {
   "codemirror_mode": {
    "name": "ipython",
    "version": 3
   },
   "file_extension": ".py",
   "mimetype": "text/x-python",
   "name": "python",
   "nbconvert_exporter": "python",
   "pygments_lexer": "ipython3",
   "version": "3.12.4"
  }
 },
 "nbformat": 4,
 "nbformat_minor": 5
}
