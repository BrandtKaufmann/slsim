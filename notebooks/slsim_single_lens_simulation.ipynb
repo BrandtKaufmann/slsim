{
 "cells": [
  {
   "cell_type": "code",
   "execution_count": null,
   "metadata": {},
   "outputs": [],
   "source": [
    "import matplotlib.pyplot as plt\n",
    "from astropy.cosmology import FlatLambdaCDM\n",
    "import numpy as np\n",
    "from slsim.Sources.source import Source\n",
    "from slsim.Deflectors.deflector import Deflector\n",
    "from slsim.lens import Lens\n",
    "from slsim.LOS.los_individual import LOSIndividual\n",
    "from slsim.image_simulation import lens_image, rgb_image_from_image_list"
   ]
  },
  {
   "cell_type": "markdown",
   "metadata": {},
   "source": [
    "## Single lens simulation\n",
    "This notebook walks through the basics of simulating a galaxy-galaxy strong lens using users\n",
    "own lens parameters.\n",
    "\n",
    "The notebook goes in three steps:\n",
    "\n",
    "1. Prepare source and deflector dict of your lens. \n",
    "2. Initialize Source, Deflector, and LOSIndividual class\n",
    "3. Initialize Lens class\n",
    "4. Use Lens class from 3 in image simulation module to simulate image"
   ]
  },
  {
   "cell_type": "markdown",
   "metadata": {},
   "source": [
    "## Prepare source and deflector dict of your lens. "
   ]
  },
  {
   "cell_type": "code",
   "execution_count": 105,
   "metadata": {},
   "outputs": [],
   "source": [
    "# define a cosmology\n",
    "cosmo = FlatLambdaCDM(H0=70, Om0=0.3)"
   ]
  },
  {
   "cell_type": "code",
   "execution_count": null,
   "metadata": {},
   "outputs": [],
   "source": [
    "# Source dict. You can also proviide magnitude in single band.\n",
    "source_dict={'z': 1.5,\n",
    "  'angular_size': 0.10887651129362959,\n",
    "  'mag_g': 20.5,\n",
    "  'mag_r':20,\n",
    "  'mag_i': 20.2,\n",
    "  'mag_z': 20.1,\n",
    "  'mag_y': 20,\n",
    "  'e1': 0.0,\n",
    "  'e2': 0.0,\n",
    "  'n_sersic': 1.5547096361698418,\n",
    "  \"center_x\": 0.056053505877290584,\n",
    "  \"center_y\": -0.08071283196326566}\n",
    "# Deflector dict. You can also proviide magnitude in single band.\n",
    "deflector_dict={'z':0.5,\n",
    "  'angular_size': 0.09604418906529916,\n",
    "  'mag_g':19.0,\n",
    "  'mag_r': 17.5,\n",
    "  'mag_i': 17,\n",
    "  'mag_z':16.7,\n",
    "  'mag_y':26.5,\n",
    "  'theta_E':1.099908087840821,\n",
    "  'e1_light': 0.09096489106609575,\n",
    "  'e2_light': 0.1489400739802363,\n",
    "  'e1_mass': 0.1082427319496781,\n",
    "  'e2_mass': 0.10051583213026649,\n",
    "  \"gamma_pl\": 2.0,\n",
    "  'n_sersic': 2.4362388918558664,\n",
    "  \"center_x\": 0.10039720005025651,\n",
    "  \"center_y\": -0.0002092046265491892,}"
   ]
  },
  {
   "cell_type": "markdown",
   "metadata": {},
   "source": [
    "## Initialize Source, Deflector, and LOSIndividual class"
   ]
  },
  {
   "cell_type": "code",
   "execution_count": 197,
   "metadata": {},
   "outputs": [],
   "source": [
    "source = Source(\n",
    "                source_dict=source_dict,\n",
    "                cosmo=cosmo,\n",
    "                source_type=\"extended\",\n",
    "                light_profile=\"single_sersic\",\n",
    "            )\n",
    "deflector = Deflector(\n",
    "                deflector_type=\"EPL\",\n",
    "                deflector_dict=deflector_dict,\n",
    "            )\n",
    "los_class = LOSIndividual(kappa=0, gamma=[-0.005061965833762263, 0.028825761226555197])"
   ]
  },
  {
   "cell_type": "markdown",
   "metadata": {},
   "source": [
    "## Initialize Lens class"
   ]
  },
  {
   "cell_type": "code",
   "execution_count": 198,
   "metadata": {},
   "outputs": [],
   "source": [
    "# This is your lens. it contains all the information about your lensing configuration.\n",
    "lens_class=Lens(source_class=source, deflector_class=deflector, cosmo=cosmo, los_class=los_class)"
   ]
  },
  {
   "cell_type": "markdown",
   "metadata": {},
   "source": [
    "## Use Lens class from 3 in image simulation module to simulate image"
   ]
  },
  {
   "cell_type": "code",
   "execution_count": null,
   "metadata": {},
   "outputs": [],
   "source": [
    "# load your psf kernel and transform matrix. If you have your own psf, please provide\n",
    "# it here. These psf kernel can be downloded from:\n",
    "# https://github.com/LSST-strong-lensing/data_public/tree/main/dp0_images_data_for_slsim_image_validation\n",
    "path_i = \"/Users/narayankhadka/downloads/dc2_galaxy_2_kernel_i.npy\"\n",
    "path_r = \"/Users/narayankhadka/downloads/dc2_galaxy_2_kernel_r.npy\"\n",
    "path_g = \"/Users/narayankhadka/downloads/dc2_galaxy_2_kernel_g.npy\"\n",
    "psf_kernel_i =np.load(path_i)\n",
    "psf_kernel_r = np.load(path_r)\n",
    "psf_kernel_g = np.load(path_g)\n",
    "\n",
    "# let's set pixel to angle transform matrix.\n",
    "transform_matrix = np.array([[0.2, 0], [0, 0.2]])\n",
    "# Please download this data from data_public repo: \n",
    "# https://github.com/LSST-strong-lensing/data_public/tree/main/dp0_images_data_for_slsim_image_validation\n",
    "dp0_variance_i = np.load(\"/Users/narayankhadka/downloads/dc2_galaxy_2_variance_i.npy\")\n",
    "dp0_variance_g = np.load(\"/Users/narayankhadka/downloads/dc2_galaxy_2_variance_g.npy\")\n",
    "dp0_variance_r = np.load(\"/Users/narayankhadka/downloads/dc2_galaxy_2_variance_r.npy\")"
   ]
  },
  {
   "cell_type": "code",
   "execution_count": 218,
   "metadata": {},
   "outputs": [],
   "source": [
    "##lsst background noise. One can use these properties directly from dp0 images. Here, \n",
    "# I have estimated from a random sky patch.\n",
    "std_i = np.sqrt(np.mean(dp0_variance_i))\n",
    "std_r = np.sqrt(np.mean(dp0_variance_r))\n",
    "std_g = np.sqrt(np.mean(dp0_variance_g))"
   ]
  },
  {
   "cell_type": "code",
   "execution_count": 226,
   "metadata": {},
   "outputs": [
    {
     "data": {
      "text/plain": [
       "(0.05774509, 0.03247451, 0.028600888)"
      ]
     },
     "execution_count": 226,
     "metadata": {},
     "output_type": "execute_result"
    }
   ],
   "source": [
    "std_i, std_r, std_g"
   ]
  },
  {
   "cell_type": "markdown",
   "metadata": {},
   "source": [
    "## Simulate images in different bands"
   ]
  },
  {
   "cell_type": "code",
   "execution_count": null,
   "metadata": {},
   "outputs": [
    {
     "name": "stderr",
     "output_type": "stream",
     "text": [
      "/Users/narayankhadka/lenstronomy/lenstronomy/Data/psf.py:95: UserWarning: Input PSF model has at least one negative element, which is unphysical except for a PSF of an interferometric array.\n",
      "  warnings.warn(\n"
     ]
    }
   ],
   "source": [
    "image_i=lens_image(\n",
    "            lens_class=lens_class,\n",
    "            band=\"i\",\n",
    "            mag_zero_point=27, #lsst coadd images have zero point magnitude of 27.\n",
    "            num_pix=61,\n",
    "            psf_kernel=psf_kernel_i,\n",
    "            transform_pix2angle=transform_matrix,\n",
    "            exposure_time=300, # one can provide None\n",
    "            t_obs=None,\n",
    "            std_gaussian_noise=std_i, # one can provide None\n",
    "            with_source=True,\n",
    "            with_deflector=True,\n",
    "        )\n",
    "image_r=lens_image(\n",
    "        lens_class=lens_class,\n",
    "        band=\"r\",\n",
    "        mag_zero_point=27,\n",
    "        num_pix=61,\n",
    "        psf_kernel=psf_kernel_r,\n",
    "        transform_pix2angle=transform_matrix,\n",
    "        exposure_time=300,\n",
    "        t_obs=None,\n",
    "        std_gaussian_noise=std_r,\n",
    "        with_source=True,\n",
    "        with_deflector=True,\n",
    "    )\n",
    "\n",
    "image_g=lens_image(\n",
    "        lens_class=lens_class,\n",
    "        band=\"g\",\n",
    "        mag_zero_point=27,\n",
    "        num_pix=61,\n",
    "        psf_kernel=psf_kernel_g,\n",
    "        transform_pix2angle=transform_matrix,\n",
    "        exposure_time=300, \n",
    "        t_obs=None,\n",
    "        std_gaussian_noise=std_g,\n",
    "        with_source=True,\n",
    "        with_deflector=True,\n",
    ")"
   ]
  },
  {
   "cell_type": "code",
   "execution_count": 228,
   "metadata": {},
   "outputs": [],
   "source": [
    "# Simulate rgb color image\n",
    "rgb_image = rgb_image_from_image_list([image_i, image_r, image_g], stretch=0.5)"
   ]
  },
  {
   "cell_type": "code",
   "execution_count": 230,
   "metadata": {},
   "outputs": [
    {
     "data": {
      "text/plain": [
       "<matplotlib.image.AxesImage at 0x1527128b0>"
      ]
     },
     "execution_count": 230,
     "metadata": {},
     "output_type": "execute_result"
    },
    {
     "data": {
      "image/png": "[encoded data removed]",
      "text/plain": [
       "<Figure size 640x480 with 1 Axes>"
      ]
     },
     "metadata": {},
     "output_type": "display_data"
    }
   ],
   "source": [
    "## see r-namd image. LensI picked here is very bright. So, background noise is almost \n",
    "# not visible.\n",
    "plt.imshow(image_r, origin=\"lower\")"
   ]
  },
  {
   "cell_type": "code",
   "execution_count": null,
   "metadata": {},
   "outputs": [],
   "source": []
  }
 ],
 "metadata": {
  "kernelspec": {
   "display_name": "base",
   "language": "python",
   "name": "python3"
  },
  "language_info": {
   "codemirror_mode": {
    "name": "ipython",
    "version": 3
   },
   "file_extension": ".py",
   "mimetype": "text/x-python",
   "name": "python",
   "nbconvert_exporter": "python",
   "pygments_lexer": "ipython3",
   "version": "3.9.21"
  }
 },
 "nbformat": 4,
 "nbformat_minor": 2
}
