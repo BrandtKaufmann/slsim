{
 "cells": [
  {
   "cell_type": "code",
   "execution_count": 2,
   "metadata": {},
   "outputs": [],
   "source": [
    "import numpy as np\n",
    "import matplotlib.pyplot as plt\n",
    "import pickle\n",
    "from astropy.table import Table\n",
    "from slsim.image_simulation import (image_data_class, \n",
    "lens_image, rgb_image_from_image_list)"
   ]
  },
  {
   "cell_type": "markdown",
   "metadata": {},
   "source": [
    "## Validation of image simulation in SLSim\n",
    "\n",
    "Most of the functions in the image simulation take Lens class as an input. So, we need to\n",
    "\n",
    "supply all the dc2 galaxy information in the form of Lens class. So, here we mimic Lens \n",
    "\n",
    "class only with necessary Lens class parts which are necessary for image simulation."
   ]
  },
  {
   "cell_type": "code",
   "execution_count": 3,
   "metadata": {},
   "outputs": [],
   "source": [
    "## lens_class for validation\n",
    "class Lens1(object):\n",
    "    def __init__(self, kwargs_model, kwargs_lens, kwargs_source, \n",
    "    kwargs_lens_light, kwargs_ps):\n",
    "        self.kwargs_model = kwargs_model\n",
    "        self.kwargs_lens = kwargs_lens\n",
    "        self.kwargs_source = kwargs_source\n",
    "        self.kwargs_lens_light = kwargs_lens_light\n",
    "        self.kwargs_ps = kwargs_ps\n",
    "\n",
    "    def lenstronomy_kwargs(self, band=None):\n",
    "        self.band = band\n",
    "        kwargs_params = {\n",
    "            \"kwargs_lens\": self.kwargs_lens,\n",
    "            \"kwargs_source\": self.kwargs_source,\n",
    "            \"kwargs_lens_light\": self.kwargs_lens_light,\n",
    "            \"kwargs_ps\": self.kwargs_ps,\n",
    "        }\n",
    "        return self.kwargs_model, kwargs_params\n",
    "\n",
    "class Lens2(object):\n",
    "    def __init__(self, kwargs_model):\n",
    "        self.kwargs_model = kwargs_model\n",
    "    def lenstronomy_kwargs(self, band=None):\n",
    "        return self.kwargs_model, None\n",
    "\n"
   ]
  },
  {
   "cell_type": "markdown",
   "metadata": {},
   "source": [
    "## Let's get dc2 galaxy center in slsim image grid"
   ]
  },
  {
   "cell_type": "code",
   "execution_count": 4,
   "metadata": {},
   "outputs": [],
   "source": [
    "kwargs_model = {'lens_light_model_list': ['SERSIC_ELLIPSE', 'SERSIC_ELLIPSE'],\n",
    "  'lens_model_list': ['EPL', 'SHEAR', 'CONVERGENCE'],\n",
    "  'source_light_model_list': ['SERSIC_ELLIPSE', 'SERSIC_ELLIPSE']}"
   ]
  },
  {
   "cell_type": "code",
   "execution_count": 5,
   "metadata": {},
   "outputs": [],
   "source": [
    "kwarg_model=Lens2(kwargs_model)"
   ]
  },
  {
   "cell_type": "code",
   "execution_count": 6,
   "metadata": {},
   "outputs": [],
   "source": [
    "data_class=image_data_class(\n",
    "    kwarg_model, band=\"i\", mag_zero_point=27, delta_pix=0.2, num_pix=35, \n",
    "    transform_pix2angle=np.array([[0.2, 0],[0, 0.2]])\n",
    ")"
   ]
  },
  {
   "cell_type": "code",
   "execution_count": 7,
   "metadata": {},
   "outputs": [],
   "source": [
    "galaxy_center_pix_x = 16.84335831\n",
    "galaxy_center_pix_y = 16.52869664\n",
    "center_cood_x, center_coord_y = data_class.map_pix2coord(galaxy_center_pix_x,\n",
    " galaxy_center_pix_y)"
   ]
  },
  {
   "cell_type": "markdown",
   "metadata": {},
   "source": [
    "## Load dc2 galaxies"
   ]
  },
  {
   "cell_type": "code",
   "execution_count": 8,
   "metadata": {},
   "outputs": [],
   "source": [
    "with open(\"/Users/narayankhadka/downloads/galaxy_sample_dc2_new.txt\", 'rb') as file:\n",
    "    # Use pickle.load() to load the data from the file\n",
    "    dc2_galaxies = pickle.load(file)"
   ]
  },
  {
   "cell_type": "code",
   "execution_count": 9,
   "metadata": {},
   "outputs": [],
   "source": [
    "dc2_galaxies = Table(dc2_galaxies)"
   ]
  },
  {
   "cell_type": "code",
   "execution_count": 10,
   "metadata": {},
   "outputs": [
    {
     "data": {
      "text/html": [
       "<i>Row index=7</i>\n",
       "<table id=\"table140537644245104\">\n",
       "<thead><tr><th>sersic_disk</th><th>shear_1</th><th>ellipticity_2_bulge_true</th><th>size_minor_true</th><th>position_angle_true</th><th>ellipticity_true</th><th>size_minor_disk_true</th><th>size_disk_true</th><th>ra</th><th>ellipticity_bulge_true</th><th>ellipticity_1_true</th><th>dec</th><th>ellipticity_1_bulge_true</th><th>sersic_bulge</th><th>ellipticity_1_disk_true</th><th>convergence</th><th>ellipticity_disk_true</th><th>size_true</th><th>shear_2</th><th>ellipticity_2_disk_true</th><th>redshift</th><th>ellipticity_2_true</th><th>size_bulge_true</th><th>bulge_to_total_ratio_i</th><th>mag_true_g_lsst</th><th>mag_true_r_lsst</th><th>size_minor_bulge_true</th><th>mag_true_i_lsst</th><th>galaxy_id</th></tr></thead>\n",
       "<thead><tr><th>float32</th><th>float64</th><th>float32</th><th>float64</th><th>float32</th><th>float32</th><th>float32</th><th>float64</th><th>float64</th><th>float32</th><th>float32</th><th>float64</th><th>float32</th><th>float32</th><th>float32</th><th>float64</th><th>float32</th><th>float64</th><th>float64</th><th>float32</th><th>float64</th><th>float32</th><th>float64</th><th>float32</th><th>float32</th><th>float32</th><th>float32</th><th>float32</th><th>int64</th></tr></thead>\n",
       "<tr><td>1.0</td><td>-0.0012687527231439732</td><td>-0.034115326</td><td>0.4717114800877277</td><td>-70.281845</td><td>0.053839747</td><td>0.72912425</td><td>0.8176907933955547</td><td>62.00273461841879</td><td>0.05370631</td><td>-0.04158212</td><td>-37.00827463174009</td><td>-0.041479062</td><td>4.0</td><td>-0.044221643</td><td>-0.004094584982031524</td><td>0.057257354</td><td>0.5253954914309595</td><td>0.0005450779706797707</td><td>-0.03637102</td><td>0.31266045186573765</td><td>-0.034200087</td><td>0.513994099718922</td><td>0.96235293</td><td>21.472523</td><td>20.070576</td><td>0.4615986</td><td>19.481592</td><td>7937608797</td></tr>\n",
       "</table>"
      ],
      "text/plain": [
       "<Row index=7>\n",
       "sersic_disk        shear_1         ellipticity_2_bulge_true  size_minor_true   position_angle_true ellipticity_true size_minor_disk_true   size_disk_true           ra        ellipticity_bulge_true ellipticity_1_true        dec         ellipticity_1_bulge_true sersic_bulge ellipticity_1_disk_true      convergence      ellipticity_disk_true     size_true             shear_2        ellipticity_2_disk_true       redshift      ellipticity_2_true  size_bulge_true  bulge_to_total_ratio_i mag_true_g_lsst mag_true_r_lsst size_minor_bulge_true mag_true_i_lsst galaxy_id \n",
       "  float32          float64                 float32               float64             float32           float32            float32             float64            float64             float32              float32            float64               float32            float32            float32                float64               float32             float64              float64                float32               float64            float32            float64             float32             float32         float32            float32            float32       int64   \n",
       "----------- ---------------------- ------------------------ ------------------ ------------------- ---------------- -------------------- ------------------ ----------------- ---------------------- ------------------ ------------------ ------------------------ ------------ ----------------------- --------------------- --------------------- ------------------ --------------------- ----------------------- ------------------- ------------------ ----------------- ---------------------- --------------- --------------- --------------------- --------------- ----------\n",
       "        1.0 -0.0012687527231439732             -0.034115326 0.4717114800877277          -70.281845      0.053839747           0.72912425 0.8176907933955547 62.00273461841879             0.05370631        -0.04158212 -37.00827463174009             -0.041479062          4.0            -0.044221643 -0.004094584982031524           0.057257354 0.5253954914309595 0.0005450779706797707             -0.03637102 0.31266045186573765       -0.034200087 0.513994099718922             0.96235293       21.472523       20.070576             0.4615986       19.481592 7937608797"
      ]
     },
     "execution_count": 10,
     "metadata": {},
     "output_type": "execute_result"
    }
   ],
   "source": [
    "dc2_galaxies[7]"
   ]
  },
  {
   "cell_type": "markdown",
   "metadata": {},
   "source": [
    "## Prepare lenstronomy kwargs from a dc2 galaxy\n",
    "We select a galaxy centered at (ra, dec) =  (62.00273461841879, -37.00827463174009) \n",
    "\n",
    "degree. One can find image of this galaxy in DP0 data. We download image of this galaxy\n",
    "\n",
    "from DP0 and compare it with image of the same galaxy silulated using slsim."
   ]
  },
  {
   "cell_type": "code",
   "execution_count": 11,
   "metadata": {},
   "outputs": [],
   "source": [
    "kwargs_lens = [{'theta_E': 1,\n",
    "    'gamma': 2,\n",
    "    'e1': dc2_galaxies[7][\"ellipticity_1_true\"],\n",
    "    'e2': dc2_galaxies[7][\"ellipticity_2_true\"],\n",
    "    'center_x': center_cood_x,\n",
    "    'center_y':  center_coord_y},\n",
    "   {'gamma1': dc2_galaxies[7][\"shear_1\"],\n",
    "    'gamma2': dc2_galaxies[7][\"shear_2\"],\n",
    "    'ra_0': 0,\n",
    "    'dec_0': 0},\n",
    "   {'kappa': dc2_galaxies[7][\"convergence\"], 'ra_0': 0, 'dec_0': 0}]\n",
    "kwargs_source= None\n",
    "flux_i = 10 ** (-dc2_galaxies[7][\"mag_true_i_lsst\"] / 2.5)\n",
    "mag_bulge_i = -2.5 * np.log10(dc2_galaxies[7][\"bulge_to_total_ratio_i\"] * flux_i)\n",
    "mag_disk_i = -2.5 * np.log10((1-dc2_galaxies[7][\"bulge_to_total_ratio_i\"]) * flux_i)\n",
    "kwargs_lens_light_i = [{'magnitude': mag_bulge_i,\n",
    "    'R_sersic': np.sqrt(\n",
    "        dc2_galaxies[7][\"size_minor_bulge_true\"]*dc2_galaxies[7][\"size_bulge_true\"]),\n",
    "    'n_sersic': 4.0,\n",
    "    'e1': dc2_galaxies[7][\"ellipticity_1_bulge_true\"],\n",
    "    'e2': dc2_galaxies[7][\"ellipticity_2_bulge_true\"],\n",
    "    'center_x': center_cood_x,\n",
    "    'center_y':  center_coord_y},\n",
    "    {'magnitude': mag_disk_i,\n",
    "    'R_sersic': np.sqrt(\n",
    "        dc2_galaxies[7][\"size_minor_disk_true\"]*dc2_galaxies[7][\"size_disk_true\"]),\n",
    "    'n_sersic': 1.0,\n",
    "    'e1': dc2_galaxies[7][\"ellipticity_1_disk_true\"],\n",
    "    'e2': dc2_galaxies[7][\"ellipticity_2_disk_true\"],\n",
    "    'center_x': center_cood_x,\n",
    "    'center_y':  center_coord_y}]\n",
    "flux_r = 10 ** (-dc2_galaxies[7][\"mag_true_r_lsst\"] / 2.5)\n",
    "mag_bulge_r = -2.5 * np.log10(dc2_galaxies[7][\"bulge_to_total_ratio_i\"] * flux_r)\n",
    "mag_disk_r = -2.5 * np.log10((1-dc2_galaxies[7][\"bulge_to_total_ratio_i\"]) * flux_r)\n",
    "kwargs_lens_light_r = [{'magnitude': mag_bulge_r,\n",
    "    'R_sersic': np.sqrt(\n",
    "        dc2_galaxies[7][\"size_minor_bulge_true\"]*dc2_galaxies[7][\"size_bulge_true\"]),\n",
    "    'n_sersic': 4.0,\n",
    "    'e1': dc2_galaxies[7][\"ellipticity_1_bulge_true\"],\n",
    "    'e2': dc2_galaxies[7][\"ellipticity_2_bulge_true\"],\n",
    "    'center_x': center_cood_x,\n",
    "    'center_y':  center_coord_y}, \n",
    "    {'magnitude': mag_disk_r,\n",
    "    'R_sersic': np.sqrt(\n",
    "        dc2_galaxies[7][\"size_minor_disk_true\"]*dc2_galaxies[7][\"size_disk_true\"]),\n",
    "    'n_sersic': 1.0,\n",
    "    'e1': dc2_galaxies[7][\"ellipticity_1_disk_true\"],\n",
    "    'e2': dc2_galaxies[7][\"ellipticity_2_disk_true\"],\n",
    "    'center_x': center_cood_x,\n",
    "    'center_y':  center_coord_y}]\n",
    "flux_g = 10 ** (-dc2_galaxies[7][\"mag_true_g_lsst\"] / 2.5)\n",
    "mag_bulge_g = -2.5 * np.log10(dc2_galaxies[7][\"bulge_to_total_ratio_i\"] * flux_g)\n",
    "mag_disk_g = -2.5 * np.log10((1-dc2_galaxies[7][\"bulge_to_total_ratio_i\"]) * flux_g)\n",
    "kwargs_lens_light_g = [{'magnitude': mag_bulge_g,\n",
    "    'R_sersic': np.sqrt(\n",
    "        dc2_galaxies[7][\"size_minor_bulge_true\"]*dc2_galaxies[7][\"size_bulge_true\"]),\n",
    "    'n_sersic': 4.0,\n",
    "    'e1': dc2_galaxies[7][\"ellipticity_1_bulge_true\"],\n",
    "    'e2': dc2_galaxies[7][\"ellipticity_2_bulge_true\"],\n",
    "    'center_x': center_cood_x,\n",
    "    'center_y':  center_coord_y}, \n",
    "    {'magnitude': mag_disk_g,\n",
    "    'R_sersic': np.sqrt(\n",
    "        dc2_galaxies[7][\"size_minor_disk_true\"]*dc2_galaxies[7][\"size_disk_true\"]),\n",
    "    'n_sersic': 1.0,\n",
    "    'e1': dc2_galaxies[7][\"ellipticity_1_disk_true\"],\n",
    "    'e2': dc2_galaxies[7][\"ellipticity_2_disk_true\"],\n",
    "    'center_x': center_cood_x,\n",
    "    'center_y':  center_coord_y}]\n",
    "kwargs_ps = None"
   ]
  },
  {
   "cell_type": "markdown",
   "metadata": {},
   "source": [
    "## Initiate Lens class for each band"
   ]
  },
  {
   "cell_type": "code",
   "execution_count": 12,
   "metadata": {},
   "outputs": [],
   "source": [
    "lens_class_i = Lens1(kwargs_model, kwargs_lens, kwargs_source, \n",
    "kwargs_lens_light_i, kwargs_ps)\n",
    "lens_class_r = Lens1(kwargs_model, kwargs_lens, kwargs_source, \n",
    "kwargs_lens_light_r, kwargs_ps)\n",
    "lens_class_g = Lens1(kwargs_model, kwargs_lens, kwargs_source, \n",
    "kwargs_lens_light_g, kwargs_ps)"
   ]
  },
  {
   "cell_type": "markdown",
   "metadata": {},
   "source": [
    "## Load psf and variance map for a dc2 galaxy"
   ]
  },
  {
   "cell_type": "code",
   "execution_count": 13,
   "metadata": {},
   "outputs": [],
   "source": [
    "psf_kernel_i = np.load(\"/Users/narayankhadka/downloads/dc2_galaxy_kernel_i.npy\")\n",
    "psf_kernel_r = np.load(\"/Users/narayankhadka/downloads/dc2_galaxy_kernel_r.npy\")\n",
    "psf_kernel_g = np.load(\"/Users/narayankhadka/downloads/dc2_galaxy_kernel_g.npy\")"
   ]
  },
  {
   "cell_type": "code",
   "execution_count": 14,
   "metadata": {},
   "outputs": [],
   "source": [
    "dc2_galaxy_variance_i = np.sqrt(\n",
    "    np.load(\"/Users/narayankhadka/downloads/dc2_galaxy_variance_i.npy\"))\n",
    "dc2_galaxy_variance_g = np.sqrt(\n",
    "    np.load(\"/Users/narayankhadka/downloads/dc2_galaxy_variance_g.npy\"))\n",
    "dc2_galaxy_variance_r = np.sqrt(\n",
    "    np.load(\"/Users/narayankhadka/downloads/dc2_galaxy_variance_r.npy\"))"
   ]
  },
  {
   "cell_type": "markdown",
   "metadata": {},
   "source": [
    "## Simulate image of a dc2 galaxy using slsim"
   ]
  },
  {
   "cell_type": "code",
   "execution_count": 15,
   "metadata": {},
   "outputs": [
    {
     "name": "stderr",
     "output_type": "stream",
     "text": [
      "/Users/narayankhadka/lenstronomy/lenstronomy/Data/psf.py:80: UserWarning: Input PSF model has at least one negative element, which is unphysical except for a PSF of an interferometric array.\n",
      "  warnings.warn(\n",
      "/Users/narayankhadka/lenstronomy/lenstronomy/Data/psf.py:80: UserWarning: Input PSF model has at least one negative element, which is unphysical except for a PSF of an interferometric array.\n",
      "  warnings.warn(\n"
     ]
    }
   ],
   "source": [
    "dc2_galaxy_image_from_slsim_i=lens_image(\n",
    "    lens_class_i,\n",
    "    band=\"i\",\n",
    "    mag_zero_point=27,\n",
    "    num_pix = 35,\n",
    "    psf_kernel = psf_kernel_i,\n",
    "    transform_pix2angle = np.array([[0.2, 0], [0, 0.2]]),\n",
    "    exposure_time=None,\n",
    "    t_obs=None,\n",
    "    std_gaussian_noise=dc2_galaxy_variance_i,\n",
    "    with_source=False,\n",
    "    with_deflector=True,\n",
    ")\n",
    "dc2_galaxy_image_from_slsim_g=lens_image(\n",
    "    lens_class_g,\n",
    "    band=\"g\",\n",
    "    mag_zero_point=27,\n",
    "    num_pix = 35,\n",
    "    psf_kernel = psf_kernel_g,\n",
    "    transform_pix2angle = np.array([[0.2, 0], [0, 0.2]]),\n",
    "    exposure_time=None,\n",
    "    t_obs=None,\n",
    "    std_gaussian_noise=dc2_galaxy_variance_g,\n",
    "    with_source=False,\n",
    "    with_deflector=True,\n",
    ")\n",
    "dc2_galaxy_image_from_slsim_r=lens_image(\n",
    "    lens_class_r,\n",
    "    band=\"r\",\n",
    "    mag_zero_point=27,\n",
    "    num_pix = 35,\n",
    "    psf_kernel = psf_kernel_r,\n",
    "    transform_pix2angle = np.array([[0.2, 0], [0, 0.2]]),\n",
    "    exposure_time=None,\n",
    "    t_obs=None,\n",
    "    std_gaussian_noise=dc2_galaxy_variance_r,\n",
    "    with_source=False,\n",
    "    with_deflector=True,\n",
    ")\n"
   ]
  },
  {
   "cell_type": "markdown",
   "metadata": {},
   "source": [
    "## Load dc2 galaxy image from DP0"
   ]
  },
  {
   "cell_type": "code",
   "execution_count": 16,
   "metadata": {},
   "outputs": [],
   "source": [
    "dc2_galaxy_image_from_dp0_i = np.load(\n",
    "    \"/Users/narayankhadka/downloads/dc2_galaxy_i.npy\")\n",
    "dc2_galaxy_image_from_dp0_r = np.load(\n",
    "    \"/Users/narayankhadka/downloads/dc2_galaxy_r.npy\")\n",
    "dc2_galaxy_image_from_dp0_g = np.load(\n",
    "    \"/Users/narayankhadka/downloads/dc2_galaxy_g.npy\")\n"
   ]
  },
  {
   "cell_type": "markdown",
   "metadata": {},
   "source": [
    "## Compute the difference between slsim and DP0 \n",
    "## images of the same galaxy"
   ]
  },
  {
   "cell_type": "code",
   "execution_count": 17,
   "metadata": {},
   "outputs": [],
   "source": [
    "diff_i = dc2_galaxy_image_from_slsim_i-dc2_galaxy_image_from_dp0_i\n",
    "diff_r = dc2_galaxy_image_from_slsim_r-dc2_galaxy_image_from_dp0_r\n",
    "diff_g = dc2_galaxy_image_from_slsim_g-dc2_galaxy_image_from_dp0_g"
   ]
  },
  {
   "cell_type": "markdown",
   "metadata": {},
   "source": [
    "## Plot images and residual in i-band"
   ]
  },
  {
   "cell_type": "code",
   "execution_count": 18,
   "metadata": {},
   "outputs": [
    {
     "data": {
      "image/png": "[encoded data removed]",
      "text/plain": [
       "<Figure size 864x288 with 3 Axes>"
      ]
     },
     "metadata": {
      "needs_background": "light"
     },
     "output_type": "display_data"
    }
   ],
   "source": [
    "#This is a comparision of an image of a galaxy from DP0 at \n",
    "#(ra, dec)= (62.00273461841879, -37.00827463174009) degree. This comparision is in\n",
    "# i-band.\n",
    "global_min = min(dc2_galaxy_image_from_slsim_i.min(), dc2_galaxy_image_from_dp0_i.min(),\n",
    " diff_i.min())\n",
    "global_max = max(dc2_galaxy_image_from_slsim_i.max(), dc2_galaxy_image_from_dp0_i.max(),\n",
    " diff_i.max())\n",
    "# Plotting the images\n",
    "plt.figure(figsize=(12, 4))\n",
    "plt.subplot(1, 3, 1)\n",
    "plt.imshow(dc2_galaxy_image_from_slsim_i, origin=\"lower\", \n",
    "           vmin=global_min, vmax=global_max) \n",
    "plt.title('Galaxy image from slsim')\n",
    "plt.axis('off')  # Turn off axis labels\n",
    "\n",
    "plt.subplot(1, 3, 2)\n",
    "plt.imshow(dc2_galaxy_image_from_dp0_i, origin=\"lower\", \n",
    "           vmin=global_min, vmax=global_max)\n",
    "plt.title('Galaxy image from DP0')\n",
    "plt.axis('off')\n",
    "\n",
    "plt.subplot(1, 3, 3)\n",
    "plt.imshow(diff_i, origin=\"lower\", vmin=global_min, vmax=global_max)\n",
    "plt.title('Residual')\n",
    "plt.axis('off')\n",
    "\n",
    "plt.show()\n"
   ]
  },
  {
   "cell_type": "markdown",
   "metadata": {},
   "source": [
    "## Visualize these images in RGB color"
   ]
  },
  {
   "cell_type": "code",
   "execution_count": 19,
   "metadata": {},
   "outputs": [],
   "source": [
    "slsim_image_list = [dc2_galaxy_image_from_slsim_i, dc2_galaxy_image_from_slsim_r,\n",
    "                     dc2_galaxy_image_from_slsim_g]"
   ]
  },
  {
   "cell_type": "code",
   "execution_count": 20,
   "metadata": {},
   "outputs": [],
   "source": [
    "slsim_rgb_image=rgb_image_from_image_list(image_list=slsim_image_list, stretch=0.5)"
   ]
  },
  {
   "cell_type": "code",
   "execution_count": 21,
   "metadata": {},
   "outputs": [],
   "source": [
    "dp0_image_list = [dc2_galaxy_image_from_dp0_i, \n",
    "                  dc2_galaxy_image_from_dp0_r,dc2_galaxy_image_from_dp0_g]"
   ]
  },
  {
   "cell_type": "code",
   "execution_count": 22,
   "metadata": {},
   "outputs": [],
   "source": [
    "dp0_rgb_image=rgb_image_from_image_list(image_list=dp0_image_list, stretch=0.5)"
   ]
  },
  {
   "cell_type": "code",
   "execution_count": 23,
   "metadata": {},
   "outputs": [],
   "source": [
    "rgb_diff=slsim_rgb_image-dp0_rgb_image"
   ]
  },
  {
   "cell_type": "code",
   "execution_count": 24,
   "metadata": {},
   "outputs": [
    {
     "data": {
      "image/png": "[encoded data removed]",
      "text/plain": [
       "<Figure size 864x288 with 3 Axes>"
      ]
     },
     "metadata": {
      "needs_background": "light"
     },
     "output_type": "display_data"
    }
   ],
   "source": [
    "#This is a comparision of an image of galaxy from DP0 at \n",
    "#(ra, dec)= (62.00273461841879, -37.00827463174009) degree.\n",
    "global_min = min(slsim_rgb_image.min(), dp0_rgb_image.min(),\n",
    " rgb_diff.min())\n",
    "global_max = max(slsim_rgb_image.max(), dp0_rgb_image.max(),\n",
    " rgb_diff.max())\n",
    "# Plotting the images\n",
    "plt.figure(figsize=(12, 4))\n",
    "plt.subplot(1, 3, 1)\n",
    "plt.imshow(slsim_rgb_image, origin=\"lower\", vmin=global_min, vmax=global_max) \n",
    "plt.title('Galaxy image from slsim')\n",
    "plt.axis('off')  # Turn off axis labels\n",
    "\n",
    "plt.subplot(1, 3, 2)\n",
    "plt.imshow(dp0_rgb_image, origin=\"lower\", vmin=global_min, vmax=global_max)\n",
    "plt.title('Galaxy image from DP0')\n",
    "plt.axis('off')\n",
    "\n",
    "\n",
    "plt.subplot(1, 3, 3)\n",
    "plt.imshow(dp0_rgb_image-slsim_rgb_image, origin=\"lower\",\n",
    "            vmin=global_min, vmax=global_max)\n",
    "plt.title('Residual')\n",
    "plt.axis('off')\n",
    "\n",
    "plt.show()\n"
   ]
  },
  {
   "cell_type": "markdown",
   "metadata": {},
   "source": [
    "## Let's simulate an image of a DC2 galaxy using DP0\n",
    "## cutout for background noise and exposure map for \n",
    "## poisson noise.\n",
    "\n",
    "In above method, we directly used variance map to simulate DP0 background noise. Now,\n",
    "\n",
    "we simulate an image of the same galaxy with the different approach. Here, we take a\n",
    "\n",
    "DP0 cutout close to the galaxy image and we use this cutout as a background noise for\n",
    "\n",
    "our simulation. We take the exposure map of the DP0 galaxy image with specified pixel\n",
    "\n",
    "size and use this exposure map to generate poisson noise for our simulated image.\n",
    "\n",
    "Finally, our simulated image have both background noise from DC2 data and poisson noise.\n",
    "\n",
    "This is the approach we use in lens injection in DP0 field."
   ]
  },
  {
   "cell_type": "code",
   "execution_count": 25,
   "metadata": {},
   "outputs": [],
   "source": [
    "## These are DP0 cutouts close to the dp0 galaxy which we want to simulate using slsim.\n",
    "dc2_galaxy_background_i = np.load(\"/Users/narayankhadka/downloads/dc2_background_i.npy\")\n",
    "dc2_galaxy_background_g = np.load(\"/Users/narayankhadka/downloads/dc2_background_g.npy\")\n",
    "dc2_galaxy_background_r = np.load(\"/Users/narayankhadka/downloads/dc2_background_r.npy\")\n",
    "\n",
    "## These are exposure map of the dp0 galaxy with in (35, 35) pixel size.\n",
    "dc2_galaxy_exposure_i = 30*np.load(\n",
    "    \"/Users/narayankhadka/downloads/dc2_exposure_time_i.npy\")\n",
    "dc2_galaxy_exposure_g = 30*np.load(\n",
    "    \"/Users/narayankhadka/downloads/dc2_exposure_time_g.npy\")\n",
    "dc2_galaxy_exposure_r = 30*np.load(\n",
    "    \"/Users/narayankhadka/downloads/dc2_exposure_time_r.npy\")"
   ]
  },
  {
   "cell_type": "code",
   "execution_count": 79,
   "metadata": {},
   "outputs": [],
   "source": [
    "## Here we simulate galaxy image using slsim and this includes poisson noise.\n",
    "dc2_galaxy_image_from_slsim_i_2=lens_image(\n",
    "    lens_class_i,\n",
    "    band=\"i\",\n",
    "    mag_zero_point=27,\n",
    "    num_pix = 35,\n",
    "    psf_kernel = psf_kernel_i,\n",
    "    transform_pix2angle = np.array([[0.2, 0], [0, 0.2]]),\n",
    "    exposure_time=dc2_galaxy_exposure_i,\n",
    "    t_obs=None,\n",
    "    std_gaussian_noise=dc2_galaxy_variance_i,\n",
    "    with_source=False,\n",
    "    with_deflector=True,\n",
    ")\n",
    "dc2_galaxy_image_from_slsim_g_2=lens_image(\n",
    "    lens_class_g,\n",
    "    band=\"g\",\n",
    "    mag_zero_point=27,\n",
    "    num_pix = 35,\n",
    "    psf_kernel = psf_kernel_g,\n",
    "    transform_pix2angle = np.array([[0.2, 0], [0, 0.2]]),\n",
    "    exposure_time=dc2_galaxy_exposure_g,\n",
    "    t_obs=None,\n",
    "    std_gaussian_noise=dc2_galaxy_variance_g,\n",
    "    with_source=False,\n",
    "    with_deflector=True,\n",
    ")\n",
    "dc2_galaxy_image_from_slsim_r_2=lens_image(\n",
    "    lens_class_r,\n",
    "    band=\"r\",\n",
    "    mag_zero_point=27,\n",
    "    num_pix = 35,\n",
    "    psf_kernel = psf_kernel_r,\n",
    "    transform_pix2angle = np.array([[0.2, 0], [0, 0.2]]),\n",
    "    exposure_time=dc2_galaxy_exposure_r,\n",
    "    t_obs=None,\n",
    "    std_gaussian_noise=dc2_galaxy_variance_r,\n",
    "    with_source=False,\n",
    "    with_deflector=True,\n",
    ")"
   ]
  },
  {
   "cell_type": "code",
   "execution_count": 80,
   "metadata": {},
   "outputs": [],
   "source": [
    "# Let's add dp0 background/cutouts to the simulated galaxy image\n",
    "dc2_galaxy_image_from_slsim_with_dp0_background_cutout_i = (\n",
    "    dc2_galaxy_image_from_slsim_i_2 + dc2_galaxy_background_i)\n",
    "dc2_galaxy_image_from_slsim_with_dp0_background_cutout_g = (\n",
    "    dc2_galaxy_image_from_slsim_g_2 + dc2_galaxy_background_g)\n",
    "dc2_galaxy_image_from_slsim_with_dp0_background_cutout_r = (\n",
    "    dc2_galaxy_image_from_slsim_r_2 + dc2_galaxy_background_r)"
   ]
  },
  {
   "cell_type": "code",
   "execution_count": 81,
   "metadata": {},
   "outputs": [],
   "source": [
    "## compute the difference between dp0 image and slsim image in each band\n",
    "diff_i_n = (\n",
    "dc2_galaxy_image_from_slsim_with_dp0_background_cutout_i-dc2_galaxy_image_from_dp0_i)\n",
    "diff_r_n = (\n",
    "dc2_galaxy_image_from_slsim_with_dp0_background_cutout_i-dc2_galaxy_image_from_dp0_r)\n",
    "diff_g_n = (\n",
    "dc2_galaxy_image_from_slsim_with_dp0_background_cutout_i-dc2_galaxy_image_from_dp0_g)"
   ]
  },
  {
   "cell_type": "code",
   "execution_count": 82,
   "metadata": {},
   "outputs": [
    {
     "data": {
      "image/png": "[encoded data removed]",
      "text/plain": [
       "<Figure size 864x288 with 3 Axes>"
      ]
     },
     "metadata": {
      "needs_background": "light"
     },
     "output_type": "display_data"
    }
   ],
   "source": [
    "#This is a comparision of an image of galaxy from DP0 at \n",
    "#(ra, dec)= (62.00273461841879, -37.00827463174009) degree.\n",
    "global_min = min(dc2_galaxy_image_from_slsim_with_dp0_background_cutout_i.min(), \n",
    "                 dc2_galaxy_image_from_dp0_i.min(), diff_i_n.min())\n",
    "global_max = max(dc2_galaxy_image_from_slsim_with_dp0_background_cutout_i.max(), \n",
    "                 dc2_galaxy_image_from_dp0_i.max(), diff_i_n.max())\n",
    "# Plotting the images\n",
    "plt.figure(figsize=(12, 4))\n",
    "plt.subplot(1, 3, 1)\n",
    "plt.imshow(dc2_galaxy_image_from_slsim_with_dp0_background_cutout_i, origin=\"lower\", \n",
    "           vmin=global_min, vmax=global_max) \n",
    "plt.title('Galaxy image from slsim')\n",
    "plt.axis('off')  # Turn off axis labels\n",
    "\n",
    "plt.subplot(1, 3, 2)\n",
    "plt.imshow(dc2_galaxy_image_from_dp0_i, origin=\"lower\", \n",
    "           vmin=global_min, vmax=global_max)\n",
    "plt.title('Galaxy image from DP0')\n",
    "plt.axis('off')\n",
    "\n",
    "plt.subplot(1, 3, 3)\n",
    "plt.imshow(diff_i_n, origin=\"lower\", vmin=global_min, vmax=global_max)\n",
    "plt.title('Residual')\n",
    "plt.axis('off')\n",
    "\n",
    "plt.show()\n"
   ]
  },
  {
   "cell_type": "code",
   "execution_count": 83,
   "metadata": {},
   "outputs": [],
   "source": [
    "## Produce RGB color image for slsim\n",
    "slsim_image_list_n = [dc2_galaxy_image_from_slsim_with_dp0_background_cutout_i, \n",
    "                      dc2_galaxy_image_from_slsim_with_dp0_background_cutout_r,\n",
    "                     dc2_galaxy_image_from_slsim_with_dp0_background_cutout_g]\n",
    "\n",
    "slsim_rgb_image_n=rgb_image_from_image_list(image_list=slsim_image_list_n, stretch=0.5)"
   ]
  },
  {
   "cell_type": "code",
   "execution_count": 84,
   "metadata": {},
   "outputs": [],
   "source": [
    "## Difference between slsim and dp0 rgb images\n",
    "rgb_diff_n=slsim_rgb_image_n-dp0_rgb_image"
   ]
  },
  {
   "cell_type": "code",
   "execution_count": 86,
   "metadata": {},
   "outputs": [
    {
     "data": {
      "image/png": "[encoded data removed]",
      "text/plain": [
       "<Figure size 864x288 with 3 Axes>"
      ]
     },
     "metadata": {
      "needs_background": "light"
     },
     "output_type": "display_data"
    }
   ],
   "source": [
    "#This is a comparision of an image of galaxy from DP0 at \n",
    "#(ra, dec)= (62.00273461841879, -37.00827463174009) degree.\n",
    "global_min = min(slsim_rgb_image_n.min(), dp0_rgb_image.min(),\n",
    " rgb_diff_n.min())\n",
    "global_max = max(slsim_rgb_image_n.max(), dp0_rgb_image.max(),\n",
    " rgb_diff_n.max())\n",
    "# Plotting the images\n",
    "plt.figure(figsize=(12, 4))\n",
    "plt.subplot(1, 3, 1)\n",
    "plt.imshow(slsim_rgb_image_n, origin=\"lower\", vmin=global_min, vmax=global_max) \n",
    "plt.title('Galaxy image from slsim')\n",
    "plt.axis('off')  # Turn off axis labels\n",
    "\n",
    "plt.subplot(1, 3, 2)\n",
    "plt.imshow(dp0_rgb_image, origin=\"lower\", vmin=global_min, vmax=global_max)\n",
    "plt.title('Galaxy image from DP0')\n",
    "plt.axis('off')\n",
    "\n",
    "\n",
    "plt.subplot(1, 3, 3)\n",
    "plt.imshow(dp0_rgb_image-slsim_rgb_image_n, origin=\"lower\", vmin=global_min,\n",
    "            vmax=global_max)\n",
    "plt.title('Residual')\n",
    "plt.axis('off')\n",
    "\n",
    "plt.show()"
   ]
  },
  {
   "cell_type": "code",
   "execution_count": null,
   "metadata": {},
   "outputs": [],
   "source": []
  }
 ],
 "metadata": {
  "kernelspec": {
   "display_name": "base",
   "language": "python",
   "name": "python3"
  },
  "language_info": {
   "codemirror_mode": {
    "name": "ipython",
    "version": 3
   },
   "file_extension": ".py",
   "mimetype": "text/x-python",
   "name": "python",
   "nbconvert_exporter": "python",
   "pygments_lexer": "ipython3",
   "version": "3.9.7"
  }
 },
 "nbformat": 4,
 "nbformat_minor": 2
}
