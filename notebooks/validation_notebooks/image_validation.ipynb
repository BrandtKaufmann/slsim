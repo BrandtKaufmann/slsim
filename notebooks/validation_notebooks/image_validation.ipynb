{
 "cells": [
  {
   "cell_type": "code",
   "execution_count": 1,
   "metadata": {},
   "outputs": [],
   "source": [
    "import numpy as np\n",
    "import matplotlib.pyplot as plt\n",
    "import pickle\n",
    "from astropy.table import Table\n",
    "from slsim.image_simulation import (\n",
    "    image_data_class,\n",
    "    lens_image,\n",
    "    rgb_image_from_image_list,\n",
    ")"
   ]
  },
  {
   "cell_type": "markdown",
   "metadata": {},
   "source": [
    "## Validation of image simulation in SLSim\n",
    "\n",
    "Most of the functions in the image simulation take Lens class as an input. So, we need to\n",
    "\n",
    "supply all the dc2 galaxy information in the form of Lens class. So, here we mimic Lens \n",
    "\n",
    "class only with necessary Lens class parts which are necessary for image simulation.\n",
    "\n",
    "Before runing this notebook, please download all the data needed from the following link:\n",
    "\n",
    "https://github.com/LSST-strong-lensing/data_public/tree/main/dp0_images_data_for_slsim_image_validation\n",
    "\n",
    "Then, please change data path to your storage path."
   ]
  },
  {
   "cell_type": "code",
   "execution_count": 2,
   "metadata": {},
   "outputs": [],
   "source": [
    "## lens_class for validation\n",
    "class Lens1(object):\n",
    "    def __init__(\n",
    "        self, kwargs_model, kwargs_lens, kwargs_source, kwargs_lens_light, kwargs_ps\n",
    "    ):\n",
    "        self.kwargs_model = kwargs_model\n",
    "        self.kwargs_lens = kwargs_lens\n",
    "        self.kwargs_source = kwargs_source\n",
    "        self.kwargs_lens_light = kwargs_lens_light\n",
    "        self.kwargs_ps = kwargs_ps\n",
    "\n",
    "    def lenstronomy_kwargs(self, band=None):\n",
    "        self.band = band\n",
    "        kwargs_params = {\n",
    "            \"kwargs_lens\": self.kwargs_lens,\n",
    "            \"kwargs_source\": self.kwargs_source,\n",
    "            \"kwargs_lens_light\": self.kwargs_lens_light,\n",
    "            \"kwargs_ps\": self.kwargs_ps,\n",
    "        }\n",
    "        return self.kwargs_model, kwargs_params\n",
    "\n",
    "\n",
    "class Lens2(object):\n",
    "    def __init__(self, kwargs_model):\n",
    "        self.kwargs_model = kwargs_model\n",
    "\n",
    "    def lenstronomy_kwargs(self, band=None):\n",
    "        return self.kwargs_model, None"
   ]
  },
  {
   "cell_type": "markdown",
   "metadata": {},
   "source": [
    "## Let's get dc2 galaxy center in slsim image grid"
   ]
  },
  {
   "cell_type": "code",
   "execution_count": 3,
   "metadata": {},
   "outputs": [],
   "source": [
    "kwargs_model = {\n",
    "    \"lens_light_model_list\": [\"SERSIC_ELLIPSE\", \"SERSIC_ELLIPSE\"],\n",
    "    \"lens_model_list\": [\"EPL\", \"SHEAR\", \"CONVERGENCE\"],\n",
    "    \"source_light_model_list\": [\"SERSIC_ELLIPSE\", \"SERSIC_ELLIPSE\"],\n",
    "}"
   ]
  },
  {
   "cell_type": "code",
   "execution_count": 4,
   "metadata": {},
   "outputs": [],
   "source": [
    "kwarg_model = Lens2(kwargs_model)"
   ]
  },
  {
   "cell_type": "code",
   "execution_count": 5,
   "metadata": {},
   "outputs": [],
   "source": [
    "data_class = image_data_class(\n",
    "    kwarg_model,\n",
    "    band=\"i\",\n",
    "    mag_zero_point=27,\n",
    "    delta_pix=0.2,\n",
    "    num_pix=35,\n",
    "    transform_pix2angle=np.array([[0.2, 0], [0, 0.2]]),\n",
    ")"
   ]
  },
  {
   "cell_type": "code",
   "execution_count": 6,
   "metadata": {},
   "outputs": [],
   "source": [
    "galaxy_center_pix_x_1 = 17.43411518\n",
    "galaxy_center_pix_y_1 = 16.92526535\n",
    "galaxy_center_pix_x_2 = 16.84335831\n",
    "galaxy_center_pix_y_2 = 16.52869664\n",
    "center_cood_x_1, center_coord_y_1 = data_class.map_pix2coord(\n",
    "    galaxy_center_pix_x_1, galaxy_center_pix_y_1\n",
    ")\n",
    "center_cood_x_2, center_coord_y_2 = data_class.map_pix2coord(\n",
    "    galaxy_center_pix_x_2, galaxy_center_pix_y_2\n",
    ")"
   ]
  },
  {
   "cell_type": "markdown",
   "metadata": {},
   "source": [
    "## Load dc2 galaxies"
   ]
  },
  {
   "cell_type": "code",
   "execution_count": 7,
   "metadata": {},
   "outputs": [],
   "source": [
    "with open(\n",
    "    \"/Users/narayankhadka/downloads/galaxy_sample_dc2_new_all_angle.txt\", \"rb\"\n",
    ") as file:\n",
    "    # Use pickle.load() to load the data from the file\n",
    "    dc2_galaxies = pickle.load(file)"
   ]
  },
  {
   "cell_type": "code",
   "execution_count": 8,
   "metadata": {},
   "outputs": [],
   "source": [
    "dc2_galaxies = Table(dc2_galaxies)"
   ]
  },
  {
   "cell_type": "code",
   "execution_count": 9,
   "metadata": {},
   "outputs": [
    {
     "data": {
      "text/plain": [
       "(61.99284796403353, -36.9900209621661)"
      ]
     },
     "execution_count": 9,
     "metadata": {},
     "output_type": "execute_result"
    }
   ],
   "source": [
    "dc2_galaxies[2][\"ra\"], dc2_galaxies[2][\"dec\"]"
   ]
  },
  {
   "cell_type": "code",
   "execution_count": 10,
   "metadata": {},
   "outputs": [],
   "source": [
    "# Position angle in slsim is defined from east to north. While in DP0, it is defined from\n",
    "# north to east. So, we convert DP0 position angle to slsim convension by substracting\n",
    "# DP0 angle from 90.\n",
    "rotation_angle_1 = np.pi * (90 - dc2_galaxies[2][\"position_angle_true_dc2\"]) / 180\n",
    "rotation_angle_2 = np.pi * (90 - dc2_galaxies[7][\"position_angle_true_dc2\"]) / 180"
   ]
  },
  {
   "cell_type": "code",
   "execution_count": 11,
   "metadata": {},
   "outputs": [],
   "source": [
    "## axis ratios of disk dominated galaxy\n",
    "q_disk_1 = dc2_galaxies[2][\"size_minor_disk_true\"] / dc2_galaxies[2][\"size_disk_true\"]\n",
    "q_bulge_1 = (\n",
    "    dc2_galaxies[2][\"size_minor_bulge_true\"] / dc2_galaxies[2][\"size_bulge_true\"]\n",
    ")\n",
    "q_1 = dc2_galaxies[2][\"size_minor_true\"] / dc2_galaxies[2][\"size_true\"]\n",
    "\n",
    "## axis ratios of bulge dominated galaxy\n",
    "q_disk_2 = dc2_galaxies[7][\"size_minor_disk_true\"] / dc2_galaxies[7][\"size_disk_true\"]\n",
    "q_bulge_2 = (\n",
    "    dc2_galaxies[7][\"size_minor_bulge_true\"] / dc2_galaxies[7][\"size_bulge_true\"]\n",
    ")\n",
    "q_2 = dc2_galaxies[7][\"size_minor_true\"] / dc2_galaxies[7][\"size_true\"]"
   ]
  },
  {
   "cell_type": "code",
   "execution_count": 12,
   "metadata": {},
   "outputs": [],
   "source": [
    "## Disk dominated galaxy\n",
    "epsilon_disk_1 = (1 - q_disk_1) / (1 + q_disk_1)\n",
    "epsilon_bulge_1 = (1 - q_bulge_1) / (1 + q_bulge_1)\n",
    "epsilon_1 = (1 - q_1) / (1 + q_1)\n",
    "\n",
    "## Bulge dominated galaxy\n",
    "epsilon_disk_2 = (1 - q_disk_2) / (1 + q_disk_2)\n",
    "epsilon_bulge_2 = (1 - q_bulge_2) / (1 + q_bulge_2)\n",
    "epsilon_2 = (1 - q_2) / (1 + q_2)"
   ]
  },
  {
   "cell_type": "code",
   "execution_count": 13,
   "metadata": {},
   "outputs": [],
   "source": [
    "## disk dominated\n",
    "e1_disk_1 = epsilon_disk_1 * np.cos(2 * rotation_angle_1)\n",
    "e2_disk_1 = epsilon_disk_1 * np.sin(2 * rotation_angle_1)\n",
    "e1_bulge_1 = epsilon_bulge_1 * np.cos(2 * rotation_angle_1)\n",
    "e2_bulge_1 = epsilon_bulge_1 * np.sin(2 * rotation_angle_1)\n",
    "e1_1 = epsilon_1 * np.cos(2 * rotation_angle_1)\n",
    "e2_1 = epsilon_1 * np.sin(2 * rotation_angle_1)\n",
    "\n",
    "## Bulge dominated\n",
    "e1_disk_2 = epsilon_disk_2 * np.cos(2 * rotation_angle_2)\n",
    "e2_disk_2 = epsilon_disk_2 * np.sin(2 * rotation_angle_2)\n",
    "e1_bulge_2 = epsilon_bulge_2 * np.cos(2 * rotation_angle_2)\n",
    "e2_bulge_2 = epsilon_bulge_2 * np.sin(2 * rotation_angle_2)\n",
    "e1_2 = epsilon_2 * np.cos(2 * rotation_angle_2)\n",
    "e2_2 = epsilon_2 * np.sin(2 * rotation_angle_2)"
   ]
  },
  {
   "cell_type": "code",
   "execution_count": 14,
   "metadata": {},
   "outputs": [
    {
     "data": {
      "text/plain": [
       "(62.00273461841879, -37.00827463174009)"
      ]
     },
     "execution_count": 14,
     "metadata": {},
     "output_type": "execute_result"
    }
   ],
   "source": [
    "dc2_galaxies[7][\"ra\"], dc2_galaxies[7][\"dec\"]"
   ]
  },
  {
   "cell_type": "markdown",
   "metadata": {},
   "source": [
    "## Prepare lenstronomy kwargs from a dc2 galaxy\n",
    "We select galaxies centered at (ra, dec) =  (62.00273461841879, -37.00827463174009) \n",
    "\n",
    "and (61.99284796403353, -36.9900209621661) degree. One can find image of this galaxy in DP0 \n",
    "\n",
    "data. We download image of this galaxy from DP0 and compare it with image of the same galaxy \n",
    "\n",
    "silulated using slsim."
   ]
  },
  {
   "cell_type": "code",
   "execution_count": 15,
   "metadata": {},
   "outputs": [],
   "source": [
    "## lenstronomy kwargs for disk dominated galaxy\n",
    "kwargs_lens_1 = [\n",
    "    {\n",
    "        \"theta_E\": 1,\n",
    "        \"gamma\": 2,\n",
    "        \"e1\": e1_1,\n",
    "        \"e2\": e2_1,\n",
    "        \"center_x\": center_cood_x_1,\n",
    "        \"center_y\": center_coord_y_1,\n",
    "    },\n",
    "    {\n",
    "        \"gamma1\": dc2_galaxies[2][\"shear_1\"],\n",
    "        \"gamma2\": dc2_galaxies[2][\"shear_2\"],\n",
    "        \"ra_0\": 0,\n",
    "        \"dec_0\": 0,\n",
    "    },\n",
    "    {\"kappa\": dc2_galaxies[2][\"convergence\"], \"ra_0\": 0, \"dec_0\": 0},\n",
    "]\n",
    "kwargs_source_1 = None\n",
    "flux_i_1 = 10 ** (-dc2_galaxies[2][\"mag_true_i_lsst\"] / 2.5)\n",
    "mag_bulge_i_1 = -2.5 * np.log10(dc2_galaxies[2][\"bulge_to_total_ratio_i\"] * flux_i_1)\n",
    "mag_disk_i_1 = -2.5 * np.log10(\n",
    "    (1 - dc2_galaxies[2][\"bulge_to_total_ratio_i\"]) * flux_i_1\n",
    ")\n",
    "kwargs_lens_light_i_1 = [\n",
    "    {\n",
    "        \"magnitude\": mag_bulge_i_1,\n",
    "        \"R_sersic\": dc2_galaxies[2][\"size_bulge_true\"],\n",
    "        \"n_sersic\": 4.0,\n",
    "        \"e1\": e1_bulge_1,\n",
    "        \"e2\": e2_bulge_1,\n",
    "        \"center_x\": center_cood_x_1,\n",
    "        \"center_y\": center_coord_y_1,\n",
    "    },\n",
    "    {\n",
    "        \"magnitude\": mag_disk_i_1,\n",
    "        \"R_sersic\": dc2_galaxies[2][\"size_disk_true\"],\n",
    "        \"n_sersic\": 1.0,\n",
    "        \"e1\": e1_disk_1,\n",
    "        \"e2\": e2_disk_1,\n",
    "        \"center_x\": center_cood_x_1,\n",
    "        \"center_y\": center_coord_y_1,\n",
    "    },\n",
    "]\n",
    "flux_r_1 = 10 ** (-dc2_galaxies[2][\"mag_true_r_lsst\"] / 2.5)\n",
    "mag_bulge_r_1 = -2.5 * np.log10(dc2_galaxies[2][\"bulge_to_total_ratio_i\"] * flux_r_1)\n",
    "mag_disk_r_1 = -2.5 * np.log10(\n",
    "    (1 - dc2_galaxies[2][\"bulge_to_total_ratio_i\"]) * flux_r_1\n",
    ")\n",
    "kwargs_lens_light_r_1 = [\n",
    "    {\n",
    "        \"magnitude\": mag_bulge_r_1,\n",
    "        \"R_sersic\": dc2_galaxies[2][\"size_bulge_true\"],\n",
    "        \"n_sersic\": 4.0,\n",
    "        \"e1\": e1_bulge_1,\n",
    "        \"e2\": e2_bulge_1,\n",
    "        \"center_x\": center_cood_x_1,\n",
    "        \"center_y\": center_coord_y_1,\n",
    "    },\n",
    "    {\n",
    "        \"magnitude\": mag_disk_r_1,\n",
    "        \"R_sersic\": dc2_galaxies[2][\"size_disk_true\"],\n",
    "        \"n_sersic\": 1.0,\n",
    "        \"e1\": e1_disk_1,\n",
    "        \"e2\": e2_disk_1,\n",
    "        \"center_x\": center_cood_x_1,\n",
    "        \"center_y\": center_coord_y_1,\n",
    "    },\n",
    "]\n",
    "flux_g_1 = 10 ** (-dc2_galaxies[2][\"mag_true_g_lsst\"] / 2.5)\n",
    "mag_bulge_g_1 = -2.5 * np.log10(dc2_galaxies[2][\"bulge_to_total_ratio_i\"] * flux_g_1)\n",
    "mag_disk_g_1 = -2.5 * np.log10(\n",
    "    (1 - dc2_galaxies[2][\"bulge_to_total_ratio_i\"]) * flux_g_1\n",
    ")\n",
    "kwargs_lens_light_g_1 = [\n",
    "    {\n",
    "        \"magnitude\": mag_bulge_g_1,\n",
    "        \"R_sersic\": dc2_galaxies[2][\"size_bulge_true\"],\n",
    "        \"n_sersic\": 4.0,\n",
    "        \"e1\": e1_bulge_1,\n",
    "        \"e2\": e2_bulge_1,\n",
    "        \"center_x\": center_cood_x_1,\n",
    "        \"center_y\": center_coord_y_1,\n",
    "    },\n",
    "    {\n",
    "        \"magnitude\": mag_disk_g_1,\n",
    "        \"R_sersic\": dc2_galaxies[2][\"size_disk_true\"],\n",
    "        \"n_sersic\": 1.0,\n",
    "        \"e1\": e1_disk_1,\n",
    "        \"e2\": e2_disk_1,\n",
    "        \"center_x\": center_cood_x_1,\n",
    "        \"center_y\": center_coord_y_1,\n",
    "    },\n",
    "]\n",
    "kwargs_ps_1 = None"
   ]
  },
  {
   "cell_type": "code",
   "execution_count": 16,
   "metadata": {},
   "outputs": [],
   "source": [
    "## lenstronomy kwargs for bulge dominated galaxy\n",
    "kwargs_lens_2 = [\n",
    "    {\n",
    "        \"theta_E\": 1,\n",
    "        \"gamma\": 2,\n",
    "        \"e1\": e1_2,\n",
    "        \"e2\": e2_2,\n",
    "        \"center_x\": center_cood_x_2,\n",
    "        \"center_y\": center_coord_y_2,\n",
    "    },\n",
    "    {\n",
    "        \"gamma1\": dc2_galaxies[7][\"shear_1\"],\n",
    "        \"gamma2\": dc2_galaxies[7][\"shear_2\"],\n",
    "        \"ra_0\": 0,\n",
    "        \"dec_0\": 0,\n",
    "    },\n",
    "    {\"kappa\": dc2_galaxies[7][\"convergence\"], \"ra_0\": 0, \"dec_0\": 0},\n",
    "]\n",
    "kwargs_source_2 = None\n",
    "flux_i_2 = 10 ** (-dc2_galaxies[7][\"mag_true_i_lsst\"] / 2.5)\n",
    "mag_bulge_i_2 = -2.5 * np.log10(dc2_galaxies[7][\"bulge_to_total_ratio_i\"] * flux_i_2)\n",
    "mag_disk_i_2 = -2.5 * np.log10(\n",
    "    (1 - dc2_galaxies[7][\"bulge_to_total_ratio_i\"]) * flux_i_2\n",
    ")\n",
    "kwargs_lens_light_i_2 = [\n",
    "    {\n",
    "        \"magnitude\": mag_bulge_i_2,\n",
    "        \"R_sersic\": dc2_galaxies[7][\"size_bulge_true\"],\n",
    "        \"n_sersic\": 4.0,\n",
    "        \"e1\": e1_bulge_2,\n",
    "        \"e2\": e2_bulge_2,\n",
    "        \"center_x\": center_cood_x_2,\n",
    "        \"center_y\": center_coord_y_2,\n",
    "    },\n",
    "    {\n",
    "        \"magnitude\": mag_disk_i_2,\n",
    "        \"R_sersic\": dc2_galaxies[7][\"size_disk_true\"],\n",
    "        \"n_sersic\": 1.0,\n",
    "        \"e1\": e1_disk_2,\n",
    "        \"e2\": e2_disk_2,\n",
    "        \"center_x\": center_cood_x_2,\n",
    "        \"center_y\": center_coord_y_2,\n",
    "    },\n",
    "]\n",
    "flux_r_2 = 10 ** (-dc2_galaxies[7][\"mag_true_r_lsst\"] / 2.5)\n",
    "mag_bulge_r_2 = -2.5 * np.log10(dc2_galaxies[7][\"bulge_to_total_ratio_i\"] * flux_r_2)\n",
    "mag_disk_r_2 = -2.5 * np.log10(\n",
    "    (1 - dc2_galaxies[7][\"bulge_to_total_ratio_i\"]) * flux_r_2\n",
    ")\n",
    "kwargs_lens_light_r_2 = [\n",
    "    {\n",
    "        \"magnitude\": mag_bulge_r_2,\n",
    "        \"R_sersic\": dc2_galaxies[7][\"size_bulge_true\"],\n",
    "        \"n_sersic\": 4.0,\n",
    "        \"e1\": e1_bulge_2,\n",
    "        \"e2\": e2_bulge_2,\n",
    "        \"center_x\": center_cood_x_2,\n",
    "        \"center_y\": center_coord_y_2,\n",
    "    },\n",
    "    {\n",
    "        \"magnitude\": mag_disk_r_2,\n",
    "        \"R_sersic\": dc2_galaxies[7][\"size_disk_true\"],\n",
    "        \"n_sersic\": 1.0,\n",
    "        \"e1\": e1_disk_2,\n",
    "        \"e2\": e2_disk_2,\n",
    "        \"center_x\": center_cood_x_2,\n",
    "        \"center_y\": center_coord_y_2,\n",
    "    },\n",
    "]\n",
    "flux_g_2 = 10 ** (-dc2_galaxies[7][\"mag_true_g_lsst\"] / 2.5)\n",
    "mag_bulge_g_2 = -2.5 * np.log10(dc2_galaxies[7][\"bulge_to_total_ratio_i\"] * flux_g_2)\n",
    "mag_disk_g_2 = -2.5 * np.log10(\n",
    "    (1 - dc2_galaxies[7][\"bulge_to_total_ratio_i\"]) * flux_g_2\n",
    ")\n",
    "kwargs_lens_light_g_2 = [\n",
    "    {\n",
    "        \"magnitude\": mag_bulge_g_2,\n",
    "        \"R_sersic\": dc2_galaxies[7][\"size_bulge_true\"],\n",
    "        \"n_sersic\": 4.0,\n",
    "        \"e1\": e1_bulge_2,\n",
    "        \"e2\": e2_bulge_2,\n",
    "        \"center_x\": center_cood_x_2,\n",
    "        \"center_y\": center_coord_y_2,\n",
    "    },\n",
    "    {\n",
    "        \"magnitude\": mag_disk_g_2,\n",
    "        \"R_sersic\": dc2_galaxies[7][\"size_disk_true\"],\n",
    "        \"n_sersic\": 1.0,\n",
    "        \"e1\": e1_disk_2,\n",
    "        \"e2\": e2_disk_2,\n",
    "        \"center_x\": center_cood_x_2,\n",
    "        \"center_y\": center_coord_y_2,\n",
    "    },\n",
    "]\n",
    "kwargs_ps_2 = None"
   ]
  },
  {
   "cell_type": "markdown",
   "metadata": {},
   "source": [
    "## Initiate Lens class for each band"
   ]
  },
  {
   "cell_type": "code",
   "execution_count": 17,
   "metadata": {},
   "outputs": [],
   "source": [
    "## disk dominated galaxy\n",
    "lens_class_i_1 = Lens1(\n",
    "    kwargs_model, kwargs_lens_1, kwargs_source_1, kwargs_lens_light_i_1, kwargs_ps_1\n",
    ")\n",
    "lens_class_r_1 = Lens1(\n",
    "    kwargs_model, kwargs_lens_1, kwargs_source_1, kwargs_lens_light_r_1, kwargs_ps_1\n",
    ")\n",
    "lens_class_g_1 = Lens1(\n",
    "    kwargs_model, kwargs_lens_1, kwargs_source_1, kwargs_lens_light_g_1, kwargs_ps_1\n",
    ")\n",
    "\n",
    "## Bulge dominated galaxy\n",
    "lens_class_i_2 = Lens1(\n",
    "    kwargs_model, kwargs_lens_2, kwargs_source_2, kwargs_lens_light_i_2, kwargs_ps_2\n",
    ")\n",
    "lens_class_r_2 = Lens1(\n",
    "    kwargs_model, kwargs_lens_2, kwargs_source_2, kwargs_lens_light_r_2, kwargs_ps_2\n",
    ")\n",
    "lens_class_g_2 = Lens1(\n",
    "    kwargs_model, kwargs_lens_2, kwargs_source_2, kwargs_lens_light_g_2, kwargs_ps_2\n",
    ")"
   ]
  },
  {
   "cell_type": "markdown",
   "metadata": {},
   "source": [
    "## Load psf and variance map for a dc2 galaxy"
   ]
  },
  {
   "cell_type": "code",
   "execution_count": 18,
   "metadata": {},
   "outputs": [],
   "source": [
    "## disk dominated galaxy\n",
    "psf_kernel_i_1 = np.load(\"/Users/narayankhadka/downloads/dc2_galaxy_2_kernel_i.npy\")\n",
    "psf_kernel_r_1 = np.load(\"/Users/narayankhadka/downloads/dc2_galaxy_2_kernel_r.npy\")\n",
    "psf_kernel_g_1 = np.load(\"/Users/narayankhadka/downloads/dc2_galaxy_2_kernel_g.npy\")\n",
    "\n",
    "## Bulge dominated galaxy\n",
    "psf_kernel_i_2 = np.load(\"/Users/narayankhadka/downloads/dc2_galaxy_kernel_i.npy\")\n",
    "psf_kernel_r_2 = np.load(\"/Users/narayankhadka/downloads/dc2_galaxy_kernel_r.npy\")\n",
    "psf_kernel_g_2 = np.load(\"/Users/narayankhadka/downloads/dc2_galaxy_kernel_g.npy\")"
   ]
  },
  {
   "cell_type": "code",
   "execution_count": 19,
   "metadata": {},
   "outputs": [],
   "source": [
    "## disk dominated galaxy\n",
    "dc2_galaxy_variance_i_1 = np.sqrt(\n",
    "    np.load(\"/Users/narayankhadka/downloads/dc2_galaxy_2_variance_i.npy\")\n",
    ")\n",
    "dc2_galaxy_variance_g_1 = np.sqrt(\n",
    "    np.load(\"/Users/narayankhadka/downloads/dc2_galaxy_2_variance_g.npy\")\n",
    ")\n",
    "dc2_galaxy_variance_r_1 = np.sqrt(\n",
    "    np.load(\"/Users/narayankhadka/downloads/dc2_galaxy_2_variance_r.npy\")\n",
    ")\n",
    "\n",
    "## Bulge dominated galaxy\n",
    "dc2_galaxy_variance_i_2 = np.sqrt(\n",
    "    np.load(\"/Users/narayankhadka/downloads/dc2_galaxy_variance_i.npy\")\n",
    ")\n",
    "dc2_galaxy_variance_g_2 = np.sqrt(\n",
    "    np.load(\"/Users/narayankhadka/downloads/dc2_galaxy_variance_g.npy\")\n",
    ")\n",
    "dc2_galaxy_variance_r_2 = np.sqrt(\n",
    "    np.load(\"/Users/narayankhadka/downloads/dc2_galaxy_variance_r.npy\")\n",
    ")"
   ]
  },
  {
   "cell_type": "markdown",
   "metadata": {},
   "source": [
    "## Simulate image of a dc2 galaxy using slsim"
   ]
  },
  {
   "cell_type": "code",
   "execution_count": 20,
   "metadata": {},
   "outputs": [
    {
     "name": "stderr",
     "output_type": "stream",
     "text": [
      "/Users/narayankhadka/lenstronomy/lenstronomy/Data/psf.py:80: UserWarning: Input PSF model has at least one negative element, which is unphysical except for a PSF of an interferometric array.\n",
      "  warnings.warn(\n",
      "/Users/narayankhadka/lenstronomy/lenstronomy/Data/psf.py:80: UserWarning: Input PSF model has at least one negative element, which is unphysical except for a PSF of an interferometric array.\n",
      "  warnings.warn(\n"
     ]
    }
   ],
   "source": [
    "## disk dominated galaxy images\n",
    "dc2_galaxy_image_from_slsim_i_1 = lens_image(\n",
    "    lens_class_i_1,\n",
    "    band=\"i\",\n",
    "    mag_zero_point=27,\n",
    "    num_pix=35,\n",
    "    psf_kernel=psf_kernel_i_1,\n",
    "    transform_pix2angle=np.array([[0.2, 0], [0, 0.2]]),\n",
    "    exposure_time=None,\n",
    "    t_obs=None,\n",
    "    std_gaussian_noise=dc2_galaxy_variance_i_1,\n",
    "    with_source=False,\n",
    "    with_deflector=True,\n",
    "    angle_rot=0,\n",
    ")\n",
    "dc2_galaxy_image_from_slsim_g_1 = lens_image(\n",
    "    lens_class_g_1,\n",
    "    band=\"g\",\n",
    "    mag_zero_point=27,\n",
    "    num_pix=35,\n",
    "    psf_kernel=psf_kernel_g_1,\n",
    "    transform_pix2angle=np.array([[0.2, 0], [0, 0.2]]),\n",
    "    exposure_time=None,\n",
    "    t_obs=None,\n",
    "    std_gaussian_noise=dc2_galaxy_variance_g_1,\n",
    "    with_source=False,\n",
    "    with_deflector=True,\n",
    "    angle_rot=0,\n",
    ")\n",
    "dc2_galaxy_image_from_slsim_r_1 = lens_image(\n",
    "    lens_class_r_1,\n",
    "    band=\"r\",\n",
    "    mag_zero_point=27,\n",
    "    num_pix=35,\n",
    "    psf_kernel=psf_kernel_r_1,\n",
    "    transform_pix2angle=np.array([[0.2, 0], [0, 0.2]]),\n",
    "    exposure_time=None,\n",
    "    t_obs=None,\n",
    "    std_gaussian_noise=dc2_galaxy_variance_r_1,\n",
    "    with_source=False,\n",
    "    with_deflector=True,\n",
    "    angle_rot=0,\n",
    ")"
   ]
  },
  {
   "cell_type": "code",
   "execution_count": 86,
   "metadata": {},
   "outputs": [
    {
     "name": "stderr",
     "output_type": "stream",
     "text": [
      "/Users/narayankhadka/lenstronomy/lenstronomy/Data/psf.py:80: UserWarning: Input PSF model has at least one negative element, which is unphysical except for a PSF of an interferometric array.\n",
      "  warnings.warn(\n"
     ]
    }
   ],
   "source": [
    "## disk dominated galaxy images\n",
    "dc2_galaxy_image_from_slsim_i_1_test = lens_image(\n",
    "    lens_class_i_1,\n",
    "    band=\"i\",\n",
    "    mag_zero_point=27,\n",
    "    num_pix=35,\n",
    "    psf_kernel=psf_kernel_i_1,\n",
    "    transform_pix2angle=np.array([[0.2, 0], [0, 0.2]]),\n",
    "    exposure_time=None,\n",
    "    t_obs=None,\n",
    "    std_gaussian_noise=dc2_galaxy_variance_i_1,\n",
    "    with_source=False,\n",
    "    with_deflector=True,\n",
    "    angle_rot=0,\n",
    ")\n",
    "dc2_galaxy_image_from_slsim_g_1_test = lens_image(\n",
    "    lens_class_g_1,\n",
    "    band=\"g\",\n",
    "    mag_zero_point=27,\n",
    "    num_pix=35,\n",
    "    psf_kernel=psf_kernel_g_1,\n",
    "    transform_pix2angle=np.array([[0.2, 0], [0, 0.2]]),\n",
    "    exposure_time=None,\n",
    "    t_obs=None,\n",
    "    std_gaussian_noise=dc2_galaxy_variance_g_1,\n",
    "    with_source=False,\n",
    "    with_deflector=True,\n",
    "    angle_rot=0,\n",
    ")\n",
    "dc2_galaxy_image_from_slsim_r_1_test = lens_image(\n",
    "    lens_class_r_1,\n",
    "    band=\"r\",\n",
    "    mag_zero_point=27,\n",
    "    num_pix=35,\n",
    "    psf_kernel=psf_kernel_r_1,\n",
    "    transform_pix2angle=np.array([[0.2, 0], [0, 0.2]]),\n",
    "    exposure_time=None,\n",
    "    t_obs=None,\n",
    "    std_gaussian_noise=dc2_galaxy_variance_r_1,\n",
    "    with_source=False,\n",
    "    with_deflector=True,\n",
    "    angle_rot=0,\n",
    ")"
   ]
  },
  {
   "cell_type": "code",
   "execution_count": 21,
   "metadata": {},
   "outputs": [],
   "source": [
    "## Bulge dominated galaxy images\n",
    "dc2_galaxy_image_from_slsim_i_2 = lens_image(\n",
    "    lens_class_i_2,\n",
    "    band=\"i\",\n",
    "    mag_zero_point=27,\n",
    "    num_pix=35,\n",
    "    psf_kernel=psf_kernel_i_2,\n",
    "    transform_pix2angle=np.array([[0.2, 0], [0, 0.2]]),\n",
    "    exposure_time=None,\n",
    "    t_obs=None,\n",
    "    std_gaussian_noise=dc2_galaxy_variance_i_2,\n",
    "    with_source=False,\n",
    "    with_deflector=True,\n",
    "    angle_rot=0,\n",
    ")\n",
    "dc2_galaxy_image_from_slsim_g_2 = lens_image(\n",
    "    lens_class_g_2,\n",
    "    band=\"g\",\n",
    "    mag_zero_point=27,\n",
    "    num_pix=35,\n",
    "    psf_kernel=psf_kernel_g_2,\n",
    "    transform_pix2angle=np.array([[0.2, 0], [0, 0.2]]),\n",
    "    exposure_time=None,\n",
    "    t_obs=None,\n",
    "    std_gaussian_noise=dc2_galaxy_variance_g_2,\n",
    "    with_source=False,\n",
    "    with_deflector=True,\n",
    "    angle_rot=0,\n",
    ")\n",
    "dc2_galaxy_image_from_slsim_r_2 = lens_image(\n",
    "    lens_class_r_2,\n",
    "    band=\"r\",\n",
    "    mag_zero_point=27,\n",
    "    num_pix=35,\n",
    "    psf_kernel=psf_kernel_r_2,\n",
    "    transform_pix2angle=np.array([[0.2, 0], [0, 0.2]]),\n",
    "    exposure_time=None,\n",
    "    t_obs=None,\n",
    "    std_gaussian_noise=dc2_galaxy_variance_r_2,\n",
    "    with_source=False,\n",
    "    with_deflector=True,\n",
    "    angle_rot=0,\n",
    ")"
   ]
  },
  {
   "cell_type": "code",
   "execution_count": 85,
   "metadata": {},
   "outputs": [
    {
     "name": "stderr",
     "output_type": "stream",
     "text": [
      "/Users/narayankhadka/lenstronomy/lenstronomy/Data/psf.py:80: UserWarning: Input PSF model has at least one negative element, which is unphysical except for a PSF of an interferometric array.\n",
      "  warnings.warn(\n"
     ]
    }
   ],
   "source": [
    "## Bulge dominated galaxy images for noise testing\n",
    "dc2_galaxy_image_from_slsim_i_2_test = lens_image(\n",
    "    lens_class_i_2,\n",
    "    band=\"i\",\n",
    "    mag_zero_point=27,\n",
    "    num_pix=35,\n",
    "    psf_kernel=psf_kernel_i_2,\n",
    "    transform_pix2angle=np.array([[0.2, 0], [0, 0.2]]),\n",
    "    exposure_time=None,\n",
    "    t_obs=None,\n",
    "    std_gaussian_noise=dc2_galaxy_variance_i_2,\n",
    "    with_source=False,\n",
    "    with_deflector=True,\n",
    "    angle_rot=0,\n",
    ")\n",
    "dc2_galaxy_image_from_slsim_g_2_test = lens_image(\n",
    "    lens_class_g_2,\n",
    "    band=\"g\",\n",
    "    mag_zero_point=27,\n",
    "    num_pix=35,\n",
    "    psf_kernel=psf_kernel_g_2,\n",
    "    transform_pix2angle=np.array([[0.2, 0], [0, 0.2]]),\n",
    "    exposure_time=None,\n",
    "    t_obs=None,\n",
    "    std_gaussian_noise=dc2_galaxy_variance_g_2,\n",
    "    with_source=False,\n",
    "    with_deflector=True,\n",
    "    angle_rot=0,\n",
    ")\n",
    "dc2_galaxy_image_from_slsim_r_2_test = lens_image(\n",
    "    lens_class_r_2,\n",
    "    band=\"r\",\n",
    "    mag_zero_point=27,\n",
    "    num_pix=35,\n",
    "    psf_kernel=psf_kernel_r_2,\n",
    "    transform_pix2angle=np.array([[0.2, 0], [0, 0.2]]),\n",
    "    exposure_time=None,\n",
    "    t_obs=None,\n",
    "    std_gaussian_noise=dc2_galaxy_variance_r_2,\n",
    "    with_source=False,\n",
    "    with_deflector=True,\n",
    "    angle_rot=0,\n",
    ")"
   ]
  },
  {
   "cell_type": "markdown",
   "metadata": {},
   "source": [
    "## Load dc2 galaxy image from DP0"
   ]
  },
  {
   "cell_type": "code",
   "execution_count": 22,
   "metadata": {},
   "outputs": [],
   "source": [
    "## disk dominated galaxy\n",
    "dc2_galaxy_image_from_dp0_i_1 = np.load(\n",
    "    \"/Users/narayankhadka/downloads/dc2_galaxy_2_i.npy\"\n",
    ")\n",
    "dc2_galaxy_image_from_dp0_r_1 = np.load(\n",
    "    \"/Users/narayankhadka/downloads/dc2_galaxy_2_r.npy\"\n",
    ")\n",
    "dc2_galaxy_image_from_dp0_g_1 = np.load(\n",
    "    \"/Users/narayankhadka/downloads/dc2_galaxy_2_g.npy\"\n",
    ")\n",
    "\n",
    "## Bulge dominated galaxy\n",
    "dc2_galaxy_image_from_dp0_i_2 = np.load(\n",
    "    \"/Users/narayankhadka/downloads/dc2_galaxy_i.npy\"\n",
    ")\n",
    "dc2_galaxy_image_from_dp0_r_2 = np.load(\n",
    "    \"/Users/narayankhadka/downloads/dc2_galaxy_r.npy\"\n",
    ")\n",
    "dc2_galaxy_image_from_dp0_g_2 = np.load(\n",
    "    \"/Users/narayankhadka/downloads/dc2_galaxy_g.npy\"\n",
    ")"
   ]
  },
  {
   "cell_type": "markdown",
   "metadata": {},
   "source": [
    "## Compute the difference between two different realization of SLSim."
   ]
  },
  {
   "cell_type": "code",
   "execution_count": 89,
   "metadata": {},
   "outputs": [],
   "source": [
    "##disk dominated galaxy\n",
    "diff_i_1_test = dc2_galaxy_image_from_slsim_i_1 - dc2_galaxy_image_from_slsim_i_1_test\n",
    "diff_r_1_test = dc2_galaxy_image_from_slsim_r_1 - dc2_galaxy_image_from_slsim_r_1_test\n",
    "diff_g_1_test = dc2_galaxy_image_from_slsim_g_1 - dc2_galaxy_image_from_slsim_g_1_test\n",
    "diff_list_1_test = [diff_i_1_test, diff_r_1_test, diff_g_1_test]\n",
    "slsim_slsim_diff_rgb_1 = rgb_image_from_image_list(\n",
    "    image_list=diff_list_1_test, stretch=0.5\n",
    ")\n",
    "\n",
    "##Bulge dominated galaxy\n",
    "diff_i_2_test = dc2_galaxy_image_from_slsim_i_2 - dc2_galaxy_image_from_slsim_i_2_test\n",
    "diff_r_2_test = dc2_galaxy_image_from_slsim_r_2 - dc2_galaxy_image_from_slsim_r_2_test\n",
    "diff_g_2_test = dc2_galaxy_image_from_slsim_g_2 - dc2_galaxy_image_from_slsim_g_2_test\n",
    "diff_list_2_test = [diff_i_2_test, diff_r_2_test, diff_g_2_test]\n",
    "slsim_slsim_diff_rgb_2 = rgb_image_from_image_list(\n",
    "    image_list=diff_list_2_test, stretch=0.5\n",
    ")"
   ]
  },
  {
   "cell_type": "markdown",
   "metadata": {},
   "source": [
    "## Compute the difference between slsim and DP0 \n",
    "## images of the same galaxy"
   ]
  },
  {
   "cell_type": "code",
   "execution_count": 23,
   "metadata": {},
   "outputs": [],
   "source": [
    "##disk dominated galaxy\n",
    "diff_i_1 = dc2_galaxy_image_from_slsim_i_1 - dc2_galaxy_image_from_dp0_i_1\n",
    "diff_r_1 = dc2_galaxy_image_from_slsim_r_1 - dc2_galaxy_image_from_dp0_r_1\n",
    "diff_g_1 = dc2_galaxy_image_from_slsim_g_1 - dc2_galaxy_image_from_dp0_g_1\n",
    "\n",
    "##Bulge dominated galaxy\n",
    "diff_i_2 = dc2_galaxy_image_from_slsim_i_2 - dc2_galaxy_image_from_dp0_i_2\n",
    "diff_r_2 = dc2_galaxy_image_from_slsim_r_2 - dc2_galaxy_image_from_dp0_r_2\n",
    "diff_g_2 = dc2_galaxy_image_from_slsim_g_2 - dc2_galaxy_image_from_dp0_g_2"
   ]
  },
  {
   "cell_type": "markdown",
   "metadata": {},
   "source": [
    "## Plot images and residual in i-band"
   ]
  },
  {
   "cell_type": "code",
   "execution_count": 24,
   "metadata": {},
   "outputs": [
    {
     "data": {
      "text/plain": [
       "(-0.5, 34.5, -0.5, 34.5)"
      ]
     },
     "execution_count": 24,
     "metadata": {},
     "output_type": "execute_result"
    },
    {
     "data": {
      "image/png": "[encoded data removed]",
      "text/plain": [
       "<Figure size 864x288 with 3 Axes>"
      ]
     },
     "metadata": {
      "needs_background": "light"
     },
     "output_type": "display_data"
    }
   ],
   "source": [
    "##Disk dominated\n",
    "# This is a comparision of an image of a galaxy from DP0 at\n",
    "# (ra, dec)= (61.99284796403353, -36.9900209621661) degree. This comparision is in\n",
    "# i-band.\n",
    "global_min = min(\n",
    "    dc2_galaxy_image_from_slsim_i_1.min(),\n",
    "    dc2_galaxy_image_from_dp0_i_1.min(),\n",
    "    diff_i_1.min(),\n",
    ")\n",
    "global_max = max(\n",
    "    dc2_galaxy_image_from_slsim_i_1.max(),\n",
    "    dc2_galaxy_image_from_dp0_i_1.max(),\n",
    "    diff_i_1.max(),\n",
    ")\n",
    "# Plotting the images\n",
    "plt.figure(figsize=(12, 4))\n",
    "plt.subplot(1, 3, 1)\n",
    "plt.imshow(\n",
    "    dc2_galaxy_image_from_slsim_i_1, origin=\"lower\", vmin=global_min, vmax=global_max\n",
    ")\n",
    "plt.title(\"Galaxy image from slsim\")\n",
    "plt.axis(\"off\")  # Turn off axis labels\n",
    "\n",
    "plt.subplot(1, 3, 2)\n",
    "plt.imshow(\n",
    "    dc2_galaxy_image_from_dp0_i_1, origin=\"lower\", vmin=global_min, vmax=global_max\n",
    ")\n",
    "plt.title(\"Galaxy image from DP0\")\n",
    "plt.axis(\"off\")\n",
    "\n",
    "plt.subplot(1, 3, 3)\n",
    "plt.imshow(diff_i_2, origin=\"lower\", vmin=global_min, vmax=global_max)\n",
    "plt.title(\"Residual\")\n",
    "plt.axis(\"off\")"
   ]
  },
  {
   "cell_type": "code",
   "execution_count": 25,
   "metadata": {},
   "outputs": [
    {
     "data": {
      "image/png": "[encoded data removed]",
      "text/plain": [
       "<Figure size 864x288 with 3 Axes>"
      ]
     },
     "metadata": {
      "needs_background": "light"
     },
     "output_type": "display_data"
    }
   ],
   "source": [
    "# This is a comparision of an image of a galaxy from DP0 at\n",
    "# (ra, dec)= (62.00273461841879, -37.00827463174009) degree. This comparision is in\n",
    "# i-band.\n",
    "global_min = min(\n",
    "    dc2_galaxy_image_from_slsim_i_2.min(),\n",
    "    dc2_galaxy_image_from_dp0_i_2.min(),\n",
    "    diff_i_2.min(),\n",
    ")\n",
    "global_max = max(\n",
    "    dc2_galaxy_image_from_slsim_i_2.max(),\n",
    "    dc2_galaxy_image_from_dp0_i_2.max(),\n",
    "    diff_i_2.max(),\n",
    ")\n",
    "# Plotting the images\n",
    "plt.figure(figsize=(12, 4))\n",
    "plt.subplot(1, 3, 1)\n",
    "plt.imshow(\n",
    "    dc2_galaxy_image_from_slsim_i_2, origin=\"lower\", vmin=global_min, vmax=global_max\n",
    ")\n",
    "plt.title(\"Galaxy image from slsim\")\n",
    "plt.axis(\"off\")  # Turn off axis labels\n",
    "\n",
    "plt.subplot(1, 3, 2)\n",
    "plt.imshow(\n",
    "    dc2_galaxy_image_from_dp0_i_2, origin=\"lower\", vmin=global_min, vmax=global_max\n",
    ")\n",
    "plt.title(\"Galaxy image from DP0\")\n",
    "plt.axis(\"off\")\n",
    "\n",
    "plt.subplot(1, 3, 3)\n",
    "plt.imshow(diff_i_2, origin=\"lower\", vmin=global_min, vmax=global_max)\n",
    "plt.title(\"Residual\")\n",
    "plt.axis(\"off\")\n",
    "\n",
    "plt.show()"
   ]
  },
  {
   "cell_type": "markdown",
   "metadata": {},
   "source": [
    "## Visualize these images in RGB color"
   ]
  },
  {
   "cell_type": "code",
   "execution_count": 26,
   "metadata": {},
   "outputs": [],
   "source": [
    "## disk dominated\n",
    "slsim_image_list_1 = [\n",
    "    dc2_galaxy_image_from_slsim_i_1,\n",
    "    dc2_galaxy_image_from_slsim_r_1,\n",
    "    dc2_galaxy_image_from_slsim_g_1,\n",
    "]\n",
    "## Bulge dominated\n",
    "slsim_image_list_2 = [\n",
    "    dc2_galaxy_image_from_slsim_i_2,\n",
    "    dc2_galaxy_image_from_slsim_r_2,\n",
    "    dc2_galaxy_image_from_slsim_g_2,\n",
    "]"
   ]
  },
  {
   "cell_type": "code",
   "execution_count": 27,
   "metadata": {},
   "outputs": [],
   "source": [
    "## disk dominated\n",
    "slsim_rgb_image_1 = rgb_image_from_image_list(\n",
    "    image_list=slsim_image_list_1, stretch=0.5\n",
    ")\n",
    "\n",
    "## Bulge dominated\n",
    "slsim_rgb_image_2 = rgb_image_from_image_list(\n",
    "    image_list=slsim_image_list_2, stretch=0.5\n",
    ")"
   ]
  },
  {
   "cell_type": "code",
   "execution_count": 28,
   "metadata": {},
   "outputs": [],
   "source": [
    "## disk dominated\n",
    "dp0_image_list_1 = [\n",
    "    dc2_galaxy_image_from_dp0_i_1,\n",
    "    dc2_galaxy_image_from_dp0_r_1,\n",
    "    dc2_galaxy_image_from_dp0_g_1,\n",
    "]\n",
    "\n",
    "## Bulge dominated\n",
    "dp0_image_list_2 = [\n",
    "    dc2_galaxy_image_from_dp0_i_2,\n",
    "    dc2_galaxy_image_from_dp0_r_2,\n",
    "    dc2_galaxy_image_from_dp0_g_2,\n",
    "]"
   ]
  },
  {
   "cell_type": "code",
   "execution_count": 29,
   "metadata": {},
   "outputs": [],
   "source": [
    "## disk dominated\n",
    "dp0_rgb_image_1 = rgb_image_from_image_list(image_list=dp0_image_list_1, stretch=0.5)\n",
    "\n",
    "## Bulge dominated\n",
    "dp0_rgb_image_2 = rgb_image_from_image_list(image_list=dp0_image_list_2, stretch=0.5)"
   ]
  },
  {
   "cell_type": "code",
   "execution_count": 30,
   "metadata": {},
   "outputs": [],
   "source": [
    "## disk dominated\n",
    "diff_list_1 = [diff_i_1, diff_r_1, diff_g_1]\n",
    "## Bulge dominated\n",
    "diff_list_2 = [diff_i_2, diff_r_2, diff_g_2]"
   ]
  },
  {
   "cell_type": "code",
   "execution_count": 31,
   "metadata": {},
   "outputs": [],
   "source": [
    "## disk dominated\n",
    "rgb_diff_1 = rgb_image_from_image_list(image_list=diff_list_1, stretch=0.5)\n",
    "## bulge dominated\n",
    "rgb_diff_2 = rgb_image_from_image_list(image_list=diff_list_2, stretch=0.5)"
   ]
  },
  {
   "cell_type": "code",
   "execution_count": 32,
   "metadata": {},
   "outputs": [
    {
     "data": {
      "image/png": "[encoded data removed]",
      "text/plain": [
       "<Figure size 864x288 with 3 Axes>"
      ]
     },
     "metadata": {
      "needs_background": "light"
     },
     "output_type": "display_data"
    }
   ],
   "source": [
    "## disk dominated\n",
    "# This is a comparision of an image of galaxy from DP0 at\n",
    "# (ra, dec)= (61.99284796403353, -36.9900209621661) degree.\n",
    "global_min = min(slsim_rgb_image_1.min(), dp0_rgb_image_1.min(), rgb_diff_1.min())\n",
    "global_max = max(slsim_rgb_image_1.max(), dp0_rgb_image_1.max(), rgb_diff_1.max())\n",
    "# Plotting the images\n",
    "plt.figure(figsize=(12, 4))\n",
    "plt.subplot(1, 3, 1)\n",
    "plt.imshow(slsim_rgb_image_1, origin=\"lower\", vmin=global_min, vmax=global_max)\n",
    "plt.title(\"Galaxy image from slsim\")\n",
    "plt.axis(\"off\")  # Turn off axis labels\n",
    "\n",
    "plt.subplot(1, 3, 2)\n",
    "plt.imshow(dp0_rgb_image_1, origin=\"lower\", vmin=global_min, vmax=global_max)\n",
    "plt.title(\"Galaxy image from DP0\")\n",
    "plt.axis(\"off\")\n",
    "\n",
    "\n",
    "plt.subplot(1, 3, 3)\n",
    "plt.imshow(rgb_diff_1, origin=\"lower\", vmin=global_min, vmax=global_max)\n",
    "plt.title(\"Residual\")\n",
    "plt.axis(\"off\")\n",
    "\n",
    "plt.show()"
   ]
  },
  {
   "cell_type": "code",
   "execution_count": 33,
   "metadata": {},
   "outputs": [
    {
     "data": {
      "image/png": "[encoded data removed]",
      "text/plain": [
       "<Figure size 864x288 with 3 Axes>"
      ]
     },
     "metadata": {
      "needs_background": "light"
     },
     "output_type": "display_data"
    }
   ],
   "source": [
    "## Bulge dominated\n",
    "# This is a comparision of an image of galaxy from DP0 at\n",
    "# (ra, dec)= (62.00273461841879, -37.00827463174009) degree.\n",
    "global_min = min(slsim_rgb_image_2.min(), dp0_rgb_image_2.min(), rgb_diff_2.min())\n",
    "global_max = max(slsim_rgb_image_2.max(), dp0_rgb_image_2.max(), rgb_diff_2.max())\n",
    "# Plotting the images\n",
    "plt.figure(figsize=(12, 4))\n",
    "plt.subplot(1, 3, 1)\n",
    "plt.imshow(slsim_rgb_image_2, origin=\"lower\", vmin=global_min, vmax=global_max)\n",
    "plt.title(\"Galaxy image from slsim\")\n",
    "plt.axis(\"off\")  # Turn off axis labels\n",
    "\n",
    "plt.subplot(1, 3, 2)\n",
    "plt.imshow(dp0_rgb_image_2, origin=\"lower\", vmin=global_min, vmax=global_max)\n",
    "plt.title(\"Galaxy image from DP0\")\n",
    "plt.axis(\"off\")\n",
    "\n",
    "\n",
    "plt.subplot(1, 3, 3)\n",
    "plt.imshow(rgb_diff_2, origin=\"lower\", vmin=global_min, vmax=global_max)\n",
    "plt.title(\"Residual\")\n",
    "plt.axis(\"off\")\n",
    "\n",
    "plt.show()"
   ]
  },
  {
   "cell_type": "markdown",
   "metadata": {},
   "source": [
    "## Quantitative comparision of SLSim and DP0 images."
   ]
  },
  {
   "cell_type": "code",
   "execution_count": 69,
   "metadata": {},
   "outputs": [],
   "source": [
    "pixel_slsim_disk = slsim_rgb_image_1.flatten()\n",
    "pixel_slsim_bulge = slsim_rgb_image_2.flatten()\n",
    "\n",
    "pixel_dp0_disk = dp0_rgb_image_1.flatten()\n",
    "pixel_dp0_bulge = dp0_rgb_image_2.flatten()\n",
    "pixel_diff_disk = rgb_diff_1.flatten()\n",
    "pixel_diff_bulge = rgb_diff_2.flatten()"
   ]
  },
  {
   "cell_type": "code",
   "execution_count": 99,
   "metadata": {},
   "outputs": [
    {
     "data": {
      "text/plain": [
       "<matplotlib.legend.Legend at 0x7fdf82484850>"
      ]
     },
     "execution_count": 99,
     "metadata": {},
     "output_type": "execute_result"
    },
    {
     "data": {
      "image/png": "[encoded data removed]",
      "text/plain": [
       "<Figure size 432x288 with 1 Axes>"
      ]
     },
     "metadata": {
      "needs_background": "light"
     },
     "output_type": "display_data"
    }
   ],
   "source": [
    "## Comparision of pixel values of a disk dominated galaxy.\n",
    "plt.title(\"Pixel value comparison of a disk dominated galaxy\")\n",
    "plt.hist(pixel_slsim_disk, bins=20, histtype=\"step\", label=\"SLSim pixel values\")\n",
    "plt.hist(pixel_dp0_disk, bins=20, ls=\"--\", histtype=\"step\", label=\"DP0 pixel values\")\n",
    "plt.xlabel(\"Pixel value\")\n",
    "plt.ylabel(\"Number (N)\")\n",
    "plt.legend()"
   ]
  },
  {
   "cell_type": "code",
   "execution_count": 100,
   "metadata": {},
   "outputs": [
    {
     "data": {
      "text/plain": [
       "<matplotlib.legend.Legend at 0x7fdf624ea4c0>"
      ]
     },
     "execution_count": 100,
     "metadata": {},
     "output_type": "execute_result"
    },
    {
     "data": {
      "image/png": "[encoded data removed]",
      "text/plain": [
       "<Figure size 432x288 with 1 Axes>"
      ]
     },
     "metadata": {
      "needs_background": "light"
     },
     "output_type": "display_data"
    }
   ],
   "source": [
    "## Comparision of pixel values of bulge dominated galaxy.\n",
    "plt.title(\"Pixel value comparison of a bulge dominated galaxy.\")\n",
    "plt.hist(\n",
    "    pixel_slsim_bulge,\n",
    "    bins=20,\n",
    "    histtype=\"step\",\n",
    "    label=\"SLSim pixel values\",\n",
    "    color=\"magenta\",\n",
    ")\n",
    "plt.hist(\n",
    "    pixel_dp0_bulge,\n",
    "    ls=\"--\",\n",
    "    bins=20,\n",
    "    histtype=\"step\",\n",
    "    label=\"DP0 pixel values\",\n",
    "    color=\"green\",\n",
    ")\n",
    "plt.xlabel(\"Pixel value\")\n",
    "plt.ylabel(\"Number (N)\")\n",
    "plt.legend()"
   ]
  },
  {
   "cell_type": "code",
   "execution_count": 102,
   "metadata": {},
   "outputs": [
    {
     "data": {
      "text/plain": [
       "<matplotlib.legend.Legend at 0x7fdf62255850>"
      ]
     },
     "execution_count": 102,
     "metadata": {},
     "output_type": "execute_result"
    },
    {
     "data": {
      "image/png": "[encoded data removed]",
      "text/plain": [
       "<Figure size 432x288 with 1 Axes>"
      ]
     },
     "metadata": {
      "needs_background": "light"
     },
     "output_type": "display_data"
    }
   ],
   "source": [
    "## Histogram of pixel difference. \"SLSim-DP0 diff. for a disk dominated galaxy.\" is a\n",
    "# histogram of pixel difference between SLSim and DP0 galaxy image for a disk dominated\n",
    "# galaxy. \"SLSim-DP0 diff. for a bulge dominated galaxy.\" is a\n",
    "# histogram of pixel difference between SLSim and DP0 galaxy image for a bulge dominated\n",
    "# galaxy. \"SLSim-SLSim diff. for a disk dominated galaxy.\" is a\n",
    "# histogram of pixel difference between two realization of a disk dominated galaxy noise\n",
    "# using SLSim. \"SLSim-SLSim diff. for a bulge dominated galaxy.\" is a\n",
    "# histogram of pixel difference between two realization of a bulge dominated galaxy\n",
    "# noise using SLSim.\n",
    "# plt.title(\"Pixel difference\")\n",
    "plt.hist(\n",
    "    pixel_diff_disk,\n",
    "    bins=20,\n",
    "    histtype=\"step\",\n",
    "    label=\"SLSim-DP0 diff. for a disk dominated galaxy.\",\n",
    ")\n",
    "plt.hist(\n",
    "    pixel_diff_bulge,\n",
    "    ls=\"--\",\n",
    "    bins=20,\n",
    "    histtype=\"step\",\n",
    "    label=\"SLSim-DP0 diff. for a bulge dominated galaxy.\",\n",
    ")\n",
    "plt.hist(\n",
    "    slsim_slsim_diff_rgb_1.flatten(),\n",
    "    bins=20,\n",
    "    histtype=\"step\",\n",
    "    label=\"SLSim-SLSim diff. for a disk dominated galaxy.\",\n",
    ")\n",
    "plt.hist(\n",
    "    slsim_slsim_diff_rgb_2.flatten(),\n",
    "    ls=\"--\",\n",
    "    bins=20,\n",
    "    histtype=\"step\",\n",
    "    label=\"SLSim-SLSim diff. for a bulge dominated galaxy.\",\n",
    ")\n",
    "plt.xlabel(\"Difference in pixel value\")\n",
    "plt.ylabel(\"Number (N)\")\n",
    "plt.legend()"
   ]
  },
  {
   "cell_type": "markdown",
   "metadata": {},
   "source": [
    "## Let's simulate an image of a DC2 galaxy using DP0\n",
    "## cutout for background noise and exposure map for \n",
    "## poisson noise.\n",
    "\n",
    "In above method, we directly used variance map to simulate DP0 background noise. Now,\n",
    "\n",
    "we simulate an image of the same galaxy with the different approach. Here, we take a\n",
    "\n",
    "DP0 cutout close to the galaxy image and we use this cutout as a background noise for\n",
    "\n",
    "our simulation. We take the exposure map of the DP0 galaxy image with specified pixel\n",
    "\n",
    "size and use this exposure map to generate poisson noise for our simulated image.\n",
    "\n",
    "Finally, our simulated image have both background noise from DC2 data and poisson noise.\n",
    "\n",
    "This is the approach we use in lens injection in DP0 field."
   ]
  },
  {
   "cell_type": "code",
   "execution_count": 34,
   "metadata": {},
   "outputs": [],
   "source": [
    "## Disk dominated galaxy\n",
    "## These are DP0 cutouts close to the dp0 galaxy which we want to simulate using slsim.\n",
    "dc2_galaxy_background_i_1 = np.load(\n",
    "    \"/Users/narayankhadka/downloads/dc2_2_background_i.npy\"\n",
    ")\n",
    "dc2_galaxy_background_g_1 = np.load(\n",
    "    \"/Users/narayankhadka/downloads/dc2_2_background_g.npy\"\n",
    ")\n",
    "dc2_galaxy_background_r_1 = np.load(\n",
    "    \"/Users/narayankhadka/downloads/dc2_2_background_r.npy\"\n",
    ")\n",
    "\n",
    "## These are exposure map of the dp0 galaxy with in (35, 35) pixel size.\n",
    "dc2_galaxy_exposure_i_1 = np.load(\n",
    "    \"/Users/narayankhadka/downloads/dc2_2_exposure_time_i.npy\"\n",
    ")\n",
    "dc2_galaxy_exposure_g_1 = np.load(\n",
    "    \"/Users/narayankhadka/downloads/dc2_2_exposure_time_g.npy\"\n",
    ")\n",
    "dc2_galaxy_exposure_r_1 = np.load(\n",
    "    \"/Users/narayankhadka/downloads/dc2_2_exposure_time_r.npy\"\n",
    ")"
   ]
  },
  {
   "cell_type": "code",
   "execution_count": 35,
   "metadata": {},
   "outputs": [],
   "source": [
    "## Bulge dominated galaxy\n",
    "## These are DP0 cutouts close to the dp0 galaxy which we want to simulate using slsim.\n",
    "dc2_galaxy_background_i_2 = np.load(\n",
    "    \"/Users/narayankhadka/downloads/dc2_background_i.npy\"\n",
    ")\n",
    "dc2_galaxy_background_g_2 = np.load(\n",
    "    \"/Users/narayankhadka/downloads/dc2_background_g.npy\"\n",
    ")\n",
    "dc2_galaxy_background_r_2 = np.load(\n",
    "    \"/Users/narayankhadka/downloads/dc2_background_r.npy\"\n",
    ")\n",
    "\n",
    "## These are exposure map of the dp0 galaxy with in (35, 35) pixel size.\n",
    "dc2_galaxy_exposure_i_2 = np.load(\n",
    "    \"/Users/narayankhadka/downloads/dc2_exposure_time_i.npy\"\n",
    ")\n",
    "dc2_galaxy_exposure_g_2 = np.load(\n",
    "    \"/Users/narayankhadka/downloads/dc2_exposure_time_g.npy\"\n",
    ")\n",
    "dc2_galaxy_exposure_r_2 = np.load(\n",
    "    \"/Users/narayankhadka/downloads/dc2_exposure_time_r.npy\"\n",
    ")"
   ]
  },
  {
   "cell_type": "code",
   "execution_count": 36,
   "metadata": {},
   "outputs": [],
   "source": [
    "## Here we simulate disk dominated galaxy image using slsim and this includes\n",
    "# poisson noise.\n",
    "dc2_galaxy_image_from_slsim_i_21 = lens_image(\n",
    "    lens_class_i_1,\n",
    "    band=\"i\",\n",
    "    mag_zero_point=27,\n",
    "    num_pix=35,\n",
    "    psf_kernel=psf_kernel_i_1,\n",
    "    transform_pix2angle=np.array([[0.2, 0], [0, 0.2]]),\n",
    "    exposure_time=dc2_galaxy_exposure_i_1,\n",
    "    t_obs=None,\n",
    "    std_gaussian_noise=None,\n",
    "    with_source=False,\n",
    "    with_deflector=True,\n",
    "    angle_rot=0,\n",
    ")\n",
    "dc2_galaxy_image_from_slsim_g_21 = lens_image(\n",
    "    lens_class_g_1,\n",
    "    band=\"g\",\n",
    "    mag_zero_point=27,\n",
    "    num_pix=35,\n",
    "    psf_kernel=psf_kernel_g_1,\n",
    "    transform_pix2angle=np.array([[0.2, 0], [0, 0.2]]),\n",
    "    exposure_time=dc2_galaxy_exposure_g_1,\n",
    "    t_obs=None,\n",
    "    std_gaussian_noise=None,\n",
    "    with_source=False,\n",
    "    with_deflector=True,\n",
    "    angle_rot=0,\n",
    ")\n",
    "dc2_galaxy_image_from_slsim_r_21 = lens_image(\n",
    "    lens_class_r_1,\n",
    "    band=\"r\",\n",
    "    mag_zero_point=27,\n",
    "    num_pix=35,\n",
    "    psf_kernel=psf_kernel_r_1,\n",
    "    transform_pix2angle=np.array([[0.2, 0], [0, 0.2]]),\n",
    "    exposure_time=dc2_galaxy_exposure_r_1,\n",
    "    t_obs=None,\n",
    "    std_gaussian_noise=None,\n",
    "    with_source=False,\n",
    "    with_deflector=True,\n",
    "    angle_rot=0,\n",
    ")"
   ]
  },
  {
   "cell_type": "code",
   "execution_count": 37,
   "metadata": {},
   "outputs": [],
   "source": [
    "## Here we simulate bulge dominated galaxy image using slsim and this includes\n",
    "# poisson noise.\n",
    "dc2_galaxy_image_from_slsim_i_22 = lens_image(\n",
    "    lens_class_i_2,\n",
    "    band=\"i\",\n",
    "    mag_zero_point=27,\n",
    "    num_pix=35,\n",
    "    psf_kernel=psf_kernel_i_2,\n",
    "    transform_pix2angle=np.array([[0.2, 0], [0, 0.2]]),\n",
    "    exposure_time=dc2_galaxy_exposure_i_2,\n",
    "    t_obs=None,\n",
    "    std_gaussian_noise=None,\n",
    "    with_source=False,\n",
    "    with_deflector=True,\n",
    "    angle_rot=0,\n",
    ")\n",
    "dc2_galaxy_image_from_slsim_g_22 = lens_image(\n",
    "    lens_class_g_2,\n",
    "    band=\"g\",\n",
    "    mag_zero_point=27,\n",
    "    num_pix=35,\n",
    "    psf_kernel=psf_kernel_g_2,\n",
    "    transform_pix2angle=np.array([[0.2, 0], [0, 0.2]]),\n",
    "    exposure_time=dc2_galaxy_exposure_g_2,\n",
    "    t_obs=None,\n",
    "    std_gaussian_noise=None,\n",
    "    with_source=False,\n",
    "    with_deflector=True,\n",
    "    angle_rot=0,\n",
    ")\n",
    "dc2_galaxy_image_from_slsim_r_22 = lens_image(\n",
    "    lens_class_r_2,\n",
    "    band=\"r\",\n",
    "    mag_zero_point=27,\n",
    "    num_pix=35,\n",
    "    psf_kernel=psf_kernel_r_2,\n",
    "    transform_pix2angle=np.array([[0.2, 0], [0, 0.2]]),\n",
    "    exposure_time=dc2_galaxy_exposure_r_2,\n",
    "    t_obs=None,\n",
    "    std_gaussian_noise=None,\n",
    "    with_source=False,\n",
    "    with_deflector=True,\n",
    "    angle_rot=0,\n",
    ")"
   ]
  },
  {
   "cell_type": "code",
   "execution_count": 38,
   "metadata": {},
   "outputs": [],
   "source": [
    "# Let's add dp0 background/cutouts to the simulated disk galaxy image\n",
    "dc2_galaxy_image_from_slsim_with_dp0_background_cutout_i_1 = (\n",
    "    dc2_galaxy_image_from_slsim_i_21 + dc2_galaxy_background_i_1\n",
    ")\n",
    "dc2_galaxy_image_from_slsim_with_dp0_background_cutout_g_1 = (\n",
    "    dc2_galaxy_image_from_slsim_g_21 + dc2_galaxy_background_g_1\n",
    ")\n",
    "dc2_galaxy_image_from_slsim_with_dp0_background_cutout_r_1 = (\n",
    "    dc2_galaxy_image_from_slsim_r_21 + dc2_galaxy_background_r_1\n",
    ")"
   ]
  },
  {
   "cell_type": "code",
   "execution_count": 39,
   "metadata": {},
   "outputs": [],
   "source": [
    "# Let's add dp0 background/cutouts to the simulated bulge galaxy image\n",
    "dc2_galaxy_image_from_slsim_with_dp0_background_cutout_i_2 = (\n",
    "    dc2_galaxy_image_from_slsim_i_22 + dc2_galaxy_background_i_2\n",
    ")\n",
    "dc2_galaxy_image_from_slsim_with_dp0_background_cutout_g_2 = (\n",
    "    dc2_galaxy_image_from_slsim_g_22 + dc2_galaxy_background_g_2\n",
    ")\n",
    "dc2_galaxy_image_from_slsim_with_dp0_background_cutout_r_2 = (\n",
    "    dc2_galaxy_image_from_slsim_r_22 + dc2_galaxy_background_r_2\n",
    ")"
   ]
  },
  {
   "cell_type": "code",
   "execution_count": 40,
   "metadata": {},
   "outputs": [],
   "source": [
    "##disk dominated\n",
    "## compute the difference between dp0 image and slsim image in each band\n",
    "diff_i_n_1 = (\n",
    "    dc2_galaxy_image_from_slsim_with_dp0_background_cutout_i_1\n",
    "    - dc2_galaxy_image_from_dp0_i_1\n",
    ")\n",
    "diff_r_n_1 = (\n",
    "    dc2_galaxy_image_from_slsim_with_dp0_background_cutout_r_1\n",
    "    - dc2_galaxy_image_from_dp0_r_1\n",
    ")\n",
    "diff_g_n_1 = (\n",
    "    dc2_galaxy_image_from_slsim_with_dp0_background_cutout_g_1\n",
    "    - dc2_galaxy_image_from_dp0_g_1\n",
    ")"
   ]
  },
  {
   "cell_type": "code",
   "execution_count": 41,
   "metadata": {},
   "outputs": [],
   "source": [
    "##bulge dominated\n",
    "## compute the difference between dp0 image and slsim image in each band\n",
    "diff_i_n_2 = (\n",
    "    dc2_galaxy_image_from_slsim_with_dp0_background_cutout_i_2\n",
    "    - dc2_galaxy_image_from_dp0_i_2\n",
    ")\n",
    "diff_r_n_2 = (\n",
    "    dc2_galaxy_image_from_slsim_with_dp0_background_cutout_r_2\n",
    "    - dc2_galaxy_image_from_dp0_r_2\n",
    ")\n",
    "diff_g_n_2 = (\n",
    "    dc2_galaxy_image_from_slsim_with_dp0_background_cutout_g_2\n",
    "    - dc2_galaxy_image_from_dp0_g_2\n",
    ")"
   ]
  },
  {
   "cell_type": "code",
   "execution_count": 42,
   "metadata": {},
   "outputs": [
    {
     "data": {
      "image/png": "[encoded data removed]",
      "text/plain": [
       "<Figure size 864x288 with 3 Axes>"
      ]
     },
     "metadata": {
      "needs_background": "light"
     },
     "output_type": "display_data"
    }
   ],
   "source": [
    "# disk dominated\n",
    "# This is a comparision of an image of galaxy from DP0 at\n",
    "# (ra, dec)= (61.99284796403353, -36.9900209621661) degree.\n",
    "global_min = min(\n",
    "    dc2_galaxy_image_from_slsim_with_dp0_background_cutout_i_1.min(),\n",
    "    dc2_galaxy_image_from_dp0_i_1.min(),\n",
    "    diff_i_n_1.min(),\n",
    ")\n",
    "global_max = max(\n",
    "    dc2_galaxy_image_from_slsim_with_dp0_background_cutout_i_1.max(),\n",
    "    dc2_galaxy_image_from_dp0_i_1.max(),\n",
    "    diff_i_n_1.max(),\n",
    ")\n",
    "# Plotting the images\n",
    "plt.figure(figsize=(12, 4))\n",
    "plt.subplot(1, 3, 1)\n",
    "plt.imshow(\n",
    "    dc2_galaxy_image_from_slsim_with_dp0_background_cutout_i_1,\n",
    "    origin=\"lower\",\n",
    "    vmin=global_min,\n",
    "    vmax=global_max,\n",
    ")\n",
    "plt.title(\"Galaxy image from slsim\")\n",
    "plt.axis(\"off\")  # Turn off axis labels\n",
    "\n",
    "plt.subplot(1, 3, 2)\n",
    "plt.imshow(\n",
    "    dc2_galaxy_image_from_dp0_i_1, origin=\"lower\", vmin=global_min, vmax=global_max\n",
    ")\n",
    "plt.title(\"Galaxy image from DP0\")\n",
    "plt.axis(\"off\")\n",
    "\n",
    "plt.subplot(1, 3, 3)\n",
    "plt.imshow(diff_i_n_1, origin=\"lower\", vmin=global_min, vmax=global_max)\n",
    "plt.title(\"Residual\")\n",
    "plt.axis(\"off\")\n",
    "\n",
    "plt.show()"
   ]
  },
  {
   "cell_type": "code",
   "execution_count": 43,
   "metadata": {},
   "outputs": [
    {
     "data": {
      "image/png": "[encoded data removed]",
      "text/plain": [
       "<Figure size 864x288 with 3 Axes>"
      ]
     },
     "metadata": {
      "needs_background": "light"
     },
     "output_type": "display_data"
    }
   ],
   "source": [
    "# Bulge dominated\n",
    "# This is a comparision of an image of galaxy from DP0 at\n",
    "# (ra, dec)= (62.00273461841879, -37.00827463174009) degree.\n",
    "global_min = min(\n",
    "    dc2_galaxy_image_from_slsim_with_dp0_background_cutout_i_2.min(),\n",
    "    dc2_galaxy_image_from_dp0_i_2.min(),\n",
    "    diff_i_n_2.min(),\n",
    ")\n",
    "global_max = max(\n",
    "    dc2_galaxy_image_from_slsim_with_dp0_background_cutout_i_2.max(),\n",
    "    dc2_galaxy_image_from_dp0_i_2.max(),\n",
    "    diff_i_n_2.max(),\n",
    ")\n",
    "# Plotting the images\n",
    "plt.figure(figsize=(12, 4))\n",
    "plt.subplot(1, 3, 1)\n",
    "plt.imshow(\n",
    "    dc2_galaxy_image_from_slsim_with_dp0_background_cutout_i_2,\n",
    "    origin=\"lower\",\n",
    "    vmin=global_min,\n",
    "    vmax=global_max,\n",
    ")\n",
    "plt.title(\"Galaxy image from slsim\")\n",
    "plt.axis(\"off\")  # Turn off axis labels\n",
    "\n",
    "plt.subplot(1, 3, 2)\n",
    "plt.imshow(\n",
    "    dc2_galaxy_image_from_dp0_i_2, origin=\"lower\", vmin=global_min, vmax=global_max\n",
    ")\n",
    "plt.title(\"Galaxy image from DP0\")\n",
    "plt.axis(\"off\")\n",
    "\n",
    "plt.subplot(1, 3, 3)\n",
    "plt.imshow(diff_i_n_2, origin=\"lower\", vmin=global_min, vmax=global_max)\n",
    "plt.title(\"Residual\")\n",
    "plt.axis(\"off\")\n",
    "\n",
    "plt.show()"
   ]
  },
  {
   "cell_type": "code",
   "execution_count": 44,
   "metadata": {},
   "outputs": [],
   "source": [
    "## Disk dominated\n",
    "## Produce RGB color image for slsim\n",
    "slsim_image_list_n_1 = [\n",
    "    dc2_galaxy_image_from_slsim_with_dp0_background_cutout_i_1,\n",
    "    dc2_galaxy_image_from_slsim_with_dp0_background_cutout_r_1,\n",
    "    dc2_galaxy_image_from_slsim_with_dp0_background_cutout_g_1,\n",
    "]\n",
    "\n",
    "slsim_rgb_image_n_1 = rgb_image_from_image_list(\n",
    "    image_list=slsim_image_list_n_1, stretch=0.5\n",
    ")"
   ]
  },
  {
   "cell_type": "code",
   "execution_count": 45,
   "metadata": {},
   "outputs": [],
   "source": [
    "## Bulge dominated\n",
    "## Produce RGB color image for slsim\n",
    "slsim_image_list_n_2 = [\n",
    "    dc2_galaxy_image_from_slsim_with_dp0_background_cutout_i_2,\n",
    "    dc2_galaxy_image_from_slsim_with_dp0_background_cutout_r_2,\n",
    "    dc2_galaxy_image_from_slsim_with_dp0_background_cutout_g_2,\n",
    "]\n",
    "\n",
    "slsim_rgb_image_n_2 = rgb_image_from_image_list(\n",
    "    image_list=slsim_image_list_n_2, stretch=0.5\n",
    ")"
   ]
  },
  {
   "cell_type": "code",
   "execution_count": 46,
   "metadata": {},
   "outputs": [],
   "source": [
    "## Disk dominated\n",
    "diff_n_list_1 = [diff_i_n_1, diff_r_n_1, diff_g_n_1]\n",
    "\n",
    "## Bulge dominated\n",
    "diff_n_list_2 = [diff_i_n_2, diff_r_n_2, diff_g_n_2]"
   ]
  },
  {
   "cell_type": "code",
   "execution_count": 47,
   "metadata": {},
   "outputs": [],
   "source": [
    "## Disk dominated\n",
    "rgb_diff_nn_1 = rgb_image_from_image_list(image_list=diff_n_list_1, stretch=0.5)\n",
    "\n",
    "## bulge dominated\n",
    "rgb_diff_nn_2 = rgb_image_from_image_list(image_list=diff_n_list_2, stretch=0.5)"
   ]
  },
  {
   "cell_type": "code",
   "execution_count": 48,
   "metadata": {},
   "outputs": [
    {
     "data": {
      "image/png": "[encoded data removed]",
      "text/plain": [
       "<Figure size 864x288 with 3 Axes>"
      ]
     },
     "metadata": {
      "needs_background": "light"
     },
     "output_type": "display_data"
    }
   ],
   "source": [
    "# This is a comparision of an image of galaxy from DP0 at\n",
    "# (ra, dec)= (61.99284796403353, -36.9900209621661) degree.\n",
    "global_min = min(slsim_rgb_image_n_1.min(), dp0_rgb_image_1.min(), rgb_diff_nn_1.min())\n",
    "global_max = max(slsim_rgb_image_n_1.max(), dp0_rgb_image_1.max(), rgb_diff_nn_1.max())\n",
    "# Plotting the images\n",
    "plt.figure(figsize=(12, 4))\n",
    "plt.subplot(1, 3, 1)\n",
    "plt.imshow(slsim_rgb_image_n_1, origin=\"lower\", vmin=global_min, vmax=global_max)\n",
    "plt.title(\"Galaxy image from slsim\")\n",
    "plt.axis(\"off\")  # Turn off axis labels\n",
    "\n",
    "plt.subplot(1, 3, 2)\n",
    "plt.imshow(dp0_rgb_image_1, origin=\"lower\", vmin=global_min, vmax=global_max)\n",
    "plt.title(\"Galaxy image from DP0\")\n",
    "plt.axis(\"off\")\n",
    "\n",
    "\n",
    "plt.subplot(1, 3, 3)\n",
    "plt.imshow(rgb_diff_nn_1, origin=\"lower\", vmin=global_min, vmax=global_max)\n",
    "plt.title(\"Residual\")\n",
    "plt.axis(\"off\")\n",
    "\n",
    "plt.show()"
   ]
  },
  {
   "cell_type": "code",
   "execution_count": 49,
   "metadata": {},
   "outputs": [
    {
     "data": {
      "image/png": "[encoded data removed]",
      "text/plain": [
       "<Figure size 864x288 with 3 Axes>"
      ]
     },
     "metadata": {
      "needs_background": "light"
     },
     "output_type": "display_data"
    }
   ],
   "source": [
    "# This is a comparision of an image of galaxy from DP0 at\n",
    "# (ra, dec)= (62.00273461841879, -37.00827463174009) degree.\n",
    "global_min = min(slsim_rgb_image_n_2.min(), dp0_rgb_image_2.min(), rgb_diff_nn_2.min())\n",
    "global_max = max(slsim_rgb_image_n_2.max(), dp0_rgb_image_2.max(), rgb_diff_nn_2.max())\n",
    "# Plotting the images\n",
    "plt.figure(figsize=(12, 4))\n",
    "plt.subplot(1, 3, 1)\n",
    "plt.imshow(slsim_rgb_image_n_2, origin=\"lower\", vmin=global_min, vmax=global_max)\n",
    "plt.title(\"Galaxy image from slsim\")\n",
    "plt.axis(\"off\")  # Turn off axis labels\n",
    "\n",
    "plt.subplot(1, 3, 2)\n",
    "plt.imshow(dp0_rgb_image_2, origin=\"lower\", vmin=global_min, vmax=global_max)\n",
    "plt.title(\"Galaxy image from DP0\")\n",
    "plt.axis(\"off\")\n",
    "\n",
    "\n",
    "plt.subplot(1, 3, 3)\n",
    "plt.imshow(rgb_diff_nn_2, origin=\"lower\", vmin=global_min, vmax=global_max)\n",
    "plt.title(\"Residual\")\n",
    "plt.axis(\"off\")\n",
    "\n",
    "plt.show()"
   ]
  },
  {
   "cell_type": "code",
   "execution_count": null,
   "metadata": {},
   "outputs": [],
   "source": []
  }
 ],
 "metadata": {
  "kernelspec": {
   "display_name": "base",
   "language": "python",
   "name": "python3"
  },
  "language_info": {
   "codemirror_mode": {
    "name": "ipython",
    "version": 3
   },
   "file_extension": ".py",
   "mimetype": "text/x-python",
   "name": "python",
   "nbconvert_exporter": "python",
   "pygments_lexer": "ipython3",
   "version": "3.9.undefined"
  }
 },
 "nbformat": 4,
 "nbformat_minor": 2
}
