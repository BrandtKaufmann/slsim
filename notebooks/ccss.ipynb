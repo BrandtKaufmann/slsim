{
 "cells": [
  {
   "cell_type": "code",
   "execution_count": 5,
   "metadata": {
    "collapsed": true
   },
   "outputs": [],
   "source": []
  },
  {
   "cell_type": "code",
   "execution_count": 6,
   "outputs": [],
   "source": [
    "from sim_pipeline.Halos.halos_plus_glass import run_halos_without_kde_by_multiprocessing\n",
    "import numpy as np\n",
    "from astropy.cosmology import FlatLambdaCDM\n"
   ],
   "metadata": {
    "collapsed": false
   }
  },
  {
   "cell_type": "code",
   "execution_count": null,
   "outputs": [],
   "source": [
    "cosmo = FlatLambdaCDM(H0=70, Om0=0.3)\n",
    "\n",
    "nk,ng = run_halos_without_kde_by_multiprocessing(n_iterations=500, sky_area=0.0001, samples_number=2,cosmo=cosmo,  m_min=1.5E+11, m_max=None, z_max=1.5)"
   ],
   "metadata": {
    "collapsed": false,
    "pycharm": {
     "is_executing": true
    }
   }
  },
  {
   "cell_type": "code",
   "execution_count": null,
   "outputs": [],
   "source": [
    "import seaborn as sns\n",
    "import matplotlib.pyplot as plt\n",
    "\n",
    "total_plot = sns.jointplot(x=nk, y=ng,kind='hex')\n",
    "total_plot.plot_joint(sns.kdeplot, color=\"r\", zorder=3, levels=5)\n",
    "total_plot.ax_joint.set_xlabel('kappa', fontweight='bold')\n",
    "total_plot.ax_joint.set_ylabel('gamma', fontweight='bold')\n",
    "total_plot.fig.suptitle(\"Kappa and Gamma values without correction\")\n",
    "plt.show()"
   ],
   "metadata": {
    "collapsed": false,
    "pycharm": {
     "is_executing": true
    }
   }
  },
  {
   "cell_type": "code",
   "execution_count": null,
   "outputs": [],
   "source": [
    "from sim_pipeline.Halos.halos_lens import HalosLens\n",
    "from sim_pipeline.Halos.halos_plus_glass import run_certain_redshift_lensext_kde_by_multiprocessing\n",
    "from astropy.cosmology import FlatLambdaCDM\n",
    "cosmo = FlatLambdaCDM(H0=70, Om0=0.3)\n",
    "distribution = run_certain_redshift_lensext_kde_by_multiprocessing(n_iterations=500, sky_area=0.0001, samples_number=2,cosmo=cosmo,  m_min=1.5E+11, m_max=None, z_max=1.5, zs=1.5, zd=0.5)\n",
    "\n",
    "print(distribution)"
   ],
   "metadata": {
    "collapsed": false,
    "pycharm": {
     "is_executing": true
    }
   }
  },
  {
   "cell_type": "code",
   "execution_count": null,
   "outputs": [],
   "source": [
    "import seaborn as sns\n",
    "import matplotlib.pyplot as plt\n",
    "\n",
    "nk1 = [point[0] for point in distribution]\n",
    "ng1 = [point[1] for point in distribution]\n",
    "\n",
    "total_plot = sns.jointplot(x=nk1, y=ng1,kind='hex')\n",
    "total_plot.plot_joint(sns.kdeplot, color=\"r\", zorder=3, levels=5)\n",
    "total_plot.ax_joint.set_xlabel('kappa', fontweight='bold')\n",
    "total_plot.ax_joint.set_ylabel('gamma', fontweight='bold')\n",
    "total_plot.fig.suptitle(\"Kappa and Gamma values with correction\")\n",
    "plt.show()"
   ],
   "metadata": {
    "collapsed": false,
    "pycharm": {
     "is_executing": true
    }
   }
  },
  {
   "cell_type": "code",
   "execution_count": null,
   "outputs": [],
   "source": [],
   "metadata": {
    "collapsed": false,
    "pycharm": {
     "is_executing": true
    }
   }
  },
  {
   "cell_type": "code",
   "execution_count": null,
   "outputs": [],
   "source": [],
   "metadata": {
    "collapsed": false,
    "pycharm": {
     "is_executing": true
    }
   }
  },
  {
   "cell_type": "code",
   "execution_count": null,
   "outputs": [],
   "source": [],
   "metadata": {
    "collapsed": false,
    "pycharm": {
     "is_executing": true
    }
   }
  }
 ],
 "metadata": {
  "kernelspec": {
   "display_name": "Python 3",
   "language": "python",
   "name": "python3"
  },
  "language_info": {
   "codemirror_mode": {
    "name": "ipython",
    "version": 2
   },
   "file_extension": ".py",
   "mimetype": "text/x-python",
   "name": "python",
   "nbconvert_exporter": "python",
   "pygments_lexer": "ipython2",
   "version": "2.7.6"
  }
 },
 "nbformat": 4,
 "nbformat_minor": 0
}
