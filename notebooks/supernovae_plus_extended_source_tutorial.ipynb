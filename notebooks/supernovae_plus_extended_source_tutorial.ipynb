{
 "cells": [
  {
   "cell_type": "code",
   "execution_count": 1,
   "metadata": {},
   "outputs": [],
   "source": [
    "from astropy.cosmology import FlatLambdaCDM\n",
    "from astropy.units import Quantity\n",
    "from slsim.lens_pop import LensPop\n",
    "from astropy import units as u\n",
    "import numpy as np\n",
    "from slsim.image_simulation import lens_image_series\n",
    "from slsim.Plots.plot_functions import create_image_montage_from_image_list"
   ]
  },
  {
   "cell_type": "markdown",
   "metadata": {},
   "source": [
    "## Supernovae plus extended source simulation\n",
    "In this notebook, we simulate population of lensed supernovae and simulate image of a \n",
    "\n",
    "random lensed supernovae. It follows following steps:\n",
    "\n",
    "1. Simulate lensed supernovae population\n",
    "2. Choose a lens at random\n",
    "3. Set observation time and other image configuration\n",
    "4. Simulate image of a selected lens\n",
    "5. Visualize it"
   ]
  },
  {
   "cell_type": "markdown",
   "metadata": {},
   "source": [
    "## Simulate lensed supernovae population"
   ]
  },
  {
   "cell_type": "code",
   "execution_count": 2,
   "metadata": {},
   "outputs": [],
   "source": [
    "# define a cosmology\n",
    "cosmo = FlatLambdaCDM(H0=70, Om0=0.3)\n",
    "\n",
    "\n",
    "# define a sky area\n",
    "sky_area = Quantity(value=1, unit=\"deg2\")\n",
    "\n",
    "\n",
    "# define limits in the intrinsic deflector and source population (in addition to the\n",
    "# skypy config\n",
    "# file)\n",
    "kwargs_deflector_cut = {\"z_min\": 0.01, \"z_max\": 2.5}\n",
    "kwargs_source_cut = {}\n",
    "## create a point plus extended source lens population.\n",
    "supernova_lens_pop = LensPop(\n",
    "    deflector_type=\"all-galaxies\",\n",
    "    source_type=\"supernovae_plus_galaxies\",\n",
    "    kwargs_deflector_cut=kwargs_deflector_cut,\n",
    "    kwargs_source_cut=kwargs_source_cut,\n",
    "    variability_model=\"light_curve\",\n",
    "    kwargs_variability={\"peak_apparent_magnitude\", \"i\"},  # specify kewords for\n",
    "    # lightcurve. \"i\" is a band for the lightcurve.\n",
    "    kwargs_mass2light=None,\n",
    "    skypy_config=None,\n",
    "    sky_area=sky_area,\n",
    "    cosmo=cosmo,\n",
    "    source_sersic_profile=\"double\",\n",
    "    catalog_type=\"scotch\",\n",
    "    peak_mag_limit={\"peak_mag_min\": -20, \"peak_mag_max\": -17},\n",
    "    lightcurve_time=100 * u.day,\n",
    ")"
   ]
  },
  {
   "cell_type": "markdown",
   "metadata": {},
   "source": [
    "## Choose a random lens"
   ]
  },
  {
   "cell_type": "code",
   "execution_count": 3,
   "metadata": {},
   "outputs": [
    {
     "name": "stderr",
     "output_type": "stream",
     "text": [
      "/Users/narayankhadka/slsim/slsim/Sources/simple_supernova_lightcurve.py:39: RuntimeWarning: divide by zero encountered in log10\n",
      "  apparent_magnitudes = -2.5 * np.log10(flux)\n",
      "/Users/narayankhadka/slsim/slsim/Sources/simple_supernova_lightcurve.py:39: RuntimeWarning: invalid value encountered in log10\n",
      "  apparent_magnitudes = -2.5 * np.log10(flux)\n"
     ]
    }
   ],
   "source": [
    "kwargs_lens_cut = {\"min_image_separation\": 1, \"max_image_separation\": 10}\n",
    "rgb_band_list = [\"i\", \"r\", \"g\"]\n",
    "lens_class = supernova_lens_pop.select_lens_at_random(**kwargs_lens_cut)"
   ]
  },
  {
   "cell_type": "markdown",
   "metadata": {},
   "source": [
    "## Set observation time and image configuration"
   ]
  },
  {
   "cell_type": "code",
   "execution_count": 5,
   "metadata": {},
   "outputs": [],
   "source": [
    "time = np.linspace(20, 90, 4)\n",
    "\n",
    "# load your psf kernel and transform matrix. If you have your own psf, please provide\n",
    "# it here.\n",
    "psf_kernel = np.load(\n",
    "    \"/Users/narayankhadka/slsim/tests/TestData/psf_kernels_for_deflector.npy\"\n",
    ")\n",
    "transform_matrix = np.array([[0.2, 0], [0, 0.2]])\n",
    "\n",
    "# let's set up psf kernel for each exposure. Here we have taken the same psf that we\n",
    "# extracted above. However, each exposure can have different psf kernel and user should\n",
    "# provide corresponding psf kernel to each exposure.\n",
    "psf_kernels_all = np.array([psf_kernel, psf_kernel, psf_kernel, psf_kernel])\n",
    "\n",
    "# let's set pixel to angle transform matrix. Here we have taken the same matrix for\n",
    "# each exposure but user should provide corresponding transform matrix to each exposure.\n",
    "transform_matrix_all = np.array(\n",
    "    [transform_matrix, transform_matrix, transform_matrix, transform_matrix]\n",
    ")\n",
    "\n",
    "# provide magnitude zero point for each exposures. Here we have taken the same magnitude\n",
    "#  zero point for each exposure but user should provide the corresponding magnitude\n",
    "# zero point for each exposure.\n",
    "mag_zero_points_all = np.array([27.0, 27.0, 27.0, 27.0])\n",
    "\n",
    "exposure_time_all = np.array([30, 30, 30, 30])"
   ]
  },
  {
   "cell_type": "markdown",
   "metadata": {},
   "source": [
    "## Simulate Image"
   ]
  },
  {
   "cell_type": "code",
   "execution_count": 6,
   "metadata": {},
   "outputs": [
    {
     "name": "stderr",
     "output_type": "stream",
     "text": [
      "/Users/narayankhadka/lenstronomy/lenstronomy/Data/psf.py:80: UserWarning: Input PSF model has at least one negative element, which is unphysical except for a PSF of an interferometric array.\n",
      "  warnings.warn(\n"
     ]
    }
   ],
   "source": [
    "# Simulate a lens image\n",
    "image_lens_series = lens_image_series(\n",
    "    lens_class=lens_class,\n",
    "    band=\"i\",\n",
    "    mag_zero_point=mag_zero_points_all,\n",
    "    num_pix=64,\n",
    "    psf_kernel=psf_kernels_all,\n",
    "    transform_pix2angle=transform_matrix_all,\n",
    "    exposure_time=exposure_time_all,\n",
    "    t_obs=time,\n",
    ")"
   ]
  },
  {
   "cell_type": "markdown",
   "metadata": {},
   "source": [
    "## Visualize simulated images"
   ]
  },
  {
   "cell_type": "code",
   "execution_count": 7,
   "metadata": {},
   "outputs": [
    {
     "data": {
      "image/png": "[encoded data removed]",
      "text/plain": [
       "<Figure size 432x432 with 4 Axes>"
      ]
     },
     "metadata": {
      "needs_background": "light"
     },
     "output_type": "display_data"
    }
   ],
   "source": [
    "plot_montage = create_image_montage_from_image_list(\n",
    "    num_rows=2, num_cols=2, images=image_lens_series, time=time\n",
    ")"
   ]
  },
  {
   "cell_type": "code",
   "execution_count": null,
   "metadata": {},
   "outputs": [],
   "source": []
  }
 ],
 "metadata": {
  "kernelspec": {
   "display_name": "base",
   "language": "python",
   "name": "python3"
  },
  "language_info": {
   "codemirror_mode": {
    "name": "ipython",
    "version": 3
   },
   "file_extension": ".py",
   "mimetype": "text/x-python",
   "name": "python",
   "nbconvert_exporter": "python",
   "pygments_lexer": "ipython3",
   "version": "3.9.7"
  }
 },
 "nbformat": 4,
 "nbformat_minor": 2
}
